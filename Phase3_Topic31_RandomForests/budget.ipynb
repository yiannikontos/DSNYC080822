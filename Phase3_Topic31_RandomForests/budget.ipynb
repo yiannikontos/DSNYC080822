{
 "cells": [
  {
   "cell_type": "code",
   "execution_count": null,
   "metadata": {},
   "outputs": [],
   "source": [
    "import pandas as pd\n",
    "budget = pd.dataframe({'Products_ID': {0: 101, 1: 102, 2: 103,\n",
    "                                 3: 104, 4: 105, 5: 106,\n",
    "                                 6: 107, 7: 108, 8: 109},\n",
    "                          'Product_Names': {0: 'Mosuse', 1: 'Keyboard',\n",
    "                                   2: 'Headphones', 3: 'CPU',\n",
    "                                   4: 'Flash Drives', 5: 'Tablets',\n",
    "                                   6: 'Android Box', 7: 'LCD',\n",
    "                                   8: 'OTG Cables' },\n",
    "                          'Product_Prices': {0: 700, 1: 800, 2: 200, 3: 2000,\n",
    "                                    4: 100, 5: 1500, 6: 1800, 7: 1300,\n",
    "                                    8: 90},\n",
    "                          'Product_Sales': {0: 5, 1: 13, 2: 50, 3: 4,\n",
    "                                    4: 100, 5: 50, 6: 6, 7: 1,\n",
    "                                    8: 50}})"
   ]
  }
 ],
 "metadata": {
  "language_info": {
   "name": "python"
  },
  "orig_nbformat": 4
 },
 "nbformat": 4,
 "nbformat_minor": 2
}
