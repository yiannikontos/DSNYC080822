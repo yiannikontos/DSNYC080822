{
 "cells": [
  {
   "cell_type": "markdown",
   "id": "57aabf78",
   "metadata": {
    "cell_style": "center",
    "slideshow": {
     "slide_type": "slide"
    }
   },
   "source": [
    "<div style=\"color:white;\n",
    "           display:fill;\n",
    "           border-radius:5px;\n",
    "           background-color:#5642C5;\n",
    "           font-size:200%;\n",
    "           font-family:Arial;letter-spacing:0.5px\">\n",
    "\n",
    "<p width = 20%, style=\"padding: 10px;\n",
    "              color:white;\">\n",
    "The Chi-Squared Tests\n",
    "              \n",
    "</p>\n",
    "</div>\n",
    "\n",
    "Data Science Cohort Live NYC Feb 2022\n",
    "<p>Phase 2: Topic 15</p>\n",
    "<br>\n",
    "<br>\n",
    "\n",
    "<div align = \"right\">\n",
    "<img src=\"Images/flatiron-school-logo.png\" align = \"right\" width=\"200\"/>\n",
    "</div>\n",
    "    \n",
    "    "
   ]
  },
  {
   "cell_type": "markdown",
   "id": "efd82551",
   "metadata": {
    "cell_style": "split",
    "slideshow": {
     "slide_type": "slide"
    }
   },
   "source": [
    "#### So far hypothesis testing:\n",
    "- Comparisons between groups *via the mean*\n",
    "\n",
    "Are the populations of the northern and southern Koala heights different? \n",
    "- Compare via hypothesis testing on the mean."
   ]
  },
  {
   "cell_type": "markdown",
   "id": "601cae9f",
   "metadata": {
    "cell_style": "split",
    "slideshow": {
     "slide_type": "fragment"
    }
   },
   "source": [
    "- Z-tests\n",
    "- t-tests"
   ]
  },
  {
   "cell_type": "markdown",
   "id": "1385b180",
   "metadata": {
    "slideshow": {
     "slide_type": "slide"
    }
   },
   "source": [
    "#### The need for another class of tests"
   ]
  },
  {
   "cell_type": "markdown",
   "id": "d9b3ca46",
   "metadata": {
    "cell_style": "center",
    "slideshow": {
     "slide_type": "fragment"
    }
   },
   "source": [
    "Sometimes comparison of groups by mean of numerical variable overly simple or not relevant."
   ]
  },
  {
   "cell_type": "markdown",
   "id": "4b1fb02f",
   "metadata": {
    "slideshow": {
     "slide_type": "skip"
    }
   },
   "source": [
    "#### Test of Homogeneity\n",
    "\n",
    "- Want to compare two samples by their **entire** distribution over a numerical quantity.\n",
    "    - Are the corresponding population the same or different?\n",
    "- Comparing two samples by their count distribution over **categorical variables**.\n",
    "    - Are the corresponding population the same or different?"
   ]
  },
  {
   "cell_type": "markdown",
   "id": "f841359a",
   "metadata": {
    "slideshow": {
     "slide_type": "slide"
    }
   },
   "source": [
    "#### Goodness of fit\n",
    "- Want to compare count distribution of of given variable (categorical or numerical) \n",
    "- from a sample to see if it follows a known/given distribution.\n",
    "\n"
   ]
  },
  {
   "cell_type": "markdown",
   "id": "8763c82f",
   "metadata": {
    "slideshow": {
     "slide_type": "slide"
    }
   },
   "source": [
    "#### Example: Massive Multiplayer Online Role Playing Game (MMORPG) \n",
    "</br>\n",
    "Choose your character wisely...\n",
    "<div align = \"center\">\n",
    "<center><img src=\"Images/mmorpg.png\" align = \"center\" width=\"900\"/></center>\n",
    "</div>\n",
    "    "
   ]
  },
  {
   "cell_type": "markdown",
   "id": "daa3de29",
   "metadata": {
    "cell_style": "split",
    "slideshow": {
     "slide_type": "slide"
    }
   },
   "source": [
    "Company running MMORPG in the U.S. \n",
    "- Testing entry into U.K. market. \n",
    "- Want to see how U.K. users choose battle classes compared to to U.S. users."
   ]
  },
  {
   "cell_type": "markdown",
   "id": "8093a07d",
   "metadata": {
    "cell_style": "split",
    "slideshow": {
     "slide_type": "fragment"
    }
   },
   "source": [
    "Roll out to 400 early access UK users."
   ]
  },
  {
   "cell_type": "markdown",
   "id": "a2e0f340",
   "metadata": {
    "cell_style": "split",
    "slideshow": {
     "slide_type": "fragment"
    }
   },
   "source": [
    "Count distribution of preferred character class. \n",
    "- U.K. users:\n",
    "\n",
    "|              |  Battle-Mage  |  Healer  |  Illusionist  |  Fighter  |\n",
    "| ------------ | --- | --- | --- | --- |\n",
    "| **UK USERS** | 50  | 100 | 180 | 70  |"
   ]
  },
  {
   "cell_type": "markdown",
   "id": "069470f4",
   "metadata": {
    "cell_style": "split",
    "slideshow": {
     "slide_type": "slide"
    }
   },
   "source": [
    "#### Ton of user data on the US:\n",
    "\n",
    "- **Battle-mage** is chosen $17\\%$ of the time\n",
    "- **Healer** is chosen $25\\%$ of the time\n",
    "- **Illusionist** is chosen $39\\%$ of the time\n",
    "- **Fighter** is chosen $19\\%$ of the time"
   ]
  },
  {
   "cell_type": "markdown",
   "id": "ad525683",
   "metadata": {
    "cell_style": "split",
    "slideshow": {
     "slide_type": "fragment"
    }
   },
   "source": [
    "Compute expected counts in 400 user trial:\n",
    "- U.S. users:\n",
    "\n",
    "|              |  Battle-Mage  |  Healer  |  Illusionist  |  Fighter  |\n",
    "| ------------ | --- | --- | --- | --- |\n",
    "| **US USERS** | 68  | 100 | 156 | 76  |"
   ]
  },
  {
   "cell_type": "markdown",
   "id": "304a0917",
   "metadata": {
    "slideshow": {
     "slide_type": "slide"
    }
   },
   "source": [
    "In a handy dandy dataframe:"
   ]
  },
  {
   "cell_type": "code",
   "execution_count": 103,
   "id": "177c5d9c",
   "metadata": {
    "slideshow": {
     "slide_type": "skip"
    }
   },
   "outputs": [],
   "source": [
    "import pandas as pd\n",
    "import numpy as np\n",
    "import matplotlib.pyplot as plt\n",
    "\n",
    "data = np.array([(50,68),(100,100), (180,156), (70,76)]).T\n",
    "count_table = pd.DataFrame(data, index = ['UK', 'US'], columns = ['Battle-Mage', 'Healer', 'Illusionist', 'Fighter'] )"
   ]
  },
  {
   "cell_type": "code",
   "execution_count": 104,
   "id": "bf3cc9be",
   "metadata": {
    "cell_style": "split",
    "slideshow": {
     "slide_type": "slide"
    }
   },
   "outputs": [
    {
     "data": {
      "text/html": [
       "<div>\n",
       "<style scoped>\n",
       "    .dataframe tbody tr th:only-of-type {\n",
       "        vertical-align: middle;\n",
       "    }\n",
       "\n",
       "    .dataframe tbody tr th {\n",
       "        vertical-align: top;\n",
       "    }\n",
       "\n",
       "    .dataframe thead th {\n",
       "        text-align: right;\n",
       "    }\n",
       "</style>\n",
       "<table border=\"1\" class=\"dataframe\">\n",
       "  <thead>\n",
       "    <tr style=\"text-align: right;\">\n",
       "      <th></th>\n",
       "      <th>Battle-Mage</th>\n",
       "      <th>Healer</th>\n",
       "      <th>Illusionist</th>\n",
       "      <th>Fighter</th>\n",
       "    </tr>\n",
       "  </thead>\n",
       "  <tbody>\n",
       "    <tr>\n",
       "      <th>UK</th>\n",
       "      <td>50</td>\n",
       "      <td>100</td>\n",
       "      <td>180</td>\n",
       "      <td>70</td>\n",
       "    </tr>\n",
       "    <tr>\n",
       "      <th>US</th>\n",
       "      <td>68</td>\n",
       "      <td>100</td>\n",
       "      <td>156</td>\n",
       "      <td>76</td>\n",
       "    </tr>\n",
       "  </tbody>\n",
       "</table>\n",
       "</div>"
      ],
      "text/plain": [
       "    Battle-Mage  Healer  Illusionist  Fighter\n",
       "UK           50     100          180       70\n",
       "US           68     100          156       76"
      ]
     },
     "execution_count": 104,
     "metadata": {},
     "output_type": "execute_result"
    }
   ],
   "source": [
    "count_table"
   ]
  },
  {
   "cell_type": "markdown",
   "id": "0066d06b",
   "metadata": {
    "cell_style": "split",
    "slideshow": {
     "slide_type": "fragment"
    }
   },
   "source": [
    "They look kind of similar in pattern:\n",
    "- But can we say that they are drawn from the same distribution?\n",
    "\n",
    "Step 1: Get a metric that quantifies the difference in these counts:"
   ]
  },
  {
   "cell_type": "code",
   "execution_count": 105,
   "id": "7fc4655e",
   "metadata": {
    "cell_style": "split",
    "slideshow": {
     "slide_type": "slide"
    }
   },
   "outputs": [
    {
     "data": {
      "text/html": [
       "<div>\n",
       "<style scoped>\n",
       "    .dataframe tbody tr th:only-of-type {\n",
       "        vertical-align: middle;\n",
       "    }\n",
       "\n",
       "    .dataframe tbody tr th {\n",
       "        vertical-align: top;\n",
       "    }\n",
       "\n",
       "    .dataframe thead th {\n",
       "        text-align: right;\n",
       "    }\n",
       "</style>\n",
       "<table border=\"1\" class=\"dataframe\">\n",
       "  <thead>\n",
       "    <tr style=\"text-align: right;\">\n",
       "      <th></th>\n",
       "      <th>Battle-Mage</th>\n",
       "      <th>Healer</th>\n",
       "      <th>Illusionist</th>\n",
       "      <th>Fighter</th>\n",
       "    </tr>\n",
       "  </thead>\n",
       "  <tbody>\n",
       "    <tr>\n",
       "      <th>UK</th>\n",
       "      <td>50</td>\n",
       "      <td>100</td>\n",
       "      <td>180</td>\n",
       "      <td>70</td>\n",
       "    </tr>\n",
       "    <tr>\n",
       "      <th>US</th>\n",
       "      <td>68</td>\n",
       "      <td>100</td>\n",
       "      <td>156</td>\n",
       "      <td>76</td>\n",
       "    </tr>\n",
       "  </tbody>\n",
       "</table>\n",
       "</div>"
      ],
      "text/plain": [
       "    Battle-Mage  Healer  Illusionist  Fighter\n",
       "UK           50     100          180       70\n",
       "US           68     100          156       76"
      ]
     },
     "execution_count": 105,
     "metadata": {},
     "output_type": "execute_result"
    }
   ],
   "source": [
    "count_table"
   ]
  },
  {
   "cell_type": "markdown",
   "id": "5fdd5876",
   "metadata": {
    "cell_style": "split",
    "slideshow": {
     "slide_type": "fragment"
    }
   },
   "source": [
    "- $O_i$: observed frequency in bin $i$\n",
    "- $E_i$: expected frequency in bin $i$\n",
    "\n",
    "Define the $X^2$ statistic:\n",
    "\n",
    " $$ X^2 =  \\sum_i\\frac{(O_i - E_i)^2}{E_i} $$\n"
   ]
  },
  {
   "cell_type": "markdown",
   "id": "2ada88ef",
   "metadata": {
    "cell_style": "center",
    "slideshow": {
     "slide_type": "slide"
    }
   },
   "source": [
    "- This metric tests the squared distance between observed and expected distributions.\n",
    "- Squared penalizes going above or below expected count."
   ]
  },
  {
   "cell_type": "markdown",
   "id": "08220280",
   "metadata": {
    "cell_style": "split"
   },
   "source": [
    "\n",
    " $$ X^2 =  \\sum_i\\frac{(O_i - E_i)^2}{E_i} $$\n"
   ]
  },
  {
   "cell_type": "markdown",
   "id": "eb1013df",
   "metadata": {
    "cell_style": "split",
    "slideshow": {
     "slide_type": "fragment"
    }
   },
   "source": [
    "**Denominator is crucial also**\n",
    "\n",
    "- Regions with low expected count treated same as those with high expected count."
   ]
  },
  {
   "cell_type": "markdown",
   "id": "6778c1c7",
   "metadata": {
    "slideshow": {
     "slide_type": "slide"
    }
   },
   "source": [
    "#### Step 2: calculating the chi-squared statistic:\n"
   ]
  },
  {
   "cell_type": "code",
   "execution_count": 139,
   "id": "50ce7fff",
   "metadata": {
    "cell_style": "split",
    "slideshow": {
     "slide_type": "slide"
    }
   },
   "outputs": [
    {
     "data": {
      "text/html": [
       "<div>\n",
       "<style scoped>\n",
       "    .dataframe tbody tr th:only-of-type {\n",
       "        vertical-align: middle;\n",
       "    }\n",
       "\n",
       "    .dataframe tbody tr th {\n",
       "        vertical-align: top;\n",
       "    }\n",
       "\n",
       "    .dataframe thead th {\n",
       "        text-align: right;\n",
       "    }\n",
       "</style>\n",
       "<table border=\"1\" class=\"dataframe\">\n",
       "  <thead>\n",
       "    <tr style=\"text-align: right;\">\n",
       "      <th></th>\n",
       "      <th>Battle-Mage</th>\n",
       "      <th>Healer</th>\n",
       "      <th>Illusionist</th>\n",
       "      <th>Fighter</th>\n",
       "    </tr>\n",
       "  </thead>\n",
       "  <tbody>\n",
       "    <tr>\n",
       "      <th>UK</th>\n",
       "      <td>50</td>\n",
       "      <td>100</td>\n",
       "      <td>180</td>\n",
       "      <td>70</td>\n",
       "    </tr>\n",
       "    <tr>\n",
       "      <th>US</th>\n",
       "      <td>68</td>\n",
       "      <td>100</td>\n",
       "      <td>156</td>\n",
       "      <td>76</td>\n",
       "    </tr>\n",
       "  </tbody>\n",
       "</table>\n",
       "</div>"
      ],
      "text/plain": [
       "    Battle-Mage  Healer  Illusionist  Fighter\n",
       "UK           50     100          180       70\n",
       "US           68     100          156       76"
      ]
     },
     "execution_count": 139,
     "metadata": {},
     "output_type": "execute_result"
    }
   ],
   "source": [
    "count_table"
   ]
  },
  {
   "cell_type": "markdown",
   "id": "dba790c0",
   "metadata": {
    "cell_style": "split",
    "slideshow": {
     "slide_type": "-"
    }
   },
   "source": [
    " $$ X^2 =  \\sum_i\\frac{(O_i - E_i)^2}{E_i} $$"
   ]
  },
  {
   "cell_type": "code",
   "execution_count": 140,
   "id": "85c55267",
   "metadata": {
    "cell_style": "center",
    "slideshow": {
     "slide_type": "subslide"
    }
   },
   "outputs": [
    {
     "data": {
      "text/plain": [
       "Battle-Mage    4.764706\n",
       "Healer         0.000000\n",
       "Illusionist    3.692308\n",
       "Fighter        0.473684\n",
       "dtype: float64"
      ]
     },
     "execution_count": 140,
     "metadata": {},
     "output_type": "execute_result"
    }
   ],
   "source": [
    "terms = np.square(count_table.loc['UK'] - count_table.loc['US'])/(count_table.loc['US'])\n",
    "terms"
   ]
  },
  {
   "cell_type": "code",
   "execution_count": 141,
   "id": "209b6391",
   "metadata": {
    "slideshow": {
     "slide_type": "fragment"
    }
   },
   "outputs": [
    {
     "data": {
      "text/plain": [
       "8.930697785186949"
      ]
     },
     "execution_count": 141,
     "metadata": {},
     "output_type": "execute_result"
    }
   ],
   "source": [
    "Xsquared = np.sum(terms)\n",
    "Xsquared"
   ]
  },
  {
   "cell_type": "markdown",
   "id": "c2c075ed",
   "metadata": {
    "slideshow": {
     "slide_type": "slide"
    }
   },
   "source": [
    "#### Step 3: Modeling with a distribution"
   ]
  },
  {
   "cell_type": "markdown",
   "id": "ddbc3030",
   "metadata": {
    "cell_style": "split",
    "slideshow": {
     "slide_type": "slide"
    }
   },
   "source": [
    " $$ X^2 =  \\sum_i\\frac{(O_i - E_i)^2}{E_i} $$"
   ]
  },
  {
   "cell_type": "markdown",
   "id": "8104d704",
   "metadata": {
    "cell_style": "split",
    "slideshow": {
     "slide_type": "fragment"
    }
   },
   "source": [
    "The $X^2$ statistic follows the $\\chi^2$ distribution:\n",
    "- Note: $X^2$ always positive. \n",
    "- Only one-sided test."
   ]
  },
  {
   "cell_type": "markdown",
   "id": "bbe646b0",
   "metadata": {
    "cell_style": "center",
    "slideshow": {
     "slide_type": "slide"
    }
   },
   "source": [
    "$\\chi^2$ distribution: \n",
    "- only has one argument: the degrees of freedom"
   ]
  },
  {
   "cell_type": "markdown",
   "id": "84b35a55",
   "metadata": {
    "slideshow": {
     "slide_type": "subslide"
    }
   },
   "source": [
    "The degrees of freedom different here than for t-distribution."
   ]
  },
  {
   "cell_type": "markdown",
   "id": "8c4ebc8a",
   "metadata": {
    "cell_style": "split",
    "slideshow": {
     "slide_type": "fragment"
    }
   },
   "source": [
    "- t-distribution:\n",
    "    - $ df = N - 1 $"
   ]
  },
  {
   "cell_type": "markdown",
   "id": "f42d20e1",
   "metadata": {
    "cell_style": "split",
    "slideshow": {
     "slide_type": "fragment"
    }
   },
   "source": [
    "- $\\chi^2$-distribution (simple goodness of fit):\n",
    "    - $df = k -1$\n",
    "    \n",
    "where $k$ is the number of categorical variables\n"
   ]
  },
  {
   "cell_type": "code",
   "execution_count": 142,
   "id": "315ef0c7",
   "metadata": {
    "cell_style": "center",
    "slideshow": {
     "slide_type": "slide"
    }
   },
   "outputs": [],
   "source": [
    "# import chi-squared\n",
    "from scipy.stats import chi2\n",
    "from scipy import stats"
   ]
  },
  {
   "cell_type": "markdown",
   "id": "ddb86d7c",
   "metadata": {
    "slideshow": {
     "slide_type": "slide"
    }
   },
   "source": [
    "For our problem k is the number of character classes (columns of our dataframe):"
   ]
  },
  {
   "cell_type": "code",
   "execution_count": 143,
   "id": "8c4b08eb",
   "metadata": {
    "slideshow": {
     "slide_type": "fragment"
    }
   },
   "outputs": [
    {
     "data": {
      "text/plain": [
       "4"
      ]
     },
     "execution_count": 143,
     "metadata": {},
     "output_type": "execute_result"
    }
   ],
   "source": [
    "k = count_table.shape[1]\n",
    "k"
   ]
  },
  {
   "cell_type": "markdown",
   "id": "135149ff",
   "metadata": {
    "slideshow": {
     "slide_type": "slide"
    }
   },
   "source": [
    "Plot the $\\chi^2$-distribution for df = 3:"
   ]
  },
  {
   "cell_type": "code",
   "execution_count": 144,
   "id": "5b128a99",
   "metadata": {
    "cell_style": "center",
    "slideshow": {
     "slide_type": "fragment"
    }
   },
   "outputs": [],
   "source": [
    "x = np.linspace(0, 12, 400)\n",
    "chi_pdf_array = chi2.pdf(x, df = k - 1)"
   ]
  },
  {
   "cell_type": "code",
   "execution_count": 112,
   "id": "3bd2704f",
   "metadata": {
    "slideshow": {
     "slide_type": "skip"
    }
   },
   "outputs": [],
   "source": [
    "%%capture chisquared_simpleplot\n",
    "sx2 = \"{:.2f}\".format(Xsquared)\n",
    "plt.plot(x, chi_pdf_array)\n",
    "plt.title('$\\chi^2$ distribution at df = 3')\n",
    "plt.xlabel('$X^2$')\n",
    "plt.show()"
   ]
  },
  {
   "cell_type": "code",
   "execution_count": 145,
   "id": "86e797b2",
   "metadata": {
    "slideshow": {
     "slide_type": "fragment"
    }
   },
   "outputs": [
    {
     "data": {
      "image/png": "[encoded data removed]",
      "text/plain": [
       "<Figure size 432x288 with 1 Axes>"
      ]
     },
     "metadata": {
      "needs_background": "light"
     },
     "output_type": "display_data"
    }
   ],
   "source": [
    "chisquared_simpleplot()"
   ]
  },
  {
   "cell_type": "code",
   "execution_count": 114,
   "id": "31572a82",
   "metadata": {
    "slideshow": {
     "slide_type": "skip"
    }
   },
   "outputs": [],
   "source": [
    "def plot_chi_squared(statistic, k, alpha):\n",
    "    x = np.linspace(0, 12, 400)\n",
    "    chi_pdf_array = chi2.pdf(x, df = k - 1)\n",
    "    crit_stat = chi2.isf(alpha, df = k -1)\n",
    "    sx2 = \"{:.2f}\".format(statistic)\n",
    "    sxcrit = \"{:.2f}\".format(crit_stat)\n",
    "    \n",
    "    fig, ax = plt.subplots(figsize = (8,5))\n",
    "    ax.plot(x, chi_pdf_array)\n",
    "    ax.axvline(statistic, ls='--', c='b', label=\"$\\chi^2$= \" + str(sx2))\n",
    "    ax.axvline(crit_stat, ls='--', c='r', label=\"$\\chi_{crit}^2$= \" + str(sxcrit))\n",
    "    ax.fill_between(x, chi_pdf_array, where = (x > crit_stat), alpha = 0.5, color='r')\n",
    "    ax.set_xlabel(\"$X^2$\")\n",
    "    ax.legend()\n",
    "    plt.show()"
   ]
  },
  {
   "cell_type": "markdown",
   "id": "973175a4",
   "metadata": {
    "cell_style": "split",
    "slideshow": {
     "slide_type": "slide"
    }
   },
   "source": [
    "Since this is a hypothesis test:\n",
    "- Our null should have low $X^2$ value: little difference in the count distributions\n",
    "- Our alternate is that there is a difference: corresponds to larger $X^2$ values."
   ]
  },
  {
   "cell_type": "markdown",
   "id": "90da23f4",
   "metadata": {
    "cell_style": "split",
    "slideshow": {
     "slide_type": "fragment"
    }
   },
   "source": [
    "Logic is similar other hypothesis testing:\n",
    "\n",
    "- Set significance level $\\alpha$\n",
    "- $X^2$ must lie outside lower range of values.\n",
    "- With probability of selecting  $X^2$ or more extreme being less than $\\alpha$."
   ]
  },
  {
   "cell_type": "markdown",
   "id": "c0c3cec8",
   "metadata": {
    "cell_style": "split",
    "slideshow": {
     "slide_type": "slide"
    }
   },
   "source": [
    "#### Inverse survival function\n",
    "- similar to .ppf() but for survival function instead of cdf\n",
    "- .isf(alpha, df = __) function\n",
    "- gets value for which $\\alpha$ probability of drawing it or greater."
   ]
  },
  {
   "cell_type": "markdown",
   "id": "c8d28dbc",
   "metadata": {
    "cell_style": "split",
    "slideshow": {
     "slide_type": "fragment"
    }
   },
   "source": [
    "Calculate $X^2_{crit}$ at significance level $\\alpha = 0.05$."
   ]
  },
  {
   "cell_type": "code",
   "execution_count": 146,
   "id": "33d04f7d",
   "metadata": {
    "cell_style": "split",
    "slideshow": {
     "slide_type": "fragment"
    }
   },
   "outputs": [
    {
     "data": {
      "text/plain": [
       "7.814727903251178"
      ]
     },
     "execution_count": 146,
     "metadata": {},
     "output_type": "execute_result"
    }
   ],
   "source": [
    "alpha = 0.05\n",
    "X2_crit = chi2.isf(alpha, df = k -1)\n",
    "X2_crit"
   ]
  },
  {
   "cell_type": "markdown",
   "id": "76eea601",
   "metadata": {},
   "source": [
    "Plot critical value and our statistic, shading rejection region:"
   ]
  },
  {
   "cell_type": "code",
   "execution_count": 147,
   "id": "a2c09a89",
   "metadata": {
    "cell_style": "split",
    "slideshow": {
     "slide_type": "slide"
    }
   },
   "outputs": [
    {
     "data": {
      "image/png": "[encoded data removed]",
      "text/plain": [
       "<Figure size 576x360 with 1 Axes>"
      ]
     },
     "metadata": {
      "needs_background": "light"
     },
     "output_type": "display_data"
    }
   ],
   "source": [
    "plot_chi_squared(Xsquared, k = 4, alpha = 0.05)"
   ]
  },
  {
   "cell_type": "markdown",
   "id": "9df60cdd",
   "metadata": {
    "cell_style": "split",
    "slideshow": {
     "slide_type": "fragment"
    }
   },
   "source": [
    "Our statistic clearly in rejection region."
   ]
  },
  {
   "cell_type": "markdown",
   "id": "7d26e839",
   "metadata": {
    "cell_style": "split"
   },
   "source": [
    "Calculate p-value with survival function:"
   ]
  },
  {
   "cell_type": "code",
   "execution_count": 148,
   "id": "b8152891",
   "metadata": {
    "cell_style": "split"
   },
   "outputs": [
    {
     "data": {
      "text/plain": [
       "0.0302266295876035"
      ]
     },
     "execution_count": 148,
     "metadata": {},
     "output_type": "execute_result"
    }
   ],
   "source": [
    "p_val = chi2.sf(Xsquared, df = k - 1)\n",
    "p_val"
   ]
  },
  {
   "cell_type": "markdown",
   "id": "27a56d85",
   "metadata": {
    "slideshow": {
     "slide_type": "slide"
    }
   },
   "source": [
    "#### Easy way to do goodness of fit"
   ]
  },
  {
   "cell_type": "code",
   "execution_count": 149,
   "id": "d9d9c814",
   "metadata": {
    "slideshow": {
     "slide_type": "fragment"
    }
   },
   "outputs": [],
   "source": [
    "from scipy.stats import chisquare"
   ]
  },
  {
   "cell_type": "code",
   "execution_count": 150,
   "id": "fa80bf3d",
   "metadata": {
    "slideshow": {
     "slide_type": "fragment"
    }
   },
   "outputs": [
    {
     "data": {
      "text/plain": [
       "Power_divergenceResult(statistic=8.930697785186949, pvalue=0.0302266295876035)"
      ]
     },
     "execution_count": 150,
     "metadata": {},
     "output_type": "execute_result"
    }
   ],
   "source": [
    "chisquare(count_table.loc['UK'], count_table.loc['US'] )"
   ]
  },
  {
   "cell_type": "markdown",
   "id": "527cb52c",
   "metadata": {
    "slideshow": {
     "slide_type": "fragment"
    }
   },
   "source": [
    "We reject the notion that UK preferences on choosing character classes for MMORPG drawn from same distribution."
   ]
  },
  {
   "cell_type": "markdown",
   "id": "6d2e772e",
   "metadata": {
    "slideshow": {
     "slide_type": "slide"
    }
   },
   "source": [
    "#### Test of independence\n",
    "- Two variables of the sample: are they independent of each other or not? \n",
    "- $H_0$: The two variables are independent\n",
    "- $H_A$ The two variables are dependent."
   ]
  },
  {
   "cell_type": "markdown",
   "id": "85f91696",
   "metadata": {
    "cell_style": "split",
    "slideshow": {
     "slide_type": "slide"
    }
   },
   "source": [
    "#### Example case\n",
    "\n",
    "Group of respondents in Indonesia:\n",
    "\n",
    "- Pick favorite fruit out of a choice of four.\n",
    "- We also record respondent gender.\n",
    "\n",
    "|         |  Durian    |  Bananas   |  Mangos |  Persimmons    |        \n",
    "| ------- | ----- | ----- | ----- | ----- | \n",
    "| **Male**  |  68   |  102  | 246   | 105   | \n",
    "| **Female** |  86   |  88   |  216  |  89   |\n",
    "\n",
    "Is fruit preference dependent on sex?\n"
   ]
  },
  {
   "cell_type": "markdown",
   "id": "1533eb15",
   "metadata": {
    "cell_style": "split",
    "slideshow": {
     "slide_type": "fragment"
    }
   },
   "source": [
    "Two variables we want to test independence on: \n",
    "- **sex** \n",
    "- **fruit type**"
   ]
  },
  {
   "cell_type": "markdown",
   "id": "90c9722d",
   "metadata": {
    "cell_style": "split",
    "slideshow": {
     "slide_type": "fragment"
    }
   },
   "source": [
    "- $H_0$: Sex and fruit preference independent.\n",
    "- $H_A$ Sex and fruit dependent."
   ]
  },
  {
   "cell_type": "markdown",
   "id": "fe750859",
   "metadata": {
    "cell_style": "split",
    "slideshow": {
     "slide_type": "fragment"
    }
   },
   "source": [
    "Can do $\\chi^2$ test for this with some tweaks."
   ]
  },
  {
   "cell_type": "code",
   "execution_count": 158,
   "id": "ca104f1e",
   "metadata": {
    "slideshow": {
     "slide_type": "skip"
    }
   },
   "outputs": [],
   "source": [
    "# load this data into a dataframe\n",
    "import numpy as np\n",
    "import pandas as pd\n",
    "from copy import deepcopy\n",
    "\n",
    "survey = np.array([[68,102,246,105],[86,88,216,89]])\n",
    "\n",
    "fruit_survey_df = pd.DataFrame(survey, index = ['Male', 'Female'], \n",
    "                               columns = ['Durian', 'Bananas', 'Mangos', 'Persimmons'])\n",
    "\n",
    "fruit_survey_df\n",
    "fruit_survey_orig = deepcopy(fruit_survey_df)"
   ]
  },
  {
   "cell_type": "markdown",
   "id": "ddb8b207",
   "metadata": {
    "slideshow": {
     "slide_type": "slide"
    }
   },
   "source": [
    "Data loaded into dataframe"
   ]
  },
  {
   "cell_type": "code",
   "execution_count": 159,
   "id": "d8efacce",
   "metadata": {
    "cell_style": "split",
    "slideshow": {
     "slide_type": "fragment"
    }
   },
   "outputs": [
    {
     "data": {
      "text/html": [
       "<div>\n",
       "<style scoped>\n",
       "    .dataframe tbody tr th:only-of-type {\n",
       "        vertical-align: middle;\n",
       "    }\n",
       "\n",
       "    .dataframe tbody tr th {\n",
       "        vertical-align: top;\n",
       "    }\n",
       "\n",
       "    .dataframe thead th {\n",
       "        text-align: right;\n",
       "    }\n",
       "</style>\n",
       "<table border=\"1\" class=\"dataframe\">\n",
       "  <thead>\n",
       "    <tr style=\"text-align: right;\">\n",
       "      <th></th>\n",
       "      <th>Durian</th>\n",
       "      <th>Bananas</th>\n",
       "      <th>Mangos</th>\n",
       "      <th>Persimmons</th>\n",
       "    </tr>\n",
       "  </thead>\n",
       "  <tbody>\n",
       "    <tr>\n",
       "      <th>Male</th>\n",
       "      <td>68</td>\n",
       "      <td>102</td>\n",
       "      <td>246</td>\n",
       "      <td>105</td>\n",
       "    </tr>\n",
       "    <tr>\n",
       "      <th>Female</th>\n",
       "      <td>86</td>\n",
       "      <td>88</td>\n",
       "      <td>216</td>\n",
       "      <td>89</td>\n",
       "    </tr>\n",
       "  </tbody>\n",
       "</table>\n",
       "</div>"
      ],
      "text/plain": [
       "        Durian  Bananas  Mangos  Persimmons\n",
       "Male        68      102     246         105\n",
       "Female      86       88     216          89"
      ]
     },
     "execution_count": 159,
     "metadata": {},
     "output_type": "execute_result"
    }
   ],
   "source": [
    "fruit_survey_df"
   ]
  },
  {
   "cell_type": "markdown",
   "id": "89ba01db",
   "metadata": {
    "cell_style": "split",
    "slideshow": {
     "slide_type": "fragment"
    }
   },
   "source": [
    "Our $X^2$ statistic now:\n",
    "\n",
    "$$ X^2 = \\sum_{ij} \\frac{(O_{ij} - E_{ij})^2}{E_{ij}} $$\n",
    "\n",
    "- $i$,$j$ index rows/columns"
   ]
  },
  {
   "cell_type": "markdown",
   "id": "9b067692",
   "metadata": {
    "slideshow": {
     "slide_type": "slide"
    }
   },
   "source": [
    "But how do we calculate the expected frequencies $E_{ij}$?\n",
    "- Not given any probabilities/expected frequencies for the null.\n",
    "- Can we estimate it from the data?"
   ]
  },
  {
   "cell_type": "code",
   "execution_count": 160,
   "id": "437ffd06",
   "metadata": {
    "cell_style": "split",
    "slideshow": {
     "slide_type": "slide"
    }
   },
   "outputs": [
    {
     "data": {
      "text/html": [
       "<div>\n",
       "<style scoped>\n",
       "    .dataframe tbody tr th:only-of-type {\n",
       "        vertical-align: middle;\n",
       "    }\n",
       "\n",
       "    .dataframe tbody tr th {\n",
       "        vertical-align: top;\n",
       "    }\n",
       "\n",
       "    .dataframe thead th {\n",
       "        text-align: right;\n",
       "    }\n",
       "</style>\n",
       "<table border=\"1\" class=\"dataframe\">\n",
       "  <thead>\n",
       "    <tr style=\"text-align: right;\">\n",
       "      <th></th>\n",
       "      <th>Durian</th>\n",
       "      <th>Bananas</th>\n",
       "      <th>Mangos</th>\n",
       "      <th>Persimmons</th>\n",
       "    </tr>\n",
       "  </thead>\n",
       "  <tbody>\n",
       "    <tr>\n",
       "      <th>Male</th>\n",
       "      <td>68</td>\n",
       "      <td>102</td>\n",
       "      <td>246</td>\n",
       "      <td>105</td>\n",
       "    </tr>\n",
       "    <tr>\n",
       "      <th>Female</th>\n",
       "      <td>86</td>\n",
       "      <td>88</td>\n",
       "      <td>216</td>\n",
       "      <td>89</td>\n",
       "    </tr>\n",
       "  </tbody>\n",
       "</table>\n",
       "</div>"
      ],
      "text/plain": [
       "        Durian  Bananas  Mangos  Persimmons\n",
       "Male        68      102     246         105\n",
       "Female      86       88     216          89"
      ]
     },
     "execution_count": 160,
     "metadata": {},
     "output_type": "execute_result"
    }
   ],
   "source": [
    "fruit_survey_df"
   ]
  },
  {
   "cell_type": "markdown",
   "id": "a7327050",
   "metadata": {
    "cell_style": "split",
    "slideshow": {
     "slide_type": "fragment"
    }
   },
   "source": [
    "$E_{ij}$ would be the count if being male and female across the fruit categories doesn't matter. "
   ]
  },
  {
   "cell_type": "markdown",
   "id": "1e747f42",
   "metadata": {
    "cell_style": "split",
    "slideshow": {
     "slide_type": "fragment"
    }
   },
   "source": [
    "What if we sum male and female counts in each column up?\n"
   ]
  },
  {
   "cell_type": "code",
   "execution_count": 161,
   "id": "c3b1d576",
   "metadata": {
    "cell_style": "split",
    "slideshow": {
     "slide_type": "slide"
    }
   },
   "outputs": [
    {
     "data": {
      "text/plain": [
       "Durian        154\n",
       "Bananas       190\n",
       "Mangos        462\n",
       "Persimmons    194\n",
       "Name: All, dtype: int64"
      ]
     },
     "execution_count": 161,
     "metadata": {},
     "output_type": "execute_result"
    }
   ],
   "source": [
    "tot_fruit_count =fruit_survey_df.sum(axis = 0)\n",
    "tot_fruit_count.name = 'All'\n",
    "tot_fruit_count"
   ]
  },
  {
   "cell_type": "markdown",
   "id": "9bd28534",
   "metadata": {
    "cell_style": "split",
    "slideshow": {
     "slide_type": "fragment"
    }
   },
   "source": [
    "But this is just a count distribution over fruits assuming sex doesn't matter"
   ]
  },
  {
   "cell_type": "code",
   "execution_count": 162,
   "id": "5571ee13",
   "metadata": {
    "cell_style": "split",
    "slideshow": {
     "slide_type": "slide"
    }
   },
   "outputs": [
    {
     "data": {
      "text/html": [
       "<div>\n",
       "<style scoped>\n",
       "    .dataframe tbody tr th:only-of-type {\n",
       "        vertical-align: middle;\n",
       "    }\n",
       "\n",
       "    .dataframe tbody tr th {\n",
       "        vertical-align: top;\n",
       "    }\n",
       "\n",
       "    .dataframe thead th {\n",
       "        text-align: right;\n",
       "    }\n",
       "</style>\n",
       "<table border=\"1\" class=\"dataframe\">\n",
       "  <thead>\n",
       "    <tr style=\"text-align: right;\">\n",
       "      <th></th>\n",
       "      <th>Durian</th>\n",
       "      <th>Bananas</th>\n",
       "      <th>Mangos</th>\n",
       "      <th>Persimmons</th>\n",
       "    </tr>\n",
       "  </thead>\n",
       "  <tbody>\n",
       "    <tr>\n",
       "      <th>Male</th>\n",
       "      <td>68</td>\n",
       "      <td>102</td>\n",
       "      <td>246</td>\n",
       "      <td>105</td>\n",
       "    </tr>\n",
       "    <tr>\n",
       "      <th>Female</th>\n",
       "      <td>86</td>\n",
       "      <td>88</td>\n",
       "      <td>216</td>\n",
       "      <td>89</td>\n",
       "    </tr>\n",
       "    <tr>\n",
       "      <th>All</th>\n",
       "      <td>154</td>\n",
       "      <td>190</td>\n",
       "      <td>462</td>\n",
       "      <td>194</td>\n",
       "    </tr>\n",
       "  </tbody>\n",
       "</table>\n",
       "</div>"
      ],
      "text/plain": [
       "        Durian  Bananas  Mangos  Persimmons\n",
       "Male        68      102     246         105\n",
       "Female      86       88     216          89\n",
       "All        154      190     462         194"
      ]
     },
     "execution_count": 162,
     "metadata": {},
     "output_type": "execute_result"
    }
   ],
   "source": [
    "# Adding to our dataframe\n",
    "\n",
    "fruit_survey_df =fruit_survey_df.append(\n",
    "    tot_fruit_count)\n",
    "fruit_survey_df"
   ]
  },
  {
   "cell_type": "markdown",
   "id": "3aecacf8",
   "metadata": {
    "cell_style": "split",
    "slideshow": {
     "slide_type": "slide"
    }
   },
   "source": [
    "Now, if the number of male and female respondents the same:\n",
    "- Then we would have the same values in each row for a given column.\n",
    "- Counts would be split 50/50\n",
    "- But the number of male and female respondents are not equal."
   ]
  },
  {
   "cell_type": "code",
   "execution_count": 125,
   "id": "10432591",
   "metadata": {
    "cell_style": "split",
    "slideshow": {
     "slide_type": "fragment"
    }
   },
   "outputs": [
    {
     "data": {
      "text/plain": [
       "Male       521\n",
       "Female     479\n",
       "All       1000\n",
       "dtype: int64"
      ]
     },
     "execution_count": 125,
     "metadata": {},
     "output_type": "execute_result"
    }
   ],
   "source": [
    "# Totalnumber of males and females\n",
    "sex_count = fruit_survey_df.sum(axis = 1)\n",
    "sex_count"
   ]
  },
  {
   "cell_type": "code",
   "execution_count": 126,
   "id": "e79a7714",
   "metadata": {
    "cell_style": "split",
    "slideshow": {
     "slide_type": "fragment"
    }
   },
   "outputs": [
    {
     "data": {
      "text/plain": [
       "1000"
      ]
     },
     "execution_count": 126,
     "metadata": {},
     "output_type": "execute_result"
    }
   ],
   "source": [
    "#  sanity check:\n",
    "tot_fruit_count.sum()"
   ]
  },
  {
   "cell_type": "code",
   "execution_count": 163,
   "id": "b211a6a9",
   "metadata": {
    "cell_style": "split",
    "slideshow": {
     "slide_type": "subslide"
    }
   },
   "outputs": [
    {
     "data": {
      "text/html": [
       "<div>\n",
       "<style scoped>\n",
       "    .dataframe tbody tr th:only-of-type {\n",
       "        vertical-align: middle;\n",
       "    }\n",
       "\n",
       "    .dataframe tbody tr th {\n",
       "        vertical-align: top;\n",
       "    }\n",
       "\n",
       "    .dataframe thead th {\n",
       "        text-align: right;\n",
       "    }\n",
       "</style>\n",
       "<table border=\"1\" class=\"dataframe\">\n",
       "  <thead>\n",
       "    <tr style=\"text-align: right;\">\n",
       "      <th></th>\n",
       "      <th>Durian</th>\n",
       "      <th>Bananas</th>\n",
       "      <th>Mangos</th>\n",
       "      <th>Persimmons</th>\n",
       "      <th>Sex_Count</th>\n",
       "    </tr>\n",
       "  </thead>\n",
       "  <tbody>\n",
       "    <tr>\n",
       "      <th>Male</th>\n",
       "      <td>68</td>\n",
       "      <td>102</td>\n",
       "      <td>246</td>\n",
       "      <td>105</td>\n",
       "      <td>521</td>\n",
       "    </tr>\n",
       "    <tr>\n",
       "      <th>Female</th>\n",
       "      <td>86</td>\n",
       "      <td>88</td>\n",
       "      <td>216</td>\n",
       "      <td>89</td>\n",
       "      <td>479</td>\n",
       "    </tr>\n",
       "    <tr>\n",
       "      <th>All</th>\n",
       "      <td>154</td>\n",
       "      <td>190</td>\n",
       "      <td>462</td>\n",
       "      <td>194</td>\n",
       "      <td>1000</td>\n",
       "    </tr>\n",
       "  </tbody>\n",
       "</table>\n",
       "</div>"
      ],
      "text/plain": [
       "        Durian  Bananas  Mangos  Persimmons  Sex_Count\n",
       "Male        68      102     246         105        521\n",
       "Female      86       88     216          89        479\n",
       "All        154      190     462         194       1000"
      ]
     },
     "execution_count": 163,
     "metadata": {},
     "output_type": "execute_result"
    }
   ],
   "source": [
    "# append total tally by sex:\n",
    "fruit_survey_df['Sex_Count'] = sex_count\n",
    "fruit_survey_df"
   ]
  },
  {
   "cell_type": "markdown",
   "id": "0ae0fb6d",
   "metadata": {
    "heading_collapsed": true,
    "hidden": true,
    "slideshow": {
     "slide_type": "slide"
    }
   },
   "source": [
    "#### Getting Our Expected Frequencies"
   ]
  },
  {
   "cell_type": "markdown",
   "id": "5817c911",
   "metadata": {
    "cell_style": "split",
    "hidden": true,
    "slideshow": {
     "slide_type": "subslide"
    }
   },
   "source": [
    "Multiply count in each fruit bin by probability male or female:\n",
    "\n",
    " $$N_{Fruit}p_{Sex}$$\n",
    " \n",
    " - Number of counts for each fruit assuming sex doesn't matter multiplied by fraction of sex in total population."
   ]
  },
  {
   "cell_type": "markdown",
   "id": "f19c2249",
   "metadata": {
    "cell_style": "split",
    "slideshow": {
     "slide_type": "fragment"
    }
   },
   "source": [
    "- This is our $E_{ij}$!\n",
    "- Assumes fruit selection and sex are independent: our null."
   ]
  },
  {
   "cell_type": "markdown",
   "id": "9467ddc8",
   "metadata": {
    "slideshow": {
     "slide_type": "slide"
    }
   },
   "source": [
    "#### Compute expected frequency table"
   ]
  },
  {
   "cell_type": "code",
   "execution_count": 128,
   "id": "96d701d2",
   "metadata": {
    "slideshow": {
     "slide_type": "fragment"
    }
   },
   "outputs": [
    {
     "data": {
      "text/plain": [
       "Male      0.521\n",
       "Female    0.479\n",
       "All       1.000\n",
       "Name: Sex_Count, dtype: float64"
      ]
     },
     "execution_count": 128,
     "metadata": {},
     "output_type": "execute_result"
    }
   ],
   "source": [
    "# get probability of drawing a respondent of a given sex\n",
    "probability_sex = fruit_survey_df['Sex_Count']/fruit_survey_df.loc['All','Sex_Count']\n",
    "probability_sex"
   ]
  },
  {
   "cell_type": "code",
   "execution_count": 164,
   "id": "caf4ea94",
   "metadata": {
    "slideshow": {
     "slide_type": "subslide"
    }
   },
   "outputs": [
    {
     "data": {
      "text/html": [
       "<div>\n",
       "<style scoped>\n",
       "    .dataframe tbody tr th:only-of-type {\n",
       "        vertical-align: middle;\n",
       "    }\n",
       "\n",
       "    .dataframe tbody tr th {\n",
       "        vertical-align: top;\n",
       "    }\n",
       "\n",
       "    .dataframe thead th {\n",
       "        text-align: right;\n",
       "    }\n",
       "</style>\n",
       "<table border=\"1\" class=\"dataframe\">\n",
       "  <thead>\n",
       "    <tr style=\"text-align: right;\">\n",
       "      <th></th>\n",
       "      <th>Durian</th>\n",
       "      <th>Bananas</th>\n",
       "      <th>Mangos</th>\n",
       "      <th>Persimmons</th>\n",
       "    </tr>\n",
       "  </thead>\n",
       "  <tbody>\n",
       "    <tr>\n",
       "      <th>Male</th>\n",
       "      <td>80.234</td>\n",
       "      <td>98.99</td>\n",
       "      <td>240.702</td>\n",
       "      <td>101.074</td>\n",
       "    </tr>\n",
       "    <tr>\n",
       "      <th>Female</th>\n",
       "      <td>73.766</td>\n",
       "      <td>91.01</td>\n",
       "      <td>221.298</td>\n",
       "      <td>92.926</td>\n",
       "    </tr>\n",
       "  </tbody>\n",
       "</table>\n",
       "</div>"
      ],
      "text/plain": [
       "        Durian  Bananas   Mangos  Persimmons\n",
       "Male    80.234    98.99  240.702     101.074\n",
       "Female  73.766    91.01  221.298      92.926"
      ]
     },
     "execution_count": 164,
     "metadata": {},
     "output_type": "execute_result"
    }
   ],
   "source": [
    "#calculated expected values for male and female\n",
    "male_expected = fruit_survey_df.loc['All', 'Durian':'Persimmons']*probability_sex['Male']\n",
    "female_expected = fruit_survey_df.loc['All', 'Durian':'Persimmons']*probability_sex['Female']\n",
    "\n",
    "#create the expected table\n",
    "expected_table = pd.concat([male_expected, female_expected], axis=1).T\n",
    "expected_table.index = ['Male', 'Female']\n",
    "expected_table"
   ]
  },
  {
   "cell_type": "code",
   "execution_count": 165,
   "id": "4319b07d",
   "metadata": {
    "slideshow": {
     "slide_type": "fragment"
    }
   },
   "outputs": [
    {
     "data": {
      "text/html": [
       "<div>\n",
       "<style scoped>\n",
       "    .dataframe tbody tr th:only-of-type {\n",
       "        vertical-align: middle;\n",
       "    }\n",
       "\n",
       "    .dataframe tbody tr th {\n",
       "        vertical-align: top;\n",
       "    }\n",
       "\n",
       "    .dataframe thead th {\n",
       "        text-align: right;\n",
       "    }\n",
       "</style>\n",
       "<table border=\"1\" class=\"dataframe\">\n",
       "  <thead>\n",
       "    <tr style=\"text-align: right;\">\n",
       "      <th></th>\n",
       "      <th>Durian</th>\n",
       "      <th>Bananas</th>\n",
       "      <th>Mangos</th>\n",
       "      <th>Persimmons</th>\n",
       "    </tr>\n",
       "  </thead>\n",
       "  <tbody>\n",
       "    <tr>\n",
       "      <th>Male</th>\n",
       "      <td>68</td>\n",
       "      <td>102</td>\n",
       "      <td>246</td>\n",
       "      <td>105</td>\n",
       "    </tr>\n",
       "    <tr>\n",
       "      <th>Female</th>\n",
       "      <td>86</td>\n",
       "      <td>88</td>\n",
       "      <td>216</td>\n",
       "      <td>89</td>\n",
       "    </tr>\n",
       "  </tbody>\n",
       "</table>\n",
       "</div>"
      ],
      "text/plain": [
       "        Durian  Bananas  Mangos  Persimmons\n",
       "Male        68      102     246         105\n",
       "Female      86       88     216          89"
      ]
     },
     "execution_count": 165,
     "metadata": {},
     "output_type": "execute_result"
    }
   ],
   "source": [
    "fruit_survey_orig"
   ]
  },
  {
   "cell_type": "markdown",
   "id": "795eb4f4",
   "metadata": {
    "cell_style": "center",
    "hidden": true,
    "slideshow": {
     "slide_type": "slide"
    }
   },
   "source": [
    "Now that we have both our observed and the expected frequencies.\n",
    "\n",
    "Construct our $X^2$ statistic:\n",
    "\n",
    " $$ X^2 =  \\sum_{ij}\\frac{(O_{ij} - E_{ij})^2}{E_{ij}} $$"
   ]
  },
  {
   "cell_type": "code",
   "execution_count": 130,
   "id": "b5fd4511",
   "metadata": {
    "cell_style": "center",
    "slideshow": {
     "slide_type": "fragment"
    }
   },
   "outputs": [
    {
     "data": {
      "text/plain": [
       "4.647312487410249"
      ]
     },
     "execution_count": 130,
     "metadata": {},
     "output_type": "execute_result"
    }
   ],
   "source": [
    "inter_table = (fruit_survey_orig - expected_table)**2/expected_table\n",
    "\n",
    "Xsquared_ind = inter_table.to_numpy().sum()\n",
    "Xsquared_ind"
   ]
  },
  {
   "cell_type": "markdown",
   "id": "984e83e9",
   "metadata": {
    "hidden": true,
    "slideshow": {
     "slide_type": "slide"
    }
   },
   "source": [
    "For this test of independence, also need to specify degrees of freedom for the distribution:\n",
    "\n",
    "$$ df = (r - 1)(c -1) $$\n",
    "$df=(2-1)\\cdot(4-1)=3$."
   ]
  },
  {
   "cell_type": "code",
   "execution_count": 166,
   "id": "be61a4aa",
   "metadata": {
    "slideshow": {
     "slide_type": "fragment"
    }
   },
   "outputs": [],
   "source": [
    "degrees_of_freedom = 3"
   ]
  },
  {
   "cell_type": "markdown",
   "id": "d800ce24",
   "metadata": {
    "hidden": true,
    "slideshow": {
     "slide_type": "slide"
    }
   },
   "source": [
    "Plot chi-squared distribution with df = 3 with our statistic: "
   ]
  },
  {
   "cell_type": "code",
   "execution_count": 135,
   "id": "51318e47",
   "metadata": {
    "hidden": true,
    "slideshow": {
     "slide_type": "skip"
    }
   },
   "outputs": [],
   "source": [
    "%%capture plot_independence_test\n",
    "from scipy import stats\n",
    "\n",
    "\n",
    "x = np.linspace(\n",
    "        stats.chi2.ppf(0.000001, degrees_of_freedom),\n",
    "        stats.chi2.ppf(0.9999, degrees_of_freedom), \n",
    "        500\n",
    ")\n",
    "\n",
    "with plt.xkcd():    \n",
    "    f, ax = plt.subplots()\n",
    "    ax.set_title('chi^2 w/ df=3')\n",
    "    ax.plot(x, stats.chi2.pdf(x, degrees_of_freedom), 'r-', lw=5)\n",
    "    # Chi-square statistic\n",
    "    ax.axvline(Xsquared_ind, ls='--', c='b', label='chi^2=4.65')\n",
    "    ax.legend()\n",
    "    plt.tight_layout()"
   ]
  },
  {
   "cell_type": "code",
   "execution_count": 167,
   "id": "6aee0483",
   "metadata": {
    "slideshow": {
     "slide_type": "fragment"
    }
   },
   "outputs": [
    {
     "data": {
      "image/png": "[encoded data removed]",
      "text/plain": [
       "<Figure size 432x288 with 1 Axes>"
      ]
     },
     "metadata": {},
     "output_type": "display_data"
    }
   ],
   "source": [
    "plot_independence_test()"
   ]
  },
  {
   "cell_type": "code",
   "execution_count": 168,
   "id": "cbd84757",
   "metadata": {
    "slideshow": {
     "slide_type": "slide"
    }
   },
   "outputs": [
    {
     "data": {
      "text/plain": [
       "0.19952075187952747"
      ]
     },
     "execution_count": 168,
     "metadata": {},
     "output_type": "execute_result"
    }
   ],
   "source": [
    "# Note we subract since we want the area to the right of the statistic\n",
    "p = stats.chi2.sf(Xsquared_ind, df=degrees_of_freedom)\n",
    "p"
   ]
  },
  {
   "cell_type": "markdown",
   "id": "cd411dce",
   "metadata": {
    "hidden": true,
    "slideshow": {
     "slide_type": "fragment"
    }
   },
   "source": [
    "So in this case, we cannot reject the null hypothesis that sex and fruit type are independent."
   ]
  },
  {
   "cell_type": "markdown",
   "id": "a25277c5",
   "metadata": {
    "heading_collapsed": true,
    "hidden": true,
    "slideshow": {
     "slide_type": "slide"
    }
   },
   "source": [
    "#### Before You Ask, There _Is_ a Faster Method"
   ]
  },
  {
   "cell_type": "markdown",
   "id": "bd5975f5",
   "metadata": {
    "hidden": true,
    "slideshow": {
     "slide_type": "subslide"
    }
   },
   "source": [
    "And of course there's a SciPy method for this: [`scipy.stats.chi2_contingency`](https://docs.scipy.org/doc/scipy/reference/generated/scipy.stats.chi2_contingency.html)"
   ]
  },
  {
   "cell_type": "code",
   "execution_count": 169,
   "id": "a360019a",
   "metadata": {
    "hidden": true,
    "scrolled": false,
    "slideshow": {
     "slide_type": "fragment"
    }
   },
   "outputs": [
    {
     "data": {
      "text/plain": [
       "(4.647312487410241,\n",
       " 0.19952075187952803,\n",
       " 3,\n",
       " array([[ 80.234,  98.99 , 240.702, 101.074],\n",
       "        [ 73.766,  91.01 , 221.298,  92.926]]))"
      ]
     },
     "execution_count": 169,
     "metadata": {},
     "output_type": "execute_result"
    }
   ],
   "source": [
    "result = stats.contingency.chi2_contingency(fruit_survey_orig)\n",
    "chi, p, dof, exp = result\n",
    "result"
   ]
  }
 ],
 "metadata": {
  "celltoolbar": "Slideshow",
  "kernelspec": {
   "display_name": "Python 3 (ipykernel)",
   "language": "python",
   "name": "python3"
  },
  "language_info": {
   "codemirror_mode": {
    "name": "ipython",
    "version": 3
   },
   "file_extension": ".py",
   "mimetype": "text/x-python",
   "name": "python",
   "nbconvert_exporter": "python",
   "pygments_lexer": "ipython3",
   "version": "3.9.7"
  }
 },
 "nbformat": 4,
 "nbformat_minor": 5
}
