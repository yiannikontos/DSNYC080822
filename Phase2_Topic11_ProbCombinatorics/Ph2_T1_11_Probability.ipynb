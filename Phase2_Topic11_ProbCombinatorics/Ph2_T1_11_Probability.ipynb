{
 "cells": [
  {
   "cell_type": "markdown",
   "metadata": {
    "slideshow": {
     "slide_type": "slide"
    }
   },
   "source": [
    "<div style=\"color:white;\n",
    "           display:fill;\n",
    "           border-radius:5px;\n",
    "           background-color:#5642C5;\n",
    "           font-size:200%;\n",
    "           font-family:Arial;letter-spacing:0.5px\">\n",
    "\n",
    "<p width = 20%, style=\"padding: 10px;\n",
    "              color:white;\">\n",
    "Probability: The Mathematics of Uncertainty\n",
    "              \n",
    "</p>\n",
    "</div>\n",
    "\n",
    "Data Science Cohort Live NYC Feb 2022\n",
    "<p>Phase 2: Topic 1</p>\n",
    "<br>\n",
    "<br>\n",
    "\n",
    "<div align = \"right\">\n",
    "<img src=\"Images/flatiron-school-logo.png\" align = \"right\" width=\"200\"/>\n",
    "</div>\n",
    "    \n",
    "    "
   ]
  },
  {
   "cell_type": "markdown",
   "metadata": {
    "cell_style": "center",
    "hidden": true,
    "slideshow": {
     "slide_type": "slide"
    }
   },
   "source": [
    "#### Probability theory\n",
    "\n",
    "- systematic understanding of processes with uncertainty.\n",
    "- quantification and manipulation of uncertainty\n",
    "\n",
    "\n",
    "\n"
   ]
  },
  {
   "cell_type": "markdown",
   "metadata": {
    "cell_style": "split",
    "slideshow": {
     "slide_type": "subslide"
    }
   },
   "source": [
    "E.g., driving along in the southern Australian outback:\n",
    "\n",
    "- Drive up on an adult koala\n",
    "- Ask if you can measure his/her height (consent is important!)\n",
    "- Measure the height"
   ]
  },
  {
   "cell_type": "markdown",
   "metadata": {
    "cell_style": "split",
    "slideshow": {
     "slide_type": "fragment"
    }
   },
   "source": [
    "<div align = \"center\">\n",
    "<img src=\"Images/surprised_koala.jpg\" align = \"center\" width=\"300\"/>\n",
    "</div>\n",
    "<center> A surprised koala.</center>"
   ]
  },
  {
   "cell_type": "code",
<<<<<<< HEAD
   "execution_count": 33,
=======
   "execution_count": 669,
>>>>>>> upstream/master
   "metadata": {
    "cell_style": "split",
    "slideshow": {
     "slide_type": "slide"
    }
   },
   "outputs": [],
   "source": [
    "from scipy.stats import norm\n",
    "koala_height_gen = \\\n",
    "(norm.rvs(loc = 75, scale = 15, size = 1) \n",
    " for x in range(500) )"
   ]
  },
  {
   "cell_type": "code",
<<<<<<< HEAD
   "execution_count": 34,
=======
   "execution_count": 670,
>>>>>>> upstream/master
   "metadata": {
    "cell_style": "split",
    "slideshow": {
     "slide_type": "fragment"
    }
   },
   "outputs": [
    {
     "data": {
      "text/plain": [
<<<<<<< HEAD
       "array([91.71647388])"
      ]
     },
     "execution_count": 34,
=======
       "array([74.59018185])"
      ]
     },
     "execution_count": 670,
>>>>>>> upstream/master
     "metadata": {},
     "output_type": "execute_result"
    }
   ],
   "source": [
    "# measure that surprised koala's height\n",
    "consenting_koala1 = next(koala_height_gen)\n",
    "consenting_koala1"
   ]
  },
  {
   "cell_type": "markdown",
   "metadata": {
    "slideshow": {
     "slide_type": "slide"
    }
   },
   "source": [
    "Now roll up on another unsuspecting, consenting koala:"
   ]
  },
  {
   "cell_type": "code",
<<<<<<< HEAD
   "execution_count": 35,
=======
   "execution_count": 673,
>>>>>>> upstream/master
   "metadata": {
    "cell_style": "split",
    "slideshow": {
     "slide_type": "fragment"
    }
   },
   "outputs": [
    {
     "data": {
      "text/plain": [
<<<<<<< HEAD
       "array([49.58721168])"
      ]
     },
     "execution_count": 35,
=======
       "array([90.45403919])"
      ]
     },
     "execution_count": 673,
>>>>>>> upstream/master
     "metadata": {},
     "output_type": "execute_result"
    }
   ],
   "source": [
    "# Drive up on another koala: \n",
    "consenting_koala2 = next(koala_height_gen)\n",
    "consenting_koala2"
   ]
  },
  {
   "cell_type": "code",
<<<<<<< HEAD
   "execution_count": 36,
=======
   "execution_count": 672,
>>>>>>> upstream/master
   "metadata": {
    "cell_style": "split",
    "slideshow": {
     "slide_type": "fragment"
    }
   },
   "outputs": [
    {
     "data": {
      "text/plain": [
<<<<<<< HEAD
       "array([91.71647388])"
      ]
     },
     "execution_count": 36,
=======
       "array([74.59018185])"
      ]
     },
     "execution_count": 672,
>>>>>>> upstream/master
     "metadata": {},
     "output_type": "execute_result"
    }
   ],
   "source": [
    "consenting_koala1"
   ]
  },
  {
   "cell_type": "markdown",
   "metadata": {
    "cell_style": "center",
    "slideshow": {
     "slide_type": "slide"
    }
   },
   "source": [
    "The outcome of the measurement of any given koala's height is unknown\n",
    "- the outcome is a *random* event.\n",
    "- uncertainty in what the value might be for any given koala\n"
   ]
  },
  {
   "cell_type": "markdown",
   "metadata": {
    "cell_style": "split",
    "slideshow": {
     "slide_type": "subslide"
    }
   },
   "source": [
    "But may want to quantify:\n",
    "\n",
    "- what, on the *average*, we might expect\n",
    "- quantify uncertainty (the characteristic range of values)\n",
    "- likelihood that a koala's height falls within a given range"
   ]
  },
  {
   "cell_type": "markdown",
   "metadata": {
    "cell_style": "split",
    "slideshow": {
     "slide_type": "fragment"
    }
   },
   "source": [
    "<div align = \"center\">\n",
    "<img src=\"Images/koala.png\" align = \"center\" width=\"300\"/>\n",
    "</div>\n",
    "<center> Average koala height of 75 cm </center>"
   ]
  },
  {
   "cell_type": "markdown",
   "metadata": {
    "slideshow": {
     "slide_type": "subslide"
    }
   },
   "source": [
    "#### This sort of quantification of uncertainty\n",
    "- Absolutely central to data science\n",
    "- Making predictions and classifications most probable given limited information.\n",
    "    - i.e. in the face of uncertainty"
   ]
  },
  {
   "cell_type": "markdown",
   "metadata": {
    "cell_style": "split",
    "slideshow": {
     "slide_type": "slide"
    }
   },
   "source": [
    "**Building a classifier: a common data science / machine-learning task**\n",
    "\n",
    "<div align = \"center\">\n",
    "<img src=\"Images/southern_vs_northern_koala.jpg\" align = \"center\" width=\"300\"/>\n",
    "</div>\n",
    "<center> Southern vs. northern koala </center>\n"
   ]
  },
  {
   "cell_type": "markdown",
   "metadata": {
    "cell_style": "split",
    "slideshow": {
     "slide_type": "fragment"
    }
   },
   "source": [
    "We are told a koala weighs 22 lbs. Is this a southern or a northern koala?"
   ]
  },
  {
   "cell_type": "markdown",
   "metadata": {
    "cell_style": "split",
    "slideshow": {
     "slide_type": "fragment"
    }
   },
   "source": [
    "A statistically sound determination of subspecies based on weight will depend on:\n",
    "- characteristic range (e.g, mean / standard deviation) of Southern koala\n",
    "- characteristic range (e.g, mean / standard deviation) of northern koala\n",
    "\n",
    "E.g. the statistical distributions of both populations."
   ]
  },
  {
   "cell_type": "code",
<<<<<<< HEAD
   "execution_count": 37,
=======
   "execution_count": 674,
>>>>>>> upstream/master
   "metadata": {
    "slideshow": {
     "slide_type": "skip"
    }
   },
   "outputs": [],
   "source": [
    "%%capture koalaweights\n",
    "\n",
    "# Weight distributions of northern vs southern koalas\n",
    "import matplotlib.pyplot as plt\n",
    "\n",
    "southern_koala = norm.rvs(loc = 24, scale = 2.5, size = 800, random_state = 42)\n",
    "northern_koala = norm.rvs(loc = 14, scale = 3, size = 800, random_state = 42)\n",
    "\n",
    "fig, ax = plt.subplots()\n",
    "\n",
    "ax.hist(southern_koala, color = 'r', histtype = 'step')\n",
    "ax.hist(northern_koala, color = 'b', histtype = 'step')\n",
    "ax.set_xlabel('Koala weight [lbs]')\n",
    "ax.set_ylabel('Counts')\n",
    "ax.axvline(22, c = 'g', linestyle = '--')\n",
    "plt.annotate('Our Koala', xy = (22, 200), xytext = (16.5, 210), size = 11, c = 'g')\n",
    "plt.annotate('Northern Koala', xy = (4, 190), xytext = (4, 190), size = 11, c = 'b')\n",
    "plt.annotate('Southern Koala', xy = (26, 190), xytext = (26, 190), size = 11, c = 'r')\n",
    "\n",
    "plt.show()"
   ]
  },
  {
   "cell_type": "code",
<<<<<<< HEAD
   "execution_count": 38,
=======
   "execution_count": 675,
>>>>>>> upstream/master
   "metadata": {
    "cell_style": "split",
    "slideshow": {
     "slide_type": "slide"
    }
   },
   "outputs": [
    {
     "data": {
      "image/png": "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\n",
      "text/plain": [
       "<Figure size 432x288 with 1 Axes>"
      ]
     },
     "metadata": {
      "needs_background": "light"
     },
     "output_type": "display_data"
    }
   ],
   "source": [
    "koalaweights()"
   ]
  },
  {
   "cell_type": "markdown",
   "metadata": {
    "cell_style": "split",
    "slideshow": {
     "slide_type": "fragment"
    }
   },
   "source": [
    "Weight measurement:\n",
    "- Is our koala a northern or southern Koala?"
   ]
  },
  {
   "cell_type": "markdown",
   "metadata": {
    "cell_style": "split",
    "slideshow": {
     "slide_type": "fragment"
    }
   },
   "source": [
    "Quantification of: \n",
    "\n",
    "- the sub-population means\n",
    "- their spreads (uncertainty)\n",
    "- probability that a southern (northern) koala would have weight 22"
   ]
  },
  {
   "cell_type": "markdown",
   "metadata": {
    "slideshow": {
     "slide_type": "slide"
    }
   },
   "source": [
    "#### Probability theory: the branch of mathematics \n",
    "- lets us reason and calculate these various quantities derived from random events"
   ]
  },
  {
   "cell_type": "markdown",
   "metadata": {
    "cell_style": "split",
    "slideshow": {
     "slide_type": "slide"
    }
   },
   "source": [
    "#### Random processes, outcomes, and sample spaces:\n",
    "\n",
    "Random process: \n",
    "\n",
    "- repeated query or measurement of given quantity does not produce reproducible outcome\n",
    "\n",
    "\n",
    "\n"
   ]
  },
  {
   "cell_type": "markdown",
   "metadata": {
    "cell_style": "split",
    "slideshow": {
     "slide_type": "fragment"
    }
   },
   "source": [
    "Example: throwing a fair die\n",
    "\n",
    "<center><img src=\"Images/dice.jpg\" width=\"400\"/></center>\n",
    "\n"
   ]
  },
  {
   "cell_type": "markdown",
   "metadata": {
    "cell_style": "center",
    "slideshow": {
     "slide_type": "slide"
    }
   },
   "source": [
    "Result of a given throw? Random process.\n",
    "\n",
    "- Possible outcomes: 1, 2, 3, 4, 5, 6\n",
    "- Sample space $\\Omega$: set of all possible outcomes of a trial:\n",
    "    - $ \\Omega = \\{1, 2, 3, 4, 5, 6\\} $"
   ]
  },
  {
   "cell_type": "markdown",
   "metadata": {
    "slideshow": {
     "slide_type": "subslide"
    }
   },
   "source": [
    "Sample space type: Discrete and finite\n",
    "\n",
    "- outcomes can be represented simply as a finite set."
   ]
  },
  {
   "cell_type": "code",
<<<<<<< HEAD
   "execution_count": 39,
=======
   "execution_count": 676,
>>>>>>> upstream/master
   "metadata": {
    "cell_style": "split",
    "slideshow": {
     "slide_type": "fragment"
    }
   },
   "outputs": [
    {
     "name": "stdout",
     "output_type": "stream",
     "text": [
      "<class 'set'>\n"
     ]
    },
    {
     "data": {
      "text/plain": [
       "{1, 2, 3, 4, 5, 6}"
      ]
     },
<<<<<<< HEAD
     "execution_count": 39,
=======
     "execution_count": 676,
>>>>>>> upstream/master
     "metadata": {},
     "output_type": "execute_result"
    }
   ],
   "source": [
    "die_sample_space = {1, 2, 3, 4, 5, 6}\n",
    "print(type(die_sample_space))\n",
    "die_sample_space"
   ]
  },
  {
   "cell_type": "markdown",
   "metadata": {
    "cell_style": "split",
    "slideshow": {
     "slide_type": "fragment"
    }
   },
   "source": [
    "Python has a special datatype for sets:\n",
    "- many set specific operations:\n",
    "    - intersection\n",
    "    - union\n",
    "    - difference\n",
    "    - etc."
   ]
  },
  {
   "cell_type": "markdown",
   "metadata": {
    "slideshow": {
     "slide_type": "fragment"
    }
   },
   "source": [
    "Results for a given throw are drawn **at random** from this sample space set."
   ]
  },
  {
   "cell_type": "code",
<<<<<<< HEAD
   "execution_count": 40,
=======
   "execution_count": 677,
>>>>>>> upstream/master
   "metadata": {
    "cell_style": "split",
    "slideshow": {
     "slide_type": "slide"
    }
   },
   "outputs": [],
   "source": [
    "# base python's library for all thing random\n",
    "import random"
   ]
  },
  {
   "cell_type": "markdown",
   "metadata": {
    "cell_style": "split",
    "slideshow": {
     "slide_type": "fragment"
    }
   },
   "source": [
    "Rolling a fair die: this samples the set evenly."
   ]
  },
  {
   "cell_type": "code",
<<<<<<< HEAD
   "execution_count": 41,
=======
   "execution_count": 682,
>>>>>>> upstream/master
   "metadata": {
    "cell_style": "split",
    "slideshow": {
     "slide_type": "fragment"
    }
   },
   "outputs": [
    {
     "data": {
      "text/plain": [
       "[4]"
      ]
     },
<<<<<<< HEAD
     "execution_count": 41,
=======
     "execution_count": 682,
>>>>>>> upstream/master
     "metadata": {},
     "output_type": "execute_result"
    }
   ],
   "source": [
    "random.sample(list(die_sample_space), 1)"
   ]
  },
  {
   "cell_type": "markdown",
   "metadata": {
    "slideshow": {
     "slide_type": "slide"
    }
   },
   "source": [
    "#### The event space \n",
    "- $ B $, the event space, is the set of all subsets of sample space $\\Omega$."
   ]
  },
  {
   "cell_type": "code",
<<<<<<< HEAD
   "execution_count": 42,
=======
   "execution_count": 683,
>>>>>>> upstream/master
   "metadata": {
    "slideshow": {
     "slide_type": "subslide"
    }
   },
   "outputs": [
    {
     "name": "stdout",
     "output_type": "stream",
     "text": [
      "[set(), {1}, {2}, {1, 2}, {3}, {1, 3}, {2, 3}, {1, 2, 3}, {4}, {1, 4}, {2, 4}, {1, 2, 4}, {3, 4}, {1, 3, 4}, {2, 3, 4}, {1, 2, 3, 4}, {5}, {1, 5}, {2, 5}, {1, 2, 5}, {3, 5}, {1, 3, 5}, {2, 3, 5}, {1, 2, 3, 5}, {4, 5}, {1, 4, 5}, {2, 4, 5}, {1, 2, 4, 5}, {3, 4, 5}, {1, 3, 4, 5}, {2, 3, 4, 5}, {1, 2, 3, 4, 5}, {6}, {1, 6}, {2, 6}, {1, 2, 6}, {3, 6}, {1, 3, 6}, {2, 3, 6}, {1, 2, 3, 6}, {4, 6}, {1, 4, 6}, {2, 4, 6}, {1, 2, 4, 6}, {3, 4, 6}, {1, 3, 4, 6}, {2, 3, 4, 6}, {1, 2, 3, 4, 6}, {5, 6}, {1, 5, 6}, {2, 5, 6}, {1, 2, 5, 6}, {3, 5, 6}, {1, 3, 5, 6}, {2, 3, 5, 6}, {1, 2, 3, 5, 6}, {4, 5, 6}, {1, 4, 5, 6}, {2, 4, 5, 6}, {1, 2, 4, 5, 6}, {3, 4, 5, 6}, {1, 3, 4, 5, 6}, {2, 3, 4, 5, 6}, {1, 2, 3, 4, 5, 6}]\n"
     ]
    }
   ],
   "source": [
    "from functools import reduce\n",
    "\n",
    "ps = lambda s: reduce(lambda P, x: P + [subset | {x} for subset in P], s, [set()])\n",
    "\n",
    "die_event_space = ps(die_sample_space)\n",
    "print(die_event_space)"
   ]
  },
  {
   "cell_type": "markdown",
   "metadata": {
    "cell_style": "split",
    "slideshow": {
     "slide_type": "fragment"
    }
   },
   "source": [
    "Each element of the event space:\n",
    "- a set corresponding to a subset of observations in $\\Omega$"
   ]
  },
  {
   "cell_type": "markdown",
   "metadata": {
    "cell_style": "split"
   },
   "source": [
    "For result of a roll we ask:\n",
    "\n",
    "Did we get either a 1, 2 or 4? Getting a 1, 2 or 4 is an **event**."
   ]
  },
  {
   "cell_type": "code",
   "execution_count": 43,
   "metadata": {
    "cell_style": "split"
   },
   "outputs": [
    {
     "data": {
      "text/plain": [
       "{1, 2, 4}"
      ]
     },
     "execution_count": 43,
     "metadata": {},
     "output_type": "execute_result"
    }
   ],
   "source": [
    "# An event example:\n",
    "die_event_space[11]"
   ]
  },
  {
   "cell_type": "markdown",
   "metadata": {
    "slideshow": {
     "slide_type": "slide"
    }
   },
   "source": [
    "Note that event space contains:\n",
    "- sample space $\\Omega$"
   ]
  },
  {
   "cell_type": "code",
   "execution_count": 44,
   "metadata": {
    "cell_style": "split",
    "slideshow": {
     "slide_type": "fragment"
    }
   },
   "outputs": [
    {
     "data": {
      "text/plain": [
       "True"
      ]
     },
     "execution_count": 44,
     "metadata": {},
     "output_type": "execute_result"
    }
   ],
   "source": [
    "die_sample_space in die_event_space"
   ]
  },
  {
   "cell_type": "code",
   "execution_count": 45,
   "metadata": {
    "cell_style": "split",
    "slideshow": {
     "slide_type": "-"
    }
   },
   "outputs": [
    {
     "data": {
      "text/plain": [
       "{1, 2, 3, 4, 5, 6}"
      ]
     },
     "execution_count": 45,
     "metadata": {},
     "output_type": "execute_result"
    }
   ],
   "source": [
    "die_event_space[-1]"
   ]
  },
  {
   "cell_type": "markdown",
   "metadata": {
    "cell_style": "split",
    "slideshow": {
     "slide_type": "slide"
    }
   },
   "source": [
    "**Probability**\n",
    "\n",
    "A function $$ P: B \\rightarrow \\mathbb{R} $$\n",
    "\n",
    "maps from the event space to a real number."
   ]
  },
  {
   "cell_type": "markdown",
   "metadata": {
    "cell_style": "split",
    "slideshow": {
     "slide_type": "fragment"
    }
   },
   "source": [
    "e.g.:\n",
    "    \n",
    "$$ P(\\{1\\}) = \\frac{1}{6} $$\n",
    "$$ P(\\{1, 2, 4\\}) = \\frac{1}{2} $$ "
   ]
  },
  {
   "cell_type": "markdown",
   "metadata": {
    "cell_style": "center",
    "slideshow": {
     "slide_type": "slide"
    }
   },
   "source": [
    "The probability function must satisfy a few requirements:\n",
    "\n",
    "**Requirement 1**\n",
    "\n",
    "$$ P(b) \\geq 0, \\forall b \\in B $$\n",
    "\n",
    "A probability must be positive."
   ]
  },
  {
   "cell_type": "markdown",
   "metadata": {
    "slideshow": {
     "slide_type": "subslide"
    }
   },
   "source": [
    "**Requirement 2**\n",
    "\n",
    "$$ P(\\Omega) = 1 $$\n",
    "\n",
    "or\n",
    "\n",
    "$$ P(\\{1,2,3,4,5,6\\}) = 1 $$\n",
    "\n",
    "The probability of getting any of the possibility outcomes of a trial must be 1."
   ]
  },
  {
   "cell_type": "markdown",
   "metadata": {
    "cell_style": "split",
    "slideshow": {
     "slide_type": "slide"
    }
   },
   "source": [
    "**Requirement 3**\n",
    "\n",
    "The union of mutually exclusive events must satisfy:\n",
    "\n",
    "$$ P\\Big(\\bigcup_i b_i\\Big) = \\sum_i P(b_i)$$"
   ]
  },
  {
   "cell_type": "markdown",
   "metadata": {
    "cell_style": "split",
    "slideshow": {
     "slide_type": "fragment"
    }
   },
   "source": [
    "Seems abstract but is pretty sensible:\n",
    "\n",
    "$$ P(\\{1,2,3\\})  = P(\\{1\\} \\cup \\{2\\} \\cup \\{3\\} ) \\\\ = P(\\{1\\}) + P(\\{2\\}) + P(\\{3\\}) = \\\\ \\frac{1}{6} + \\frac{1}{6} + \\frac{1}{6} = \\frac{1}{2} $$"
   ]
  },
  {
   "cell_type": "markdown",
   "metadata": {
    "slideshow": {
     "slide_type": "slide"
    }
   },
   "source": [
    "We can define this in code with a function that maps sets to a number:\n",
    "\n",
    "- Do this for a fair die as example."
   ]
  },
  {
   "cell_type": "code",
   "execution_count": 46,
   "metadata": {
    "slideshow": {
     "slide_type": "subslide"
    }
   },
   "outputs": [],
   "source": [
    "from math import isclose\n",
    "\n",
    "def proba(input_event, sample_space, proba_dict = None):\n",
    "    \n",
    "    if proba_dict == None:\n",
    "        # get number of elements (should be 6 for our die)\n",
    "        N = len(sample_space)\n",
    "        \n",
    "        # probabilities for single outcome events assuming uniform distribution\n",
    "        proba_dict = {obs: 1/N for obs in sample_space}\n",
    "        \n",
    "    else:\n",
    "        # values of dict would need to change if not uniform probabilities\n",
    "        proba_dict = proba_dict\n",
    "        \n",
    "    # first check if probabilities are greater than = 0 and probabilities sums to 1.\n",
    "    if isclose(sum(proba_dict.values()), 1) & all(p >= 0 for p in proba_dict.values()):\n",
    "        \n",
    "        event_prob = sum([proba_dict[elem] for elem in input_event])\n",
    "        \n",
    "        return event_prob\n",
    "    else:\n",
    "        print('Probabilities not valid for single outcome events.')\n",
    "        pass"
   ]
  },
  {
   "cell_type": "markdown",
   "metadata": {
    "cell_style": "split",
    "slideshow": {
     "slide_type": "slide"
    }
   },
   "source": [
    "Construct sample space $\\Omega$ for six-sided dice.\n",
    "\n",
    "- Since fair, function assumes uniform probability."
   ]
  },
  {
   "cell_type": "code",
<<<<<<< HEAD
   "execution_count": 47,
=======
   "execution_count": 684,
>>>>>>> upstream/master
   "metadata": {
    "cell_style": "split",
    "slideshow": {
     "slide_type": "fragment"
    }
   },
   "outputs": [],
   "source": [
    "# define sample space\n",
    "S = {1,2,3,4,5,6}"
   ]
  },
  {
   "cell_type": "code",
<<<<<<< HEAD
   "execution_count": 48,
=======
   "execution_count": 686,
>>>>>>> upstream/master
   "metadata": {
    "cell_style": "split",
    "slideshow": {
     "slide_type": "fragment"
    }
   },
   "outputs": [
    {
     "data": {
      "text/plain": [
       "0.16666666666666666"
      ]
     },
<<<<<<< HEAD
     "execution_count": 48,
=======
     "execution_count": 686,
>>>>>>> upstream/master
     "metadata": {},
     "output_type": "execute_result"
    }
   ],
   "source": [
    "# evaluate probability for throwing a 3\n",
    "proba({6}, S)"
   ]
  },
  {
   "cell_type": "markdown",
   "metadata": {
    "slideshow": {
     "slide_type": "slide"
    }
   },
   "source": [
    "Does this function satisfy requirements?"
   ]
  },
  {
   "cell_type": "markdown",
   "metadata": {
    "slideshow": {
     "slide_type": "slide"
    }
   },
   "source": [
    "**Requirement 1**"
   ]
  },
  {
   "cell_type": "code",
<<<<<<< HEAD
   "execution_count": 49,
=======
   "execution_count": 687,
>>>>>>> upstream/master
   "metadata": {
    "cell_style": "split",
    "slideshow": {
     "slide_type": "fragment"
    }
   },
   "outputs": [
    {
     "data": {
      "text/plain": [
       "1.0"
      ]
     },
<<<<<<< HEAD
     "execution_count": 49,
=======
     "execution_count": 687,
>>>>>>> upstream/master
     "metadata": {},
     "output_type": "execute_result"
    }
   ],
   "source": [
    "proba_dict2 = {1: .1, 2: -.1, 3: .4,\n",
    "               4: .1, 5: .25, 6: .25}\n",
    "sum(proba_dict2.values())"
   ]
  },
  {
   "cell_type": "code",
<<<<<<< HEAD
   "execution_count": 50,
=======
   "execution_count": 689,
>>>>>>> upstream/master
   "metadata": {
    "cell_style": "split",
    "slideshow": {
     "slide_type": "fragment"
    }
   },
   "outputs": [
    {
     "name": "stdout",
     "output_type": "stream",
     "text": [
      "Probabilities not valid for single outcome events.\n"
     ]
    }
   ],
   "source": [
    "proba({1,2}, S, proba_dict2)"
   ]
  },
  {
   "cell_type": "markdown",
   "metadata": {
    "cell_style": "split",
    "slideshow": {
     "slide_type": "fragment"
    }
   },
   "source": [
    "Probabilities must be greater than zero."
   ]
  },
  {
   "cell_type": "markdown",
   "metadata": {
    "slideshow": {
     "slide_type": "slide"
    }
   },
   "source": [
    "**Requirement 2**"
   ]
  },
  {
   "cell_type": "code",
<<<<<<< HEAD
   "execution_count": 51,
=======
   "execution_count": 690,
>>>>>>> upstream/master
   "metadata": {
    "cell_style": "split",
    "scrolled": true,
    "slideshow": {
     "slide_type": "fragment"
    }
   },
   "outputs": [
    {
<<<<<<< HEAD
     "ename": "NameError",
     "evalue": "name 'P' is not defined",
     "output_type": "error",
     "traceback": [
      "\u001b[1;31m---------------------------------------------------------------------------\u001b[0m",
      "\u001b[1;31mNameError\u001b[0m                                 Traceback (most recent call last)",
      "Input \u001b[1;32mIn [51]\u001b[0m, in \u001b[0;36m<cell line: 3>\u001b[1;34m()\u001b[0m\n\u001b[0;32m      1\u001b[0m \u001b[38;5;66;03m# the probability when the event \u001b[39;00m\n\u001b[0;32m      2\u001b[0m \u001b[38;5;66;03m# is the entire sample space\u001b[39;00m\n\u001b[1;32m----> 3\u001b[0m \u001b[43mP\u001b[49m(S, S)\n",
      "\u001b[1;31mNameError\u001b[0m: name 'P' is not defined"
     ]
=======
     "data": {
      "text/plain": [
       "0.9999999999999999"
      ]
     },
     "execution_count": 690,
     "metadata": {},
     "output_type": "execute_result"
>>>>>>> upstream/master
    }
   ],
   "source": [
    "# the probability when the event \n",
    "# is the entire sample space\n",
    "P(S, S)"
   ]
  },
  {
   "cell_type": "markdown",
   "metadata": {
    "cell_style": "split",
    "slideshow": {
     "slide_type": "fragment"
    }
   },
   "source": [
    "Apart from an issue with floats:\n",
    "- Yes this satisfies axiom 2."
   ]
  },
  {
   "cell_type": "markdown",
   "metadata": {
    "slideshow": {
     "slide_type": "slide"
    }
   },
   "source": [
    "**Requirement 3**"
   ]
  },
  {
   "cell_type": "code",
<<<<<<< HEAD
   "execution_count": 31,
=======
   "execution_count": 691,
>>>>>>> upstream/master
   "metadata": {
    "cell_style": "split",
    "slideshow": {
     "slide_type": "slide"
    }
   },
   "outputs": [
    {
     "data": {
      "text/plain": [
       "{2, 3, 5}"
      ]
     },
<<<<<<< HEAD
     "execution_count": 31,
=======
     "execution_count": 691,
>>>>>>> upstream/master
     "metadata": {},
     "output_type": "execute_result"
    }
   ],
   "source": [
    "event_A = {2}\n",
    "event_B = {5}\n",
    "event_C = {3}\n",
    "nonoverlap_union = \\\n",
    "event_A.union(event_B).union(event_C)\n",
    "nonoverlap_union"
   ]
  },
  {
   "cell_type": "code",
<<<<<<< HEAD
   "execution_count": 32,
=======
   "execution_count": 692,
>>>>>>> upstream/master
   "metadata": {
    "cell_style": "split",
    "slideshow": {
     "slide_type": "fragment"
    }
   },
   "outputs": [
    {
<<<<<<< HEAD
     "ename": "NameError",
     "evalue": "name 'P' is not defined",
     "output_type": "error",
     "traceback": [
      "\u001b[1;31m---------------------------------------------------------------------------\u001b[0m",
      "\u001b[1;31mNameError\u001b[0m                                 Traceback (most recent call last)",
      "Input \u001b[1;32mIn [32]\u001b[0m, in \u001b[0;36m<cell line: 1>\u001b[1;34m()\u001b[0m\n\u001b[1;32m----> 1\u001b[0m \u001b[43mP\u001b[49m(nonoverlap_union, S)\n",
      "\u001b[1;31mNameError\u001b[0m: name 'P' is not defined"
     ]
=======
     "data": {
      "text/plain": [
       "0.5"
      ]
     },
     "execution_count": 692,
     "metadata": {},
     "output_type": "execute_result"
>>>>>>> upstream/master
    }
   ],
   "source": [
    "P(nonoverlap_union, S)"
   ]
  },
  {
   "cell_type": "code",
   "execution_count": 218,
   "metadata": {
    "cell_style": "split",
    "slideshow": {
     "slide_type": "fragment"
    }
   },
   "outputs": [
    {
     "data": {
      "text/plain": [
       "0.5"
      ]
     },
     "execution_count": 218,
     "metadata": {},
     "output_type": "execute_result"
    }
   ],
   "source": [
    "P(event_A, S) + P(event_B, S) + P(event_C, S) "
   ]
  },
  {
   "cell_type": "markdown",
   "metadata": {
    "slideshow": {
     "slide_type": "slide"
    }
   },
   "source": [
    "These three axioms, the notion of sample space $\\Omega$ and the event space $B$ define the **probability space**:\n",
    "    $$ (\\Omega, B, P) $$\n",
    "- Armed with this, notions from set theory, and other branches of math:\n",
    "    - entire framework for quantifying chance and uncertainty\n",
    "    - deriving relationships between random events/uncertainties "
   ]
  },
  {
   "cell_type": "markdown",
   "metadata": {
    "slideshow": {
     "slide_type": "slide"
    }
   },
   "source": [
    "An example of such a relation:"
   ]
  },
  {
   "cell_type": "markdown",
   "metadata": {
    "cell_style": "split",
    "slideshow": {
     "slide_type": "fragment"
    }
   },
   "source": [
    "If events $A$ and $B$ are NOT mutually exclusive:\n",
    "\n",
    "$$P(\\{A\\}\\cup\\{B\\}) = P(\\{A\\}) + P(\\{B\\})  \\\\ - P(A\\cap B)$$\n",
    "\n",
    "where $\\cap$ denotes intersection of sets."
   ]
  },
  {
   "cell_type": "markdown",
   "metadata": {
    "cell_style": "split",
    "slideshow": {
     "slide_type": "fragment"
    }
   },
   "source": [
    "<center><img src=\"Images/aunionB.png\" width=\"400\"/></center>\n"
   ]
  },
  {
   "cell_type": "markdown",
   "metadata": {
    "slideshow": {
     "slide_type": "subslide"
    }
   },
   "source": [
    "Reasonable, but can also be proved from first three axioms and notions from set theory."
   ]
  },
  {
   "cell_type": "markdown",
   "metadata": {
    "cell_style": "center",
    "slideshow": {
     "slide_type": "slide"
    }
   },
   "source": [
    "**A concrete example**\n",
    "- Calculating probabilities for two non-mutually exclusive events"
   ]
  },
  {
   "cell_type": "code",
   "execution_count": 16,
   "metadata": {
    "cell_style": "split",
    "slideshow": {
     "slide_type": "fragment"
    }
   },
   "outputs": [
    {
     "data": {
      "text/plain": [
       "{1, 2, 3, 4}"
      ]
     },
     "execution_count": 16,
     "metadata": {},
     "output_type": "execute_result"
    }
   ],
   "source": [
    "A = {1,2,3}\n",
    "B = {2,3,4}\n",
    "\n",
    "A.union(B)"
   ]
  },
  {
   "cell_type": "code",
   "execution_count": 17,
   "metadata": {
    "cell_style": "split",
    "slideshow": {
     "slide_type": "fragment"
    }
   },
   "outputs": [
    {
     "ename": "NameError",
     "evalue": "name 'P' is not defined",
     "output_type": "error",
     "traceback": [
      "\u001b[1;31m---------------------------------------------------------------------------\u001b[0m",
      "\u001b[1;31mNameError\u001b[0m                                 Traceback (most recent call last)",
      "Input \u001b[1;32mIn [17]\u001b[0m, in \u001b[0;36m<cell line: 1>\u001b[1;34m()\u001b[0m\n\u001b[1;32m----> 1\u001b[0m \u001b[43mP\u001b[49m(A, S) \u001b[38;5;241m+\u001b[39m P(B, S) \u001b[38;5;241m-\u001b[39m P(A\u001b[38;5;241m.\u001b[39mintersection(B), S)\n",
      "\u001b[1;31mNameError\u001b[0m: name 'P' is not defined"
     ]
    }
   ],
   "source": [
    "P(A, S) + P(B, S) - P(A.intersection(B), S)"
   ]
  },
  {
   "cell_type": "code",
<<<<<<< HEAD
   "execution_count": 18,
=======
   "execution_count": 693,
>>>>>>> upstream/master
   "metadata": {
    "cell_style": "split",
    "slideshow": {
     "slide_type": "fragment"
    }
   },
   "outputs": [
    {
<<<<<<< HEAD
     "ename": "NameError",
     "evalue": "name 'P' is not defined",
     "output_type": "error",
     "traceback": [
      "\u001b[1;31m---------------------------------------------------------------------------\u001b[0m",
      "\u001b[1;31mNameError\u001b[0m                                 Traceback (most recent call last)",
      "Input \u001b[1;32mIn [18]\u001b[0m, in \u001b[0;36m<cell line: 1>\u001b[1;34m()\u001b[0m\n\u001b[1;32m----> 1\u001b[0m \u001b[43mP\u001b[49m(A\u001b[38;5;241m.\u001b[39munion(B), S)\n",
      "\u001b[1;31mNameError\u001b[0m: name 'P' is not defined"
     ]
=======
     "data": {
      "text/plain": [
       "0.6666666666666666"
      ]
     },
     "execution_count": 693,
     "metadata": {},
     "output_type": "execute_result"
>>>>>>> upstream/master
    }
   ],
   "source": [
    "P(A.union(B), S)"
   ]
  },
  {
   "cell_type": "markdown",
   "metadata": {
    "slideshow": {
     "slide_type": "slide"
    }
   },
   "source": [
    " Many other interesting relations and inequalities between probabilities of elements in an event space.\n",
    " \n",
    " **The province of probability theory**"
   ]
  },
  {
   "cell_type": "markdown",
   "metadata": {
    "cell_style": "split",
    "slideshow": {
     "slide_type": "slide"
    }
   },
   "source": [
    "#### Connection with statistics\n",
    "\n",
    " probabilities to elements of event space:\n",
    "- corresponding to result of single outcome\n",
    "\n",
    "e.g. Assigned $\\{1\\}$, $\\{2\\}$, $ \\{3\\} $ ..."
   ]
  },
  {
   "cell_type": "markdown",
   "metadata": {
    "cell_style": "split",
    "slideshow": {
     "slide_type": "fragment"
    }
   },
   "source": [
    "Did this with proba_dict:"
   ]
  },
  {
   "cell_type": "code",
   "execution_count": 694,
   "metadata": {
    "cell_style": "split",
    "slideshow": {
     "slide_type": "fragment"
    }
   },
   "outputs": [
    {
     "data": {
      "text/plain": [
       "1.0000000000000002"
      ]
     },
     "execution_count": 694,
     "metadata": {},
     "output_type": "execute_result"
    }
   ],
   "source": [
    "# values for a loaded die\n",
    "proba_dict3 = {1: .1, 2: .1, 3: .4,\n",
    "               4: .1, 5: .2, 6: .1}\n",
    "sum(proba_dict3.values())"
   ]
  },
  {
   "cell_type": "markdown",
   "metadata": {
    "slideshow": {
     "slide_type": "fragment"
    }
   },
   "source": [
    "But how do we actually get these probability values?"
   ]
  },
  {
   "cell_type": "markdown",
   "metadata": {
    "cell_style": "split",
    "slideshow": {
     "slide_type": "slide"
    }
   },
   "source": [
    "<center><img src=\"Images/throwing-dice-quavo.gif\" width=\"400\"/></center>\n",
    "\n",
    "<center> Quavo knows the importance of repeated, statistical trials. </center>"
   ]
  },
  {
   "cell_type": "markdown",
   "metadata": {
    "cell_style": "split",
    "slideshow": {
     "slide_type": "fragment"
    }
   },
   "source": [
    "Statistics: where the real world meets probability theory.\n",
    "\n",
    "Repeat trial on die:\n",
    "- Tabulate frequencies"
   ]
  },
  {
   "cell_type": "markdown",
   "metadata": {
    "slideshow": {
     "slide_type": "slide"
    }
   },
   "source": [
    "We will do this by simulation:"
   ]
  },
  {
   "cell_type": "code",
   "execution_count": 695,
   "metadata": {
    "cell_style": "split",
    "slideshow": {
     "slide_type": "fragment"
    }
   },
   "outputs": [
    {
     "name": "stdout",
     "output_type": "stream",
     "text": [
      "0     1\n",
      "1     4\n",
      "2     3\n",
      "3     3\n",
      "4     4\n",
      "5     4\n",
      "6     5\n",
      "7     6\n",
      "8     2\n",
      "9     3\n",
      "10    4\n",
      "11    1\n",
      "12    5\n",
      "13    5\n",
      "14    3\n",
      "15    2\n",
      "16    3\n",
      "17    2\n",
      "18    1\n",
      "19    5\n",
      "dtype: int32\n"
     ]
    }
   ],
   "source": [
    "# randint is the discrete uniform distribution\n",
    "from scipy.stats import randint\n",
    "import pandas as pd\n",
    "\n",
    "# generates samples from integers \n",
    "# between 1 to 6\n",
    "dice_sides = 6\n",
    "N = 20\n",
    "trial_results = pd.Series(\n",
    "    randint.rvs(1, dice_sides+1, size = N))\n",
    "print(trial_results)"
   ]
  },
  {
   "cell_type": "code",
   "execution_count": 696,
   "metadata": {
    "cell_style": "split",
    "slideshow": {
     "slide_type": "fragment"
    }
   },
   "outputs": [],
   "source": [
    "rel_frequency = trial_results.value_counts(\n",
    "    normalize = True).sort_index()\n"
   ]
  },
  {
   "cell_type": "code",
   "execution_count": 697,
   "metadata": {
    "cell_style": "split",
    "slideshow": {
     "slide_type": "subslide"
    }
   },
   "outputs": [
    {
     "data": {
      "image/png": "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\n",
      "text/plain": [
       "<Figure size 432x288 with 1 Axes>"
      ]
     },
     "metadata": {
      "needs_background": "light"
     },
     "output_type": "display_data"
    }
   ],
   "source": [
    "fig, ax = plt.subplots()\n",
    "rel_frequency.plot(kind = 'bar',\n",
    "                   ax = ax)\n",
    "\n",
    "ax.set_xlabel('Roll result')\n",
    "ax.set_ylabel('Relative frequency')\n",
    "\n",
    "plt.show()"
   ]
  },
  {
   "cell_type": "markdown",
   "metadata": {
    "cell_style": "split",
    "slideshow": {
     "slide_type": "slide"
    }
   },
   "source": [
    "For a finite number of roles:\n",
    "- relative frequencies on given run not equal to fair die expectations\n",
    "- fluctuations in relative frequencies from run to run"
   ]
  },
  {
   "cell_type": "code",
   "execution_count": 698,
   "metadata": {
    "cell_style": "center",
    "slideshow": {
     "slide_type": "slide"
    }
   },
   "outputs": [],
   "source": [
    "def die_simulator_freq(die_sides, num_trials):\n",
    "    \n",
    "    # generate samples\n",
    "    trial_results = pd.Series(randint.rvs(1, die_sides+1, size = num_trials))\n",
    "    \n",
    "    # create relative frequency series\n",
    "    rel_frequency = pd.DataFrame(trial_results.value_counts(normalize = True).sort_index()).reset_index()\n",
    "    rel_frequency.rename(columns = {'index': 'die_face', 0: 'rel_freq'}, inplace = True)\n",
    "    return rel_frequency"
   ]
  },
  {
   "cell_type": "code",
   "execution_count": 411,
   "metadata": {},
   "outputs": [
    {
     "data": {
      "text/html": [
       "<div>\n",
       "<style scoped>\n",
       "    .dataframe tbody tr th:only-of-type {\n",
       "        vertical-align: middle;\n",
       "    }\n",
       "\n",
       "    .dataframe tbody tr th {\n",
       "        vertical-align: top;\n",
       "    }\n",
       "\n",
       "    .dataframe thead th {\n",
       "        text-align: right;\n",
       "    }\n",
       "</style>\n",
       "<table border=\"1\" class=\"dataframe\">\n",
       "  <thead>\n",
       "    <tr style=\"text-align: right;\">\n",
       "      <th></th>\n",
       "      <th>die_face</th>\n",
       "      <th>rel_freq</th>\n",
       "    </tr>\n",
       "  </thead>\n",
       "  <tbody>\n",
       "    <tr>\n",
       "      <th>0</th>\n",
       "      <td>1</td>\n",
       "      <td>0.17</td>\n",
       "    </tr>\n",
       "    <tr>\n",
       "      <th>1</th>\n",
       "      <td>2</td>\n",
       "      <td>0.24</td>\n",
       "    </tr>\n",
       "    <tr>\n",
       "      <th>2</th>\n",
       "      <td>3</td>\n",
       "      <td>0.17</td>\n",
       "    </tr>\n",
       "    <tr>\n",
       "      <th>3</th>\n",
       "      <td>4</td>\n",
       "      <td>0.15</td>\n",
       "    </tr>\n",
       "    <tr>\n",
       "      <th>4</th>\n",
       "      <td>5</td>\n",
       "      <td>0.19</td>\n",
       "    </tr>\n",
       "    <tr>\n",
       "      <th>5</th>\n",
       "      <td>6</td>\n",
       "      <td>0.08</td>\n",
       "    </tr>\n",
       "  </tbody>\n",
       "</table>\n",
       "</div>"
      ],
      "text/plain": [
       "   die_face  rel_freq\n",
       "0         1      0.17\n",
       "1         2      0.24\n",
       "2         3      0.17\n",
       "3         4      0.15\n",
       "4         5      0.19\n",
       "5         6      0.08"
      ]
     },
     "execution_count": 411,
     "metadata": {},
     "output_type": "execute_result"
    }
   ],
   "source": [
    "die_simulator_freq(6, 100)"
   ]
  },
  {
   "cell_type": "code",
   "execution_count": 699,
   "metadata": {
    "slideshow": {
     "slide_type": "skip"
    }
   },
   "outputs": [
    {
     "data": {
      "text/html": [
       "\n",
       "    <div class=\"bk-root\">\n",
       "        <a href=\"https://bokeh.org\" target=\"_blank\" class=\"bk-logo bk-logo-small bk-logo-notebook\"></a>\n",
       "        <span id=\"4526\">Loading BokehJS ...</span>\n",
       "    </div>"
      ]
     },
     "metadata": {},
     "output_type": "display_data"
    },
    {
     "data": {
      "application/javascript": [
       "\n",
       "(function(root) {\n",
       "  function now() {\n",
       "    return new Date();\n",
       "  }\n",
       "\n",
       "  const force = true;\n",
       "\n",
       "  if (typeof root._bokeh_onload_callbacks === \"undefined\" || force === true) {\n",
       "    root._bokeh_onload_callbacks = [];\n",
       "    root._bokeh_is_loading = undefined;\n",
       "  }\n",
       "\n",
       "  const JS_MIME_TYPE = 'application/javascript';\n",
       "  const HTML_MIME_TYPE = 'text/html';\n",
       "  const EXEC_MIME_TYPE = 'application/vnd.bokehjs_exec.v0+json';\n",
       "  const CLASS_NAME = 'output_bokeh rendered_html';\n",
       "\n",
       "  /**\n",
       "   * Render data to the DOM node\n",
       "   */\n",
       "  function render(props, node) {\n",
       "    const script = document.createElement(\"script\");\n",
       "    node.appendChild(script);\n",
       "  }\n",
       "\n",
       "  /**\n",
       "   * Handle when an output is cleared or removed\n",
       "   */\n",
       "  function handleClearOutput(event, handle) {\n",
       "    const cell = handle.cell;\n",
       "\n",
       "    const id = cell.output_area._bokeh_element_id;\n",
       "    const server_id = cell.output_area._bokeh_server_id;\n",
       "    // Clean up Bokeh references\n",
       "    if (id != null && id in Bokeh.index) {\n",
       "      Bokeh.index[id].model.document.clear();\n",
       "      delete Bokeh.index[id];\n",
       "    }\n",
       "\n",
       "    if (server_id !== undefined) {\n",
       "      // Clean up Bokeh references\n",
       "      const cmd_clean = \"from bokeh.io.state import curstate; print(curstate().uuid_to_server['\" + server_id + \"'].get_sessions()[0].document.roots[0]._id)\";\n",
       "      cell.notebook.kernel.execute(cmd_clean, {\n",
       "        iopub: {\n",
       "          output: function(msg) {\n",
       "            const id = msg.content.text.trim();\n",
       "            if (id in Bokeh.index) {\n",
       "              Bokeh.index[id].model.document.clear();\n",
       "              delete Bokeh.index[id];\n",
       "            }\n",
       "          }\n",
       "        }\n",
       "      });\n",
       "      // Destroy server and session\n",
       "      const cmd_destroy = \"import bokeh.io.notebook as ion; ion.destroy_server('\" + server_id + \"')\";\n",
       "      cell.notebook.kernel.execute(cmd_destroy);\n",
       "    }\n",
       "  }\n",
       "\n",
       "  /**\n",
       "   * Handle when a new output is added\n",
       "   */\n",
       "  function handleAddOutput(event, handle) {\n",
       "    const output_area = handle.output_area;\n",
       "    const output = handle.output;\n",
       "\n",
       "    // limit handleAddOutput to display_data with EXEC_MIME_TYPE content only\n",
       "    if ((output.output_type != \"display_data\") || (!Object.prototype.hasOwnProperty.call(output.data, EXEC_MIME_TYPE))) {\n",
       "      return\n",
       "    }\n",
       "\n",
       "    const toinsert = output_area.element.find(\".\" + CLASS_NAME.split(' ')[0]);\n",
       "\n",
       "    if (output.metadata[EXEC_MIME_TYPE][\"id\"] !== undefined) {\n",
       "      toinsert[toinsert.length - 1].firstChild.textContent = output.data[JS_MIME_TYPE];\n",
       "      // store reference to embed id on output_area\n",
       "      output_area._bokeh_element_id = output.metadata[EXEC_MIME_TYPE][\"id\"];\n",
       "    }\n",
       "    if (output.metadata[EXEC_MIME_TYPE][\"server_id\"] !== undefined) {\n",
       "      const bk_div = document.createElement(\"div\");\n",
       "      bk_div.innerHTML = output.data[HTML_MIME_TYPE];\n",
       "      const script_attrs = bk_div.children[0].attributes;\n",
       "      for (let i = 0; i < script_attrs.length; i++) {\n",
       "        toinsert[toinsert.length - 1].firstChild.setAttribute(script_attrs[i].name, script_attrs[i].value);\n",
       "        toinsert[toinsert.length - 1].firstChild.textContent = bk_div.children[0].textContent\n",
       "      }\n",
       "      // store reference to server id on output_area\n",
       "      output_area._bokeh_server_id = output.metadata[EXEC_MIME_TYPE][\"server_id\"];\n",
       "    }\n",
       "  }\n",
       "\n",
       "  function register_renderer(events, OutputArea) {\n",
       "\n",
       "    function append_mime(data, metadata, element) {\n",
       "      // create a DOM node to render to\n",
       "      const toinsert = this.create_output_subarea(\n",
       "        metadata,\n",
       "        CLASS_NAME,\n",
       "        EXEC_MIME_TYPE\n",
       "      );\n",
       "      this.keyboard_manager.register_events(toinsert);\n",
       "      // Render to node\n",
       "      const props = {data: data, metadata: metadata[EXEC_MIME_TYPE]};\n",
       "      render(props, toinsert[toinsert.length - 1]);\n",
       "      element.append(toinsert);\n",
       "      return toinsert\n",
       "    }\n",
       "\n",
       "    /* Handle when an output is cleared or removed */\n",
       "    events.on('clear_output.CodeCell', handleClearOutput);\n",
       "    events.on('delete.Cell', handleClearOutput);\n",
       "\n",
       "    /* Handle when a new output is added */\n",
       "    events.on('output_added.OutputArea', handleAddOutput);\n",
       "\n",
       "    /**\n",
       "     * Register the mime type and append_mime function with output_area\n",
       "     */\n",
       "    OutputArea.prototype.register_mime_type(EXEC_MIME_TYPE, append_mime, {\n",
       "      /* Is output safe? */\n",
       "      safe: true,\n",
       "      /* Index of renderer in `output_area.display_order` */\n",
       "      index: 0\n",
       "    });\n",
       "  }\n",
       "\n",
       "  // register the mime type if in Jupyter Notebook environment and previously unregistered\n",
       "  if (root.Jupyter !== undefined) {\n",
       "    const events = require('base/js/events');\n",
       "    const OutputArea = require('notebook/js/outputarea').OutputArea;\n",
       "\n",
       "    if (OutputArea.prototype.mime_types().indexOf(EXEC_MIME_TYPE) == -1) {\n",
       "      register_renderer(events, OutputArea);\n",
       "    }\n",
       "  }\n",
       "\n",
       "  \n",
       "  if (typeof (root._bokeh_timeout) === \"undefined\" || force === true) {\n",
       "    root._bokeh_timeout = Date.now() + 5000;\n",
       "    root._bokeh_failed_load = false;\n",
       "  }\n",
       "\n",
       "  const NB_LOAD_WARNING = {'data': {'text/html':\n",
       "     \"<div style='background-color: #fdd'>\\n\"+\n",
       "     \"<p>\\n\"+\n",
       "     \"BokehJS does not appear to have successfully loaded. If loading BokehJS from CDN, this \\n\"+\n",
       "     \"may be due to a slow or bad network connection. Possible fixes:\\n\"+\n",
       "     \"</p>\\n\"+\n",
       "     \"<ul>\\n\"+\n",
       "     \"<li>re-rerun `output_notebook()` to attempt to load from CDN again, or</li>\\n\"+\n",
       "     \"<li>use INLINE resources instead, as so:</li>\\n\"+\n",
       "     \"</ul>\\n\"+\n",
       "     \"<code>\\n\"+\n",
       "     \"from bokeh.resources import INLINE\\n\"+\n",
       "     \"output_notebook(resources=INLINE)\\n\"+\n",
       "     \"</code>\\n\"+\n",
       "     \"</div>\"}};\n",
       "\n",
       "  function display_loaded() {\n",
       "    const el = document.getElementById(\"4526\");\n",
       "    if (el != null) {\n",
       "      el.textContent = \"BokehJS is loading...\";\n",
       "    }\n",
       "    if (root.Bokeh !== undefined) {\n",
       "      if (el != null) {\n",
       "        el.textContent = \"BokehJS \" + root.Bokeh.version + \" successfully loaded.\";\n",
       "      }\n",
       "    } else if (Date.now() < root._bokeh_timeout) {\n",
       "      setTimeout(display_loaded, 100)\n",
       "    }\n",
       "  }\n",
       "\n",
       "\n",
       "  function run_callbacks() {\n",
       "    try {\n",
       "      root._bokeh_onload_callbacks.forEach(function(callback) {\n",
       "        if (callback != null)\n",
       "          callback();\n",
       "      });\n",
       "    } finally {\n",
       "      delete root._bokeh_onload_callbacks\n",
       "    }\n",
       "    console.debug(\"Bokeh: all callbacks have finished\");\n",
       "  }\n",
       "\n",
       "  function load_libs(css_urls, js_urls, callback) {\n",
       "    if (css_urls == null) css_urls = [];\n",
       "    if (js_urls == null) js_urls = [];\n",
       "\n",
       "    root._bokeh_onload_callbacks.push(callback);\n",
       "    if (root._bokeh_is_loading > 0) {\n",
       "      console.debug(\"Bokeh: BokehJS is being loaded, scheduling callback at\", now());\n",
       "      return null;\n",
       "    }\n",
       "    if (js_urls == null || js_urls.length === 0) {\n",
       "      run_callbacks();\n",
       "      return null;\n",
       "    }\n",
       "    console.debug(\"Bokeh: BokehJS not loaded, scheduling load and callback at\", now());\n",
       "    root._bokeh_is_loading = css_urls.length + js_urls.length;\n",
       "\n",
       "    function on_load() {\n",
       "      root._bokeh_is_loading--;\n",
       "      if (root._bokeh_is_loading === 0) {\n",
       "        console.debug(\"Bokeh: all BokehJS libraries/stylesheets loaded\");\n",
       "        run_callbacks()\n",
       "      }\n",
       "    }\n",
       "\n",
       "    function on_error(url) {\n",
       "      console.error(\"failed to load \" + url);\n",
       "    }\n",
       "\n",
       "    for (let i = 0; i < css_urls.length; i++) {\n",
       "      const url = css_urls[i];\n",
       "      const element = document.createElement(\"link\");\n",
       "      element.onload = on_load;\n",
       "      element.onerror = on_error.bind(null, url);\n",
       "      element.rel = \"stylesheet\";\n",
       "      element.type = \"text/css\";\n",
       "      element.href = url;\n",
       "      console.debug(\"Bokeh: injecting link tag for BokehJS stylesheet: \", url);\n",
       "      document.body.appendChild(element);\n",
       "    }\n",
       "\n",
       "    for (let i = 0; i < js_urls.length; i++) {\n",
       "      const url = js_urls[i];\n",
       "      const element = document.createElement('script');\n",
       "      element.onload = on_load;\n",
       "      element.onerror = on_error.bind(null, url);\n",
       "      element.async = false;\n",
       "      element.src = url;\n",
       "      console.debug(\"Bokeh: injecting script tag for BokehJS library: \", url);\n",
       "      document.head.appendChild(element);\n",
       "    }\n",
       "  };\n",
       "\n",
       "  function inject_raw_css(css) {\n",
       "    const element = document.createElement(\"style\");\n",
       "    element.appendChild(document.createTextNode(css));\n",
       "    document.body.appendChild(element);\n",
       "  }\n",
       "\n",
       "  \n",
       "  const js_urls = [\"https://cdn.bokeh.org/bokeh/release/bokeh-2.4.1.min.js\", \"https://cdn.bokeh.org/bokeh/release/bokeh-gl-2.4.1.min.js\", \"https://cdn.bokeh.org/bokeh/release/bokeh-widgets-2.4.1.min.js\", \"https://cdn.bokeh.org/bokeh/release/bokeh-tables-2.4.1.min.js\", \"https://cdn.bokeh.org/bokeh/release/bokeh-mathjax-2.4.1.min.js\"];\n",
       "  const css_urls = [];\n",
       "  \n",
       "\n",
       "  const inline_js = [\n",
       "    function(Bokeh) {\n",
       "      Bokeh.set_log_level(\"info\");\n",
       "    },\n",
       "    function(Bokeh) {\n",
       "    \n",
       "    \n",
       "    }\n",
       "  ];\n",
       "\n",
       "  function run_inline_js() {\n",
       "    \n",
       "    if (root.Bokeh !== undefined || force === true) {\n",
       "      \n",
       "    for (let i = 0; i < inline_js.length; i++) {\n",
       "      inline_js[i].call(root, root.Bokeh);\n",
       "    }\n",
       "    if (force === true) {\n",
       "        display_loaded();\n",
       "      }} else if (Date.now() < root._bokeh_timeout) {\n",
       "      setTimeout(run_inline_js, 100);\n",
       "    } else if (!root._bokeh_failed_load) {\n",
       "      console.log(\"Bokeh: BokehJS failed to load within specified timeout.\");\n",
       "      root._bokeh_failed_load = true;\n",
       "    } else if (force !== true) {\n",
       "      const cell = $(document.getElementById(\"4526\")).parents('.cell').data().cell;\n",
       "      cell.output_area.append_execute_result(NB_LOAD_WARNING)\n",
       "    }\n",
       "\n",
       "  }\n",
       "\n",
       "  if (root._bokeh_is_loading === 0) {\n",
       "    console.debug(\"Bokeh: BokehJS loaded, going straight to plotting\");\n",
       "    run_inline_js();\n",
       "  } else {\n",
       "    load_libs(css_urls, js_urls, function() {\n",
       "      console.debug(\"Bokeh: BokehJS plotting callback run at\", now());\n",
       "      run_inline_js();\n",
       "    });\n",
       "  }\n",
       "}(window));"
      ],
      "application/vnd.bokehjs_load.v0+json": "\n(function(root) {\n  function now() {\n    return new Date();\n  }\n\n  const force = true;\n\n  if (typeof root._bokeh_onload_callbacks === \"undefined\" || force === true) {\n    root._bokeh_onload_callbacks = [];\n    root._bokeh_is_loading = undefined;\n  }\n\n  \n\n  \n  if (typeof (root._bokeh_timeout) === \"undefined\" || force === true) {\n    root._bokeh_timeout = Date.now() + 5000;\n    root._bokeh_failed_load = false;\n  }\n\n  const NB_LOAD_WARNING = {'data': {'text/html':\n     \"<div style='background-color: #fdd'>\\n\"+\n     \"<p>\\n\"+\n     \"BokehJS does not appear to have successfully loaded. If loading BokehJS from CDN, this \\n\"+\n     \"may be due to a slow or bad network connection. Possible fixes:\\n\"+\n     \"</p>\\n\"+\n     \"<ul>\\n\"+\n     \"<li>re-rerun `output_notebook()` to attempt to load from CDN again, or</li>\\n\"+\n     \"<li>use INLINE resources instead, as so:</li>\\n\"+\n     \"</ul>\\n\"+\n     \"<code>\\n\"+\n     \"from bokeh.resources import INLINE\\n\"+\n     \"output_notebook(resources=INLINE)\\n\"+\n     \"</code>\\n\"+\n     \"</div>\"}};\n\n  function display_loaded() {\n    const el = document.getElementById(\"4526\");\n    if (el != null) {\n      el.textContent = \"BokehJS is loading...\";\n    }\n    if (root.Bokeh !== undefined) {\n      if (el != null) {\n        el.textContent = \"BokehJS \" + root.Bokeh.version + \" successfully loaded.\";\n      }\n    } else if (Date.now() < root._bokeh_timeout) {\n      setTimeout(display_loaded, 100)\n    }\n  }\n\n\n  function run_callbacks() {\n    try {\n      root._bokeh_onload_callbacks.forEach(function(callback) {\n        if (callback != null)\n          callback();\n      });\n    } finally {\n      delete root._bokeh_onload_callbacks\n    }\n    console.debug(\"Bokeh: all callbacks have finished\");\n  }\n\n  function load_libs(css_urls, js_urls, callback) {\n    if (css_urls == null) css_urls = [];\n    if (js_urls == null) js_urls = [];\n\n    root._bokeh_onload_callbacks.push(callback);\n    if (root._bokeh_is_loading > 0) {\n      console.debug(\"Bokeh: BokehJS is being loaded, scheduling callback at\", now());\n      return null;\n    }\n    if (js_urls == null || js_urls.length === 0) {\n      run_callbacks();\n      return null;\n    }\n    console.debug(\"Bokeh: BokehJS not loaded, scheduling load and callback at\", now());\n    root._bokeh_is_loading = css_urls.length + js_urls.length;\n\n    function on_load() {\n      root._bokeh_is_loading--;\n      if (root._bokeh_is_loading === 0) {\n        console.debug(\"Bokeh: all BokehJS libraries/stylesheets loaded\");\n        run_callbacks()\n      }\n    }\n\n    function on_error(url) {\n      console.error(\"failed to load \" + url);\n    }\n\n    for (let i = 0; i < css_urls.length; i++) {\n      const url = css_urls[i];\n      const element = document.createElement(\"link\");\n      element.onload = on_load;\n      element.onerror = on_error.bind(null, url);\n      element.rel = \"stylesheet\";\n      element.type = \"text/css\";\n      element.href = url;\n      console.debug(\"Bokeh: injecting link tag for BokehJS stylesheet: \", url);\n      document.body.appendChild(element);\n    }\n\n    for (let i = 0; i < js_urls.length; i++) {\n      const url = js_urls[i];\n      const element = document.createElement('script');\n      element.onload = on_load;\n      element.onerror = on_error.bind(null, url);\n      element.async = false;\n      element.src = url;\n      console.debug(\"Bokeh: injecting script tag for BokehJS library: \", url);\n      document.head.appendChild(element);\n    }\n  };\n\n  function inject_raw_css(css) {\n    const element = document.createElement(\"style\");\n    element.appendChild(document.createTextNode(css));\n    document.body.appendChild(element);\n  }\n\n  \n  const js_urls = [\"https://cdn.bokeh.org/bokeh/release/bokeh-2.4.1.min.js\", \"https://cdn.bokeh.org/bokeh/release/bokeh-gl-2.4.1.min.js\", \"https://cdn.bokeh.org/bokeh/release/bokeh-widgets-2.4.1.min.js\", \"https://cdn.bokeh.org/bokeh/release/bokeh-tables-2.4.1.min.js\", \"https://cdn.bokeh.org/bokeh/release/bokeh-mathjax-2.4.1.min.js\"];\n  const css_urls = [];\n  \n\n  const inline_js = [\n    function(Bokeh) {\n      Bokeh.set_log_level(\"info\");\n    },\n    function(Bokeh) {\n    \n    \n    }\n  ];\n\n  function run_inline_js() {\n    \n    if (root.Bokeh !== undefined || force === true) {\n      \n    for (let i = 0; i < inline_js.length; i++) {\n      inline_js[i].call(root, root.Bokeh);\n    }\n    if (force === true) {\n        display_loaded();\n      }} else if (Date.now() < root._bokeh_timeout) {\n      setTimeout(run_inline_js, 100);\n    } else if (!root._bokeh_failed_load) {\n      console.log(\"Bokeh: BokehJS failed to load within specified timeout.\");\n      root._bokeh_failed_load = true;\n    } else if (force !== true) {\n      const cell = $(document.getElementById(\"4526\")).parents('.cell').data().cell;\n      cell.output_area.append_execute_result(NB_LOAD_WARNING)\n    }\n\n  }\n\n  if (root._bokeh_is_loading === 0) {\n    console.debug(\"Bokeh: BokehJS loaded, going straight to plotting\");\n    run_inline_js();\n  } else {\n    load_libs(css_urls, js_urls, function() {\n      console.debug(\"Bokeh: BokehJS plotting callback run at\", now());\n      run_inline_js();\n    });\n  }\n}(window));"
     },
     "metadata": {},
     "output_type": "display_data"
    }
   ],
   "source": [
    "\n",
    "from bokeh.layouts import column,row\n",
    "from bokeh.models import ColumnDataSource, TextInput, Button\n",
    "from bokeh.plotting import figure, output_file, show\n",
    "from bokeh.io import show, output_notebook\n",
    "from bokeh.themes import Theme\n",
    "import yaml\n",
    "import numpy as np\n",
    "output_notebook()\n",
    "\n",
    "def bk_app(doc):\n",
    "    \n",
    "    rel_freq = die_simulator_freq(die_sides = 6, num_trials = 30)\n",
    "    \n",
    "    source = ColumnDataSource(rel_freq)\n",
    "    \n",
    "    # Create plots and widgets\n",
    "    plot = figure(title = \"Relative Frequency\", plot_width=400, plot_height=400 )\n",
    "\n",
    "    plot.vbar(x = 'die_face', top = 'rel_freq', source = source, color = 'lightblue', line_color = 'black' ) \n",
    "\n",
    "\n",
    "    # Create text input object\n",
    "    \n",
    "    n_trial = TextInput(title=\"Number of trials\", value = '30')\n",
    "    refresh = Button(label=\"Update\", button_type=\"success\")\n",
    "\n",
    "\n",
    "    # Adding callback code\n",
    "    def callback(attr, old, new):\n",
    "        N = n_trial.value\n",
    "        rel_freq = die_simulator_freq(die_sides = 6, num_trials = int(N)) \n",
    "        source.data = rel_freq\n",
    "        \n",
    "    def update():\n",
    "        N = n_trial.value\n",
    "        rel_freq = die_simulator_freq(die_sides = 6, num_trials = int(N)) \n",
    "        source.data = rel_freq\n",
    "\n",
    "\n",
    "    n_trial.on_change('value', callback)\n",
    "    refresh.on_click(update)\n",
    "\n",
    "\n",
    "    doc.add_root(row(\n",
    "        plot,\n",
    "        column(n_trial, refresh),\n",
    "    ))\n",
    "\n",
    "    doc.theme = Theme(json=yaml.load(\"\"\"\n",
    "        attrs:\n",
    "            Figure:\n",
    "                background_fill_color: white\n",
    "                outline_line_color: white\n",
    "                toolbar_location: above\n",
    "                height: 450\n",
    "                width: 450\n",
    "    \"\"\", Loader=yaml.FullLoader))\n",
    "\n"
   ]
  },
  {
   "cell_type": "code",
   "execution_count": 700,
   "metadata": {
    "scrolled": true,
    "slideshow": {
     "slide_type": "slide"
    }
   },
   "outputs": [
    {
     "data": {
      "application/vnd.bokehjs_exec.v0+json": "",
      "text/html": [
       "\n",
       "<script id=\"4527\">\n",
       "  (function() {\n",
       "    const xhr = new XMLHttpRequest()\n",
       "    xhr.responseType = 'blob';\n",
       "    xhr.open('GET', \"http://localhost:61744/autoload.js?bokeh-autoload-element=4527&bokeh-absolute-url=http://localhost:61744&resources=none\", true);\n",
       "    \n",
       "    xhr.onload = function (event) {\n",
       "      const script = document.createElement('script');\n",
       "      const src = URL.createObjectURL(event.target.response);\n",
       "      script.src = src;\n",
       "      document.body.appendChild(script);\n",
       "    };\n",
       "    xhr.send();\n",
       "  })();\n",
       "</script>"
      ]
     },
     "metadata": {
      "application/vnd.bokehjs_exec.v0+json": {
       "server_id": "998aff51850a4179a006026551fa79b3"
      }
     },
     "output_type": "display_data"
    }
   ],
   "source": [
    "show(bk_app, notebook_url=\"http://localhost:8889\")"
   ]
  },
  {
   "cell_type": "markdown",
   "metadata": {
    "cell_style": "center",
    "slideshow": {
     "slide_type": "slide"
    }
   },
   "source": [
    "#### Probability strictly speaking\n",
    "\n",
    "$$P(b) = \\lim_{N\\rightarrow\\infty} \\frac{n_b}{N} $$\n",
    "\n",
    "\n",
    "Idea is that relative frequency get close to probability:\n",
    "- when number of trials ($N$) gets large enough."
   ]
  },
  {
   "cell_type": "markdown",
   "metadata": {
    "slideshow": {
     "slide_type": "slide"
    }
   },
   "source": [
    "#### Random Variables"
   ]
  },
  {
   "cell_type": "markdown",
   "metadata": {
    "cell_style": "split",
    "slideshow": {
     "slide_type": "slide"
    }
   },
   "source": [
    "Often makes sense to represent members of sample space $S$ as numbers:\n",
    "\n",
    "$$ f: S \\rightarrow \\mathbb{R} $$ \n",
    "- want arithmetic and algebraic operations over them"
   ]
  },
  {
   "cell_type": "markdown",
   "metadata": {
    "cell_style": "split",
    "slideshow": {
     "slide_type": "fragment"
    }
   },
   "source": [
    "A sample space $S =\\{L, R \\} $:\n",
    "- random left/right walker in 1D\n",
    "- molecular diffusion in a confined channel"
   ]
  },
  {
   "cell_type": "markdown",
   "metadata": {
    "cell_style": "center",
    "slideshow": {
     "slide_type": "fragment"
    }
   },
   "source": [
    "<center><img src = \"images/molecular_walk.png\" ></center>\n",
    "<center> "
   ]
  },
  {
   "cell_type": "markdown",
   "metadata": {
    "cell_style": "center",
    "slideshow": {
     "slide_type": "subslide"
    }
   },
   "source": [
    "<center><img src = \"images/molecular_walk.png\" ></center>\n",
    "<center> "
   ]
  },
  {
   "cell_type": "markdown",
   "metadata": {
    "cell_style": "split",
    "slideshow": {
     "slide_type": "fragment"
    }
   },
   "source": [
    "Suggests a transformation of sample space:\n",
    "\n",
    "$$ L \\rightarrow X = -1 $$\n",
    "$$ R \\rightarrow X = +1 $$\n",
    "\n",
    "where $X$ is a random variable representing the outcome of taking a step."
   ]
  },
  {
   "cell_type": "markdown",
   "metadata": {
    "cell_style": "split",
    "slideshow": {
     "slide_type": "fragment"
    }
   },
   "source": [
    "That is $X$ could take on either a value $\\pm 1$ on a given trial."
   ]
  },
  {
   "cell_type": "markdown",
   "metadata": {
    "cell_style": "split",
    "slideshow": {
     "slide_type": "fragment"
    }
   },
   "source": [
    "Probability $P$ defined over random variables:\n",
    "- unbiased walker\n",
    "$$ P(X = - 1) = \\frac{1}{2} $$\n",
    "$$ P(X = + 1) = \\frac{1}{2} $$"
   ]
  },
  {
   "cell_type": "markdown",
   "metadata": {
    "cell_style": "split",
    "slideshow": {
     "slide_type": "slide"
    }
   },
   "source": [
    "Naturally define mathematical operations to create new random variables:\n",
    "\n",
    "- Define overall displacement after N steps:\n",
    "$$ D = X_1 + X_2 + ... + X_N = \\\\ \\sum_{i=1}^N X_i $$ with $D$ as well as each $X_i$ random variables."
   ]
  },
  {
   "cell_type": "markdown",
   "metadata": {
    "cell_style": "split",
    "slideshow": {
     "slide_type": "fragment"
    }
   },
   "source": [
    "Deriving quantitative relationships over/between random variables:\n",
    "- will see this a lot in statistics \n",
    "- machine learning\n",
    "- etc."
   ]
  },
  {
   "cell_type": "markdown",
   "metadata": {
    "cell_style": "split",
    "slideshow": {
     "slide_type": "fragment"
    }
   },
   "source": [
    "- Set-theoretic probability not apt for these sorts of calculations.\n",
    "- In general both formulations will be useful throughout course."
   ]
  },
  {
   "cell_type": "markdown",
   "metadata": {
    "cell_style": "center",
    "slideshow": {
     "slide_type": "slide"
    }
   },
   "source": [
    "**Probability with multiple observables** \n",
    "\n",
    "- When two or more observables are measured during a single trial."
   ]
  },
  {
   "cell_type": "code",
   "execution_count": 543,
   "metadata": {
    "slideshow": {
     "slide_type": "skip"
    }
   },
   "outputs": [],
   "source": [
    "x_res = [1,2,3,4,5]\n",
    "y_res = [0,1,2]\n",
    "counts = np.array([[80, 75, 90], [40, 65, 34], [30, 82, 100], [76, 82, 75], [60, 75, 70]]).T\n",
    "\n",
    "gamerating_df = pd.DataFrame(counts, columns = x_res)\n",
    "gamerating_df.index.name = 'GFX rating'\n",
    "gamerating_df.columns.name = 'Gameplay rating'"
   ]
  },
  {
   "cell_type": "markdown",
   "metadata": {
    "cell_style": "split",
    "slideshow": {
     "slide_type": "slide"
    }
   },
   "source": [
    "X and Y correspond to observables.\n",
    "\n",
    "Correspond to two entries in questionaire on a game:\n",
    "\n",
    "- X = Gameplay rating (1-5)\n",
    "- Y = Satisfied with graphics (disagree/ambivalent/agree - 0,1,2)"
   ]
  },
  {
   "cell_type": "markdown",
   "metadata": {
    "cell_style": "split",
    "slideshow": {
     "slide_type": "fragment"
    }
   },
   "source": [
    "Measuring the response of a participant:\n",
    "- X,Y treated as jointly measured random variables."
   ]
  },
  {
   "cell_type": "markdown",
   "metadata": {
    "cell_style": "center",
    "slideshow": {
     "slide_type": "slide"
    }
   },
   "source": [
    "Get count distribution across X,Y for a group of respondents:"
   ]
  },
  {
   "cell_type": "code",
   "execution_count": 701,
   "metadata": {
    "cell_style": "split",
    "slideshow": {
     "slide_type": "slide"
    }
   },
   "outputs": [
    {
     "data": {
      "text/html": [
       "<div>\n",
       "<style scoped>\n",
       "    .dataframe tbody tr th:only-of-type {\n",
       "        vertical-align: middle;\n",
       "    }\n",
       "\n",
       "    .dataframe tbody tr th {\n",
       "        vertical-align: top;\n",
       "    }\n",
       "\n",
       "    .dataframe thead th {\n",
       "        text-align: right;\n",
       "    }\n",
       "</style>\n",
       "<table border=\"1\" class=\"dataframe\">\n",
       "  <thead>\n",
       "    <tr style=\"text-align: right;\">\n",
       "      <th>Gameplay rating</th>\n",
       "      <th>1</th>\n",
       "      <th>2</th>\n",
       "      <th>3</th>\n",
       "      <th>4</th>\n",
       "      <th>5</th>\n",
       "    </tr>\n",
       "    <tr>\n",
       "      <th>GFX rating</th>\n",
       "      <th></th>\n",
       "      <th></th>\n",
       "      <th></th>\n",
       "      <th></th>\n",
       "      <th></th>\n",
       "    </tr>\n",
       "  </thead>\n",
       "  <tbody>\n",
       "    <tr>\n",
       "      <th>0</th>\n",
       "      <td>80</td>\n",
       "      <td>40</td>\n",
       "      <td>30</td>\n",
       "      <td>76</td>\n",
       "      <td>60</td>\n",
       "    </tr>\n",
       "    <tr>\n",
       "      <th>1</th>\n",
       "      <td>75</td>\n",
       "      <td>65</td>\n",
       "      <td>82</td>\n",
       "      <td>82</td>\n",
       "      <td>75</td>\n",
       "    </tr>\n",
       "    <tr>\n",
       "      <th>2</th>\n",
       "      <td>90</td>\n",
       "      <td>34</td>\n",
       "      <td>100</td>\n",
       "      <td>75</td>\n",
       "      <td>70</td>\n",
       "    </tr>\n",
       "  </tbody>\n",
       "</table>\n",
       "</div>"
      ],
      "text/plain": [
       "Gameplay rating   1   2    3   4   5\n",
       "GFX rating                          \n",
       "0                80  40   30  76  60\n",
       "1                75  65   82  82  75\n",
       "2                90  34  100  75  70"
      ]
     },
     "execution_count": 701,
     "metadata": {},
     "output_type": "execute_result"
    }
   ],
   "source": [
    "gamerating_df"
   ]
  },
  {
   "cell_type": "markdown",
   "metadata": {
    "cell_style": "split",
    "slideshow": {
     "slide_type": "slide"
    }
   },
   "source": [
    "Get the relative frequency for a given joint gameplay / GFX rating:\n",
    "\n",
    "- Normalize by number of reviews."
   ]
  },
  {
   "cell_type": "code",
   "execution_count": 703,
   "metadata": {
    "cell_style": "split",
    "slideshow": {
     "slide_type": "fragment"
    }
   },
   "outputs": [
    {
     "name": "stdout",
     "output_type": "stream",
     "text": [
      "1034\n"
     ]
    }
   ],
   "source": [
    "# sums over all values in the table\n",
    "\n",
    "N_reviews = gamerating_df.sum().sum()\n",
    "print(N_reviews)"
   ]
  },
  {
   "cell_type": "markdown",
   "metadata": {
    "slideshow": {
     "slide_type": "slide"
    }
   },
   "source": [
    "Constructing the joint relative frequency table:\n",
    "- The relative frequency as "
   ]
  },
  {
   "cell_type": "code",
   "execution_count": 546,
   "metadata": {
    "cell_style": "split",
    "slideshow": {
     "slide_type": "fragment"
    }
   },
   "outputs": [
    {
     "data": {
      "text/html": [
       "<div>\n",
       "<style scoped>\n",
       "    .dataframe tbody tr th:only-of-type {\n",
       "        vertical-align: middle;\n",
       "    }\n",
       "\n",
       "    .dataframe tbody tr th {\n",
       "        vertical-align: top;\n",
       "    }\n",
       "\n",
       "    .dataframe thead th {\n",
       "        text-align: right;\n",
       "    }\n",
       "</style>\n",
       "<table border=\"1\" class=\"dataframe\">\n",
       "  <thead>\n",
       "    <tr style=\"text-align: right;\">\n",
       "      <th>Gameplay rating</th>\n",
       "      <th>1</th>\n",
       "      <th>2</th>\n",
       "      <th>3</th>\n",
       "      <th>4</th>\n",
       "      <th>5</th>\n",
       "    </tr>\n",
       "    <tr>\n",
       "      <th>GFX rating</th>\n",
       "      <th></th>\n",
       "      <th></th>\n",
       "      <th></th>\n",
       "      <th></th>\n",
       "      <th></th>\n",
       "    </tr>\n",
       "  </thead>\n",
       "  <tbody>\n",
       "    <tr>\n",
       "      <th>0</th>\n",
       "      <td>0.077369</td>\n",
       "      <td>0.038685</td>\n",
       "      <td>0.029014</td>\n",
       "      <td>0.073501</td>\n",
       "      <td>0.058027</td>\n",
       "    </tr>\n",
       "    <tr>\n",
       "      <th>1</th>\n",
       "      <td>0.072534</td>\n",
       "      <td>0.062863</td>\n",
       "      <td>0.079304</td>\n",
       "      <td>0.079304</td>\n",
       "      <td>0.072534</td>\n",
       "    </tr>\n",
       "    <tr>\n",
       "      <th>2</th>\n",
       "      <td>0.087041</td>\n",
       "      <td>0.032882</td>\n",
       "      <td>0.096712</td>\n",
       "      <td>0.072534</td>\n",
       "      <td>0.067698</td>\n",
       "    </tr>\n",
       "  </tbody>\n",
       "</table>\n",
       "</div>"
      ],
      "text/plain": [
       "Gameplay rating         1         2         3         4         5\n",
       "GFX rating                                                       \n",
       "0                0.077369  0.038685  0.029014  0.073501  0.058027\n",
       "1                0.072534  0.062863  0.079304  0.079304  0.072534\n",
       "2                0.087041  0.032882  0.096712  0.072534  0.067698"
      ]
     },
     "execution_count": 546,
     "metadata": {},
     "output_type": "execute_result"
    }
   ],
   "source": [
    "joint_rel_freq = gamerating_df/N_reviews\n",
    "joint_rel_freq"
   ]
  },
  {
   "cell_type": "markdown",
   "metadata": {
    "cell_style": "split",
    "slideshow": {
     "slide_type": "slide"
    }
   },
   "source": [
    "Summing over all rows/columns"
   ]
  },
  {
   "cell_type": "code",
   "execution_count": 704,
   "metadata": {
    "cell_style": "split",
    "slideshow": {
     "slide_type": "fragment"
    }
   },
   "outputs": [
    {
     "data": {
      "text/plain": [
       "0.9999999999999999"
      ]
     },
     "execution_count": 704,
     "metadata": {},
     "output_type": "execute_result"
    }
   ],
   "source": [
    "joint_rel_freq.values.sum()"
   ]
  },
  {
   "cell_type": "code",
   "execution_count": 550,
   "metadata": {
    "cell_style": "split",
    "slideshow": {
     "slide_type": "slide"
    }
   },
   "outputs": [
    {
     "data": {
      "text/html": [
       "<div>\n",
       "<style scoped>\n",
       "    .dataframe tbody tr th:only-of-type {\n",
       "        vertical-align: middle;\n",
       "    }\n",
       "\n",
       "    .dataframe tbody tr th {\n",
       "        vertical-align: top;\n",
       "    }\n",
       "\n",
       "    .dataframe thead th {\n",
       "        text-align: right;\n",
       "    }\n",
       "</style>\n",
       "<table border=\"1\" class=\"dataframe\">\n",
       "  <thead>\n",
       "    <tr style=\"text-align: right;\">\n",
       "      <th>Gameplay rating</th>\n",
       "      <th>1</th>\n",
       "      <th>2</th>\n",
       "      <th>3</th>\n",
       "      <th>4</th>\n",
       "      <th>5</th>\n",
       "    </tr>\n",
       "    <tr>\n",
       "      <th>GFX rating</th>\n",
       "      <th></th>\n",
       "      <th></th>\n",
       "      <th></th>\n",
       "      <th></th>\n",
       "      <th></th>\n",
       "    </tr>\n",
       "  </thead>\n",
       "  <tbody>\n",
       "    <tr>\n",
       "      <th>0</th>\n",
       "      <td>0.077369</td>\n",
       "      <td>0.038685</td>\n",
       "      <td>0.029014</td>\n",
       "      <td>0.073501</td>\n",
       "      <td>0.058027</td>\n",
       "    </tr>\n",
       "    <tr>\n",
       "      <th>1</th>\n",
       "      <td>0.072534</td>\n",
       "      <td>0.062863</td>\n",
       "      <td>0.079304</td>\n",
       "      <td>0.079304</td>\n",
       "      <td>0.072534</td>\n",
       "    </tr>\n",
       "    <tr>\n",
       "      <th>2</th>\n",
       "      <td>0.087041</td>\n",
       "      <td>0.032882</td>\n",
       "      <td>0.096712</td>\n",
       "      <td>0.072534</td>\n",
       "      <td>0.067698</td>\n",
       "    </tr>\n",
       "  </tbody>\n",
       "</table>\n",
       "</div>"
      ],
      "text/plain": [
       "Gameplay rating         1         2         3         4         5\n",
       "GFX rating                                                       \n",
       "0                0.077369  0.038685  0.029014  0.073501  0.058027\n",
       "1                0.072534  0.062863  0.079304  0.079304  0.072534\n",
       "2                0.087041  0.032882  0.096712  0.072534  0.067698"
      ]
     },
     "execution_count": 550,
     "metadata": {},
     "output_type": "execute_result"
    }
   ],
   "source": [
    "joint_rel_freq = gamerating_df/N_reviews\n",
    "joint_rel_freq"
   ]
  },
  {
   "cell_type": "markdown",
   "metadata": {
    "cell_style": "split",
    "slideshow": {
     "slide_type": "fragment"
    }
   },
   "source": [
    "The joint relative frequency of polling a respondent rating the game with:\n",
    "- Gameplay rating 3\n",
    "- Graphics rating 2"
   ]
  },
  {
   "cell_type": "code",
   "execution_count": 551,
   "metadata": {
    "cell_style": "center",
    "slideshow": {
     "slide_type": "fragment"
    }
   },
   "outputs": [
    {
     "data": {
      "text/plain": [
       "0.09671179883945841"
      ]
     },
     "execution_count": 551,
     "metadata": {},
     "output_type": "execute_result"
    }
   ],
   "source": [
    "joint_rel_freq.loc[2, 3]"
   ]
  },
  {
   "cell_type": "markdown",
   "metadata": {
    "cell_style": "center",
    "slideshow": {
     "slide_type": "subslide"
    }
   },
   "source": [
    "#### Joint Probability\n",
    "\n",
    "The probability that a given respondent, drawn at random had $X = x_i$ and $Y = y_j$.\n",
    "\n",
    "In large N limit, we define it as a probability:\n",
    "    \n",
    "\n",
    "$$ P(X = x_i, Y = y_j) = \\lim_{N\\rightarrow\\infty} \\frac{n_{ij}}{N} $$\n"
   ]
  },
  {
   "cell_type": "markdown",
   "metadata": {
    "slideshow": {
     "slide_type": "slide"
    }
   },
   "source": [
    "Can also define joint probability in terms of set elements of the event space:\n",
    "\n",
    "$$ P(A,B) = P(A \\cap B) $$"
   ]
  },
  {
   "cell_type": "markdown",
   "metadata": {
    "slideshow": {
     "slide_type": "fragment"
    }
   },
   "source": [
    "Translating between variables and set theory:\n",
    "- our sample space is (gameplay rating, graphics rating):"
   ]
  },
  {
   "cell_type": "code",
   "execution_count": 563,
   "metadata": {
    "cell_style": "split"
   },
   "outputs": [
    {
     "data": {
      "text/plain": [
       "{(1, 0),\n",
       " (1, 1),\n",
       " (1, 2),\n",
       " (2, 0),\n",
       " (2, 1),\n",
       " (2, 2),\n",
       " (3, 0),\n",
       " (3, 1),\n",
       " (3, 2),\n",
       " (4, 0),\n",
       " (4, 1),\n",
       " (4, 2),\n",
       " (5, 0),\n",
       " (5, 1),\n",
       " (5, 2)}"
      ]
     },
     "execution_count": 563,
     "metadata": {},
     "output_type": "execute_result"
    }
   ],
   "source": [
    "from itertools import product\n",
    "game_samp_space = set(product(S1, S2))\n",
    "game_samp_space"
   ]
  },
  {
   "cell_type": "markdown",
   "metadata": {
    "cell_style": "split"
   },
   "source": [
    "The event space is:"
   ]
  },
  {
   "cell_type": "code",
   "execution_count": 564,
   "metadata": {
    "cell_style": "split",
    "slideshow": {
     "slide_type": "fragment"
    }
   },
   "outputs": [
    {
     "data": {
      "text/plain": [
       "[set(),\n",
       " {(1, 2)},\n",
       " {(4, 0)},\n",
       " {(1, 2), (4, 0)},\n",
       " {(2, 1)},\n",
       " {(1, 2), (2, 1)},\n",
       " {(2, 1), (4, 0)},\n",
       " {(1, 2), (2, 1), (4, 0)},\n",
       " {(3, 1)},\n",
       " {(1, 2), (3, 1)},\n",
       " {(3, 1), (4, 0)},\n",
       " {(1, 2), (3, 1), (4, 0)},\n",
       " {(2, 1), (3, 1)},\n",
       " {(1, 2), (2, 1), (3, 1)},\n",
       " {(2, 1), (3, 1), (4, 0)},\n",
       " {(1, 2), (2, 1), (3, 1), (4, 0)},\n",
       " {(1, 1)},\n",
       " {(1, 1), (1, 2)},\n",
       " {(1, 1), (4, 0)},\n",
       " {(1, 1), (1, 2), (4, 0)},\n",
       " {(1, 1), (2, 1)},\n",
       " {(1, 1), (1, 2), (2, 1)},\n",
       " {(1, 1), (2, 1), (4, 0)},\n",
       " {(1, 1), (1, 2), (2, 1), (4, 0)},\n",
       " {(1, 1), (3, 1)},\n",
       " {(1, 1), (1, 2), (3, 1)},\n",
       " {(1, 1), (3, 1), (4, 0)},\n",
       " {(1, 1), (1, 2), (3, 1), (4, 0)},\n",
       " {(1, 1), (2, 1), (3, 1)},\n",
       " {(1, 1), (1, 2), (2, 1), (3, 1)},\n",
       " {(1, 1), (2, 1), (3, 1), (4, 0)},\n",
       " {(1, 1), (1, 2), (2, 1), (3, 1), (4, 0)},\n",
       " {(2, 0)},\n",
       " {(1, 2), (2, 0)},\n",
       " {(2, 0), (4, 0)},\n",
       " {(1, 2), (2, 0), (4, 0)},\n",
       " {(2, 0), (2, 1)},\n",
       " {(1, 2), (2, 0), (2, 1)},\n",
       " {(2, 0), (2, 1), (4, 0)},\n",
       " {(1, 2), (2, 0), (2, 1), (4, 0)},\n",
       " {(2, 0), (3, 1)},\n",
       " {(1, 2), (2, 0), (3, 1)},\n",
       " {(2, 0), (3, 1), (4, 0)},\n",
       " {(1, 2), (2, 0), (3, 1), (4, 0)},\n",
       " {(2, 0), (2, 1), (3, 1)},\n",
       " {(1, 2), (2, 0), (2, 1), (3, 1)},\n",
       " {(2, 0), (2, 1), (3, 1), (4, 0)},\n",
       " {(1, 2), (2, 0), (2, 1), (3, 1), (4, 0)},\n",
       " {(1, 1), (2, 0)},\n",
       " {(1, 1), (1, 2), (2, 0)},\n",
       " {(1, 1), (2, 0), (4, 0)},\n",
       " {(1, 1), (1, 2), (2, 0), (4, 0)},\n",
       " {(1, 1), (2, 0), (2, 1)},\n",
       " {(1, 1), (1, 2), (2, 0), (2, 1)},\n",
       " {(1, 1), (2, 0), (2, 1), (4, 0)},\n",
       " {(1, 1), (1, 2), (2, 0), (2, 1), (4, 0)},\n",
       " {(1, 1), (2, 0), (3, 1)},\n",
       " {(1, 1), (1, 2), (2, 0), (3, 1)},\n",
       " {(1, 1), (2, 0), (3, 1), (4, 0)},\n",
       " {(1, 1), (1, 2), (2, 0), (3, 1), (4, 0)},\n",
       " {(1, 1), (2, 0), (2, 1), (3, 1)},\n",
       " {(1, 1), (1, 2), (2, 0), (2, 1), (3, 1)},\n",
       " {(1, 1), (2, 0), (2, 1), (3, 1), (4, 0)},\n",
       " {(1, 1), (1, 2), (2, 0), (2, 1), (3, 1), (4, 0)},\n",
       " {(5, 1)},\n",
       " {(1, 2), (5, 1)},\n",
       " {(4, 0), (5, 1)},\n",
       " {(1, 2), (4, 0), (5, 1)},\n",
       " {(2, 1), (5, 1)},\n",
       " {(1, 2), (2, 1), (5, 1)},\n",
       " {(2, 1), (4, 0), (5, 1)},\n",
       " {(1, 2), (2, 1), (4, 0), (5, 1)},\n",
       " {(3, 1), (5, 1)},\n",
       " {(1, 2), (3, 1), (5, 1)},\n",
       " {(3, 1), (4, 0), (5, 1)},\n",
       " {(1, 2), (3, 1), (4, 0), (5, 1)},\n",
       " {(2, 1), (3, 1), (5, 1)},\n",
       " {(1, 2), (2, 1), (3, 1), (5, 1)},\n",
       " {(2, 1), (3, 1), (4, 0), (5, 1)},\n",
       " {(1, 2), (2, 1), (3, 1), (4, 0), (5, 1)},\n",
       " {(1, 1), (5, 1)},\n",
       " {(1, 1), (1, 2), (5, 1)},\n",
       " {(1, 1), (4, 0), (5, 1)},\n",
       " {(1, 1), (1, 2), (4, 0), (5, 1)},\n",
       " {(1, 1), (2, 1), (5, 1)},\n",
       " {(1, 1), (1, 2), (2, 1), (5, 1)},\n",
       " {(1, 1), (2, 1), (4, 0), (5, 1)},\n",
       " {(1, 1), (1, 2), (2, 1), (4, 0), (5, 1)},\n",
       " {(1, 1), (3, 1), (5, 1)},\n",
       " {(1, 1), (1, 2), (3, 1), (5, 1)},\n",
       " {(1, 1), (3, 1), (4, 0), (5, 1)},\n",
       " {(1, 1), (1, 2), (3, 1), (4, 0), (5, 1)},\n",
       " {(1, 1), (2, 1), (3, 1), (5, 1)},\n",
       " {(1, 1), (1, 2), (2, 1), (3, 1), (5, 1)},\n",
       " {(1, 1), (2, 1), (3, 1), (4, 0), (5, 1)},\n",
       " {(1, 1), (1, 2), (2, 1), (3, 1), (4, 0), (5, 1)},\n",
       " {(2, 0), (5, 1)},\n",
       " {(1, 2), (2, 0), (5, 1)},\n",
       " {(2, 0), (4, 0), (5, 1)},\n",
       " {(1, 2), (2, 0), (4, 0), (5, 1)},\n",
       " {(2, 0), (2, 1), (5, 1)},\n",
       " {(1, 2), (2, 0), (2, 1), (5, 1)},\n",
       " {(2, 0), (2, 1), (4, 0), (5, 1)},\n",
       " {(1, 2), (2, 0), (2, 1), (4, 0), (5, 1)},\n",
       " {(2, 0), (3, 1), (5, 1)},\n",
       " {(1, 2), (2, 0), (3, 1), (5, 1)},\n",
       " {(2, 0), (3, 1), (4, 0), (5, 1)},\n",
       " {(1, 2), (2, 0), (3, 1), (4, 0), (5, 1)},\n",
       " {(2, 0), (2, 1), (3, 1), (5, 1)},\n",
       " {(1, 2), (2, 0), (2, 1), (3, 1), (5, 1)},\n",
       " {(2, 0), (2, 1), (3, 1), (4, 0), (5, 1)},\n",
       " {(1, 2), (2, 0), (2, 1), (3, 1), (4, 0), (5, 1)},\n",
       " {(1, 1), (2, 0), (5, 1)},\n",
       " {(1, 1), (1, 2), (2, 0), (5, 1)},\n",
       " {(1, 1), (2, 0), (4, 0), (5, 1)},\n",
       " {(1, 1), (1, 2), (2, 0), (4, 0), (5, 1)},\n",
       " {(1, 1), (2, 0), (2, 1), (5, 1)},\n",
       " {(1, 1), (1, 2), (2, 0), (2, 1), (5, 1)},\n",
       " {(1, 1), (2, 0), (2, 1), (4, 0), (5, 1)},\n",
       " {(1, 1), (1, 2), (2, 0), (2, 1), (4, 0), (5, 1)},\n",
       " {(1, 1), (2, 0), (3, 1), (5, 1)},\n",
       " {(1, 1), (1, 2), (2, 0), (3, 1), (5, 1)},\n",
       " {(1, 1), (2, 0), (3, 1), (4, 0), (5, 1)},\n",
       " {(1, 1), (1, 2), (2, 0), (3, 1), (4, 0), (5, 1)},\n",
       " {(1, 1), (2, 0), (2, 1), (3, 1), (5, 1)},\n",
       " {(1, 1), (1, 2), (2, 0), (2, 1), (3, 1), (5, 1)},\n",
       " {(1, 1), (2, 0), (2, 1), (3, 1), (4, 0), (5, 1)},\n",
       " {(1, 1), (1, 2), (2, 0), (2, 1), (3, 1), (4, 0), (5, 1)},\n",
       " {(4, 2)},\n",
       " {(1, 2), (4, 2)},\n",
       " {(4, 0), (4, 2)},\n",
       " {(1, 2), (4, 0), (4, 2)},\n",
       " {(2, 1), (4, 2)},\n",
       " {(1, 2), (2, 1), (4, 2)},\n",
       " {(2, 1), (4, 0), (4, 2)},\n",
       " {(1, 2), (2, 1), (4, 0), (4, 2)},\n",
       " {(3, 1), (4, 2)},\n",
       " {(1, 2), (3, 1), (4, 2)},\n",
       " {(3, 1), (4, 0), (4, 2)},\n",
       " {(1, 2), (3, 1), (4, 0), (4, 2)},\n",
       " {(2, 1), (3, 1), (4, 2)},\n",
       " {(1, 2), (2, 1), (3, 1), (4, 2)},\n",
       " {(2, 1), (3, 1), (4, 0), (4, 2)},\n",
       " {(1, 2), (2, 1), (3, 1), (4, 0), (4, 2)},\n",
       " {(1, 1), (4, 2)},\n",
       " {(1, 1), (1, 2), (4, 2)},\n",
       " {(1, 1), (4, 0), (4, 2)},\n",
       " {(1, 1), (1, 2), (4, 0), (4, 2)},\n",
       " {(1, 1), (2, 1), (4, 2)},\n",
       " {(1, 1), (1, 2), (2, 1), (4, 2)},\n",
       " {(1, 1), (2, 1), (4, 0), (4, 2)},\n",
       " {(1, 1), (1, 2), (2, 1), (4, 0), (4, 2)},\n",
       " {(1, 1), (3, 1), (4, 2)},\n",
       " {(1, 1), (1, 2), (3, 1), (4, 2)},\n",
       " {(1, 1), (3, 1), (4, 0), (4, 2)},\n",
       " {(1, 1), (1, 2), (3, 1), (4, 0), (4, 2)},\n",
       " {(1, 1), (2, 1), (3, 1), (4, 2)},\n",
       " {(1, 1), (1, 2), (2, 1), (3, 1), (4, 2)},\n",
       " {(1, 1), (2, 1), (3, 1), (4, 0), (4, 2)},\n",
       " {(1, 1), (1, 2), (2, 1), (3, 1), (4, 0), (4, 2)},\n",
       " {(2, 0), (4, 2)},\n",
       " {(1, 2), (2, 0), (4, 2)},\n",
       " {(2, 0), (4, 0), (4, 2)},\n",
       " {(1, 2), (2, 0), (4, 0), (4, 2)},\n",
       " {(2, 0), (2, 1), (4, 2)},\n",
       " {(1, 2), (2, 0), (2, 1), (4, 2)},\n",
       " {(2, 0), (2, 1), (4, 0), (4, 2)},\n",
       " {(1, 2), (2, 0), (2, 1), (4, 0), (4, 2)},\n",
       " {(2, 0), (3, 1), (4, 2)},\n",
       " {(1, 2), (2, 0), (3, 1), (4, 2)},\n",
       " {(2, 0), (3, 1), (4, 0), (4, 2)},\n",
       " {(1, 2), (2, 0), (3, 1), (4, 0), (4, 2)},\n",
       " {(2, 0), (2, 1), (3, 1), (4, 2)},\n",
       " {(1, 2), (2, 0), (2, 1), (3, 1), (4, 2)},\n",
       " {(2, 0), (2, 1), (3, 1), (4, 0), (4, 2)},\n",
       " {(1, 2), (2, 0), (2, 1), (3, 1), (4, 0), (4, 2)},\n",
       " {(1, 1), (2, 0), (4, 2)},\n",
       " {(1, 1), (1, 2), (2, 0), (4, 2)},\n",
       " {(1, 1), (2, 0), (4, 0), (4, 2)},\n",
       " {(1, 1), (1, 2), (2, 0), (4, 0), (4, 2)},\n",
       " {(1, 1), (2, 0), (2, 1), (4, 2)},\n",
       " {(1, 1), (1, 2), (2, 0), (2, 1), (4, 2)},\n",
       " {(1, 1), (2, 0), (2, 1), (4, 0), (4, 2)},\n",
       " {(1, 1), (1, 2), (2, 0), (2, 1), (4, 0), (4, 2)},\n",
       " {(1, 1), (2, 0), (3, 1), (4, 2)},\n",
       " {(1, 1), (1, 2), (2, 0), (3, 1), (4, 2)},\n",
       " {(1, 1), (2, 0), (3, 1), (4, 0), (4, 2)},\n",
       " {(1, 1), (1, 2), (2, 0), (3, 1), (4, 0), (4, 2)},\n",
       " {(1, 1), (2, 0), (2, 1), (3, 1), (4, 2)},\n",
       " {(1, 1), (1, 2), (2, 0), (2, 1), (3, 1), (4, 2)},\n",
       " {(1, 1), (2, 0), (2, 1), (3, 1), (4, 0), (4, 2)},\n",
       " {(1, 1), (1, 2), (2, 0), (2, 1), (3, 1), (4, 0), (4, 2)},\n",
       " {(4, 2), (5, 1)},\n",
       " {(1, 2), (4, 2), (5, 1)},\n",
       " {(4, 0), (4, 2), (5, 1)},\n",
       " {(1, 2), (4, 0), (4, 2), (5, 1)},\n",
       " {(2, 1), (4, 2), (5, 1)},\n",
       " {(1, 2), (2, 1), (4, 2), (5, 1)},\n",
       " {(2, 1), (4, 0), (4, 2), (5, 1)},\n",
       " {(1, 2), (2, 1), (4, 0), (4, 2), (5, 1)},\n",
       " {(3, 1), (4, 2), (5, 1)},\n",
       " {(1, 2), (3, 1), (4, 2), (5, 1)},\n",
       " {(3, 1), (4, 0), (4, 2), (5, 1)},\n",
       " {(1, 2), (3, 1), (4, 0), (4, 2), (5, 1)},\n",
       " {(2, 1), (3, 1), (4, 2), (5, 1)},\n",
       " {(1, 2), (2, 1), (3, 1), (4, 2), (5, 1)},\n",
       " {(2, 1), (3, 1), (4, 0), (4, 2), (5, 1)},\n",
       " {(1, 2), (2, 1), (3, 1), (4, 0), (4, 2), (5, 1)},\n",
       " {(1, 1), (4, 2), (5, 1)},\n",
       " {(1, 1), (1, 2), (4, 2), (5, 1)},\n",
       " {(1, 1), (4, 0), (4, 2), (5, 1)},\n",
       " {(1, 1), (1, 2), (4, 0), (4, 2), (5, 1)},\n",
       " {(1, 1), (2, 1), (4, 2), (5, 1)},\n",
       " {(1, 1), (1, 2), (2, 1), (4, 2), (5, 1)},\n",
       " {(1, 1), (2, 1), (4, 0), (4, 2), (5, 1)},\n",
       " {(1, 1), (1, 2), (2, 1), (4, 0), (4, 2), (5, 1)},\n",
       " {(1, 1), (3, 1), (4, 2), (5, 1)},\n",
       " {(1, 1), (1, 2), (3, 1), (4, 2), (5, 1)},\n",
       " {(1, 1), (3, 1), (4, 0), (4, 2), (5, 1)},\n",
       " {(1, 1), (1, 2), (3, 1), (4, 0), (4, 2), (5, 1)},\n",
       " {(1, 1), (2, 1), (3, 1), (4, 2), (5, 1)},\n",
       " {(1, 1), (1, 2), (2, 1), (3, 1), (4, 2), (5, 1)},\n",
       " {(1, 1), (2, 1), (3, 1), (4, 0), (4, 2), (5, 1)},\n",
       " {(1, 1), (1, 2), (2, 1), (3, 1), (4, 0), (4, 2), (5, 1)},\n",
       " {(2, 0), (4, 2), (5, 1)},\n",
       " {(1, 2), (2, 0), (4, 2), (5, 1)},\n",
       " {(2, 0), (4, 0), (4, 2), (5, 1)},\n",
       " {(1, 2), (2, 0), (4, 0), (4, 2), (5, 1)},\n",
       " {(2, 0), (2, 1), (4, 2), (5, 1)},\n",
       " {(1, 2), (2, 0), (2, 1), (4, 2), (5, 1)},\n",
       " {(2, 0), (2, 1), (4, 0), (4, 2), (5, 1)},\n",
       " {(1, 2), (2, 0), (2, 1), (4, 0), (4, 2), (5, 1)},\n",
       " {(2, 0), (3, 1), (4, 2), (5, 1)},\n",
       " {(1, 2), (2, 0), (3, 1), (4, 2), (5, 1)},\n",
       " {(2, 0), (3, 1), (4, 0), (4, 2), (5, 1)},\n",
       " {(1, 2), (2, 0), (3, 1), (4, 0), (4, 2), (5, 1)},\n",
       " {(2, 0), (2, 1), (3, 1), (4, 2), (5, 1)},\n",
       " {(1, 2), (2, 0), (2, 1), (3, 1), (4, 2), (5, 1)},\n",
       " {(2, 0), (2, 1), (3, 1), (4, 0), (4, 2), (5, 1)},\n",
       " {(1, 2), (2, 0), (2, 1), (3, 1), (4, 0), (4, 2), (5, 1)},\n",
       " {(1, 1), (2, 0), (4, 2), (5, 1)},\n",
       " {(1, 1), (1, 2), (2, 0), (4, 2), (5, 1)},\n",
       " {(1, 1), (2, 0), (4, 0), (4, 2), (5, 1)},\n",
       " {(1, 1), (1, 2), (2, 0), (4, 0), (4, 2), (5, 1)},\n",
       " {(1, 1), (2, 0), (2, 1), (4, 2), (5, 1)},\n",
       " {(1, 1), (1, 2), (2, 0), (2, 1), (4, 2), (5, 1)},\n",
       " {(1, 1), (2, 0), (2, 1), (4, 0), (4, 2), (5, 1)},\n",
       " {(1, 1), (1, 2), (2, 0), (2, 1), (4, 0), (4, 2), (5, 1)},\n",
       " {(1, 1), (2, 0), (3, 1), (4, 2), (5, 1)},\n",
       " {(1, 1), (1, 2), (2, 0), (3, 1), (4, 2), (5, 1)},\n",
       " {(1, 1), (2, 0), (3, 1), (4, 0), (4, 2), (5, 1)},\n",
       " {(1, 1), (1, 2), (2, 0), (3, 1), (4, 0), (4, 2), (5, 1)},\n",
       " {(1, 1), (2, 0), (2, 1), (3, 1), (4, 2), (5, 1)},\n",
       " {(1, 1), (1, 2), (2, 0), (2, 1), (3, 1), (4, 2), (5, 1)},\n",
       " {(1, 1), (2, 0), (2, 1), (3, 1), (4, 0), (4, 2), (5, 1)},\n",
       " {(1, 1), (1, 2), (2, 0), (2, 1), (3, 1), (4, 0), (4, 2), (5, 1)},\n",
       " {(3, 0)},\n",
       " {(1, 2), (3, 0)},\n",
       " {(3, 0), (4, 0)},\n",
       " {(1, 2), (3, 0), (4, 0)},\n",
       " {(2, 1), (3, 0)},\n",
       " {(1, 2), (2, 1), (3, 0)},\n",
       " {(2, 1), (3, 0), (4, 0)},\n",
       " {(1, 2), (2, 1), (3, 0), (4, 0)},\n",
       " {(3, 0), (3, 1)},\n",
       " {(1, 2), (3, 0), (3, 1)},\n",
       " {(3, 0), (3, 1), (4, 0)},\n",
       " {(1, 2), (3, 0), (3, 1), (4, 0)},\n",
       " {(2, 1), (3, 0), (3, 1)},\n",
       " {(1, 2), (2, 1), (3, 0), (3, 1)},\n",
       " {(2, 1), (3, 0), (3, 1), (4, 0)},\n",
       " {(1, 2), (2, 1), (3, 0), (3, 1), (4, 0)},\n",
       " {(1, 1), (3, 0)},\n",
       " {(1, 1), (1, 2), (3, 0)},\n",
       " {(1, 1), (3, 0), (4, 0)},\n",
       " {(1, 1), (1, 2), (3, 0), (4, 0)},\n",
       " {(1, 1), (2, 1), (3, 0)},\n",
       " {(1, 1), (1, 2), (2, 1), (3, 0)},\n",
       " {(1, 1), (2, 1), (3, 0), (4, 0)},\n",
       " {(1, 1), (1, 2), (2, 1), (3, 0), (4, 0)},\n",
       " {(1, 1), (3, 0), (3, 1)},\n",
       " {(1, 1), (1, 2), (3, 0), (3, 1)},\n",
       " {(1, 1), (3, 0), (3, 1), (4, 0)},\n",
       " {(1, 1), (1, 2), (3, 0), (3, 1), (4, 0)},\n",
       " {(1, 1), (2, 1), (3, 0), (3, 1)},\n",
       " {(1, 1), (1, 2), (2, 1), (3, 0), (3, 1)},\n",
       " {(1, 1), (2, 1), (3, 0), (3, 1), (4, 0)},\n",
       " {(1, 1), (1, 2), (2, 1), (3, 0), (3, 1), (4, 0)},\n",
       " {(2, 0), (3, 0)},\n",
       " {(1, 2), (2, 0), (3, 0)},\n",
       " {(2, 0), (3, 0), (4, 0)},\n",
       " {(1, 2), (2, 0), (3, 0), (4, 0)},\n",
       " {(2, 0), (2, 1), (3, 0)},\n",
       " {(1, 2), (2, 0), (2, 1), (3, 0)},\n",
       " {(2, 0), (2, 1), (3, 0), (4, 0)},\n",
       " {(1, 2), (2, 0), (2, 1), (3, 0), (4, 0)},\n",
       " {(2, 0), (3, 0), (3, 1)},\n",
       " {(1, 2), (2, 0), (3, 0), (3, 1)},\n",
       " {(2, 0), (3, 0), (3, 1), (4, 0)},\n",
       " {(1, 2), (2, 0), (3, 0), (3, 1), (4, 0)},\n",
       " {(2, 0), (2, 1), (3, 0), (3, 1)},\n",
       " {(1, 2), (2, 0), (2, 1), (3, 0), (3, 1)},\n",
       " {(2, 0), (2, 1), (3, 0), (3, 1), (4, 0)},\n",
       " {(1, 2), (2, 0), (2, 1), (3, 0), (3, 1), (4, 0)},\n",
       " {(1, 1), (2, 0), (3, 0)},\n",
       " {(1, 1), (1, 2), (2, 0), (3, 0)},\n",
       " {(1, 1), (2, 0), (3, 0), (4, 0)},\n",
       " {(1, 1), (1, 2), (2, 0), (3, 0), (4, 0)},\n",
       " {(1, 1), (2, 0), (2, 1), (3, 0)},\n",
       " {(1, 1), (1, 2), (2, 0), (2, 1), (3, 0)},\n",
       " {(1, 1), (2, 0), (2, 1), (3, 0), (4, 0)},\n",
       " {(1, 1), (1, 2), (2, 0), (2, 1), (3, 0), (4, 0)},\n",
       " {(1, 1), (2, 0), (3, 0), (3, 1)},\n",
       " {(1, 1), (1, 2), (2, 0), (3, 0), (3, 1)},\n",
       " {(1, 1), (2, 0), (3, 0), (3, 1), (4, 0)},\n",
       " {(1, 1), (1, 2), (2, 0), (3, 0), (3, 1), (4, 0)},\n",
       " {(1, 1), (2, 0), (2, 1), (3, 0), (3, 1)},\n",
       " {(1, 1), (1, 2), (2, 0), (2, 1), (3, 0), (3, 1)},\n",
       " {(1, 1), (2, 0), (2, 1), (3, 0), (3, 1), (4, 0)},\n",
       " {(1, 1), (1, 2), (2, 0), (2, 1), (3, 0), (3, 1), (4, 0)},\n",
       " {(3, 0), (5, 1)},\n",
       " {(1, 2), (3, 0), (5, 1)},\n",
       " {(3, 0), (4, 0), (5, 1)},\n",
       " {(1, 2), (3, 0), (4, 0), (5, 1)},\n",
       " {(2, 1), (3, 0), (5, 1)},\n",
       " {(1, 2), (2, 1), (3, 0), (5, 1)},\n",
       " {(2, 1), (3, 0), (4, 0), (5, 1)},\n",
       " {(1, 2), (2, 1), (3, 0), (4, 0), (5, 1)},\n",
       " {(3, 0), (3, 1), (5, 1)},\n",
       " {(1, 2), (3, 0), (3, 1), (5, 1)},\n",
       " {(3, 0), (3, 1), (4, 0), (5, 1)},\n",
       " {(1, 2), (3, 0), (3, 1), (4, 0), (5, 1)},\n",
       " {(2, 1), (3, 0), (3, 1), (5, 1)},\n",
       " {(1, 2), (2, 1), (3, 0), (3, 1), (5, 1)},\n",
       " {(2, 1), (3, 0), (3, 1), (4, 0), (5, 1)},\n",
       " {(1, 2), (2, 1), (3, 0), (3, 1), (4, 0), (5, 1)},\n",
       " {(1, 1), (3, 0), (5, 1)},\n",
       " {(1, 1), (1, 2), (3, 0), (5, 1)},\n",
       " {(1, 1), (3, 0), (4, 0), (5, 1)},\n",
       " {(1, 1), (1, 2), (3, 0), (4, 0), (5, 1)},\n",
       " {(1, 1), (2, 1), (3, 0), (5, 1)},\n",
       " {(1, 1), (1, 2), (2, 1), (3, 0), (5, 1)},\n",
       " {(1, 1), (2, 1), (3, 0), (4, 0), (5, 1)},\n",
       " {(1, 1), (1, 2), (2, 1), (3, 0), (4, 0), (5, 1)},\n",
       " {(1, 1), (3, 0), (3, 1), (5, 1)},\n",
       " {(1, 1), (1, 2), (3, 0), (3, 1), (5, 1)},\n",
       " {(1, 1), (3, 0), (3, 1), (4, 0), (5, 1)},\n",
       " {(1, 1), (1, 2), (3, 0), (3, 1), (4, 0), (5, 1)},\n",
       " {(1, 1), (2, 1), (3, 0), (3, 1), (5, 1)},\n",
       " {(1, 1), (1, 2), (2, 1), (3, 0), (3, 1), (5, 1)},\n",
       " {(1, 1), (2, 1), (3, 0), (3, 1), (4, 0), (5, 1)},\n",
       " {(1, 1), (1, 2), (2, 1), (3, 0), (3, 1), (4, 0), (5, 1)},\n",
       " {(2, 0), (3, 0), (5, 1)},\n",
       " {(1, 2), (2, 0), (3, 0), (5, 1)},\n",
       " {(2, 0), (3, 0), (4, 0), (5, 1)},\n",
       " {(1, 2), (2, 0), (3, 0), (4, 0), (5, 1)},\n",
       " {(2, 0), (2, 1), (3, 0), (5, 1)},\n",
       " {(1, 2), (2, 0), (2, 1), (3, 0), (5, 1)},\n",
       " {(2, 0), (2, 1), (3, 0), (4, 0), (5, 1)},\n",
       " {(1, 2), (2, 0), (2, 1), (3, 0), (4, 0), (5, 1)},\n",
       " {(2, 0), (3, 0), (3, 1), (5, 1)},\n",
       " {(1, 2), (2, 0), (3, 0), (3, 1), (5, 1)},\n",
       " {(2, 0), (3, 0), (3, 1), (4, 0), (5, 1)},\n",
       " {(1, 2), (2, 0), (3, 0), (3, 1), (4, 0), (5, 1)},\n",
       " {(2, 0), (2, 1), (3, 0), (3, 1), (5, 1)},\n",
       " {(1, 2), (2, 0), (2, 1), (3, 0), (3, 1), (5, 1)},\n",
       " {(2, 0), (2, 1), (3, 0), (3, 1), (4, 0), (5, 1)},\n",
       " {(1, 2), (2, 0), (2, 1), (3, 0), (3, 1), (4, 0), (5, 1)},\n",
       " {(1, 1), (2, 0), (3, 0), (5, 1)},\n",
       " {(1, 1), (1, 2), (2, 0), (3, 0), (5, 1)},\n",
       " {(1, 1), (2, 0), (3, 0), (4, 0), (5, 1)},\n",
       " {(1, 1), (1, 2), (2, 0), (3, 0), (4, 0), (5, 1)},\n",
       " {(1, 1), (2, 0), (2, 1), (3, 0), (5, 1)},\n",
       " {(1, 1), (1, 2), (2, 0), (2, 1), (3, 0), (5, 1)},\n",
       " {(1, 1), (2, 0), (2, 1), (3, 0), (4, 0), (5, 1)},\n",
       " {(1, 1), (1, 2), (2, 0), (2, 1), (3, 0), (4, 0), (5, 1)},\n",
       " {(1, 1), (2, 0), (3, 0), (3, 1), (5, 1)},\n",
       " {(1, 1), (1, 2), (2, 0), (3, 0), (3, 1), (5, 1)},\n",
       " {(1, 1), (2, 0), (3, 0), (3, 1), (4, 0), (5, 1)},\n",
       " {(1, 1), (1, 2), (2, 0), (3, 0), (3, 1), (4, 0), (5, 1)},\n",
       " {(1, 1), (2, 0), (2, 1), (3, 0), (3, 1), (5, 1)},\n",
       " {(1, 1), (1, 2), (2, 0), (2, 1), (3, 0), (3, 1), (5, 1)},\n",
       " {(1, 1), (2, 0), (2, 1), (3, 0), (3, 1), (4, 0), (5, 1)},\n",
       " {(1, 1), (1, 2), (2, 0), (2, 1), (3, 0), (3, 1), (4, 0), (5, 1)},\n",
       " {(3, 0), (4, 2)},\n",
       " {(1, 2), (3, 0), (4, 2)},\n",
       " {(3, 0), (4, 0), (4, 2)},\n",
       " {(1, 2), (3, 0), (4, 0), (4, 2)},\n",
       " {(2, 1), (3, 0), (4, 2)},\n",
       " {(1, 2), (2, 1), (3, 0), (4, 2)},\n",
       " {(2, 1), (3, 0), (4, 0), (4, 2)},\n",
       " {(1, 2), (2, 1), (3, 0), (4, 0), (4, 2)},\n",
       " {(3, 0), (3, 1), (4, 2)},\n",
       " {(1, 2), (3, 0), (3, 1), (4, 2)},\n",
       " {(3, 0), (3, 1), (4, 0), (4, 2)},\n",
       " {(1, 2), (3, 0), (3, 1), (4, 0), (4, 2)},\n",
       " {(2, 1), (3, 0), (3, 1), (4, 2)},\n",
       " {(1, 2), (2, 1), (3, 0), (3, 1), (4, 2)},\n",
       " {(2, 1), (3, 0), (3, 1), (4, 0), (4, 2)},\n",
       " {(1, 2), (2, 1), (3, 0), (3, 1), (4, 0), (4, 2)},\n",
       " {(1, 1), (3, 0), (4, 2)},\n",
       " {(1, 1), (1, 2), (3, 0), (4, 2)},\n",
       " {(1, 1), (3, 0), (4, 0), (4, 2)},\n",
       " {(1, 1), (1, 2), (3, 0), (4, 0), (4, 2)},\n",
       " {(1, 1), (2, 1), (3, 0), (4, 2)},\n",
       " {(1, 1), (1, 2), (2, 1), (3, 0), (4, 2)},\n",
       " {(1, 1), (2, 1), (3, 0), (4, 0), (4, 2)},\n",
       " {(1, 1), (1, 2), (2, 1), (3, 0), (4, 0), (4, 2)},\n",
       " {(1, 1), (3, 0), (3, 1), (4, 2)},\n",
       " {(1, 1), (1, 2), (3, 0), (3, 1), (4, 2)},\n",
       " {(1, 1), (3, 0), (3, 1), (4, 0), (4, 2)},\n",
       " {(1, 1), (1, 2), (3, 0), (3, 1), (4, 0), (4, 2)},\n",
       " {(1, 1), (2, 1), (3, 0), (3, 1), (4, 2)},\n",
       " {(1, 1), (1, 2), (2, 1), (3, 0), (3, 1), (4, 2)},\n",
       " {(1, 1), (2, 1), (3, 0), (3, 1), (4, 0), (4, 2)},\n",
       " {(1, 1), (1, 2), (2, 1), (3, 0), (3, 1), (4, 0), (4, 2)},\n",
       " {(2, 0), (3, 0), (4, 2)},\n",
       " {(1, 2), (2, 0), (3, 0), (4, 2)},\n",
       " {(2, 0), (3, 0), (4, 0), (4, 2)},\n",
       " {(1, 2), (2, 0), (3, 0), (4, 0), (4, 2)},\n",
       " {(2, 0), (2, 1), (3, 0), (4, 2)},\n",
       " {(1, 2), (2, 0), (2, 1), (3, 0), (4, 2)},\n",
       " {(2, 0), (2, 1), (3, 0), (4, 0), (4, 2)},\n",
       " {(1, 2), (2, 0), (2, 1), (3, 0), (4, 0), (4, 2)},\n",
       " {(2, 0), (3, 0), (3, 1), (4, 2)},\n",
       " {(1, 2), (2, 0), (3, 0), (3, 1), (4, 2)},\n",
       " {(2, 0), (3, 0), (3, 1), (4, 0), (4, 2)},\n",
       " {(1, 2), (2, 0), (3, 0), (3, 1), (4, 0), (4, 2)},\n",
       " {(2, 0), (2, 1), (3, 0), (3, 1), (4, 2)},\n",
       " {(1, 2), (2, 0), (2, 1), (3, 0), (3, 1), (4, 2)},\n",
       " {(2, 0), (2, 1), (3, 0), (3, 1), (4, 0), (4, 2)},\n",
       " {(1, 2), (2, 0), (2, 1), (3, 0), (3, 1), (4, 0), (4, 2)},\n",
       " {(1, 1), (2, 0), (3, 0), (4, 2)},\n",
       " {(1, 1), (1, 2), (2, 0), (3, 0), (4, 2)},\n",
       " {(1, 1), (2, 0), (3, 0), (4, 0), (4, 2)},\n",
       " {(1, 1), (1, 2), (2, 0), (3, 0), (4, 0), (4, 2)},\n",
       " {(1, 1), (2, 0), (2, 1), (3, 0), (4, 2)},\n",
       " {(1, 1), (1, 2), (2, 0), (2, 1), (3, 0), (4, 2)},\n",
       " {(1, 1), (2, 0), (2, 1), (3, 0), (4, 0), (4, 2)},\n",
       " {(1, 1), (1, 2), (2, 0), (2, 1), (3, 0), (4, 0), (4, 2)},\n",
       " {(1, 1), (2, 0), (3, 0), (3, 1), (4, 2)},\n",
       " {(1, 1), (1, 2), (2, 0), (3, 0), (3, 1), (4, 2)},\n",
       " {(1, 1), (2, 0), (3, 0), (3, 1), (4, 0), (4, 2)},\n",
       " {(1, 1), (1, 2), (2, 0), (3, 0), (3, 1), (4, 0), (4, 2)},\n",
       " {(1, 1), (2, 0), (2, 1), (3, 0), (3, 1), (4, 2)},\n",
       " {(1, 1), (1, 2), (2, 0), (2, 1), (3, 0), (3, 1), (4, 2)},\n",
       " {(1, 1), (2, 0), (2, 1), (3, 0), (3, 1), (4, 0), (4, 2)},\n",
       " {(1, 1), (1, 2), (2, 0), (2, 1), (3, 0), (3, 1), (4, 0), (4, 2)},\n",
       " {(3, 0), (4, 2), (5, 1)},\n",
       " {(1, 2), (3, 0), (4, 2), (5, 1)},\n",
       " {(3, 0), (4, 0), (4, 2), (5, 1)},\n",
       " {(1, 2), (3, 0), (4, 0), (4, 2), (5, 1)},\n",
       " {(2, 1), (3, 0), (4, 2), (5, 1)},\n",
       " {(1, 2), (2, 1), (3, 0), (4, 2), (5, 1)},\n",
       " {(2, 1), (3, 0), (4, 0), (4, 2), (5, 1)},\n",
       " {(1, 2), (2, 1), (3, 0), (4, 0), (4, 2), (5, 1)},\n",
       " {(3, 0), (3, 1), (4, 2), (5, 1)},\n",
       " {(1, 2), (3, 0), (3, 1), (4, 2), (5, 1)},\n",
       " {(3, 0), (3, 1), (4, 0), (4, 2), (5, 1)},\n",
       " {(1, 2), (3, 0), (3, 1), (4, 0), (4, 2), (5, 1)},\n",
       " {(2, 1), (3, 0), (3, 1), (4, 2), (5, 1)},\n",
       " {(1, 2), (2, 1), (3, 0), (3, 1), (4, 2), (5, 1)},\n",
       " {(2, 1), (3, 0), (3, 1), (4, 0), (4, 2), (5, 1)},\n",
       " {(1, 2), (2, 1), (3, 0), (3, 1), (4, 0), (4, 2), (5, 1)},\n",
       " {(1, 1), (3, 0), (4, 2), (5, 1)},\n",
       " {(1, 1), (1, 2), (3, 0), (4, 2), (5, 1)},\n",
       " {(1, 1), (3, 0), (4, 0), (4, 2), (5, 1)},\n",
       " {(1, 1), (1, 2), (3, 0), (4, 0), (4, 2), (5, 1)},\n",
       " {(1, 1), (2, 1), (3, 0), (4, 2), (5, 1)},\n",
       " {(1, 1), (1, 2), (2, 1), (3, 0), (4, 2), (5, 1)},\n",
       " {(1, 1), (2, 1), (3, 0), (4, 0), (4, 2), (5, 1)},\n",
       " {(1, 1), (1, 2), (2, 1), (3, 0), (4, 0), (4, 2), (5, 1)},\n",
       " {(1, 1), (3, 0), (3, 1), (4, 2), (5, 1)},\n",
       " {(1, 1), (1, 2), (3, 0), (3, 1), (4, 2), (5, 1)},\n",
       " {(1, 1), (3, 0), (3, 1), (4, 0), (4, 2), (5, 1)},\n",
       " {(1, 1), (1, 2), (3, 0), (3, 1), (4, 0), (4, 2), (5, 1)},\n",
       " {(1, 1), (2, 1), (3, 0), (3, 1), (4, 2), (5, 1)},\n",
       " {(1, 1), (1, 2), (2, 1), (3, 0), (3, 1), (4, 2), (5, 1)},\n",
       " {(1, 1), (2, 1), (3, 0), (3, 1), (4, 0), (4, 2), (5, 1)},\n",
       " {(1, 1), (1, 2), (2, 1), (3, 0), (3, 1), (4, 0), (4, 2), (5, 1)},\n",
       " {(2, 0), (3, 0), (4, 2), (5, 1)},\n",
       " {(1, 2), (2, 0), (3, 0), (4, 2), (5, 1)},\n",
       " {(2, 0), (3, 0), (4, 0), (4, 2), (5, 1)},\n",
       " {(1, 2), (2, 0), (3, 0), (4, 0), (4, 2), (5, 1)},\n",
       " {(2, 0), (2, 1), (3, 0), (4, 2), (5, 1)},\n",
       " {(1, 2), (2, 0), (2, 1), (3, 0), (4, 2), (5, 1)},\n",
       " {(2, 0), (2, 1), (3, 0), (4, 0), (4, 2), (5, 1)},\n",
       " {(1, 2), (2, 0), (2, 1), (3, 0), (4, 0), (4, 2), (5, 1)},\n",
       " {(2, 0), (3, 0), (3, 1), (4, 2), (5, 1)},\n",
       " {(1, 2), (2, 0), (3, 0), (3, 1), (4, 2), (5, 1)},\n",
       " {(2, 0), (3, 0), (3, 1), (4, 0), (4, 2), (5, 1)},\n",
       " {(1, 2), (2, 0), (3, 0), (3, 1), (4, 0), (4, 2), (5, 1)},\n",
       " {(2, 0), (2, 1), (3, 0), (3, 1), (4, 2), (5, 1)},\n",
       " {(1, 2), (2, 0), (2, 1), (3, 0), (3, 1), (4, 2), (5, 1)},\n",
       " {(2, 0), (2, 1), (3, 0), (3, 1), (4, 0), (4, 2), (5, 1)},\n",
       " {(1, 2), (2, 0), (2, 1), (3, 0), (3, 1), (4, 0), (4, 2), (5, 1)},\n",
       " {(1, 1), (2, 0), (3, 0), (4, 2), (5, 1)},\n",
       " {(1, 1), (1, 2), (2, 0), (3, 0), (4, 2), (5, 1)},\n",
       " {(1, 1), (2, 0), (3, 0), (4, 0), (4, 2), (5, 1)},\n",
       " {(1, 1), (1, 2), (2, 0), (3, 0), (4, 0), (4, 2), (5, 1)},\n",
       " {(1, 1), (2, 0), (2, 1), (3, 0), (4, 2), (5, 1)},\n",
       " {(1, 1), (1, 2), (2, 0), (2, 1), (3, 0), (4, 2), (5, 1)},\n",
       " {(1, 1), (2, 0), (2, 1), (3, 0), (4, 0), (4, 2), (5, 1)},\n",
       " {(1, 1), (1, 2), (2, 0), (2, 1), (3, 0), (4, 0), (4, 2), (5, 1)},\n",
       " {(1, 1), (2, 0), (3, 0), (3, 1), (4, 2), (5, 1)},\n",
       " {(1, 1), (1, 2), (2, 0), (3, 0), (3, 1), (4, 2), (5, 1)},\n",
       " {(1, 1), (2, 0), (3, 0), (3, 1), (4, 0), (4, 2), (5, 1)},\n",
       " {(1, 1), (1, 2), (2, 0), (3, 0), (3, 1), (4, 0), (4, 2), (5, 1)},\n",
       " {(1, 1), (2, 0), (2, 1), (3, 0), (3, 1), (4, 2), (5, 1)},\n",
       " {(1, 1), (1, 2), (2, 0), (2, 1), (3, 0), (3, 1), (4, 2), (5, 1)},\n",
       " {(1, 1), (2, 0), (2, 1), (3, 0), (3, 1), (4, 0), (4, 2), (5, 1)},\n",
       " {(1, 1), (1, 2), (2, 0), (2, 1), (3, 0), (3, 1), (4, 0), (4, 2), (5, 1)},\n",
       " {(5, 0)},\n",
       " {(1, 2), (5, 0)},\n",
       " {(4, 0), (5, 0)},\n",
       " {(1, 2), (4, 0), (5, 0)},\n",
       " {(2, 1), (5, 0)},\n",
       " {(1, 2), (2, 1), (5, 0)},\n",
       " {(2, 1), (4, 0), (5, 0)},\n",
       " {(1, 2), (2, 1), (4, 0), (5, 0)},\n",
       " {(3, 1), (5, 0)},\n",
       " {(1, 2), (3, 1), (5, 0)},\n",
       " {(3, 1), (4, 0), (5, 0)},\n",
       " {(1, 2), (3, 1), (4, 0), (5, 0)},\n",
       " {(2, 1), (3, 1), (5, 0)},\n",
       " {(1, 2), (2, 1), (3, 1), (5, 0)},\n",
       " {(2, 1), (3, 1), (4, 0), (5, 0)},\n",
       " {(1, 2), (2, 1), (3, 1), (4, 0), (5, 0)},\n",
       " {(1, 1), (5, 0)},\n",
       " {(1, 1), (1, 2), (5, 0)},\n",
       " {(1, 1), (4, 0), (5, 0)},\n",
       " {(1, 1), (1, 2), (4, 0), (5, 0)},\n",
       " {(1, 1), (2, 1), (5, 0)},\n",
       " {(1, 1), (1, 2), (2, 1), (5, 0)},\n",
       " {(1, 1), (2, 1), (4, 0), (5, 0)},\n",
       " {(1, 1), (1, 2), (2, 1), (4, 0), (5, 0)},\n",
       " {(1, 1), (3, 1), (5, 0)},\n",
       " {(1, 1), (1, 2), (3, 1), (5, 0)},\n",
       " {(1, 1), (3, 1), (4, 0), (5, 0)},\n",
       " {(1, 1), (1, 2), (3, 1), (4, 0), (5, 0)},\n",
       " {(1, 1), (2, 1), (3, 1), (5, 0)},\n",
       " {(1, 1), (1, 2), (2, 1), (3, 1), (5, 0)},\n",
       " {(1, 1), (2, 1), (3, 1), (4, 0), (5, 0)},\n",
       " {(1, 1), (1, 2), (2, 1), (3, 1), (4, 0), (5, 0)},\n",
       " {(2, 0), (5, 0)},\n",
       " {(1, 2), (2, 0), (5, 0)},\n",
       " {(2, 0), (4, 0), (5, 0)},\n",
       " {(1, 2), (2, 0), (4, 0), (5, 0)},\n",
       " {(2, 0), (2, 1), (5, 0)},\n",
       " {(1, 2), (2, 0), (2, 1), (5, 0)},\n",
       " {(2, 0), (2, 1), (4, 0), (5, 0)},\n",
       " {(1, 2), (2, 0), (2, 1), (4, 0), (5, 0)},\n",
       " {(2, 0), (3, 1), (5, 0)},\n",
       " {(1, 2), (2, 0), (3, 1), (5, 0)},\n",
       " {(2, 0), (3, 1), (4, 0), (5, 0)},\n",
       " {(1, 2), (2, 0), (3, 1), (4, 0), (5, 0)},\n",
       " {(2, 0), (2, 1), (3, 1), (5, 0)},\n",
       " {(1, 2), (2, 0), (2, 1), (3, 1), (5, 0)},\n",
       " {(2, 0), (2, 1), (3, 1), (4, 0), (5, 0)},\n",
       " {(1, 2), (2, 0), (2, 1), (3, 1), (4, 0), (5, 0)},\n",
       " {(1, 1), (2, 0), (5, 0)},\n",
       " {(1, 1), (1, 2), (2, 0), (5, 0)},\n",
       " {(1, 1), (2, 0), (4, 0), (5, 0)},\n",
       " {(1, 1), (1, 2), (2, 0), (4, 0), (5, 0)},\n",
       " {(1, 1), (2, 0), (2, 1), (5, 0)},\n",
       " {(1, 1), (1, 2), (2, 0), (2, 1), (5, 0)},\n",
       " {(1, 1), (2, 0), (2, 1), (4, 0), (5, 0)},\n",
       " {(1, 1), (1, 2), (2, 0), (2, 1), (4, 0), (5, 0)},\n",
       " {(1, 1), (2, 0), (3, 1), (5, 0)},\n",
       " {(1, 1), (1, 2), (2, 0), (3, 1), (5, 0)},\n",
       " {(1, 1), (2, 0), (3, 1), (4, 0), (5, 0)},\n",
       " {(1, 1), (1, 2), (2, 0), (3, 1), (4, 0), (5, 0)},\n",
       " {(1, 1), (2, 0), (2, 1), (3, 1), (5, 0)},\n",
       " {(1, 1), (1, 2), (2, 0), (2, 1), (3, 1), (5, 0)},\n",
       " {(1, 1), (2, 0), (2, 1), (3, 1), (4, 0), (5, 0)},\n",
       " {(1, 1), (1, 2), (2, 0), (2, 1), (3, 1), (4, 0), (5, 0)},\n",
       " {(5, 0), (5, 1)},\n",
       " {(1, 2), (5, 0), (5, 1)},\n",
       " {(4, 0), (5, 0), (5, 1)},\n",
       " {(1, 2), (4, 0), (5, 0), (5, 1)},\n",
       " {(2, 1), (5, 0), (5, 1)},\n",
       " {(1, 2), (2, 1), (5, 0), (5, 1)},\n",
       " {(2, 1), (4, 0), (5, 0), (5, 1)},\n",
       " {(1, 2), (2, 1), (4, 0), (5, 0), (5, 1)},\n",
       " {(3, 1), (5, 0), (5, 1)},\n",
       " {(1, 2), (3, 1), (5, 0), (5, 1)},\n",
       " {(3, 1), (4, 0), (5, 0), (5, 1)},\n",
       " {(1, 2), (3, 1), (4, 0), (5, 0), (5, 1)},\n",
       " {(2, 1), (3, 1), (5, 0), (5, 1)},\n",
       " {(1, 2), (2, 1), (3, 1), (5, 0), (5, 1)},\n",
       " {(2, 1), (3, 1), (4, 0), (5, 0), (5, 1)},\n",
       " {(1, 2), (2, 1), (3, 1), (4, 0), (5, 0), (5, 1)},\n",
       " {(1, 1), (5, 0), (5, 1)},\n",
       " {(1, 1), (1, 2), (5, 0), (5, 1)},\n",
       " {(1, 1), (4, 0), (5, 0), (5, 1)},\n",
       " {(1, 1), (1, 2), (4, 0), (5, 0), (5, 1)},\n",
       " {(1, 1), (2, 1), (5, 0), (5, 1)},\n",
       " {(1, 1), (1, 2), (2, 1), (5, 0), (5, 1)},\n",
       " {(1, 1), (2, 1), (4, 0), (5, 0), (5, 1)},\n",
       " {(1, 1), (1, 2), (2, 1), (4, 0), (5, 0), (5, 1)},\n",
       " {(1, 1), (3, 1), (5, 0), (5, 1)},\n",
       " {(1, 1), (1, 2), (3, 1), (5, 0), (5, 1)},\n",
       " {(1, 1), (3, 1), (4, 0), (5, 0), (5, 1)},\n",
       " {(1, 1), (1, 2), (3, 1), (4, 0), (5, 0), (5, 1)},\n",
       " {(1, 1), (2, 1), (3, 1), (5, 0), (5, 1)},\n",
       " {(1, 1), (1, 2), (2, 1), (3, 1), (5, 0), (5, 1)},\n",
       " {(1, 1), (2, 1), (3, 1), (4, 0), (5, 0), (5, 1)},\n",
       " {(1, 1), (1, 2), (2, 1), (3, 1), (4, 0), (5, 0), (5, 1)},\n",
       " {(2, 0), (5, 0), (5, 1)},\n",
       " {(1, 2), (2, 0), (5, 0), (5, 1)},\n",
       " {(2, 0), (4, 0), (5, 0), (5, 1)},\n",
       " {(1, 2), (2, 0), (4, 0), (5, 0), (5, 1)},\n",
       " {(2, 0), (2, 1), (5, 0), (5, 1)},\n",
       " {(1, 2), (2, 0), (2, 1), (5, 0), (5, 1)},\n",
       " {(2, 0), (2, 1), (4, 0), (5, 0), (5, 1)},\n",
       " {(1, 2), (2, 0), (2, 1), (4, 0), (5, 0), (5, 1)},\n",
       " {(2, 0), (3, 1), (5, 0), (5, 1)},\n",
       " {(1, 2), (2, 0), (3, 1), (5, 0), (5, 1)},\n",
       " {(2, 0), (3, 1), (4, 0), (5, 0), (5, 1)},\n",
       " {(1, 2), (2, 0), (3, 1), (4, 0), (5, 0), (5, 1)},\n",
       " {(2, 0), (2, 1), (3, 1), (5, 0), (5, 1)},\n",
       " {(1, 2), (2, 0), (2, 1), (3, 1), (5, 0), (5, 1)},\n",
       " {(2, 0), (2, 1), (3, 1), (4, 0), (5, 0), (5, 1)},\n",
       " {(1, 2), (2, 0), (2, 1), (3, 1), (4, 0), (5, 0), (5, 1)},\n",
       " {(1, 1), (2, 0), (5, 0), (5, 1)},\n",
       " {(1, 1), (1, 2), (2, 0), (5, 0), (5, 1)},\n",
       " {(1, 1), (2, 0), (4, 0), (5, 0), (5, 1)},\n",
       " {(1, 1), (1, 2), (2, 0), (4, 0), (5, 0), (5, 1)},\n",
       " {(1, 1), (2, 0), (2, 1), (5, 0), (5, 1)},\n",
       " {(1, 1), (1, 2), (2, 0), (2, 1), (5, 0), (5, 1)},\n",
       " {(1, 1), (2, 0), (2, 1), (4, 0), (5, 0), (5, 1)},\n",
       " {(1, 1), (1, 2), (2, 0), (2, 1), (4, 0), (5, 0), (5, 1)},\n",
       " {(1, 1), (2, 0), (3, 1), (5, 0), (5, 1)},\n",
       " {(1, 1), (1, 2), (2, 0), (3, 1), (5, 0), (5, 1)},\n",
       " {(1, 1), (2, 0), (3, 1), (4, 0), (5, 0), (5, 1)},\n",
       " {(1, 1), (1, 2), (2, 0), (3, 1), (4, 0), (5, 0), (5, 1)},\n",
       " {(1, 1), (2, 0), (2, 1), (3, 1), (5, 0), (5, 1)},\n",
       " {(1, 1), (1, 2), (2, 0), (2, 1), (3, 1), (5, 0), (5, 1)},\n",
       " {(1, 1), (2, 0), (2, 1), (3, 1), (4, 0), (5, 0), (5, 1)},\n",
       " {(1, 1), (1, 2), (2, 0), (2, 1), (3, 1), (4, 0), (5, 0), (5, 1)},\n",
       " {(4, 2), (5, 0)},\n",
       " {(1, 2), (4, 2), (5, 0)},\n",
       " {(4, 0), (4, 2), (5, 0)},\n",
       " {(1, 2), (4, 0), (4, 2), (5, 0)},\n",
       " {(2, 1), (4, 2), (5, 0)},\n",
       " {(1, 2), (2, 1), (4, 2), (5, 0)},\n",
       " {(2, 1), (4, 0), (4, 2), (5, 0)},\n",
       " {(1, 2), (2, 1), (4, 0), (4, 2), (5, 0)},\n",
       " {(3, 1), (4, 2), (5, 0)},\n",
       " {(1, 2), (3, 1), (4, 2), (5, 0)},\n",
       " {(3, 1), (4, 0), (4, 2), (5, 0)},\n",
       " {(1, 2), (3, 1), (4, 0), (4, 2), (5, 0)},\n",
       " {(2, 1), (3, 1), (4, 2), (5, 0)},\n",
       " {(1, 2), (2, 1), (3, 1), (4, 2), (5, 0)},\n",
       " {(2, 1), (3, 1), (4, 0), (4, 2), (5, 0)},\n",
       " {(1, 2), (2, 1), (3, 1), (4, 0), (4, 2), (5, 0)},\n",
       " {(1, 1), (4, 2), (5, 0)},\n",
       " {(1, 1), (1, 2), (4, 2), (5, 0)},\n",
       " {(1, 1), (4, 0), (4, 2), (5, 0)},\n",
       " {(1, 1), (1, 2), (4, 0), (4, 2), (5, 0)},\n",
       " {(1, 1), (2, 1), (4, 2), (5, 0)},\n",
       " {(1, 1), (1, 2), (2, 1), (4, 2), (5, 0)},\n",
       " {(1, 1), (2, 1), (4, 0), (4, 2), (5, 0)},\n",
       " {(1, 1), (1, 2), (2, 1), (4, 0), (4, 2), (5, 0)},\n",
       " {(1, 1), (3, 1), (4, 2), (5, 0)},\n",
       " {(1, 1), (1, 2), (3, 1), (4, 2), (5, 0)},\n",
       " {(1, 1), (3, 1), (4, 0), (4, 2), (5, 0)},\n",
       " {(1, 1), (1, 2), (3, 1), (4, 0), (4, 2), (5, 0)},\n",
       " {(1, 1), (2, 1), (3, 1), (4, 2), (5, 0)},\n",
       " {(1, 1), (1, 2), (2, 1), (3, 1), (4, 2), (5, 0)},\n",
       " {(1, 1), (2, 1), (3, 1), (4, 0), (4, 2), (5, 0)},\n",
       " {(1, 1), (1, 2), (2, 1), (3, 1), (4, 0), (4, 2), (5, 0)},\n",
       " {(2, 0), (4, 2), (5, 0)},\n",
       " {(1, 2), (2, 0), (4, 2), (5, 0)},\n",
       " {(2, 0), (4, 0), (4, 2), (5, 0)},\n",
       " {(1, 2), (2, 0), (4, 0), (4, 2), (5, 0)},\n",
       " {(2, 0), (2, 1), (4, 2), (5, 0)},\n",
       " {(1, 2), (2, 0), (2, 1), (4, 2), (5, 0)},\n",
       " {(2, 0), (2, 1), (4, 0), (4, 2), (5, 0)},\n",
       " {(1, 2), (2, 0), (2, 1), (4, 0), (4, 2), (5, 0)},\n",
       " {(2, 0), (3, 1), (4, 2), (5, 0)},\n",
       " {(1, 2), (2, 0), (3, 1), (4, 2), (5, 0)},\n",
       " {(2, 0), (3, 1), (4, 0), (4, 2), (5, 0)},\n",
       " {(1, 2), (2, 0), (3, 1), (4, 0), (4, 2), (5, 0)},\n",
       " {(2, 0), (2, 1), (3, 1), (4, 2), (5, 0)},\n",
       " {(1, 2), (2, 0), (2, 1), (3, 1), (4, 2), (5, 0)},\n",
       " {(2, 0), (2, 1), (3, 1), (4, 0), (4, 2), (5, 0)},\n",
       " {(1, 2), (2, 0), (2, 1), (3, 1), (4, 0), (4, 2), (5, 0)},\n",
       " {(1, 1), (2, 0), (4, 2), (5, 0)},\n",
       " {(1, 1), (1, 2), (2, 0), (4, 2), (5, 0)},\n",
       " {(1, 1), (2, 0), (4, 0), (4, 2), (5, 0)},\n",
       " {(1, 1), (1, 2), (2, 0), (4, 0), (4, 2), (5, 0)},\n",
       " {(1, 1), (2, 0), (2, 1), (4, 2), (5, 0)},\n",
       " {(1, 1), (1, 2), (2, 0), (2, 1), (4, 2), (5, 0)},\n",
       " {(1, 1), (2, 0), (2, 1), (4, 0), (4, 2), (5, 0)},\n",
       " {(1, 1), (1, 2), (2, 0), (2, 1), (4, 0), (4, 2), (5, 0)},\n",
       " {(1, 1), (2, 0), (3, 1), (4, 2), (5, 0)},\n",
       " {(1, 1), (1, 2), (2, 0), (3, 1), (4, 2), (5, 0)},\n",
       " {(1, 1), (2, 0), (3, 1), (4, 0), (4, 2), (5, 0)},\n",
       " {(1, 1), (1, 2), (2, 0), (3, 1), (4, 0), (4, 2), (5, 0)},\n",
       " {(1, 1), (2, 0), (2, 1), (3, 1), (4, 2), (5, 0)},\n",
       " {(1, 1), (1, 2), (2, 0), (2, 1), (3, 1), (4, 2), (5, 0)},\n",
       " {(1, 1), (2, 0), (2, 1), (3, 1), (4, 0), (4, 2), (5, 0)},\n",
       " {(1, 1), (1, 2), (2, 0), (2, 1), (3, 1), (4, 0), (4, 2), (5, 0)},\n",
       " {(4, 2), (5, 0), (5, 1)},\n",
       " {(1, 2), (4, 2), (5, 0), (5, 1)},\n",
       " {(4, 0), (4, 2), (5, 0), (5, 1)},\n",
       " {(1, 2), (4, 0), (4, 2), (5, 0), (5, 1)},\n",
       " {(2, 1), (4, 2), (5, 0), (5, 1)},\n",
       " {(1, 2), (2, 1), (4, 2), (5, 0), (5, 1)},\n",
       " {(2, 1), (4, 0), (4, 2), (5, 0), (5, 1)},\n",
       " {(1, 2), (2, 1), (4, 0), (4, 2), (5, 0), (5, 1)},\n",
       " {(3, 1), (4, 2), (5, 0), (5, 1)},\n",
       " {(1, 2), (3, 1), (4, 2), (5, 0), (5, 1)},\n",
       " {(3, 1), (4, 0), (4, 2), (5, 0), (5, 1)},\n",
       " {(1, 2), (3, 1), (4, 0), (4, 2), (5, 0), (5, 1)},\n",
       " {(2, 1), (3, 1), (4, 2), (5, 0), (5, 1)},\n",
       " {(1, 2), (2, 1), (3, 1), (4, 2), (5, 0), (5, 1)},\n",
       " {(2, 1), (3, 1), (4, 0), (4, 2), (5, 0), (5, 1)},\n",
       " {(1, 2), (2, 1), (3, 1), (4, 0), (4, 2), (5, 0), (5, 1)},\n",
       " {(1, 1), (4, 2), (5, 0), (5, 1)},\n",
       " {(1, 1), (1, 2), (4, 2), (5, 0), (5, 1)},\n",
       " {(1, 1), (4, 0), (4, 2), (5, 0), (5, 1)},\n",
       " {(1, 1), (1, 2), (4, 0), (4, 2), (5, 0), (5, 1)},\n",
       " {(1, 1), (2, 1), (4, 2), (5, 0), (5, 1)},\n",
       " {(1, 1), (1, 2), (2, 1), (4, 2), (5, 0), (5, 1)},\n",
       " {(1, 1), (2, 1), (4, 0), (4, 2), (5, 0), (5, 1)},\n",
       " {(1, 1), (1, 2), (2, 1), (4, 0), (4, 2), (5, 0), (5, 1)},\n",
       " {(1, 1), (3, 1), (4, 2), (5, 0), (5, 1)},\n",
       " {(1, 1), (1, 2), (3, 1), (4, 2), (5, 0), (5, 1)},\n",
       " {(1, 1), (3, 1), (4, 0), (4, 2), (5, 0), (5, 1)},\n",
       " {(1, 1), (1, 2), (3, 1), (4, 0), (4, 2), (5, 0), (5, 1)},\n",
       " {(1, 1), (2, 1), (3, 1), (4, 2), (5, 0), (5, 1)},\n",
       " {(1, 1), (1, 2), (2, 1), (3, 1), (4, 2), (5, 0), (5, 1)},\n",
       " {(1, 1), (2, 1), (3, 1), (4, 0), (4, 2), (5, 0), (5, 1)},\n",
       " {(1, 1), (1, 2), (2, 1), (3, 1), (4, 0), (4, 2), (5, 0), (5, 1)},\n",
       " {(2, 0), (4, 2), (5, 0), (5, 1)},\n",
       " {(1, 2), (2, 0), (4, 2), (5, 0), (5, 1)},\n",
       " {(2, 0), (4, 0), (4, 2), (5, 0), (5, 1)},\n",
       " {(1, 2), (2, 0), (4, 0), (4, 2), (5, 0), (5, 1)},\n",
       " {(2, 0), (2, 1), (4, 2), (5, 0), (5, 1)},\n",
       " {(1, 2), (2, 0), (2, 1), (4, 2), (5, 0), (5, 1)},\n",
       " {(2, 0), (2, 1), (4, 0), (4, 2), (5, 0), (5, 1)},\n",
       " {(1, 2), (2, 0), (2, 1), (4, 0), (4, 2), (5, 0), (5, 1)},\n",
       " {(2, 0), (3, 1), (4, 2), (5, 0), (5, 1)},\n",
       " {(1, 2), (2, 0), (3, 1), (4, 2), (5, 0), (5, 1)},\n",
       " {(2, 0), (3, 1), (4, 0), (4, 2), (5, 0), (5, 1)},\n",
       " {(1, 2), (2, 0), (3, 1), (4, 0), (4, 2), (5, 0), (5, 1)},\n",
       " {(2, 0), (2, 1), (3, 1), (4, 2), (5, 0), (5, 1)},\n",
       " {(1, 2), (2, 0), (2, 1), (3, 1), (4, 2), (5, 0), (5, 1)},\n",
       " {(2, 0), (2, 1), (3, 1), (4, 0), (4, 2), (5, 0), (5, 1)},\n",
       " {(1, 2), (2, 0), (2, 1), (3, 1), (4, 0), (4, 2), (5, 0), (5, 1)},\n",
       " {(1, 1), (2, 0), (4, 2), (5, 0), (5, 1)},\n",
       " {(1, 1), (1, 2), (2, 0), (4, 2), (5, 0), (5, 1)},\n",
       " {(1, 1), (2, 0), (4, 0), (4, 2), (5, 0), (5, 1)},\n",
       " {(1, 1), (1, 2), (2, 0), (4, 0), (4, 2), (5, 0), (5, 1)},\n",
       " {(1, 1), (2, 0), (2, 1), (4, 2), (5, 0), (5, 1)},\n",
       " {(1, 1), (1, 2), (2, 0), (2, 1), (4, 2), (5, 0), (5, 1)},\n",
       " {(1, 1), (2, 0), (2, 1), (4, 0), (4, 2), (5, 0), (5, 1)},\n",
       " {(1, 1), (1, 2), (2, 0), (2, 1), (4, 0), (4, 2), (5, 0), (5, 1)},\n",
       " {(1, 1), (2, 0), (3, 1), (4, 2), (5, 0), (5, 1)},\n",
       " {(1, 1), (1, 2), (2, 0), (3, 1), (4, 2), (5, 0), (5, 1)},\n",
       " {(1, 1), (2, 0), (3, 1), (4, 0), (4, 2), (5, 0), (5, 1)},\n",
       " {(1, 1), (1, 2), (2, 0), (3, 1), (4, 0), (4, 2), (5, 0), (5, 1)},\n",
       " {(1, 1), (2, 0), (2, 1), (3, 1), (4, 2), (5, 0), (5, 1)},\n",
       " {(1, 1), (1, 2), (2, 0), (2, 1), (3, 1), (4, 2), (5, 0), (5, 1)},\n",
       " {(1, 1), (2, 0), (2, 1), (3, 1), (4, 0), (4, 2), (5, 0), (5, 1)},\n",
       " {(1, 1), (1, 2), (2, 0), (2, 1), (3, 1), (4, 0), (4, 2), (5, 0), (5, 1)},\n",
       " {(3, 0), (5, 0)},\n",
       " {(1, 2), (3, 0), (5, 0)},\n",
       " {(3, 0), (4, 0), (5, 0)},\n",
       " {(1, 2), (3, 0), (4, 0), (5, 0)},\n",
       " {(2, 1), (3, 0), (5, 0)},\n",
       " {(1, 2), (2, 1), (3, 0), (5, 0)},\n",
       " {(2, 1), (3, 0), (4, 0), (5, 0)},\n",
       " {(1, 2), (2, 1), (3, 0), (4, 0), (5, 0)},\n",
       " {(3, 0), (3, 1), (5, 0)},\n",
       " {(1, 2), (3, 0), (3, 1), (5, 0)},\n",
       " {(3, 0), (3, 1), (4, 0), (5, 0)},\n",
       " {(1, 2), (3, 0), (3, 1), (4, 0), (5, 0)},\n",
       " {(2, 1), (3, 0), (3, 1), (5, 0)},\n",
       " {(1, 2), (2, 1), (3, 0), (3, 1), (5, 0)},\n",
       " {(2, 1), (3, 0), (3, 1), (4, 0), (5, 0)},\n",
       " {(1, 2), (2, 1), (3, 0), (3, 1), (4, 0), (5, 0)},\n",
       " {(1, 1), (3, 0), (5, 0)},\n",
       " {(1, 1), (1, 2), (3, 0), (5, 0)},\n",
       " {(1, 1), (3, 0), (4, 0), (5, 0)},\n",
       " {(1, 1), (1, 2), (3, 0), (4, 0), (5, 0)},\n",
       " {(1, 1), (2, 1), (3, 0), (5, 0)},\n",
       " {(1, 1), (1, 2), (2, 1), (3, 0), (5, 0)},\n",
       " {(1, 1), (2, 1), (3, 0), (4, 0), (5, 0)},\n",
       " {(1, 1), (1, 2), (2, 1), (3, 0), (4, 0), (5, 0)},\n",
       " {(1, 1), (3, 0), (3, 1), (5, 0)},\n",
       " {(1, 1), (1, 2), (3, 0), (3, 1), (5, 0)},\n",
       " {(1, 1), (3, 0), (3, 1), (4, 0), (5, 0)},\n",
       " {(1, 1), (1, 2), (3, 0), (3, 1), (4, 0), (5, 0)},\n",
       " {(1, 1), (2, 1), (3, 0), (3, 1), (5, 0)},\n",
       " {(1, 1), (1, 2), (2, 1), (3, 0), (3, 1), (5, 0)},\n",
       " {(1, 1), (2, 1), (3, 0), (3, 1), (4, 0), (5, 0)},\n",
       " {(1, 1), (1, 2), (2, 1), (3, 0), (3, 1), (4, 0), (5, 0)},\n",
       " {(2, 0), (3, 0), (5, 0)},\n",
       " {(1, 2), (2, 0), (3, 0), (5, 0)},\n",
       " {(2, 0), (3, 0), (4, 0), (5, 0)},\n",
       " {(1, 2), (2, 0), (3, 0), (4, 0), (5, 0)},\n",
       " {(2, 0), (2, 1), (3, 0), (5, 0)},\n",
       " {(1, 2), (2, 0), (2, 1), (3, 0), (5, 0)},\n",
       " {(2, 0), (2, 1), (3, 0), (4, 0), (5, 0)},\n",
       " {(1, 2), (2, 0), (2, 1), (3, 0), (4, 0), (5, 0)},\n",
       " {(2, 0), (3, 0), (3, 1), (5, 0)},\n",
       " {(1, 2), (2, 0), (3, 0), (3, 1), (5, 0)},\n",
       " {(2, 0), (3, 0), (3, 1), (4, 0), (5, 0)},\n",
       " {(1, 2), (2, 0), (3, 0), (3, 1), (4, 0), (5, 0)},\n",
       " {(2, 0), (2, 1), (3, 0), (3, 1), (5, 0)},\n",
       " {(1, 2), (2, 0), (2, 1), (3, 0), (3, 1), (5, 0)},\n",
       " {(2, 0), (2, 1), (3, 0), (3, 1), (4, 0), (5, 0)},\n",
       " {(1, 2), (2, 0), (2, 1), (3, 0), (3, 1), (4, 0), (5, 0)},\n",
       " {(1, 1), (2, 0), (3, 0), (5, 0)},\n",
       " {(1, 1), (1, 2), (2, 0), (3, 0), (5, 0)},\n",
       " {(1, 1), (2, 0), (3, 0), (4, 0), (5, 0)},\n",
       " {(1, 1), (1, 2), (2, 0), (3, 0), (4, 0), (5, 0)},\n",
       " {(1, 1), (2, 0), (2, 1), (3, 0), (5, 0)},\n",
       " {(1, 1), (1, 2), (2, 0), (2, 1), (3, 0), (5, 0)},\n",
       " {(1, 1), (2, 0), (2, 1), (3, 0), (4, 0), (5, 0)},\n",
       " {(1, 1), (1, 2), (2, 0), (2, 1), (3, 0), (4, 0), (5, 0)},\n",
       " {(1, 1), (2, 0), (3, 0), (3, 1), (5, 0)},\n",
       " {(1, 1), (1, 2), (2, 0), (3, 0), (3, 1), (5, 0)},\n",
       " {(1, 1), (2, 0), (3, 0), (3, 1), (4, 0), (5, 0)},\n",
       " {(1, 1), (1, 2), (2, 0), (3, 0), (3, 1), (4, 0), (5, 0)},\n",
       " {(1, 1), (2, 0), (2, 1), (3, 0), (3, 1), (5, 0)},\n",
       " {(1, 1), (1, 2), (2, 0), (2, 1), (3, 0), (3, 1), (5, 0)},\n",
       " {(1, 1), (2, 0), (2, 1), (3, 0), (3, 1), (4, 0), (5, 0)},\n",
       " {(1, 1), (1, 2), (2, 0), (2, 1), (3, 0), (3, 1), (4, 0), (5, 0)},\n",
       " {(3, 0), (5, 0), (5, 1)},\n",
       " {(1, 2), (3, 0), (5, 0), (5, 1)},\n",
       " {(3, 0), (4, 0), (5, 0), (5, 1)},\n",
       " {(1, 2), (3, 0), (4, 0), (5, 0), (5, 1)},\n",
       " {(2, 1), (3, 0), (5, 0), (5, 1)},\n",
       " {(1, 2), (2, 1), (3, 0), (5, 0), (5, 1)},\n",
       " {(2, 1), (3, 0), (4, 0), (5, 0), (5, 1)},\n",
       " {(1, 2), (2, 1), (3, 0), (4, 0), (5, 0), (5, 1)},\n",
       " {(3, 0), (3, 1), (5, 0), (5, 1)},\n",
       " {(1, 2), (3, 0), (3, 1), (5, 0), (5, 1)},\n",
       " {(3, 0), (3, 1), (4, 0), (5, 0), (5, 1)},\n",
       " {(1, 2), (3, 0), (3, 1), (4, 0), (5, 0), (5, 1)},\n",
       " {(2, 1), (3, 0), (3, 1), (5, 0), (5, 1)},\n",
       " {(1, 2), (2, 1), (3, 0), (3, 1), (5, 0), (5, 1)},\n",
       " {(2, 1), (3, 0), (3, 1), (4, 0), (5, 0), (5, 1)},\n",
       " {(1, 2), (2, 1), (3, 0), (3, 1), (4, 0), (5, 0), (5, 1)},\n",
       " {(1, 1), (3, 0), (5, 0), (5, 1)},\n",
       " {(1, 1), (1, 2), (3, 0), (5, 0), (5, 1)},\n",
       " {(1, 1), (3, 0), (4, 0), (5, 0), (5, 1)},\n",
       " {(1, 1), (1, 2), (3, 0), (4, 0), (5, 0), (5, 1)},\n",
       " {(1, 1), (2, 1), (3, 0), (5, 0), (5, 1)},\n",
       " {(1, 1), (1, 2), (2, 1), (3, 0), (5, 0), (5, 1)},\n",
       " {(1, 1), (2, 1), (3, 0), (4, 0), (5, 0), (5, 1)},\n",
       " {(1, 1), (1, 2), (2, 1), (3, 0), (4, 0), (5, 0), (5, 1)},\n",
       " {(1, 1), (3, 0), (3, 1), (5, 0), (5, 1)},\n",
       " {(1, 1), (1, 2), (3, 0), (3, 1), (5, 0), (5, 1)},\n",
       " {(1, 1), (3, 0), (3, 1), (4, 0), (5, 0), (5, 1)},\n",
       " {(1, 1), (1, 2), (3, 0), (3, 1), (4, 0), (5, 0), (5, 1)},\n",
       " {(1, 1), (2, 1), (3, 0), (3, 1), (5, 0), (5, 1)},\n",
       " {(1, 1), (1, 2), (2, 1), (3, 0), (3, 1), (5, 0), (5, 1)},\n",
       " {(1, 1), (2, 1), (3, 0), (3, 1), (4, 0), (5, 0), (5, 1)},\n",
       " {(1, 1), (1, 2), (2, 1), (3, 0), (3, 1), (4, 0), (5, 0), (5, 1)},\n",
       " {(2, 0), (3, 0), (5, 0), (5, 1)},\n",
       " {(1, 2), (2, 0), (3, 0), (5, 0), (5, 1)},\n",
       " {(2, 0), (3, 0), (4, 0), (5, 0), (5, 1)},\n",
       " {(1, 2), (2, 0), (3, 0), (4, 0), (5, 0), (5, 1)},\n",
       " {(2, 0), (2, 1), (3, 0), (5, 0), (5, 1)},\n",
       " {(1, 2), (2, 0), (2, 1), (3, 0), (5, 0), (5, 1)},\n",
       " {(2, 0), (2, 1), (3, 0), (4, 0), (5, 0), (5, 1)},\n",
       " {(1, 2), (2, 0), (2, 1), (3, 0), (4, 0), (5, 0), (5, 1)},\n",
       " {(2, 0), (3, 0), (3, 1), (5, 0), (5, 1)},\n",
       " {(1, 2), (2, 0), (3, 0), (3, 1), (5, 0), (5, 1)},\n",
       " {(2, 0), (3, 0), (3, 1), (4, 0), (5, 0), (5, 1)},\n",
       " {(1, 2), (2, 0), (3, 0), (3, 1), (4, 0), (5, 0), (5, 1)},\n",
       " {(2, 0), (2, 1), (3, 0), (3, 1), (5, 0), (5, 1)},\n",
       " {(1, 2), (2, 0), (2, 1), (3, 0), (3, 1), (5, 0), (5, 1)},\n",
       " {(2, 0), (2, 1), (3, 0), (3, 1), (4, 0), (5, 0), (5, 1)},\n",
       " {(1, 2), (2, 0), (2, 1), (3, 0), (3, 1), (4, 0), (5, 0), (5, 1)},\n",
       " {(1, 1), (2, 0), (3, 0), (5, 0), (5, 1)},\n",
       " {(1, 1), (1, 2), (2, 0), (3, 0), (5, 0), (5, 1)},\n",
       " {(1, 1), (2, 0), (3, 0), (4, 0), (5, 0), (5, 1)},\n",
       " {(1, 1), (1, 2), (2, 0), (3, 0), (4, 0), (5, 0), (5, 1)},\n",
       " {(1, 1), (2, 0), (2, 1), (3, 0), (5, 0), (5, 1)},\n",
       " {(1, 1), (1, 2), (2, 0), (2, 1), (3, 0), (5, 0), (5, 1)},\n",
       " {(1, 1), (2, 0), (2, 1), (3, 0), (4, 0), (5, 0), (5, 1)},\n",
       " {(1, 1), (1, 2), (2, 0), (2, 1), (3, 0), (4, 0), (5, 0), (5, 1)},\n",
       " {(1, 1), (2, 0), (3, 0), (3, 1), (5, 0), (5, 1)},\n",
       " {(1, 1), (1, 2), (2, 0), (3, 0), (3, 1), (5, 0), (5, 1)},\n",
       " {(1, 1), (2, 0), (3, 0), (3, 1), (4, 0), (5, 0), (5, 1)},\n",
       " {(1, 1), (1, 2), (2, 0), (3, 0), (3, 1), (4, 0), (5, 0), (5, 1)},\n",
       " {(1, 1), (2, 0), (2, 1), (3, 0), (3, 1), (5, 0), (5, 1)},\n",
       " {(1, 1), (1, 2), (2, 0), (2, 1), (3, 0), (3, 1), (5, 0), (5, 1)},\n",
       " {(1, 1), (2, 0), (2, 1), (3, 0), (3, 1), (4, 0), (5, 0), (5, 1)},\n",
       " {(1, 1), (1, 2), (2, 0), (2, 1), (3, 0), (3, 1), (4, 0), (5, 0), (5, 1)},\n",
       " {(3, 0), (4, 2), (5, 0)},\n",
       " {(1, 2), (3, 0), (4, 2), (5, 0)},\n",
       " {(3, 0), (4, 0), (4, 2), (5, 0)},\n",
       " {(1, 2), (3, 0), (4, 0), (4, 2), (5, 0)},\n",
       " {(2, 1), (3, 0), (4, 2), (5, 0)},\n",
       " {(1, 2), (2, 1), (3, 0), (4, 2), (5, 0)},\n",
       " {(2, 1), (3, 0), (4, 0), (4, 2), (5, 0)},\n",
       " {(1, 2), (2, 1), (3, 0), (4, 0), (4, 2), (5, 0)},\n",
       " {(3, 0), (3, 1), (4, 2), (5, 0)},\n",
       " {(1, 2), (3, 0), (3, 1), (4, 2), (5, 0)},\n",
       " {(3, 0), (3, 1), (4, 0), (4, 2), (5, 0)},\n",
       " {(1, 2), (3, 0), (3, 1), (4, 0), (4, 2), (5, 0)},\n",
       " {(2, 1), (3, 0), (3, 1), (4, 2), (5, 0)},\n",
       " {(1, 2), (2, 1), (3, 0), (3, 1), (4, 2), (5, 0)},\n",
       " {(2, 1), (3, 0), (3, 1), (4, 0), (4, 2), (5, 0)},\n",
       " {(1, 2), (2, 1), (3, 0), (3, 1), (4, 0), (4, 2), (5, 0)},\n",
       " {(1, 1), (3, 0), (4, 2), (5, 0)},\n",
       " {(1, 1), (1, 2), (3, 0), (4, 2), (5, 0)},\n",
       " {(1, 1), (3, 0), (4, 0), (4, 2), (5, 0)},\n",
       " {(1, 1), (1, 2), (3, 0), (4, 0), (4, 2), (5, 0)},\n",
       " {(1, 1), (2, 1), (3, 0), (4, 2), (5, 0)},\n",
       " {(1, 1), (1, 2), (2, 1), (3, 0), (4, 2), (5, 0)},\n",
       " {(1, 1), (2, 1), (3, 0), (4, 0), (4, 2), (5, 0)},\n",
       " {(1, 1), (1, 2), (2, 1), (3, 0), (4, 0), (4, 2), (5, 0)},\n",
       " {(1, 1), (3, 0), (3, 1), (4, 2), (5, 0)},\n",
       " {(1, 1), (1, 2), (3, 0), (3, 1), (4, 2), (5, 0)},\n",
       " {(1, 1), (3, 0), (3, 1), (4, 0), (4, 2), (5, 0)},\n",
       " {(1, 1), (1, 2), (3, 0), (3, 1), (4, 0), (4, 2), (5, 0)},\n",
       " {(1, 1), (2, 1), (3, 0), (3, 1), (4, 2), (5, 0)},\n",
       " {(1, 1), (1, 2), (2, 1), (3, 0), (3, 1), (4, 2), (5, 0)},\n",
       " {(1, 1), (2, 1), (3, 0), (3, 1), (4, 0), (4, 2), (5, 0)},\n",
       " {(1, 1), (1, 2), (2, 1), (3, 0), (3, 1), (4, 0), (4, 2), (5, 0)},\n",
       " {(2, 0), (3, 0), (4, 2), (5, 0)},\n",
       " {(1, 2), (2, 0), (3, 0), (4, 2), (5, 0)},\n",
       " {(2, 0), (3, 0), (4, 0), (4, 2), (5, 0)},\n",
       " {(1, 2), (2, 0), (3, 0), (4, 0), (4, 2), (5, 0)},\n",
       " {(2, 0), (2, 1), (3, 0), (4, 2), (5, 0)},\n",
       " {(1, 2), (2, 0), (2, 1), (3, 0), (4, 2), (5, 0)},\n",
       " {(2, 0), (2, 1), (3, 0), (4, 0), (4, 2), (5, 0)},\n",
       " {(1, 2), (2, 0), (2, 1), (3, 0), (4, 0), (4, 2), (5, 0)},\n",
       " {(2, 0), (3, 0), (3, 1), (4, 2), (5, 0)},\n",
       " {(1, 2), (2, 0), (3, 0), (3, 1), (4, 2), (5, 0)},\n",
       " {(2, 0), (3, 0), (3, 1), (4, 0), (4, 2), (5, 0)},\n",
       " {(1, 2), (2, 0), (3, 0), (3, 1), (4, 0), (4, 2), (5, 0)},\n",
       " {(2, 0), (2, 1), (3, 0), (3, 1), (4, 2), (5, 0)},\n",
       " {(1, 2), (2, 0), (2, 1), (3, 0), (3, 1), (4, 2), (5, 0)},\n",
       " {(2, 0), (2, 1), (3, 0), (3, 1), (4, 0), (4, 2), (5, 0)},\n",
       " {(1, 2), (2, 0), (2, 1), (3, 0), (3, 1), (4, 0), (4, 2), (5, 0)},\n",
       " {(1, 1), (2, 0), (3, 0), (4, 2), (5, 0)},\n",
       " {(1, 1), (1, 2), (2, 0), (3, 0), (4, 2), (5, 0)},\n",
       " {(1, 1), (2, 0), (3, 0), (4, 0), (4, 2), (5, 0)},\n",
       " {(1, 1), (1, 2), (2, 0), (3, 0), (4, 0), (4, 2), (5, 0)},\n",
       " {(1, 1), (2, 0), (2, 1), (3, 0), (4, 2), (5, 0)},\n",
       " {(1, 1), (1, 2), (2, 0), (2, 1), (3, 0), (4, 2), (5, 0)},\n",
       " {(1, 1), (2, 0), (2, 1), (3, 0), (4, 0), (4, 2), (5, 0)},\n",
       " {(1, 1), (1, 2), (2, 0), (2, 1), (3, 0), (4, 0), (4, 2), (5, 0)},\n",
       " {(1, 1), (2, 0), (3, 0), (3, 1), (4, 2), (5, 0)},\n",
       " {(1, 1), (1, 2), (2, 0), (3, 0), (3, 1), (4, 2), (5, 0)},\n",
       " {(1, 1), (2, 0), (3, 0), (3, 1), (4, 0), (4, 2), (5, 0)},\n",
       " {(1, 1), (1, 2), (2, 0), (3, 0), (3, 1), (4, 0), (4, 2), (5, 0)},\n",
       " {(1, 1), (2, 0), (2, 1), (3, 0), (3, 1), (4, 2), (5, 0)},\n",
       " {(1, 1), (1, 2), (2, 0), (2, 1), (3, 0), (3, 1), (4, 2), (5, 0)},\n",
       " {(1, 1), (2, 0), (2, 1), (3, 0), (3, 1), (4, 0), (4, 2), (5, 0)},\n",
       " {(1, 1), (1, 2), (2, 0), (2, 1), (3, 0), (3, 1), (4, 0), (4, 2), (5, 0)},\n",
       " {(3, 0), (4, 2), (5, 0), (5, 1)},\n",
       " {(1, 2), (3, 0), (4, 2), (5, 0), (5, 1)},\n",
       " {(3, 0), (4, 0), (4, 2), (5, 0), (5, 1)},\n",
       " {(1, 2), (3, 0), (4, 0), (4, 2), (5, 0), (5, 1)},\n",
       " {(2, 1), (3, 0), (4, 2), (5, 0), (5, 1)},\n",
       " {(1, 2), (2, 1), (3, 0), (4, 2), (5, 0), (5, 1)},\n",
       " {(2, 1), (3, 0), (4, 0), (4, 2), (5, 0), (5, 1)},\n",
       " {(1, 2), (2, 1), (3, 0), (4, 0), (4, 2), (5, 0), (5, 1)},\n",
       " {(3, 0), (3, 1), (4, 2), (5, 0), (5, 1)},\n",
       " {(1, 2), (3, 0), (3, 1), (4, 2), (5, 0), (5, 1)},\n",
       " {(3, 0), (3, 1), (4, 0), (4, 2), (5, 0), (5, 1)},\n",
       " {(1, 2), (3, 0), (3, 1), (4, 0), (4, 2), (5, 0), (5, 1)},\n",
       " {(2, 1), (3, 0), (3, 1), (4, 2), (5, 0), (5, 1)},\n",
       " {(1, 2), (2, 1), (3, 0), (3, 1), (4, 2), (5, 0), (5, 1)},\n",
       " {(2, 1), (3, 0), (3, 1), (4, 0), (4, 2), (5, 0), (5, 1)},\n",
       " {(1, 2), (2, 1), (3, 0), (3, 1), (4, 0), (4, 2), (5, 0), (5, 1)},\n",
       " {(1, 1), (3, 0), (4, 2), (5, 0), (5, 1)},\n",
       " {(1, 1), (1, 2), (3, 0), (4, 2), (5, 0), (5, 1)},\n",
       " {(1, 1), (3, 0), (4, 0), (4, 2), (5, 0), (5, 1)},\n",
       " {(1, 1), (1, 2), (3, 0), (4, 0), (4, 2), (5, 0), (5, 1)},\n",
       " {(1, 1), (2, 1), (3, 0), (4, 2), (5, 0), (5, 1)},\n",
       " {(1, 1), (1, 2), (2, 1), (3, 0), (4, 2), (5, 0), (5, 1)},\n",
       " {(1, 1), (2, 1), (3, 0), (4, 0), (4, 2), (5, 0), (5, 1)},\n",
       " {(1, 1), (1, 2), (2, 1), (3, 0), (4, 0), (4, 2), (5, 0), (5, 1)},\n",
       " {(1, 1), (3, 0), (3, 1), (4, 2), (5, 0), (5, 1)},\n",
       " {(1, 1), (1, 2), (3, 0), (3, 1), (4, 2), (5, 0), (5, 1)},\n",
       " {(1, 1), (3, 0), (3, 1), (4, 0), (4, 2), (5, 0), (5, 1)},\n",
       " {(1, 1), (1, 2), (3, 0), (3, 1), (4, 0), (4, 2), (5, 0), (5, 1)},\n",
       " {(1, 1), (2, 1), (3, 0), (3, 1), (4, 2), (5, 0), (5, 1)},\n",
       " {(1, 1), (1, 2), (2, 1), (3, 0), (3, 1), (4, 2), (5, 0), (5, 1)},\n",
       " {(1, 1), (2, 1), (3, 0), (3, 1), (4, 0), (4, 2), (5, 0), (5, 1)},\n",
       " {(1, 1), (1, 2), (2, 1), (3, 0), (3, 1), (4, 0), (4, 2), (5, 0), (5, 1)},\n",
       " {(2, 0), (3, 0), (4, 2), (5, 0), (5, 1)},\n",
       " {(1, 2), (2, 0), (3, 0), (4, 2), (5, 0), (5, 1)},\n",
       " {(2, 0), (3, 0), (4, 0), (4, 2), (5, 0), (5, 1)},\n",
       " {(1, 2), (2, 0), (3, 0), (4, 0), (4, 2), (5, 0), (5, 1)},\n",
       " {(2, 0), (2, 1), (3, 0), (4, 2), (5, 0), (5, 1)},\n",
       " {(1, 2), (2, 0), (2, 1), (3, 0), (4, 2), (5, 0), (5, 1)},\n",
       " {(2, 0), (2, 1), (3, 0), (4, 0), (4, 2), (5, 0), (5, 1)},\n",
       " {(1, 2), (2, 0), (2, 1), (3, 0), (4, 0), (4, 2), (5, 0), (5, 1)},\n",
       " ...]"
      ]
     },
     "execution_count": 564,
     "metadata": {},
     "output_type": "execute_result"
    }
   ],
   "source": [
    "ps(game_samp_space)"
   ]
  },
  {
   "cell_type": "markdown",
   "metadata": {
    "cell_style": "center",
    "slideshow": {
     "slide_type": "slide"
    }
   },
   "source": [
    "Expressing the joint probability of:\n",
    "$P(X = 2, Y = 1)$\n",
    "\n",
    "in terms of set theory."
   ]
  },
  {
   "cell_type": "code",
   "execution_count": 573,
   "metadata": {
    "cell_style": "split",
    "slideshow": {
     "slide_type": "fragment"
    }
   },
   "outputs": [
    {
     "name": "stdout",
     "output_type": "stream",
     "text": [
      "True\n"
     ]
    },
    {
     "data": {
      "text/plain": [
       "{(2, 0), (2, 1), (2, 2)}"
      ]
     },
     "execution_count": 573,
     "metadata": {},
     "output_type": "execute_result"
    }
   ],
   "source": [
    "X2_event = {elem for elem in game_samp_space \n",
    "            if elem[0] == 2}\n",
    "\n",
    "# is it a subset of the joint evet space\n",
    "print(X2_event.issubset(game_samp_space))\n",
    "X2_event"
   ]
  },
  {
   "cell_type": "code",
   "execution_count": 575,
   "metadata": {
    "cell_style": "split",
    "slideshow": {
     "slide_type": "fragment"
    }
   },
   "outputs": [
    {
     "name": "stdout",
     "output_type": "stream",
     "text": [
      "True\n"
     ]
    },
    {
     "data": {
      "text/plain": [
       "{(1, 1), (2, 1), (3, 1), (4, 1), (5, 1)}"
      ]
     },
     "execution_count": 575,
     "metadata": {},
     "output_type": "execute_result"
    }
   ],
   "source": [
    "Y1_event = {elem for elem in game_samp_space \n",
    "            if elem[1] == 1}\n",
    "\n",
    "# is it a subset of the joint evet space\n",
    "print(Y1_event.issubset(game_samp_space))\n",
    "Y1_event"
   ]
  },
  {
   "cell_type": "markdown",
   "metadata": {
    "slideshow": {
     "slide_type": "subslide"
    }
   },
   "source": [
    "Getting $ A \\cap B $:"
   ]
  },
  {
   "cell_type": "code",
   "execution_count": 577,
   "metadata": {
    "slideshow": {
     "slide_type": "fragment"
    }
   },
   "outputs": [
    {
     "data": {
      "text/plain": [
       "{(2, 1)}"
      ]
     },
     "execution_count": 577,
     "metadata": {},
     "output_type": "execute_result"
    }
   ],
   "source": [
    "X2_event.intersection(Y1_event)"
   ]
  },
  {
   "cell_type": "markdown",
   "metadata": {
    "slideshow": {
     "slide_type": "fragment"
    }
   },
   "source": [
    "So $ P(A \\cap B) $ is the joint probability but defined over events."
   ]
  },
  {
   "cell_type": "markdown",
   "metadata": {
    "slideshow": {
     "slide_type": "slide"
    }
   },
   "source": [
    "#### The marginal probability\n",
    "- just the probabilities for each variable individually\n",
    "- irrespective of other vriable"
   ]
  },
  {
   "cell_type": "code",
   "execution_count": 584,
   "metadata": {
    "cell_style": "split",
    "slideshow": {
     "slide_type": "-"
    }
   },
   "outputs": [
    {
     "data": {
      "text/html": [
       "<div>\n",
       "<style scoped>\n",
       "    .dataframe tbody tr th:only-of-type {\n",
       "        vertical-align: middle;\n",
       "    }\n",
       "\n",
       "    .dataframe tbody tr th {\n",
       "        vertical-align: top;\n",
       "    }\n",
       "\n",
       "    .dataframe thead th {\n",
       "        text-align: right;\n",
       "    }\n",
       "</style>\n",
       "<table border=\"1\" class=\"dataframe\">\n",
       "  <thead>\n",
       "    <tr style=\"text-align: right;\">\n",
       "      <th>Gameplay rating</th>\n",
       "      <th>1</th>\n",
       "      <th>2</th>\n",
       "      <th>3</th>\n",
       "      <th>4</th>\n",
       "      <th>5</th>\n",
       "    </tr>\n",
       "    <tr>\n",
       "      <th>GFX rating</th>\n",
       "      <th></th>\n",
       "      <th></th>\n",
       "      <th></th>\n",
       "      <th></th>\n",
       "      <th></th>\n",
       "    </tr>\n",
       "  </thead>\n",
       "  <tbody>\n",
       "    <tr>\n",
       "      <th>0</th>\n",
       "      <td>80</td>\n",
       "      <td>40</td>\n",
       "      <td>30</td>\n",
       "      <td>76</td>\n",
       "      <td>60</td>\n",
       "    </tr>\n",
       "    <tr>\n",
       "      <th>1</th>\n",
       "      <td>75</td>\n",
       "      <td>65</td>\n",
       "      <td>82</td>\n",
       "      <td>82</td>\n",
       "      <td>75</td>\n",
       "    </tr>\n",
       "    <tr>\n",
       "      <th>2</th>\n",
       "      <td>90</td>\n",
       "      <td>34</td>\n",
       "      <td>100</td>\n",
       "      <td>75</td>\n",
       "      <td>70</td>\n",
       "    </tr>\n",
       "  </tbody>\n",
       "</table>\n",
       "</div>"
      ],
      "text/plain": [
       "Gameplay rating   1   2    3   4   5\n",
       "GFX rating                          \n",
       "0                80  40   30  76  60\n",
       "1                75  65   82  82  75\n",
       "2                90  34  100  75  70"
      ]
     },
     "execution_count": 584,
     "metadata": {},
     "output_type": "execute_result"
    }
   ],
   "source": [
    "gamerating_df "
   ]
  },
  {
   "cell_type": "markdown",
   "metadata": {
    "cell_style": "split",
    "slideshow": {
     "slide_type": "-"
    }
   },
   "source": [
    "Calculating marginal relative frequency for GFX rating:\n",
    "- Sum over all gameplay rating values"
   ]
  },
  {
   "cell_type": "code",
   "execution_count": 589,
   "metadata": {
    "cell_style": "split",
    "scrolled": true,
    "slideshow": {
     "slide_type": "-"
    }
   },
   "outputs": [
    {
     "data": {
      "text/plain": [
       "GFX rating\n",
       "0    286\n",
       "1    379\n",
       "2    369\n",
       "dtype: int64"
      ]
     },
     "execution_count": 589,
     "metadata": {},
     "output_type": "execute_result"
    }
   ],
   "source": [
    "gamerating_df.sum(axis = 1)"
   ]
  },
  {
   "cell_type": "markdown",
   "metadata": {
    "cell_style": "split",
    "slideshow": {
     "slide_type": "slide"
    }
   },
   "source": [
    "These are counts of respondents:\n",
    "- for each graphics rating (regardless of their gameplay rating)\n",
    "\n",
    "Normalize by total respondent number for marginal relative frequency "
   ]
  },
  {
   "cell_type": "code",
   "execution_count": 607,
   "metadata": {
    "cell_style": "split",
    "slideshow": {
     "slide_type": "fragment"
    }
   },
   "outputs": [
    {
     "name": "stdout",
     "output_type": "stream",
     "text": [
      "GFX rating\n",
      "0    0.276596\n",
      "1    0.366538\n",
      "2    0.356867\n",
      "dtype: float64\n",
      "1.0\n"
     ]
    }
   ],
   "source": [
    "marg_on_Y = \\\n",
    "gamerating_df.sum(axis = 1)/N_reviews\n",
    "\n",
    "print(marg_on_Y)\n",
    "# does it satisfy the axioms?\n",
    "print(marg_on_Y.sum())"
   ]
  },
  {
   "cell_type": "markdown",
   "metadata": {
    "slideshow": {
     "slide_type": "slide"
    }
   },
   "source": [
    "Which can be computed directly from the table of joint relative frequencies:"
   ]
  },
  {
   "cell_type": "code",
   "execution_count": 598,
   "metadata": {
    "cell_style": "split",
    "slideshow": {
     "slide_type": "fragment"
    }
   },
   "outputs": [
    {
     "data": {
      "text/html": [
       "<div>\n",
       "<style scoped>\n",
       "    .dataframe tbody tr th:only-of-type {\n",
       "        vertical-align: middle;\n",
       "    }\n",
       "\n",
       "    .dataframe tbody tr th {\n",
       "        vertical-align: top;\n",
       "    }\n",
       "\n",
       "    .dataframe thead th {\n",
       "        text-align: right;\n",
       "    }\n",
       "</style>\n",
       "<table border=\"1\" class=\"dataframe\">\n",
       "  <thead>\n",
       "    <tr style=\"text-align: right;\">\n",
       "      <th>Gameplay rating</th>\n",
       "      <th>1</th>\n",
       "      <th>2</th>\n",
       "      <th>3</th>\n",
       "      <th>4</th>\n",
       "      <th>5</th>\n",
       "    </tr>\n",
       "    <tr>\n",
       "      <th>GFX rating</th>\n",
       "      <th></th>\n",
       "      <th></th>\n",
       "      <th></th>\n",
       "      <th></th>\n",
       "      <th></th>\n",
       "    </tr>\n",
       "  </thead>\n",
       "  <tbody>\n",
       "    <tr>\n",
       "      <th>0</th>\n",
       "      <td>0.077369</td>\n",
       "      <td>0.038685</td>\n",
       "      <td>0.029014</td>\n",
       "      <td>0.073501</td>\n",
       "      <td>0.058027</td>\n",
       "    </tr>\n",
       "    <tr>\n",
       "      <th>1</th>\n",
       "      <td>0.072534</td>\n",
       "      <td>0.062863</td>\n",
       "      <td>0.079304</td>\n",
       "      <td>0.079304</td>\n",
       "      <td>0.072534</td>\n",
       "    </tr>\n",
       "    <tr>\n",
       "      <th>2</th>\n",
       "      <td>0.087041</td>\n",
       "      <td>0.032882</td>\n",
       "      <td>0.096712</td>\n",
       "      <td>0.072534</td>\n",
       "      <td>0.067698</td>\n",
       "    </tr>\n",
       "  </tbody>\n",
       "</table>\n",
       "</div>"
      ],
      "text/plain": [
       "Gameplay rating         1         2         3         4         5\n",
       "GFX rating                                                       \n",
       "0                0.077369  0.038685  0.029014  0.073501  0.058027\n",
       "1                0.072534  0.062863  0.079304  0.079304  0.072534\n",
       "2                0.087041  0.032882  0.096712  0.072534  0.067698"
      ]
     },
     "execution_count": 598,
     "metadata": {},
     "output_type": "execute_result"
    }
   ],
   "source": [
    "joint_rel_freq"
   ]
  },
  {
   "cell_type": "code",
   "execution_count": 600,
   "metadata": {
    "cell_style": "split",
    "slideshow": {
     "slide_type": "fragment"
    }
   },
   "outputs": [
    {
     "data": {
      "text/plain": [
       "GFX rating\n",
       "0    0.276596\n",
       "1    0.366538\n",
       "2    0.356867\n",
       "dtype: float64"
      ]
     },
     "execution_count": 600,
     "metadata": {},
     "output_type": "execute_result"
    }
   ],
   "source": [
    "joint_rel_freq.sum(axis = 1)"
   ]
  },
  {
   "cell_type": "code",
   "execution_count": 601,
   "metadata": {
    "cell_style": "split",
    "slideshow": {
     "slide_type": "-"
    }
   },
   "outputs": [
    {
     "data": {
      "text/plain": [
       "GFX rating\n",
       "0    0.276596\n",
       "1    0.366538\n",
       "2    0.356867\n",
       "dtype: float64"
      ]
     },
     "execution_count": 601,
     "metadata": {},
     "output_type": "execute_result"
    }
   ],
   "source": [
    "marg_on_Y"
   ]
  },
  {
   "cell_type": "markdown",
   "metadata": {
    "slideshow": {
     "slide_type": "subslide"
    }
   },
   "source": [
    "#### Marginal Probability\n",
    "\n",
    "Taking this to large $N$ limit to define a probability:\n",
    "\n",
    "$$ P(Y = Y_j) = \\lim_{N\\rightarrow \\infty}\\sum_{i=1}^5\\frac{n_{ij}}{N} $$ \n",
    "<br>\n",
    "<center>OR</center>\n",
    "<br>\n",
    "$$ P(Y = Y_j) = \\sum_{i=1}^5 P(X = x_i, Y=y_j) $$ \n",
    "\n",
    "*Marginal on Y*: $P(Y)$\n"
   ]
  },
  {
   "cell_type": "markdown",
   "metadata": {
    "slideshow": {
     "slide_type": "slide"
    }
   },
   "source": [
    "Can obviously do a similar thing to get marginal on $X$:\n",
    "- $P(X)$"
   ]
  },
  {
   "cell_type": "code",
   "execution_count": 603,
   "metadata": {
    "slideshow": {
     "slide_type": "-"
    }
   },
   "outputs": [
    {
     "data": {
      "text/plain": [
       "Gameplay rating\n",
       "1    0.236944\n",
       "2    0.134429\n",
       "3    0.205029\n",
       "4    0.225338\n",
       "5    0.198259\n",
       "dtype: float64"
      ]
     },
     "execution_count": 603,
     "metadata": {},
     "output_type": "execute_result"
    }
   ],
   "source": [
    "joint_rel_freq.sum(axis = 0)"
   ]
  },
  {
   "cell_type": "markdown",
   "metadata": {
    "slideshow": {
     "slide_type": "slide"
    }
   },
   "source": [
    "#### Conditional Probability"
   ]
  },
  {
   "cell_type": "markdown",
   "metadata": {
    "cell_style": "center",
    "slideshow": {
     "slide_type": "fragment"
    }
   },
   "source": [
    "Often want to know:\n",
    "- probability of one variable **given** that:\n",
    "    - we know that the others already take on a specific value"
   ]
  },
  {
   "cell_type": "code",
   "execution_count": 605,
   "metadata": {
    "cell_style": "split",
    "slideshow": {
     "slide_type": "slide"
    }
   },
   "outputs": [
    {
     "data": {
      "text/html": [
       "<div>\n",
       "<style scoped>\n",
       "    .dataframe tbody tr th:only-of-type {\n",
       "        vertical-align: middle;\n",
       "    }\n",
       "\n",
       "    .dataframe tbody tr th {\n",
       "        vertical-align: top;\n",
       "    }\n",
       "\n",
       "    .dataframe thead th {\n",
       "        text-align: right;\n",
       "    }\n",
       "</style>\n",
       "<table border=\"1\" class=\"dataframe\">\n",
       "  <thead>\n",
       "    <tr style=\"text-align: right;\">\n",
       "      <th>Gameplay rating</th>\n",
       "      <th>1</th>\n",
       "      <th>2</th>\n",
       "      <th>3</th>\n",
       "      <th>4</th>\n",
       "      <th>5</th>\n",
       "    </tr>\n",
       "    <tr>\n",
       "      <th>GFX rating</th>\n",
       "      <th></th>\n",
       "      <th></th>\n",
       "      <th></th>\n",
       "      <th></th>\n",
       "      <th></th>\n",
       "    </tr>\n",
       "  </thead>\n",
       "  <tbody>\n",
       "    <tr>\n",
       "      <th>0</th>\n",
       "      <td>80</td>\n",
       "      <td>40</td>\n",
       "      <td>30</td>\n",
       "      <td>76</td>\n",
       "      <td>60</td>\n",
       "    </tr>\n",
       "    <tr>\n",
       "      <th>1</th>\n",
       "      <td>75</td>\n",
       "      <td>65</td>\n",
       "      <td>82</td>\n",
       "      <td>82</td>\n",
       "      <td>75</td>\n",
       "    </tr>\n",
       "    <tr>\n",
       "      <th>2</th>\n",
       "      <td>90</td>\n",
       "      <td>34</td>\n",
       "      <td>100</td>\n",
       "      <td>75</td>\n",
       "      <td>70</td>\n",
       "    </tr>\n",
       "  </tbody>\n",
       "</table>\n",
       "</div>"
      ],
      "text/plain": [
       "Gameplay rating   1   2    3   4   5\n",
       "GFX rating                          \n",
       "0                80  40   30  76  60\n",
       "1                75  65   82  82  75\n",
       "2                90  34  100  75  70"
      ]
     },
     "execution_count": 605,
     "metadata": {},
     "output_type": "execute_result"
    }
   ],
   "source": [
    "gamerating_df"
   ]
  },
  {
   "cell_type": "markdown",
   "metadata": {
    "cell_style": "split",
    "slideshow": {
     "slide_type": "-"
    }
   },
   "source": [
    "Given that the respondents rated the GFX rating with a 0"
   ]
  },
  {
   "cell_type": "code",
   "execution_count": 705,
   "metadata": {
    "cell_style": "split",
    "slideshow": {
     "slide_type": "-"
    }
   },
   "outputs": [
    {
     "data": {
      "text/plain": [
       "Gameplay rating\n",
       "1    80\n",
       "2    40\n",
       "3    30\n",
       "4    76\n",
       "5    60\n",
       "Name: 0, dtype: int32"
      ]
     },
     "execution_count": 705,
     "metadata": {},
     "output_type": "execute_result"
    }
   ],
   "source": [
    "gamerating_df.loc[0,:]"
   ]
  },
  {
   "cell_type": "markdown",
   "metadata": {
    "slideshow": {
     "slide_type": "slide"
    }
   },
   "source": [
    "Evaluate relative frequency of a gameplay rating **given** that GFX rating was 0"
   ]
  },
  {
   "cell_type": "code",
   "execution_count": 618,
   "metadata": {
    "cell_style": "split",
    "slideshow": {
     "slide_type": "fragment"
    }
   },
   "outputs": [
    {
     "data": {
      "text/plain": [
       "Gameplay rating\n",
       "1    80\n",
       "2    40\n",
       "3    30\n",
       "4    76\n",
       "5    60\n",
       "Name: 0, dtype: int32"
      ]
     },
     "execution_count": 618,
     "metadata": {},
     "output_type": "execute_result"
    }
   ],
   "source": [
    "givenGFXzero = gamerating_df.loc[0,:]\n",
    "givenGFXzero"
   ]
  },
  {
   "cell_type": "markdown",
   "metadata": {
    "cell_style": "split",
    "slideshow": {
     "slide_type": "slide"
    }
   },
   "source": [
    "Need to normalize by counts:\n",
    "- just where GFX rating was 0."
   ]
  },
  {
   "cell_type": "code",
   "execution_count": 624,
   "metadata": {
    "cell_style": "split",
    "slideshow": {
     "slide_type": "-"
    }
   },
   "outputs": [
    {
     "data": {
      "text/plain": [
       "Gameplay rating\n",
       "1    0.279720\n",
       "2    0.139860\n",
       "3    0.104895\n",
       "4    0.265734\n",
       "5    0.209790\n",
       "Name: 0, dtype: float64"
      ]
     },
     "execution_count": 624,
     "metadata": {},
     "output_type": "execute_result"
    }
   ],
   "source": [
    "relconditional = \\\n",
    "givenGFXzero/givenGFXzero.sum()\n",
    "\n",
    "relconditional"
   ]
  },
  {
   "cell_type": "markdown",
   "metadata": {
    "slideshow": {
     "slide_type": "slide"
    }
   },
   "source": [
    "What we did, in a diagram:"
   ]
  },
  {
   "cell_type": "markdown",
   "metadata": {
    "cell_style": "split",
    "slideshow": {
     "slide_type": "fragment"
    }
   },
   "source": [
    "Among the possibilities satisfying condition $Y = y_j $:\n",
    "- the conditional probability that $X = x_i$  is\n",
    "$$ P(X = x_i | Y = y_j ) = \\lim_{N\\rightarrow \\infty}{\\frac{n_{ij}}{r_j}} $$"
   ]
  },
  {
   "cell_type": "markdown",
   "metadata": {
    "cell_style": "split",
    "slideshow": {
     "slide_type": "-"
    }
   },
   "source": [
    "<center><img src=\"Images/joint_table.png\" width=\"400\"/></center>"
   ]
  },
  {
   "cell_type": "markdown",
   "metadata": {
    "slideshow": {
     "slide_type": "slide"
    }
   },
   "source": [
    "The distribution of $X$ (gameplay rating) given that $Y$ (graphics) was 1 will be different:\n",
    "- taking a subset of users satisfying condition on $Y$\n",
    "- calculating proabilities over only those users satisfying condition."
   ]
  },
  {
   "cell_type": "code",
   "execution_count": 706,
   "metadata": {
    "cell_style": "split",
    "slideshow": {
     "slide_type": "subslide"
    }
   },
   "outputs": [
    {
     "data": {
      "text/plain": [
       "Gameplay rating\n",
       "1    0.197889\n",
       "2    0.171504\n",
       "3    0.216359\n",
       "4    0.216359\n",
       "5    0.197889\n",
       "Name: 1, dtype: float64"
      ]
     },
     "execution_count": 706,
     "metadata": {},
     "output_type": "execute_result"
    }
   ],
   "source": [
    "givenGFXone = gamerating_df.loc[1,:]\n",
    "givenGFXone/givenGFXone.sum()"
   ]
  },
  {
   "cell_type": "code",
   "execution_count": 707,
   "metadata": {
    "cell_style": "split",
    "slideshow": {
     "slide_type": "fragment"
    }
   },
   "outputs": [
    {
     "data": {
      "text/plain": [
       "Gameplay rating\n",
       "1    0.279720\n",
       "2    0.139860\n",
       "3    0.104895\n",
       "4    0.265734\n",
       "5    0.209790\n",
       "Name: 0, dtype: float64"
      ]
     },
     "execution_count": 707,
     "metadata": {},
     "output_type": "execute_result"
    }
   ],
   "source": [
    "# compared to conditional when Y = 0\n",
    "\n",
    "relconditional"
   ]
  },
  {
   "cell_type": "markdown",
   "metadata": {
    "cell_style": "split",
    "slideshow": {
     "slide_type": "fragment"
    }
   },
   "source": [
    "$$ P(X | Y = 1) $$"
   ]
  },
  {
   "cell_type": "markdown",
   "metadata": {
    "cell_style": "split",
    "slideshow": {
     "slide_type": "-"
    }
   },
   "source": [
    "$$ P(X | Y = 0) $$"
   ]
  },
  {
   "cell_type": "markdown",
   "metadata": {
    "slideshow": {
     "slide_type": "slide"
    }
   },
   "source": [
    "Obviously we could also relative frequencies / probabilities for $Y$ conditioned on $X$:\n",
    " $$ P(Y | X = x_i) $$"
   ]
  },
  {
   "cell_type": "code",
   "execution_count": 631,
   "metadata": {
    "cell_style": "split",
    "slideshow": {
     "slide_type": "fragment"
    }
   },
   "outputs": [
    {
     "data": {
      "text/html": [
       "<div>\n",
       "<style scoped>\n",
       "    .dataframe tbody tr th:only-of-type {\n",
       "        vertical-align: middle;\n",
       "    }\n",
       "\n",
       "    .dataframe tbody tr th {\n",
       "        vertical-align: top;\n",
       "    }\n",
       "\n",
       "    .dataframe thead th {\n",
       "        text-align: right;\n",
       "    }\n",
       "</style>\n",
       "<table border=\"1\" class=\"dataframe\">\n",
       "  <thead>\n",
       "    <tr style=\"text-align: right;\">\n",
       "      <th>Gameplay rating</th>\n",
       "      <th>1</th>\n",
       "      <th>2</th>\n",
       "      <th>3</th>\n",
       "      <th>4</th>\n",
       "      <th>5</th>\n",
       "    </tr>\n",
       "    <tr>\n",
       "      <th>GFX rating</th>\n",
       "      <th></th>\n",
       "      <th></th>\n",
       "      <th></th>\n",
       "      <th></th>\n",
       "      <th></th>\n",
       "    </tr>\n",
       "  </thead>\n",
       "  <tbody>\n",
       "    <tr>\n",
       "      <th>0</th>\n",
       "      <td>80</td>\n",
       "      <td>40</td>\n",
       "      <td>30</td>\n",
       "      <td>76</td>\n",
       "      <td>60</td>\n",
       "    </tr>\n",
       "    <tr>\n",
       "      <th>1</th>\n",
       "      <td>75</td>\n",
       "      <td>65</td>\n",
       "      <td>82</td>\n",
       "      <td>82</td>\n",
       "      <td>75</td>\n",
       "    </tr>\n",
       "    <tr>\n",
       "      <th>2</th>\n",
       "      <td>90</td>\n",
       "      <td>34</td>\n",
       "      <td>100</td>\n",
       "      <td>75</td>\n",
       "      <td>70</td>\n",
       "    </tr>\n",
       "  </tbody>\n",
       "</table>\n",
       "</div>"
      ],
      "text/plain": [
       "Gameplay rating   1   2    3   4   5\n",
       "GFX rating                          \n",
       "0                80  40   30  76  60\n",
       "1                75  65   82  82  75\n",
       "2                90  34  100  75  70"
      ]
     },
     "execution_count": 631,
     "metadata": {},
     "output_type": "execute_result"
    }
   ],
   "source": [
    "gamerating_df"
   ]
  },
  {
   "cell_type": "markdown",
   "metadata": {
    "cell_style": "split",
    "slideshow": {
     "slide_type": "fragment"
    }
   },
   "source": [
    "Get relative frequencies for $y$:\n",
    "- Given $X = 2$"
   ]
  },
  {
   "cell_type": "code",
   "execution_count": 708,
   "metadata": {
    "cell_style": "split"
   },
   "outputs": [
    {
     "data": {
      "text/plain": [
       "GFX rating\n",
       "0    40\n",
       "1    65\n",
       "2    34\n",
       "Name: 2, dtype: int32"
      ]
     },
     "execution_count": 708,
     "metadata": {},
     "output_type": "execute_result"
    }
   ],
   "source": [
    "gamerating_df.loc[:, 2]"
   ]
  },
  {
   "cell_type": "markdown",
   "metadata": {
    "cell_style": "split",
    "slideshow": {
     "slide_type": "slide"
    }
   },
   "source": [
    "The normalized by dividing out sum over Y values:"
   ]
  },
  {
   "cell_type": "code",
   "execution_count": 709,
   "metadata": {
    "cell_style": "split"
   },
   "outputs": [
    {
     "data": {
      "text/plain": [
       "GFX rating\n",
       "0    0.287770\n",
       "1    0.467626\n",
       "2    0.244604\n",
       "Name: 2, dtype: float64"
      ]
     },
     "execution_count": 709,
     "metadata": {},
     "output_type": "execute_result"
    }
   ],
   "source": [
    "norm = gamerating_df.loc[:,2].sum()\n",
    "rel_freqYonX2 = gamerating_df.loc[:,2]/ norm\n",
    "rel_freqYonX2 "
   ]
  },
  {
   "cell_type": "markdown",
   "metadata": {
    "cell_style": "split",
    "slideshow": {
     "slide_type": "slide"
    }
   },
   "source": [
    "Normalization for conditional: \n",
    "- total counts for which $X = x_i$ \n",
    "\n",
    "with $x_i = 2$"
   ]
  },
  {
   "cell_type": "markdown",
   "metadata": {
    "cell_style": "split",
    "slideshow": {
     "slide_type": "fragment"
    }
   },
   "source": [
    "But this is basically just the marginal:\n",
    "$$ P(X = x_i) = \\frac{n_{X=x_i}}{N} $$\n",
    "\n",
    "where $N$ is total number of responses/trials"
   ]
  },
  {
   "cell_type": "markdown",
   "metadata": {
    "cell_style": "split",
    "slideshow": {
     "slide_type": "slide"
    }
   },
   "source": [
    "The conditional:\n",
    "$$ P(Y| X = x_i) = \\frac{n_{Y = y_j, X = x_i}}{n_{X=x_i}} $$\n",
    "becomes:\n",
    "$$ P(Y| X = x_i) =\\frac{n_{Y = y_j, X = x_i} / N}{P(X=x_i)} $$"
   ]
  },
  {
   "cell_type": "markdown",
   "metadata": {
    "cell_style": "split",
    "slideshow": {
     "slide_type": "-"
    }
   },
   "source": [
    "subbing in the marginal:\n",
    " $$ n_{X=x_i} = NP(X =x_i) $$"
   ]
  },
  {
   "cell_type": "markdown",
   "metadata": {
    "cell_style": "split",
    "slideshow": {
     "slide_type": "subslide"
    }
   },
   "source": [
    "With recognition that:\n",
    "\n",
    "$$ \\frac{n_{Y = y_j, X = x_i}}{N} = P( X = x_i, Y = y_j) $$\n",
    "\n",
    "is the joint probability"
   ]
  },
  {
   "cell_type": "markdown",
   "metadata": {
    "cell_style": "split",
    "slideshow": {
     "slide_type": "fragment"
    }
   },
   "source": [
    "we arrive at a very nice result:\n",
    "$$ P(Y| X = x_i) =\\frac{n_{Y = y_j, X = x_i} / N}{P(X=x_i)} $$\n",
    "\n",
    "becomes\n",
    "\n",
    "$$ P(Y| X = x_i) =\\frac{P(Y = y_j, X = x_i)}{P(X=x_i)} $$"
   ]
  },
  {
   "cell_type": "markdown",
   "metadata": {
    "cell_style": "split",
    "slideshow": {
     "slide_type": "slide"
    }
   },
   "source": [
    "The formula:\n",
    "$$ P(Y| X) =\\frac{P(X, Y)}{P(X)} $$"
   ]
  },
  {
   "cell_type": "markdown",
   "metadata": {
    "cell_style": "split",
    "slideshow": {
     "slide_type": "-"
    }
   },
   "source": [
    "Written in event space notation as:\n",
    "    \n",
    "   $$  P(A | B) = \\frac{ P(A \\cap B)}{P(B)} $$"
   ]
  },
  {
   "cell_type": "markdown",
   "metadata": {
    "slideshow": {
     "slide_type": "-"
    }
   },
   "source": [
    "joins the conditional, the joint, and the marginal probabilities in a single relationship"
   ]
  },
  {
   "cell_type": "markdown",
   "metadata": {
    "slideshow": {
     "slide_type": "slide"
    }
   },
   "source": [
    "Don't believe me?\n",
    "\n",
    "- Get probability that a respondent rated 3 for gameplay given they rated graphics at 0.\n",
    "\n",
    "$$ P(gplay = 3 | gfx = 0) = \\frac{P(gplay = 3 , gfx = 0)}{P(gfx = 0)} $$"
   ]
  },
  {
   "cell_type": "markdown",
   "metadata": {
    "cell_style": "split",
    "slideshow": {
     "slide_type": "subslide"
    }
   },
   "source": [
    "The joint:\n",
    "\n",
    "$$ P(gplay = 3 , gfx = 0) $$\n",
    "\n",
    "probability that a respondent rated 3 for gameplay and rated graphics at 0 **out of all respondents**"
   ]
  },
  {
   "cell_type": "code",
   "execution_count": 666,
   "metadata": {
    "cell_style": "split",
    "slideshow": {
     "slide_type": "slide"
    }
   },
   "outputs": [
    {
     "name": "stdout",
     "output_type": "stream",
     "text": [
      "0.029013539651837523\n"
     ]
    },
    {
     "data": {
      "text/html": [
       "<div>\n",
       "<style scoped>\n",
       "    .dataframe tbody tr th:only-of-type {\n",
       "        vertical-align: middle;\n",
       "    }\n",
       "\n",
       "    .dataframe tbody tr th {\n",
       "        vertical-align: top;\n",
       "    }\n",
       "\n",
       "    .dataframe thead th {\n",
       "        text-align: right;\n",
       "    }\n",
       "</style>\n",
       "<table border=\"1\" class=\"dataframe\">\n",
       "  <thead>\n",
       "    <tr style=\"text-align: right;\">\n",
       "      <th>Gameplay rating</th>\n",
       "      <th>1</th>\n",
       "      <th>2</th>\n",
       "      <th>3</th>\n",
       "      <th>4</th>\n",
       "      <th>5</th>\n",
       "    </tr>\n",
       "    <tr>\n",
       "      <th>GFX rating</th>\n",
       "      <th></th>\n",
       "      <th></th>\n",
       "      <th></th>\n",
       "      <th></th>\n",
       "      <th></th>\n",
       "    </tr>\n",
       "  </thead>\n",
       "  <tbody>\n",
       "    <tr>\n",
       "      <th>0</th>\n",
       "      <td>0.077369</td>\n",
       "      <td>0.038685</td>\n",
       "      <td>0.029014</td>\n",
       "      <td>0.073501</td>\n",
       "      <td>0.058027</td>\n",
       "    </tr>\n",
       "    <tr>\n",
       "      <th>1</th>\n",
       "      <td>0.072534</td>\n",
       "      <td>0.062863</td>\n",
       "      <td>0.079304</td>\n",
       "      <td>0.079304</td>\n",
       "      <td>0.072534</td>\n",
       "    </tr>\n",
       "    <tr>\n",
       "      <th>2</th>\n",
       "      <td>0.087041</td>\n",
       "      <td>0.032882</td>\n",
       "      <td>0.096712</td>\n",
       "      <td>0.072534</td>\n",
       "      <td>0.067698</td>\n",
       "    </tr>\n",
       "  </tbody>\n",
       "</table>\n",
       "</div>"
      ],
      "text/plain": [
       "Gameplay rating         1         2         3         4         5\n",
       "GFX rating                                                       \n",
       "0                0.077369  0.038685  0.029014  0.073501  0.058027\n",
       "1                0.072534  0.062863  0.079304  0.079304  0.072534\n",
       "2                0.087041  0.032882  0.096712  0.072534  0.067698"
      ]
     },
     "execution_count": 666,
     "metadata": {},
     "output_type": "execute_result"
    }
   ],
   "source": [
    "# get the joint\n",
    "joint_03 = joint_rel_freq.loc[0,3]\n",
    "print(joint_03)\n",
    "joint_rel_freq"
   ]
  },
  {
   "cell_type": "markdown",
   "metadata": {
    "cell_style": "split",
    "slideshow": {
     "slide_type": "subslide"
    }
   },
   "source": [
    "The marginal:\n",
    "\n",
    "$$ P(gfx = 0) $$\n",
    "\n",
    "- probability that respondent rated graphics at 0 **out of all respondents** \n",
    "- regardless of what they rated gameplay"
   ]
  },
  {
   "cell_type": "code",
   "execution_count": 667,
   "metadata": {
    "cell_style": "split",
    "slideshow": {
     "slide_type": "fragment"
    }
   },
   "outputs": [
    {
     "name": "stdout",
     "output_type": "stream",
     "text": [
      "0.2765957446808511\n"
     ]
    },
    {
     "data": {
      "text/plain": [
       "GFX rating\n",
       "0    0.276596\n",
       "1    0.366538\n",
       "2    0.356867\n",
       "dtype: float64"
      ]
     },
     "execution_count": 667,
     "metadata": {},
     "output_type": "execute_result"
    }
   ],
   "source": [
    "# get the marginal of graphics\n",
    "marginal_0 = joint_rel_freq.sum(axis = 1)[0]\n",
    "print(marginal_0)\n",
    "joint_rel_freq.sum(axis = 1)"
   ]
  },
  {
   "cell_type": "markdown",
   "metadata": {
    "slideshow": {
     "slide_type": "slide"
    }
   },
   "source": [
    "Recall when we first calculated conditional:\n",
    "- in subset of those who rated $gfx = 0$\n",
    "- probability of different gameplay ratings"
   ]
  },
  {
   "cell_type": "code",
   "execution_count": 663,
   "metadata": {
    "cell_style": "split",
    "slideshow": {
     "slide_type": "fragment"
    }
   },
   "outputs": [
    {
     "data": {
      "text/plain": [
       "Gameplay rating\n",
       "1    0.279720\n",
       "2    0.139860\n",
       "3    0.104895\n",
       "4    0.265734\n",
       "5    0.209790\n",
       "Name: 0, dtype: float64"
      ]
     },
     "execution_count": 663,
     "metadata": {},
     "output_type": "execute_result"
    }
   ],
   "source": [
    "# compared to conditional for gameplay \n",
    "# given graphics = 0\n",
    "\n",
    "relconditional"
   ]
  },
  {
   "cell_type": "markdown",
   "metadata": {
    "cell_style": "split",
    "slideshow": {
     "slide_type": "fragment"
    }
   },
   "source": [
    "Compare to calculation from formula:\n",
    "\n",
    "$$ P(gplay = 3 | gfx = 0) \\\\\n",
    "= \\frac{P(gplay = 3 , gfx = 0)}{P(gfx = 0)} $$"
   ]
  },
  {
   "cell_type": "code",
   "execution_count": 660,
   "metadata": {
    "cell_style": "split",
    "slideshow": {
     "slide_type": "-"
    }
   },
   "outputs": [
    {
     "data": {
      "text/plain": [
       "0.10489510489510488"
      ]
     },
     "execution_count": 660,
     "metadata": {},
     "output_type": "execute_result"
    }
   ],
   "source": [
    "joint_03/marginal_0"
   ]
  },
  {
   "cell_type": "markdown",
   "metadata": {
    "cell_style": "split",
    "slideshow": {
     "slide_type": "slide"
    }
   },
   "source": [
    "Simple interpretation:\n",
    "\n",
    "$$ P(X = x_i, Y = y_j) = \\\\ P(X = x_i | Y = y_j)P(Y = y_j) $$\n",
    "\n",
    "Probability $X= x_i$ and $Y = y_j$ :\n",
    "- out of **all possibilities for X and Y**"
   ]
  },
  {
   "cell_type": "markdown",
   "metadata": {
    "cell_style": "split",
    "slideshow": {
     "slide_type": "fragment"
    }
   },
   "source": [
    "is product of:\n",
    "$$ P(X = x_i | Y = y_j) $$ \n",
    "\n",
    "Probability $X= x_i$: \n",
    "- out of a  subset: all possibilities for $X$ and where $ Y = y_j$"
   ]
  },
  {
   "cell_type": "markdown",
   "metadata": {
    "cell_style": "split",
    "slideshow": {
     "slide_type": "fragment"
    }
   },
   "source": [
    "$$ P(Y = y_j) $$ \n",
    "\n",
    "- probability that given $ Y = y_j$ out of all possibilities for $Y$"
   ]
  },
  {
   "cell_type": "markdown",
   "metadata": {
    "slideshow": {
     "slide_type": "slide"
    }
   },
   "source": [
    "#### Statistically Independent Events\n",
    "- when random variables independent:\n",
    "- joint probability takes on simple form"
   ]
  },
  {
   "cell_type": "markdown",
   "metadata": {
    "cell_style": "split",
    "slideshow": {
     "slide_type": "subslide"
    }
   },
   "source": [
    "$$ P(X = x_i, Y = y_j) = \\\\ P(X = x_i | Y = y_j)P(Y = y_j) $$\n",
    "\n",
    "Probability $X= x_i$ and $Y = y_j$ :\n",
    "- out of **all possibilities for X and Y**\n",
    "\n"
   ]
  },
  {
   "cell_type": "markdown",
   "metadata": {
    "cell_style": "split",
    "slideshow": {
     "slide_type": "fragment"
    }
   },
   "source": [
    "$$P(X = x_i | Y = y_j) = P(X = x_i)$$\n",
    "\n",
    "- as the probability of getting X value\n",
    "- doesn't depend on Y."
   ]
  },
  {
   "cell_type": "markdown",
   "metadata": {
    "cell_style": "split",
    "slideshow": {
     "slide_type": "subslide"
    }
   },
   "source": [
    "For independent events:\n",
    "    \n",
    "$$ P(X = x_i, Y = y_j) = \\\\ P(X = x_i)P(Y = y_j) $$\n",
    "\n",
    "joint is product of probabilities."
   ]
  },
  {
   "cell_type": "markdown",
   "metadata": {
    "cell_style": "split",
    "slideshow": {
     "slide_type": "fragment"
    }
   },
   "source": [
    "or in set theory notation:\n",
    "\n",
    "$$ P(A \\cap B) = P(A)P(B) $$"
   ]
  },
  {
   "cell_type": "markdown",
   "metadata": {
    "slideshow": {
     "slide_type": "slide"
    }
   },
   "source": [
    "Another consequence of connection between conditionals, marginals, and joint:"
   ]
  },
  {
   "cell_type": "markdown",
   "metadata": {
    "cell_style": "split",
    "slideshow": {
     "slide_type": "-"
    }
   },
   "source": [
    "$$ P(X = x_i, Y = y_j) = \\\\ P(X = x_i | Y = y_j)P(Y = y_j) $$"
   ]
  },
  {
   "cell_type": "markdown",
   "metadata": {
    "cell_style": "split",
    "slideshow": {
     "slide_type": "-"
    }
   },
   "source": [
    "$$ P(X = x_i, Y = y_j) = \\\\ P(Y = x_j | X = x_i)P(X = x_i) $$"
   ]
  },
  {
   "cell_type": "markdown",
   "metadata": {
    "slideshow": {
     "slide_type": "-"
    }
   },
   "source": [
    "Doesn't matter which way we go"
   ]
  },
  {
   "cell_type": "markdown",
   "metadata": {
    "slideshow": {
     "slide_type": "slide"
    }
   },
   "source": [
    "Naturally lead to Bayes' theorem: we'll interpret later.\n",
    "\n",
    "$$ P(X = x_i | Y = y_j)P(Y = y_j) = P(Y = y_j | X = x_i)P(X = x_i)$$\n",
    "<br><br>\n",
    "\n",
    "implies:\n",
    "\n",
    "<center><b>Bayes' Theorem</b></center>\n",
    "\n",
    "$$ P(X = x_i | Y = y_j) = \\frac{P(Y = y_j | X = x_i)P(X = x_i)}{P(Y = y_j)} $$"
   ]
  },
  {
   "cell_type": "markdown",
   "metadata": {
    "cell_style": "center",
    "slideshow": {
     "slide_type": "slide"
    }
   },
   "source": [
    "Theorem seems very innocuous: \n",
    "- We will interpret it later..\n",
    "- Of great practical importance in machine learning and statistics.\n",
    "- One of the most important theorems concerning the foundation of knowledge."
   ]
  }
 ],
 "metadata": {
  "celltoolbar": "Slideshow",
  "kernelspec": {
   "display_name": "Python 3 (ipykernel)",
   "language": "python",
   "name": "python3"
  },
  "language_info": {
   "codemirror_mode": {
    "name": "ipython",
    "version": 3
   },
   "file_extension": ".py",
   "mimetype": "text/x-python",
   "name": "python",
   "nbconvert_exporter": "python",
   "pygments_lexer": "ipython3",
   "version": "3.9.12"
  }
 },
 "nbformat": 4,
 "nbformat_minor": 4
}
