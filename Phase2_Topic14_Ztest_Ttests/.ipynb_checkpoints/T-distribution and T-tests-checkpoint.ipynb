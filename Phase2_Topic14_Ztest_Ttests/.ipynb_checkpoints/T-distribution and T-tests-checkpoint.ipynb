{
 "cells": [
  {
   "cell_type": "markdown",
   "metadata": {
    "cell_style": "center",
    "slideshow": {
     "slide_type": "slide"
    }
   },
   "source": [
    "<div style=\"color:white;\n",
    "           display:fill;\n",
    "           border-radius:5px;\n",
    "           background-color:#5642C5;\n",
    "           font-size:200%;\n",
    "           font-family:Arial;letter-spacing:0.5px\">\n",
    "\n",
    "<p width = 20%, style=\"padding: 10px;\n",
    "              color:white;\">\n",
    "The t-distribution and t-tests\n",
    "              \n",
    "</p>\n",
    "</div>\n",
    "\n",
    "Data Science Cohort Live NYC Feb 2022\n",
    "<p>Phase 2: Topic 13</p>\n",
    "<br>\n",
    "<br>\n",
    "\n",
    "<div align = \"right\">\n",
    "<img src=\"Images/flatiron-school-logo.png\" align = \"right\" width=\"200\"/>\n",
    "</div>\n",
    "    \n",
    "    "
   ]
  },
  {
   "cell_type": "code",
   "execution_count": 1,
   "metadata": {
    "slideshow": {
     "slide_type": "slide"
    }
   },
   "outputs": [],
   "source": [
    "from scipy import stats\n",
    "import numpy as np\n",
    "import seaborn as sns\n",
    "import matplotlib.pyplot as plt"
   ]
  },
  {
   "cell_type": "markdown",
   "metadata": {
    "slideshow": {
     "slide_type": "slide"
    }
   },
   "source": [
    "Population:\n",
    "- Mean $\\mu$\n",
    "- Standard deviation $\\sigma$"
   ]
  },
  {
   "cell_type": "markdown",
   "metadata": {
    "slideshow": {
     "slide_type": "subslide"
    }
   },
   "source": [
    "Provide $N$ is large enough: \n",
    " \n",
    "- CLT give us ability to make some statements about sampling from population:\n"
   ]
  },
  {
   "cell_type": "markdown",
   "metadata": {
    "slideshow": {
     "slide_type": "fragment"
    }
   },
   "source": [
    "- Distribution of $\\bar{X}$ of samples of size N: \n",
    "- Normal distribution with mean $\\mu$ and std $\\frac{\\sigma}{\\sqrt{N}}$"
   ]
  },
  {
   "cell_type": "markdown",
   "metadata": {
    "slideshow": {
     "slide_type": "subslide"
    }
   },
   "source": [
    "Or in terms of rescaled variables:\n",
    "$$ Z = \\frac{(\\bar{X} - \\mu)}{\\sigma/\\sqrt{N}} $$\n",
    "\n",
    "follows the standardized normal distribution $N(0,1)$."
   ]
  },
  {
   "cell_type": "markdown",
   "metadata": {
    "slideshow": {
     "slide_type": "slide"
    }
   },
   "source": [
    "#### Often faced with a situation where"
   ]
  },
  {
   "cell_type": "markdown",
   "metadata": {
    "slideshow": {
     "slide_type": "fragment"
    }
   },
   "source": [
    "- $\\mu$ is unkown: something to be estimated by sampling \n",
    "- $\\sigma$ is unknown."
   ]
  },
  {
   "cell_type": "markdown",
   "metadata": {
    "slideshow": {
     "slide_type": "slide"
    }
   },
   "source": [
    "But as long as $N$ of sample used for mean estimation is large enough:\n",
    "\n",
    "$$ Z = \\frac{(\\bar{X} - \\mu)}{\\sigma/\\sqrt{N}} \\approx \\frac{(\\bar{X} - \\mu)}{s/\\sqrt{N}}  $$ \n",
    "\n",
    "where $s^2$ is our sample variance:\n",
    "\n",
    "$$ s^2 = \\sum_{i=1}^{N}\\frac{(X_i - \\bar{X})^2}{N-1} $$\n"
   ]
  },
  {
   "cell_type": "markdown",
   "metadata": {
    "slideshow": {
     "slide_type": "subslide"
    }
   },
   "source": [
    "- And then apply CLT and use $Z$ for:\n",
    "    - Confidence interval estimation\n",
    "    - Hypothesis testing"
   ]
  },
  {
   "cell_type": "markdown",
   "metadata": {
    "slideshow": {
     "slide_type": "slide"
    }
   },
   "source": [
    "#### But when N is small..."
   ]
  },
  {
   "cell_type": "markdown",
   "metadata": {
    "slideshow": {
     "slide_type": "fragment"
    }
   },
   "source": [
    "This doesn't really work. Why?"
   ]
  },
  {
   "cell_type": "markdown",
   "metadata": {
    "slideshow": {
     "slide_type": "subslide"
    }
   },
   "source": [
    "Sample-to-sample fluctuations in $s$ appreciable:\n",
    "- Let's see this for samples of various sizes drawn from the standard normal."
   ]
  },
  {
   "cell_type": "code",
   "execution_count": 2,
   "metadata": {
    "cell_style": "center",
    "scrolled": false,
    "slideshow": {
     "slide_type": "subslide"
    }
   },
   "outputs": [
    {
     "data": {
      "image/png": "[encoded data removed]",
      "text/plain": [
       "<Figure size 432x288 with 1 Axes>"
      ]
     },
     "metadata": {
      "needs_background": "light"
     },
     "output_type": "display_data"
    }
   ],
   "source": [
    "from scipy.stats import norm\n",
    "\n",
    "N_list = [5,10, 30,50]\n",
    "for N in N_list:\n",
    "    s_list = [norm.rvs(loc = 0, scale = 1, size = N).std() for trial in range(10000)]\n",
    "    plt.hist(s_list, bins = 25, density = True, histtype = 'step', label = \"N = \" + str(N))\n",
    "\n",
    "plt.legend()\n",
    "plt.xlabel('Sample standard deviation')\n",
    "plt.ylabel('PDF')\n",
    "plt.title('Effect of $N$ on sample std $s$')\n",
    "plt.show()"
   ]
  },
  {
   "cell_type": "markdown",
   "metadata": {
    "slideshow": {
     "slide_type": "slide"
    }
   },
   "source": [
    "The sample standard deviation fluctuation amplifies for smaller sample size $N < 30$"
   ]
  },
  {
   "cell_type": "markdown",
   "metadata": {
    "slideshow": {
     "slide_type": "fragment"
    }
   },
   "source": [
    "$$ \\frac{(\\bar{X} - \\mu)}{s/\\sqrt{N}} $$\n",
    "\n",
    "- $\\bar{X}$ is random variable.\n",
    "- $s$ must be treated as random variable.\n"
   ]
  },
  {
   "cell_type": "markdown",
   "metadata": {
    "slideshow": {
     "slide_type": "slide"
    }
   },
   "source": [
    "$$t = \\frac{(\\bar{X} - \\mu)}{s/\\sqrt{N}} $$\n",
    "\n",
    "\n",
    "- **CLT cannot be invoked to see how t distributed**\n",
    "    - $t$ statistic is a composite random variable. \n",
    "    - N is small"
   ]
  },
  {
   "cell_type": "markdown",
   "metadata": {
    "slideshow": {
     "slide_type": "subslide"
    }
   },
   "source": [
    "If **population** normally distributed (or have good reason to believe this):\n",
    "\n",
    "- t follows another distribution: **the standardized t-distribution**.\n",
    "- correction to normal because:\n",
    "    - $\\sigma$ uncertain.\n",
    "    - $s$ for a given sample fluctuates a lot about unknown $\\sigma$"
   ]
  },
  {
   "cell_type": "markdown",
   "metadata": {
    "slideshow": {
     "slide_type": "subslide"
    }
   },
   "source": [
    "Import t distribution in scipy:\n",
    "- Assumes underlying population distribution samples is normal. \n",
    "- Sampling distribution of **means** of sample size N w/ unknown population std"
   ]
  },
  {
   "cell_type": "code",
   "execution_count": 3,
   "metadata": {
    "slideshow": {
     "slide_type": "fragment"
    }
   },
   "outputs": [],
   "source": [
    "from scipy.stats import t"
   ]
  },
  {
   "cell_type": "markdown",
   "metadata": {
    "slideshow": {
     "slide_type": "slide"
    }
   },
   "source": [
    "- pdf needs degree of freedom argument (df):\n",
    "    - loc = 0, scale = 1 (standardized) default\n",
    "    - $df = N - 1$ for t-distribution."
   ]
  },
  {
   "cell_type": "code",
   "execution_count": 4,
   "metadata": {
    "scrolled": false,
    "slideshow": {
     "slide_type": "fragment"
    }
   },
   "outputs": [],
   "source": [
    "\n",
    "# define t pdf for a few degrees of freedom and normal\n",
    "x = np.linspace(-4,4,400)\n",
    "t_distribution5 = t.pdf(x, loc = 0, df = 4) # N = 5\n",
    "t_distribution10 = t.pdf(x, loc = 0, df = 9) # N = 10 \n",
    "t_distribution20 = t.pdf(x, loc = 0, df = 19) # N = 20\n",
    "norm_distribution = norm.pdf(x, loc = 0, scale = 1)"
   ]
  },
  {
   "cell_type": "code",
   "execution_count": 5,
   "metadata": {},
   "outputs": [],
   "source": [
    "%%capture tdistplot\n",
    "\n",
    "fig, ax = plt.subplots(figsize = (8,5))\n",
    "ax.plot(x,t_distribution5, label = 't-distribution: df = 4' )\n",
    "ax.plot(x,t_distribution10, label = 't-distribution: df = 9' )\n",
    "ax.plot(x,t_distribution20, label = 't-distribution: df = 19' )\n",
    "ax.plot(x,norm_distribution, label = 'normal')\n",
    "ax.set_xlabel('t',  fontsize = 16)\n",
    "ax.set_ylabel('PDF', fontsize = 16)\n",
    "ax.set_title('t-distribution PDF approach to normal', fontsize = 18)\n",
    "ax.legend()\n",
    "plt.show()"
   ]
  },
  {
   "cell_type": "code",
   "execution_count": 6,
   "metadata": {
    "cell_style": "split",
    "slideshow": {
     "slide_type": "subslide"
    }
   },
   "outputs": [
    {
     "data": {
      "image/png": "[encoded data removed]",
      "text/plain": [
       "<Figure size 576x360 with 1 Axes>"
      ]
     },
     "metadata": {
      "needs_background": "light"
     },
     "output_type": "display_data"
    }
   ],
   "source": [
    "tdistplot()"
   ]
  },
  {
   "cell_type": "markdown",
   "metadata": {
    "cell_style": "split",
    "slideshow": {
     "slide_type": "fragment"
    }
   },
   "source": [
    "Looks similar to normal: but tails are fatter.\n",
    "- But area under tails:\n",
    "    \n",
    "    - central to hypothesis testing!\n",
    "    - critical for acceptance/rejection region\n",
    "        "
   ]
  },
  {
   "cell_type": "markdown",
   "metadata": {
    "slideshow": {
     "slide_type": "slide"
    }
   },
   "source": [
    "#### Hypothesis testing means with t-tests"
   ]
  },
  {
   "cell_type": "markdown",
   "metadata": {
    "slideshow": {
     "slide_type": "fragment"
    }
   },
   "source": [
    "#### Same story as Z-test, different distribution/critical values."
   ]
  },
  {
   "cell_type": "markdown",
   "metadata": {
    "hidden": true,
    "slideshow": {
     "slide_type": "subslide"
    }
   },
   "source": [
    " **$t$-test**:\n",
    " \n",
    " - Calculate the **$t$-statistic** using the sample's standard deviation $s$:\n",
    " $$\\large t = \\frac{\\bar{x}-\\mu}{\\frac{s}{\\sqrt{n}}}$$\n",
    " - We calculate the p-value from the **$t$-distribution**"
   ]
  },
  {
   "cell_type": "markdown",
   "metadata": {
    "hidden": true,
    "slideshow": {
     "slide_type": "slide"
    }
   },
   "source": [
    " **Scenario**\n",
    "\n",
    " - African savannah elephants: weights distributed normally around a mean of $9000$ lbs. \n",
    " - Wildlife Conservation Society of Gabon: measured weights of $20$ African elephants in Gabon  \n",
    "\n",
    " Claim: Gabonese elephants are significantly different from general African population."
   ]
  },
  {
   "cell_type": "markdown",
   "metadata": {
    "hidden": true,
    "slideshow": {
     "slide_type": "slide"
    }
   },
   "source": [
    "\n",
    "\n",
    "$H_0$: _There is no difference between the weight of Gabonese elephants and the general African elephant population_\n",
    "\n",
    "$H_1$: _There is a difference between the weight of the Gabonese elephants and the general African elephant population_\n",
    "\n",
    "Let's define our $\\alpha$ to be $0.05$"
   ]
  },
  {
   "cell_type": "markdown",
   "metadata": {
    "slideshow": {
     "slide_type": "slide"
    }
   },
   "source": [
    "#### What type of tailed test?"
   ]
  },
  {
   "cell_type": "markdown",
   "metadata": {
    "slideshow": {
     "slide_type": "fragment"
    }
   },
   "source": [
    "Two tailed."
   ]
  },
  {
   "cell_type": "markdown",
   "metadata": {
    "heading_collapsed": true,
    "hidden": true,
    "slideshow": {
     "slide_type": "slide"
    }
   },
   "source": [
    "#### Our Gabonese elephant weight sample"
   ]
  },
  {
   "cell_type": "markdown",
   "metadata": {
    "hidden": true,
    "slideshow": {
     "slide_type": "-"
    }
   },
   "source": [
    "Because the sample size is small, we need to use a one sample $t$-test. "
   ]
  },
  {
   "cell_type": "code",
   "execution_count": 7,
   "metadata": {
    "hidden": true,
    "slideshow": {
     "slide_type": "-"
    }
   },
   "outputs": [],
   "source": [
    "# We're given these values from the sample\n",
    "gab = np.array([\n",
    "        8234, 8929, 7922, 8688, 8840, \n",
    "        8759, 8127, 8574, 8533, 8944, \n",
    "        8631, 8665, 8712, 8984, 8601, \n",
    "        8559, 8228, 8474, 8708, 8128\n",
    "])"
   ]
  },
  {
   "cell_type": "code",
   "execution_count": 8,
   "metadata": {
    "hidden": true,
    "scrolled": true,
    "slideshow": {
     "slide_type": "subslide"
    }
   },
   "outputs": [
    {
     "name": "stdout",
     "output_type": "stream",
     "text": [
      "Sample mean: 8562.0\n",
      "Sample std: 296.2\n"
     ]
    }
   ],
   "source": [
    "print(f'Sample mean: {gab.mean():.1f}')\n",
    "print(f'Sample std: {gab.std(ddof=1):.1f}')"
   ]
  },
  {
   "cell_type": "markdown",
   "metadata": {
    "slideshow": {
     "slide_type": "slide"
    }
   },
   "source": [
    "Now $\\alpha$ = 0.05. Two tailed test."
   ]
  },
  {
   "cell_type": "markdown",
   "metadata": {
    "slideshow": {
     "slide_type": "fragment"
    }
   },
   "source": [
    "Calculate t-statistic"
   ]
  },
  {
   "cell_type": "code",
   "execution_count": 9,
   "metadata": {
    "slideshow": {
     "slide_type": "fragment"
    }
   },
   "outputs": [
    {
     "data": {
      "text/plain": [
       "-6.614120615780003"
      ]
     },
     "execution_count": 9,
     "metadata": {},
     "output_type": "execute_result"
    }
   ],
   "source": [
    "N = len(gab)\n",
    "s_n = gab.std(ddof=1)/np.sqrt(N)\n",
    "t_stat = (gab.mean() - 9000)/s_n\n",
    "\n",
    "t_stat"
   ]
  },
  {
   "cell_type": "markdown",
   "metadata": {
    "cell_style": "center",
    "slideshow": {
     "slide_type": "slide"
    }
   },
   "source": [
    "Calculate the p-value."
   ]
  },
  {
   "cell_type": "code",
   "execution_count": 10,
   "metadata": {
    "cell_style": "center",
    "slideshow": {
     "slide_type": "fragment"
    }
   },
   "outputs": [
    {
     "data": {
      "text/plain": [
       "2.4982149013801283e-06"
      ]
     },
     "execution_count": 10,
     "metadata": {},
     "output_type": "execute_result"
    }
   ],
   "source": [
    "t_abs = np.abs(t_stat)\n",
    "# need to specify degrees of freedom for cdf. assumes standardized t.\n",
    "p_value = t.cdf(-t_abs, df = N - 1) + t.sf(t_abs, df = N - 1)\n",
    "p_value"
   ]
  },
  {
   "cell_type": "markdown",
   "metadata": {
    "slideshow": {
     "slide_type": "fragment"
    }
   },
   "source": [
    "Reject the null at $\\alpha = 0.05$."
   ]
  },
  {
   "cell_type": "markdown",
   "metadata": {
    "slideshow": {
     "slide_type": "slide"
    }
   },
   "source": [
    "May also want to calculate the critical t-value for two-tailed test:\n",
    "\n",
    "$|t| > t_{crit}$ reject the null."
   ]
  },
  {
   "cell_type": "code",
   "execution_count": 11,
   "metadata": {
    "slideshow": {
     "slide_type": "skip"
    }
   },
   "outputs": [],
   "source": [
    "def plot_two_tailed_t(alpha, N):\n",
    "    x_scaled = np.linspace(-5,5,400)\n",
    "    Y_scaled = t.pdf(x_scaled, df = N-1)\n",
    "\n",
    "\n",
    "    t_crit = t.ppf(1- (alpha/2), df = N-1)\n",
    "\n",
    "    fig, ax = plt.subplots(figsize = (8,5))\n",
    "\n",
    "    ax.plot(x_scaled, Y_scaled, c ='r', linewidth = 3)\n",
    "    ax.axvline(-t_crit, c = 'b')\n",
    "    ax.axvline(t_crit, c = 'b')\n",
    "    ax.fill_between(x_scaled, Y_scaled, where = (x_scaled > t_crit), alpha = 0.5, color='b')\n",
    "    ax.fill_between(x_scaled, Y_scaled, where = (x_scaled < -t_crit ), alpha = 0.5, color='b')\n",
    "\n",
    "    ax.annotate(r'$\\frac{\\alpha}{2}$ = 0.025', xytext = (t_crit + .25,.1), xy = (t_crit + 0.25,.01), fontsize=16, arrowprops=dict(facecolor='b', shrink=0.05), c ='b' )\n",
    "    ax.annotate(r'$\\frac{\\alpha}{2}$ = 0.025', xytext = (-t_crit - 2,.1), xy = (-t_crit - .75,.01), fontsize=16, arrowprops=dict(facecolor='b', shrink=0.05), c ='b' )\n",
    "\n",
    "    ax.annotate(r'$-t_{crit}$', xy = (-t_crit-1.5,.3), fontsize=16, c ='b' )\n",
    "    ax.annotate(r'$t_{crit}$', xy = (t_crit+0.25,.3), fontsize=16, c ='b' )\n",
    "    \n",
    "    ax.set_xlabel('t')\n",
    "    ax.set_ylabel('PDF')\n",
    "    ax.set_title('Two-Tailed Test: t-distribution')\n",
    "    "
   ]
  },
  {
   "cell_type": "code",
   "execution_count": 12,
   "metadata": {
    "slideshow": {
     "slide_type": "skip"
    }
   },
   "outputs": [],
   "source": [
    "def plot_left_tailed_t(alpha, N):\n",
    "    x_scaled = np.linspace(-5,5,400)\n",
    "    Y_scaled = t.pdf(x_scaled, df = N-1)\n",
    "\n",
    "    t_crit = t.ppf(1- alpha, df = N-1)\n",
    "\n",
    "    fig, ax = plt.subplots(figsize = (8,5))\n",
    "\n",
    "    ax.plot(x_scaled, Y_scaled, c ='r', linewidth = 3)\n",
    "    ax.axvline(-t_crit, c = 'b')\n",
    "    ax.fill_between(x_scaled, Y_scaled, where = (x_scaled < -t_crit ), alpha = 0.5, color='b')\n",
    "\n",
    "    ax.annotate(r'$\\alpha$ = 0.05', xytext = (-t_crit - 2,.1), xy = (-t_crit - .75,.01), fontsize=16, arrowprops=dict(facecolor='b', shrink=0.05), c ='b' )\n",
    "\n",
    "    ax.annotate(r'$-t_{crit}$', xy = (-t_crit-1.5,.3), fontsize=16, c ='b' )\n",
    "    \n",
    "    ax.set_xlabel('t')\n",
    "    ax.set_ylabel('PDF')\n",
    "    ax.set_title('Left-Tailed Test: t-distribution')"
   ]
  },
  {
   "cell_type": "code",
   "execution_count": 13,
   "metadata": {
    "cell_style": "split",
    "slideshow": {
     "slide_type": "subslide"
    }
   },
   "outputs": [
    {
     "data": {
      "image/png": "[encoded data removed]",
      "text/plain": [
       "<Figure size 576x360 with 1 Axes>"
      ]
     },
     "metadata": {
      "needs_background": "light"
     },
     "output_type": "display_data"
    }
   ],
   "source": [
    "plot_two_tailed_t(alpha = 0.05, N = N)"
   ]
  },
  {
   "cell_type": "markdown",
   "metadata": {
    "cell_style": "split",
    "slideshow": {
     "slide_type": "fragment"
    }
   },
   "source": [
    "The .ppf function: percentile point function:\n",
    "- Know probability. Want to get $t^*$\n",
    "- satisfying CDF $P(t<t^*) = 1 - \\frac{\\alpha}{2}$"
   ]
  },
  {
   "cell_type": "code",
   "execution_count": 14,
   "metadata": {
    "cell_style": "split",
    "slideshow": {
     "slide_type": "fragment"
    }
   },
   "outputs": [
    {
     "ename": "NameError",
     "evalue": "name 'alpha' is not defined",
     "output_type": "error",
     "traceback": [
      "\u001b[1;31m---------------------------------------------------------------------------\u001b[0m",
      "\u001b[1;31mNameError\u001b[0m                                 Traceback (most recent call last)",
      "\u001b[1;32m~\\AppData\\Local\\Temp/ipykernel_16056/1084484611.py\u001b[0m in \u001b[0;36m<module>\u001b[1;34m\u001b[0m\n\u001b[0;32m      1\u001b[0m \u001b[1;31m# needs to specify df as usual:\u001b[0m\u001b[1;33m\u001b[0m\u001b[1;33m\u001b[0m\u001b[0m\n\u001b[1;32m----> 2\u001b[1;33m \u001b[0mt\u001b[0m\u001b[1;33m.\u001b[0m\u001b[0mppf\u001b[0m\u001b[1;33m(\u001b[0m\u001b[0malpha\u001b[0m\u001b[1;33m/\u001b[0m\u001b[1;36m2\u001b[0m\u001b[1;33m,\u001b[0m \u001b[0mdf\u001b[0m \u001b[1;33m=\u001b[0m \u001b[0mN\u001b[0m\u001b[1;33m-\u001b[0m\u001b[1;36m1\u001b[0m\u001b[1;33m)\u001b[0m\u001b[1;33m\u001b[0m\u001b[1;33m\u001b[0m\u001b[0m\n\u001b[0m",
      "\u001b[1;31mNameError\u001b[0m: name 'alpha' is not defined"
     ]
    }
   ],
   "source": [
    "# needs to specify df as usual:\n",
    "t.ppf(alpha/2, df = N-1)"
   ]
  },
  {
   "cell_type": "markdown",
   "metadata": {
    "cell_style": "split",
    "slideshow": {
     "slide_type": "fragment"
    }
   },
   "source": [
    "This is $-t_{crit}$."
   ]
  },
  {
   "cell_type": "markdown",
   "metadata": {
    "slideshow": {
     "slide_type": "slide"
    }
   },
   "source": [
    "#### The easy way"
   ]
  },
  {
   "cell_type": "code",
   "execution_count": 15,
   "metadata": {
    "hidden": true,
    "scrolled": true,
    "slideshow": {
     "slide_type": "subslide"
    }
   },
   "outputs": [
    {
     "data": {
      "text/plain": [
       "Ttest_1sampResult(statistic=-6.614120615780001, pvalue=2.498214901380137e-06)"
      ]
     },
     "execution_count": 15,
     "metadata": {},
     "output_type": "execute_result"
    }
   ],
   "source": [
    "# if this throws an error you need to upgrade your scipy version\n",
    "result = stats.ttest_1samp(gab, 9000, alternative = 'two-sided')\n",
    "t_stat, p_value = result\n",
    "result"
   ]
  },
  {
   "cell_type": "markdown",
   "metadata": {
    "slideshow": {
     "slide_type": "slide"
    }
   },
   "source": [
    "#### Left-tailed test"
   ]
  },
  {
   "cell_type": "markdown",
   "metadata": {
    "cell_style": "split",
    "slideshow": {
     "slide_type": "fragment"
    }
   },
   "source": [
    "Suspect that Gabonese elephant weight less than general population.\n",
    "- $H_0$: $\\mu_{Gabo} = \\mu_0$\n",
    "- $H_a$: $\\mu_{Gabo} < \\mu_0$"
   ]
  },
  {
   "cell_type": "code",
   "execution_count": 16,
   "metadata": {
    "cell_style": "split",
    "slideshow": {
     "slide_type": "fragment"
    }
   },
   "outputs": [
    {
     "data": {
      "image/png": "[encoded data removed]",
      "text/plain": [
       "<Figure size 576x360 with 1 Axes>"
      ]
     },
     "metadata": {
      "needs_background": "light"
     },
     "output_type": "display_data"
    }
   ],
   "source": [
    "plot_left_tailed_t(alpha = 0.05, N = N)"
   ]
  },
  {
   "cell_type": "code",
   "execution_count": 17,
   "metadata": {
    "slideshow": {
     "slide_type": "fragment"
    }
   },
   "outputs": [
    {
     "data": {
      "text/plain": [
       "-1.7291328115213678"
      ]
     },
     "execution_count": 17,
     "metadata": {},
     "output_type": "execute_result"
    }
   ],
   "source": [
    "alpha = 0.05\n",
    "t_crit = t.ppf(alpha, df = N - 1)\n",
    "t_crit"
   ]
  },
  {
   "cell_type": "markdown",
   "metadata": {
    "slideshow": {
     "slide_type": "subslide"
    }
   },
   "source": [
    "And conduct the one sample left-tailed t-test:"
   ]
  },
  {
   "cell_type": "code",
   "execution_count": 18,
   "metadata": {
    "cell_style": "center",
    "slideshow": {
     "slide_type": "fragment"
    }
   },
   "outputs": [
    {
     "data": {
      "text/plain": [
       "Ttest_1sampResult(statistic=-6.614120615780001, pvalue=1.2491074506900686e-06)"
      ]
     },
     "execution_count": 18,
     "metadata": {},
     "output_type": "execute_result"
    }
   ],
   "source": [
    "# if this throws an error you need to upgrade your scipy version\n",
    "result = stats.ttest_1samp(gab, 9000, alternative = 'less')\n",
    "t_stat, p_value = result\n",
    "result"
   ]
  },
  {
   "cell_type": "markdown",
   "metadata": {
    "slideshow": {
     "slide_type": "slide"
    }
   },
   "source": [
    "Hypothesis testing on physical characteristics and genetic testing:\n",
    "\n",
    "\n",
    "<img src = \"Images/elephants.jpg\" align = \"center\" width = 600 />\n",
    "<center>Forest vs. Savannah Elephant"
   ]
  },
  {
   "cell_type": "markdown",
   "metadata": {
    "hidden": true,
    "slideshow": {
     "slide_type": "slide"
    }
   },
   "source": [
    "#### Confidence Intervals: t-distribution"
   ]
  },
  {
   "cell_type": "markdown",
   "metadata": {
    "cell_style": "split",
    "slideshow": {
     "slide_type": "fragment"
    }
   },
   "source": [
    "- Again, same idea as with Z-distribution\n",
    "- Have sample: estimate population mean.\n",
    "- Uncertainty in population mean"
   ]
  },
  {
   "cell_type": "markdown",
   "metadata": {
    "cell_style": "split"
   },
   "source": [
    "But $ N < 30$"
   ]
  },
  {
   "cell_type": "markdown",
   "metadata": {
    "cell_style": "center",
    "slideshow": {
     "slide_type": "slide"
    }
   },
   "source": [
    "Confidence interval at confidence level $c$:\n",
    "- Measure $\\bar{X_0}$\n",
    "- assuming underlying population is normally distributed\n",
    "\n",
    "$$\\bar{X_0} \\pm t^* \\frac{s}{\\sqrt{N}} $$\n",
    "\n",
    "\n",
    "- $c$ fraction of means lie in range $\\pm t^*$ range in standardized t-distribution.\n"
   ]
  },
  {
   "cell_type": "code",
   "execution_count": 19,
   "metadata": {
    "cell_style": "center",
    "slideshow": {
     "slide_type": "skip"
    }
   },
   "outputs": [],
   "source": [
    "\n",
    "def plot_confidence_interval_t(c, N):\n",
    "    \n",
    "    x_scaled = np.linspace(-5,5,800)\n",
    "    Y_scaled = t.pdf(x_scaled, df = N-1)\n",
    "\n",
    "    fig,ax = plt.subplots()\n",
    "    \n",
    "    t_crit = t.ppf( 1 - (1 - c)/2, df = N - 1)\n",
    "\n",
    "    ax.plot(x_scaled, Y_scaled, c ='r', linewidth = 3)\n",
    "    ax.axvline(-t_crit, c = 'b')\n",
    "    ax.axvline(t_crit, c = 'b')\n",
    "\n",
    "    ax.fill_between(x_scaled, Y_scaled, where = (x_scaled > -t_crit )& (x_scaled < t_crit), alpha = 0.5, color='r')\n",
    "\n",
    "\n",
    "    ax.annotate('c = 0.95', xytext = (-5.0,.25), xy = (-.5,.20), fontsize=16, arrowprops=dict(facecolor='r', shrink=0.05), c ='r' )\n",
    "    ax.set_xlabel('t')\n",
    "    ax.set_ylabel('PDF')\n",
    "    ax.set_title('Confidence Interval: standardized t')\n",
    "    plt.show()\n"
   ]
  },
  {
   "cell_type": "code",
   "execution_count": 20,
   "metadata": {
    "cell_style": "split",
    "slideshow": {
     "slide_type": "slide"
    }
   },
   "outputs": [
    {
     "data": {
      "image/png": "[encoded data removed]",
      "text/plain": [
       "<Figure size 432x288 with 1 Axes>"
      ]
     },
     "metadata": {
      "needs_background": "light"
     },
     "output_type": "display_data"
    }
   ],
   "source": [
    "plot_confidence_interval_t(0.95, N)"
   ]
  },
  {
   "cell_type": "markdown",
   "metadata": {
    "cell_style": "split",
    "slideshow": {
     "slide_type": "fragment"
    }
   },
   "source": [
    "Compute (-$t^*$, $t^*$):\n",
    "    "
   ]
  },
  {
   "cell_type": "code",
   "execution_count": 21,
   "metadata": {
    "cell_style": "split",
    "slideshow": {
     "slide_type": "fragment"
    }
   },
   "outputs": [],
   "source": [
    "# 95% confidence interval\n",
    "c = 0.95"
   ]
  },
  {
   "cell_type": "code",
   "execution_count": 22,
   "metadata": {
    "cell_style": "split",
    "slideshow": {
     "slide_type": "fragment"
    }
   },
   "outputs": [
    {
     "data": {
      "text/plain": [
       "(-2.093024054408263, 2.093024054408263)"
      ]
     },
     "execution_count": 22,
     "metadata": {},
     "output_type": "execute_result"
    }
   ],
   "source": [
    "# outputs (-t*, +t*)\n",
    "CI_norm = t.interval(c, df = N - 1)\n",
    "CI_norm"
   ]
  },
  {
   "cell_type": "markdown",
   "metadata": {
    "cell_style": "split",
    "slideshow": {
     "slide_type": "slide"
    }
   },
   "source": [
    "- sample mean $\\bar{X_0}$ is our central estimate of population mean\n",
    "- conduct rescaling to give us the confidence interval:\n",
    "    \n",
    "    As $$ t = \\frac{\\bar{X} - \\bar{X_0}}{s/\\sqrt{N}} $$\n",
    "   "
   ]
  },
  {
   "cell_type": "code",
   "execution_count": 23,
   "metadata": {
    "cell_style": "split",
    "slideshow": {
     "slide_type": "fragment"
    }
   },
   "outputs": [
    {
     "data": {
      "text/plain": [
       "296.1535874650534"
      ]
     },
     "execution_count": 23,
     "metadata": {},
     "output_type": "execute_result"
    }
   ],
   "source": [
    "# Remember our Galbonese elephant data\n",
    "s = gab.std(ddof = 1)\n",
    "s"
   ]
  },
  {
   "cell_type": "code",
   "execution_count": 24,
   "metadata": {
    "cell_style": "split",
    "slideshow": {
     "slide_type": "fragment"
    }
   },
   "outputs": [
    {
     "data": {
      "text/plain": [
       "20"
      ]
     },
     "execution_count": 24,
     "metadata": {},
     "output_type": "execute_result"
    }
   ],
   "source": [
    "N = len(gab)\n",
    "N"
   ]
  },
  {
   "cell_type": "code",
   "execution_count": 25,
   "metadata": {
    "cell_style": "split",
    "slideshow": {
     "slide_type": "fragment"
    }
   },
   "outputs": [
    {
     "data": {
      "text/plain": [
       "8562.0"
      ]
     },
     "execution_count": 25,
     "metadata": {},
     "output_type": "execute_result"
    }
   ],
   "source": [
    "Xbar0 = gab.mean()\n",
    "Xbar0"
   ]
  },
  {
   "cell_type": "markdown",
   "metadata": {
    "cell_style": "split",
    "slideshow": {
     "slide_type": "slide"
    }
   },
   "source": [
    "To get our unscaled CI is easy now:\n",
    "- multiply numpy array of lower/upper $t^*$ values\n",
    "- by $s/\\sqrt{N}$\n",
    "- add sample mean $\\bar{X}_0$"
   ]
  },
  {
   "cell_type": "code",
   "execution_count": 26,
   "metadata": {
    "cell_style": "split",
    "slideshow": {
     "slide_type": "fragment"
    }
   },
   "outputs": [
    {
     "data": {
      "text/plain": [
       "array([-2.09302405,  2.09302405])"
      ]
     },
     "execution_count": 26,
     "metadata": {},
     "output_type": "execute_result"
    }
   ],
   "source": [
    "np.array(CI_norm)"
   ]
  },
  {
   "cell_type": "code",
   "execution_count": 27,
   "metadata": {
    "cell_style": "split",
    "slideshow": {
     "slide_type": "fragment"
    }
   },
   "outputs": [
    {
     "data": {
      "text/plain": [
       "array([8423.39585455, 8700.60414545])"
      ]
     },
     "execution_count": 27,
     "metadata": {},
     "output_type": "execute_result"
    }
   ],
   "source": [
    "Xbar0 + np.array(CI_norm)*(s/np.sqrt(N))"
   ]
  },
  {
   "cell_type": "markdown",
   "metadata": {
    "slideshow": {
     "slide_type": "slide"
    }
   },
   "source": [
    "Next up:\n",
    "\n",
    "- Statistical tests with more than one sample."
   ]
  }
 ],
 "metadata": {
  "celltoolbar": "Slideshow",
  "kernelspec": {
   "display_name": "Python 3 (ipykernel)",
   "language": "python",
   "name": "python3"
  },
  "language_info": {
   "codemirror_mode": {
    "name": "ipython",
    "version": 3
   },
   "file_extension": ".py",
   "mimetype": "text/x-python",
   "name": "python",
   "nbconvert_exporter": "python",
   "pygments_lexer": "ipython3",
   "version": "3.9.7"
  },
  "toc": {
   "base_numbering": 1,
   "nav_menu": {},
   "number_sections": true,
   "sideBar": true,
   "skip_h1_title": false,
   "title_cell": "Table of Contents",
   "title_sidebar": "TOC",
   "toc_cell": true,
   "toc_position": {
    "height": "calc(100% - 180px)",
    "left": "10px",
    "top": "150px",
    "width": "288px"
   },
   "toc_section_display": true,
   "toc_window_display": true
  }
 },
 "nbformat": 4,
 "nbformat_minor": 4
}
