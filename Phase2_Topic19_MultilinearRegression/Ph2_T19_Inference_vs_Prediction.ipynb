{
 "cells": [
  {
   "cell_type": "markdown",
   "id": "72b59ac9",
   "metadata": {
    "slideshow": {
     "slide_type": "slide"
    }
   },
   "source": [
    "<div style=\"color:white;\n",
    "           display:fill;\n",
    "           border-radius:5px;\n",
    "           background-color:#5642C5;\n",
    "           font-size:200%;\n",
    "           font-family:Arial;letter-spacing:0.5px\">\n",
    "\n",
    "<p width = 20%, style=\"padding: 10px;\n",
    "              color:white;\">\n",
    "Inference and Prediction\n",
    "              \n",
    "</p>\n",
    "</div>\n",
    "\n",
    "Data Science Cohort Live NYC Feb 2022\n",
    "<p>Phase 2: Topic 19</p>\n",
    "<br>\n",
    "<br>\n",
    "\n",
    "<div align = \"right\">\n",
    "<img src=\"Images/flatiron-school-logo.png\" align = \"right\" width=\"200\"/>\n",
    "</div>\n",
    "    \n",
    "    "
   ]
  },
  {
   "cell_type": "markdown",
   "id": "a57c41d2",
   "metadata": {
    "cell_style": "center",
    "slideshow": {
     "slide_type": "slide"
    }
   },
   "source": [
    "**Inference**\n",
    "\n",
    "- Hypothesis testing based on limited information."
   ]
  },
  {
   "cell_type": "markdown",
   "id": "3a65bc12",
   "metadata": {
    "cell_style": "center",
    "slideshow": {
     "slide_type": "slide"
    }
   },
   "source": [
    "**In the context of t-testing on means**:"
   ]
  },
  {
   "cell_type": "markdown",
   "id": "5e6a4fbd",
   "metadata": {
    "cell_style": "split",
    "slideshow": {
     "slide_type": "fragment"
    }
   },
   "source": [
    "The **sample mean** of the Gabonese elephants vs. the mean of the savannah population.\n",
    "\n",
    "Is there a significant difference between the Gabonese and general Savannah population?"
   ]
  },
  {
   "cell_type": "markdown",
   "id": "a49c29cb",
   "metadata": {
    "cell_style": "split",
    "slideshow": {
     "slide_type": "fragment"
    }
   },
   "source": [
    "<center><img src = \"Images/elephants.jpg\" align = center width = 400></center>\n",
    "<center>Forest vs. Savannah elephants</center>"
   ]
  },
  {
   "cell_type": "markdown",
   "id": "cb566d5a",
   "metadata": {
    "slideshow": {
     "slide_type": "slide"
    }
   },
   "source": [
    "**In the context of chi-squared testing**:"
   ]
  },
  {
   "cell_type": "markdown",
   "id": "75eb780e",
   "metadata": {
    "cell_style": "split",
    "slideshow": {
     "slide_type": "fragment"
    }
   },
   "source": [
    "Character classes preferences for MMORPG players:\n",
    "- UK **sample count distribution**.\n",
    "- Expected from US population.\n",
    "\n",
    "Is there a significant difference in class preferences between UK and US users?"
   ]
  },
  {
   "cell_type": "markdown",
   "id": "e299ef4f",
   "metadata": {
    "cell_style": "split",
    "slideshow": {
     "slide_type": "fragment"
    }
   },
   "source": [
    "<center><img src = \"Images/mmorpg.png\" align = \"center\" width = 800 /></center>\n",
    "<center>Bombergirl looks like some fun.</center>"
   ]
  },
  {
   "cell_type": "markdown",
   "id": "72612bc8",
   "metadata": {
    "slideshow": {
     "slide_type": "slide"
    }
   },
   "source": [
    "**In the context of linear regression**:"
   ]
  },
  {
   "cell_type": "markdown",
   "id": "c90c8400",
   "metadata": {
    "cell_style": "split",
    "slideshow": {
     "slide_type": "fragment"
    }
   },
   "source": [
    "\n",
    "\n",
    "- Does the total population in a country have any correlation with its average life expectancy?\n",
    "- Which factors can be said to have **statistically significant** effects on explaining the variance in life expectancy?\n",
    "- What is the weight of each factor? What is our uncertainty in this weight?"
   ]
  },
  {
   "cell_type": "markdown",
   "id": "1a3fd0c0",
   "metadata": {
    "cell_style": "split",
    "slideshow": {
     "slide_type": "fragment"
    }
   },
   "source": [
    "<center><img src = \"Images/jaffer.png\" width = 400></center>\n",
    "<center>You are keeping him waiting for answers...</center>"
   ]
  },
  {
   "cell_type": "markdown",
   "id": "15444642",
   "metadata": {
    "cell_style": "center",
    "slideshow": {
     "slide_type": "slide"
    }
   },
   "source": [
    "- Get data.\n",
    "- Make inference from a statistic/estimator based off the data (sample):\n",
    "    - sample mean $\\bar{X}$\n",
    "    - sample median\n",
    "    - $\\hat{\\beta}_1$, $\\hat{\\beta}_0$ from linear regression on dataset."
   ]
  },
  {
   "cell_type": "code",
   "execution_count": 29,
   "id": "79268396",
   "metadata": {
    "cell_style": "center",
    "slideshow": {
     "slide_type": "fragment"
    }
   },
   "outputs": [],
   "source": [
    "import pandas as pd\n",
    "import numpy as np\n",
    "#load WHO dataset: all countries health data 2001-2015\n",
    "WHO_df = pd.read_csv('Data/WHO_life.csv').dropna()\n",
    "\n",
    "# stripping white space on column names\n",
    "WHO_df.columns = WHO_df.columns.str.strip()"
   ]
  },
  {
   "cell_type": "code",
   "execution_count": 30,
   "id": "adf8fe18",
   "metadata": {
    "cell_style": "center",
    "scrolled": false,
    "slideshow": {
     "slide_type": "subslide"
    }
   },
   "outputs": [
    {
     "name": "stdout",
     "output_type": "stream",
     "text": [
      "<class 'pandas.core.frame.DataFrame'>\n",
      "Int64Index: 1649 entries, 0 to 2937\n",
      "Data columns (total 22 columns):\n",
      " #   Column                           Non-Null Count  Dtype  \n",
      "---  ------                           --------------  -----  \n",
      " 0   Country                          1649 non-null   object \n",
      " 1   Year                             1649 non-null   int64  \n",
      " 2   Status                           1649 non-null   object \n",
      " 3   Life expectancy                  1649 non-null   float64\n",
      " 4   Adult Mortality                  1649 non-null   float64\n",
      " 5   infant deaths                    1649 non-null   int64  \n",
      " 6   Alcohol                          1649 non-null   float64\n",
      " 7   percentage expenditure           1649 non-null   float64\n",
      " 8   Hepatitis B                      1649 non-null   float64\n",
      " 9   Measles                          1649 non-null   int64  \n",
      " 10  BMI                              1649 non-null   float64\n",
      " 11  under-five deaths                1649 non-null   int64  \n",
      " 12  Polio                            1649 non-null   float64\n",
      " 13  Total expenditure                1649 non-null   float64\n",
      " 14  Diphtheria                       1649 non-null   float64\n",
      " 15  HIV/AIDS                         1649 non-null   float64\n",
      " 16  GDP                              1649 non-null   float64\n",
      " 17  Population                       1649 non-null   float64\n",
      " 18  thinness  1-19 years             1649 non-null   float64\n",
      " 19  thinness 5-9 years               1649 non-null   float64\n",
      " 20  Income composition of resources  1649 non-null   float64\n",
      " 21  Schooling                        1649 non-null   float64\n",
      "dtypes: float64(16), int64(4), object(2)\n",
      "memory usage: 296.3+ KB\n"
     ]
    }
   ],
   "source": [
    "WHO_df.info()"
   ]
  },
  {
   "cell_type": "code",
   "execution_count": 5,
   "id": "f7548105",
   "metadata": {
    "cell_style": "center"
   },
   "outputs": [],
   "source": [
    "feature_cols = ['HIV/AIDS', 'BMI', 'Population', 'Polio', 'Population', 'Alcohol', 'GDP']\n",
    "X = WHO_df[feature_cols]\n",
    "# standardize features\n",
    "X_standard = X.apply(lambda x: (x - x.mean())/x.std() )\n",
    "y = WHO_df['Life expectancy']\n",
    "y_standard = (y - y.mean())/y.std()"
   ]
  },
  {
   "cell_type": "markdown",
   "id": "d998918a",
   "metadata": {
    "slideshow": {
     "slide_type": "slide"
    }
   },
   "source": [
    "Which of these factors affect life expectancy? Their relative weights?\n",
    "\n",
    "- Confidence intervals of weights\n",
    "- Key here is *understanding* of relationships between dependent and independent variables.\n",
    "- Minimal model explaining variance.\n",
    "\n",
    "We did this kind of statistical inference with statsmodels."
   ]
  },
  {
   "cell_type": "code",
   "execution_count": 31,
   "id": "bb11c6d5",
   "metadata": {},
   "outputs": [],
   "source": [
    "import statsmodels.api as sm\n",
    "X_aug = sm.add_constant(X_standard)\n",
    "res = sm.OLS(y_standard, X_aug).fit()"
   ]
  },
  {
   "cell_type": "code",
   "execution_count": 7,
   "id": "14be3476",
   "metadata": {
    "slideshow": {
     "slide_type": "subslide"
    }
   },
   "outputs": [
    {
     "data": {
      "text/html": [
       "<table class=\"simpletable\">\n",
       "<caption>OLS Regression Results</caption>\n",
       "<tr>\n",
       "  <th>Dep. Variable:</th>     <td>Life expectancy</td> <th>  R-squared:         </th> <td>   0.656</td>\n",
       "</tr>\n",
       "<tr>\n",
       "  <th>Model:</th>                   <td>OLS</td>       <th>  Adj. R-squared:    </th> <td>   0.655</td>\n",
       "</tr>\n",
       "<tr>\n",
       "  <th>Method:</th>             <td>Least Squares</td>  <th>  F-statistic:       </th> <td>   522.0</td>\n",
       "</tr>\n",
       "<tr>\n",
       "  <th>Date:</th>             <td>Mon, 28 Mar 2022</td> <th>  Prob (F-statistic):</th>  <td>  0.00</td> \n",
       "</tr>\n",
       "<tr>\n",
       "  <th>Time:</th>                 <td>10:22:39</td>     <th>  Log-Likelihood:    </th> <td> -1459.3</td>\n",
       "</tr>\n",
       "<tr>\n",
       "  <th>No. Observations:</th>      <td>  1649</td>      <th>  AIC:               </th> <td>   2933.</td>\n",
       "</tr>\n",
       "<tr>\n",
       "  <th>Df Residuals:</th>          <td>  1642</td>      <th>  BIC:               </th> <td>   2971.</td>\n",
       "</tr>\n",
       "<tr>\n",
       "  <th>Df Model:</th>              <td>     6</td>      <th>                     </th>     <td> </td>   \n",
       "</tr>\n",
       "<tr>\n",
       "  <th>Covariance Type:</th>      <td>nonrobust</td>    <th>                     </th>     <td> </td>   \n",
       "</tr>\n",
       "</table>\n",
       "<table class=\"simpletable\">\n",
       "<tr>\n",
       "       <td></td>         <th>coef</th>     <th>std err</th>      <th>t</th>      <th>P>|t|</th>  <th>[0.025</th>    <th>0.975]</th>  \n",
       "</tr>\n",
       "<tr>\n",
       "  <th>const</th>      <td>  -2.5e-15</td> <td>    0.014</td> <td>-1.73e-13</td> <td> 1.000</td> <td>   -0.028</td> <td>    0.028</td>\n",
       "</tr>\n",
       "<tr>\n",
       "  <th>HIV/AIDS</th>   <td>   -0.4849</td> <td>    0.015</td> <td>  -32.453</td> <td> 0.000</td> <td>   -0.514</td> <td>   -0.456</td>\n",
       "</tr>\n",
       "<tr>\n",
       "  <th>BMI</th>        <td>    0.3010</td> <td>    0.016</td> <td>   18.751</td> <td> 0.000</td> <td>    0.270</td> <td>    0.332</td>\n",
       "</tr>\n",
       "<tr>\n",
       "  <th>Population</th> <td>    0.0021</td> <td>    0.007</td> <td>    0.294</td> <td> 0.769</td> <td>   -0.012</td> <td>    0.016</td>\n",
       "</tr>\n",
       "<tr>\n",
       "  <th>Polio</th>      <td>    0.1486</td> <td>    0.015</td> <td>    9.858</td> <td> 0.000</td> <td>    0.119</td> <td>    0.178</td>\n",
       "</tr>\n",
       "<tr>\n",
       "  <th>Population</th> <td>    0.0021</td> <td>    0.007</td> <td>    0.294</td> <td> 0.769</td> <td>   -0.012</td> <td>    0.016</td>\n",
       "</tr>\n",
       "<tr>\n",
       "  <th>Alcohol</th>    <td>    0.1506</td> <td>    0.017</td> <td>    8.820</td> <td> 0.000</td> <td>    0.117</td> <td>    0.184</td>\n",
       "</tr>\n",
       "<tr>\n",
       "  <th>GDP</th>        <td>    0.2188</td> <td>    0.016</td> <td>   13.382</td> <td> 0.000</td> <td>    0.187</td> <td>    0.251</td>\n",
       "</tr>\n",
       "</table>\n",
       "<table class=\"simpletable\">\n",
       "<tr>\n",
       "  <th>Omnibus:</th>       <td>19.852</td> <th>  Durbin-Watson:     </th> <td>   0.588</td>\n",
       "</tr>\n",
       "<tr>\n",
       "  <th>Prob(Omnibus):</th> <td> 0.000</td> <th>  Jarque-Bera (JB):  </th> <td>  26.909</td>\n",
       "</tr>\n",
       "<tr>\n",
       "  <th>Skew:</th>          <td>-0.145</td> <th>  Prob(JB):          </th> <td>1.43e-06</td>\n",
       "</tr>\n",
       "<tr>\n",
       "  <th>Kurtosis:</th>      <td> 3.555</td> <th>  Cond. No.          </th> <td>1.59e+16</td>\n",
       "</tr>\n",
       "</table><br/><br/>Notes:<br/>[1] Standard Errors assume that the covariance matrix of the errors is correctly specified.<br/>[2] The smallest eigenvalue is 1.35e-29. This might indicate that there are<br/>strong multicollinearity problems or that the design matrix is singular."
      ],
      "text/plain": [
       "<class 'statsmodels.iolib.summary.Summary'>\n",
       "\"\"\"\n",
       "                            OLS Regression Results                            \n",
       "==============================================================================\n",
       "Dep. Variable:        Life expectancy   R-squared:                       0.656\n",
       "Model:                            OLS   Adj. R-squared:                  0.655\n",
       "Method:                 Least Squares   F-statistic:                     522.0\n",
       "Date:                Mon, 28 Mar 2022   Prob (F-statistic):               0.00\n",
       "Time:                        10:22:39   Log-Likelihood:                -1459.3\n",
       "No. Observations:                1649   AIC:                             2933.\n",
       "Df Residuals:                    1642   BIC:                             2971.\n",
       "Df Model:                           6                                         \n",
       "Covariance Type:            nonrobust                                         \n",
       "==============================================================================\n",
       "                 coef    std err          t      P>|t|      [0.025      0.975]\n",
       "------------------------------------------------------------------------------\n",
       "const        -2.5e-15      0.014  -1.73e-13      1.000      -0.028       0.028\n",
       "HIV/AIDS      -0.4849      0.015    -32.453      0.000      -0.514      -0.456\n",
       "BMI            0.3010      0.016     18.751      0.000       0.270       0.332\n",
       "Population     0.0021      0.007      0.294      0.769      -0.012       0.016\n",
       "Polio          0.1486      0.015      9.858      0.000       0.119       0.178\n",
       "Population     0.0021      0.007      0.294      0.769      -0.012       0.016\n",
       "Alcohol        0.1506      0.017      8.820      0.000       0.117       0.184\n",
       "GDP            0.2188      0.016     13.382      0.000       0.187       0.251\n",
       "==============================================================================\n",
       "Omnibus:                       19.852   Durbin-Watson:                   0.588\n",
       "Prob(Omnibus):                  0.000   Jarque-Bera (JB):               26.909\n",
       "Skew:                          -0.145   Prob(JB):                     1.43e-06\n",
       "Kurtosis:                       3.555   Cond. No.                     1.59e+16\n",
       "==============================================================================\n",
       "\n",
       "Notes:\n",
       "[1] Standard Errors assume that the covariance matrix of the errors is correctly specified.\n",
       "[2] The smallest eigenvalue is 1.35e-29. This might indicate that there are\n",
       "strong multicollinearity problems or that the design matrix is singular.\n",
       "\"\"\""
      ]
     },
     "execution_count": 7,
     "metadata": {},
     "output_type": "execute_result"
    }
   ],
   "source": [
    "res.summary()"
   ]
  },
  {
   "cell_type": "markdown",
   "id": "ff774575",
   "metadata": {
    "slideshow": {
     "slide_type": "slide"
    }
   },
   "source": [
    "#### Prediction"
   ]
  },
  {
   "cell_type": "markdown",
   "id": "fdfb4d5d",
   "metadata": {
    "slideshow": {
     "slide_type": "subslide"
    }
   },
   "source": [
    "Emphasis is different:\n",
    "- Want to build a little machine:"
   ]
  },
  {
   "cell_type": "markdown",
   "id": "bcfac754",
   "metadata": {
    "slideshow": {
     "slide_type": "fragment"
    }
   },
   "source": [
    "<center><img src = \"Images/machine-learning-prediction.png\" /></center>"
   ]
  },
  {
   "cell_type": "markdown",
   "id": "f2295ad9",
   "metadata": {
    "slideshow": {
     "slide_type": "subslide"
    }
   },
   "source": [
    "E.g.,\n",
    "\n",
    "- Input: Features reflecting socioeconomic factors of Zamunda  \n",
    "    \n",
    "- Output: Life expectancy of Zamunda\n",
    "\n",
    "<center><img src = \"Images/machine-learning-prediction.png\" /></center>"
   ]
  },
  {
   "cell_type": "markdown",
   "id": "fe93b818",
   "metadata": {
    "cell_style": "center",
    "slideshow": {
     "slide_type": "fragment"
    }
   },
   "source": [
    "- Getting good estimates of feature weights, their confidence intervals matter less here.\n",
    "- Less emphasis on building minimal explanatory model.\n",
    "- As long as it improves performance of machine, add more predictors\n"
   ]
  },
  {
   "cell_type": "markdown",
   "id": "05339666",
   "metadata": {
    "cell_style": "center",
    "slideshow": {
     "slide_type": "slide"
    }
   },
   "source": [
    "**Prediction Mode**\n",
    "1. Use data (sample) to train model.\n",
    "2. How well, on the average, does model **simulate** process (population) that generated sample? Evaluate/test model.\n",
    "3. Use model to make prediction on new data."
   ]
  },
  {
   "cell_type": "markdown",
   "id": "5102720a",
   "metadata": {
    "cell_style": "split",
    "slideshow": {
     "slide_type": "subslide"
    }
   },
   "source": [
    "Statsmodels good for statistical inference.\n",
    "- Scikit-learn good for training/testing/prediction.\n",
    "- Designed as general machine-learning framework"
   ]
  },
  {
   "cell_type": "markdown",
   "id": "dfb92eb2",
   "metadata": {
    "cell_style": "split",
    "slideshow": {
     "slide_type": "fragment"
    }
   },
   "source": [
    "<img src = \"Images/sklearn.png\" width = 600/>"
   ]
  },
  {
   "cell_type": "markdown",
   "id": "8e343ac6",
   "metadata": {
    "slideshow": {
     "slide_type": "fragment"
    }
   },
   "source": [
    "Let's use linear regression in scikit-learn."
   ]
  },
  {
   "cell_type": "code",
   "execution_count": 8,
   "id": "d1e1bd9c",
   "metadata": {
    "slideshow": {
     "slide_type": "slide"
    }
   },
   "outputs": [],
   "source": [
    "from sklearn.linear_model import LinearRegression\n",
    "from sklearn.model_selection import train_test_split\n",
    "\n",
    "from sklearn.metrics import mean_absolute_error\n",
    "from sklearn.metrics import mean_squared_error"
   ]
  },
  {
   "cell_type": "markdown",
   "id": "496418e4",
   "metadata": {
    "slideshow": {
     "slide_type": "subslide"
    }
   },
   "source": [
    "Define the linear regression model"
   ]
  },
  {
   "cell_type": "code",
   "execution_count": 32,
   "id": "e22fe74e",
   "metadata": {
    "slideshow": {
     "slide_type": "fragment"
    }
   },
   "outputs": [
    {
     "data": {
      "text/plain": [
       "LinearRegression()"
      ]
     },
     "execution_count": 32,
     "metadata": {},
     "output_type": "execute_result"
    }
   ],
   "source": [
    "lr = LinearRegression()\n",
    "lr"
   ]
  },
  {
   "cell_type": "markdown",
   "id": "cae180ff",
   "metadata": {
    "cell_style": "split",
    "slideshow": {
     "slide_type": "slide"
    }
   },
   "source": [
    "Training a model\n",
    "- Training: model optimizes parameters to best fit the data.\n",
    "- In this case: fit regression coefficients minimizing least squared error.\n",
    "- Essentially creates your prediction machine."
   ]
  },
  {
   "cell_type": "markdown",
   "id": "c4fc8d86",
   "metadata": {
    "cell_style": "split",
    "slideshow": {
     "slide_type": "fragment"
    }
   },
   "source": [
    "Testing a model\n",
    "- Take data model has never seen.\n",
    "- How well does modeling predict (generalize) on data it hasn't optimized to?"
   ]
  },
  {
   "cell_type": "markdown",
   "id": "a0435b55",
   "metadata": {
    "cell_style": "split",
    "slideshow": {
     "slide_type": "slide"
    }
   },
   "source": [
    "Need to do both.\n",
    "- In practice: split dataset into train and test sets.\n",
    "- Training set: optimize model on.\n",
    "- Test set: evaluate model performance."
   ]
  },
  {
   "cell_type": "markdown",
   "id": "e9731d8d",
   "metadata": {
    "cell_style": "split",
    "slideshow": {
     "slide_type": "fragment"
    }
   },
   "source": [
    "Scikit-learn:\n",
    "\n",
    "Has function to do this.\n",
    "\n",
    "train_test_split(X, y, test_size = ...)\n",
    "- Shuffles data\n",
    "- Leaves some fraction for testing and the rest for training."
   ]
  },
  {
   "cell_type": "code",
   "execution_count": 33,
   "id": "f54f626c",
   "metadata": {
    "slideshow": {
     "slide_type": "subslide"
    }
   },
   "outputs": [],
   "source": [
    "# For this, I haven't standardized. Want the actual life expectancy.\n",
    "# Take all the relevant columns \n",
    "col_selector = ['HIV/AIDS', 'Hepatitis B', 'BMI', 'Population', 'Polio',\n",
    "                'Alcohol', 'GDP', 'Measles','Total expenditure', 'Schooling', 'thinness  1-19 years']\n",
    "X = WHO_df[col_selector]\n",
    "X_train, X_test, y_train, y_test = train_test_split(X, y, test_size=0.3)"
   ]
  },
  {
   "cell_type": "code",
   "execution_count": 34,
   "id": "dc6ca5e0",
   "metadata": {
    "slideshow": {
     "slide_type": "fragment"
    }
   },
   "outputs": [
    {
     "name": "stdout",
     "output_type": "stream",
     "text": [
      "1154\n",
      "495\n"
     ]
    }
   ],
   "source": [
    "print(len(X_train))\n",
    "print(len(X_test))"
   ]
  },
  {
   "cell_type": "markdown",
   "id": "0b553cec",
   "metadata": {
    "slideshow": {
     "slide_type": "slide"
    }
   },
   "source": [
    "#### Creating our prediction machine\n",
    "- Train the model\n",
    "- .fit(X,y) method trains the model"
   ]
  },
  {
   "cell_type": "code",
   "execution_count": 35,
   "id": "2e3442fe",
   "metadata": {
    "slideshow": {
     "slide_type": "fragment"
    }
   },
   "outputs": [
    {
     "data": {
      "text/plain": [
       "LinearRegression()"
      ]
     },
     "execution_count": 35,
     "metadata": {},
     "output_type": "execute_result"
    }
   ],
   "source": [
    "lr.fit(X_train, y_train)"
   ]
  },
  {
   "cell_type": "markdown",
   "id": "77900a1f",
   "metadata": {
    "slideshow": {
     "slide_type": "slide"
    }
   },
   "source": [
    "Get the \"learned\" weights:\n",
    "- Minimizing least squares objective function on training data.\n",
    "- i.e. fit coefficients using training data."
   ]
  },
  {
   "cell_type": "code",
   "execution_count": 13,
   "id": "c099f6cc",
   "metadata": {
    "slideshow": {
     "slide_type": "fragment"
    }
   },
   "outputs": [
    {
     "data": {
      "text/plain": [
       "array([-6.17329460e-01,  2.94782011e-03,  5.93573197e-02,  6.42694283e-10,\n",
       "        2.43083803e-02, -1.07114602e-01,  8.89432864e-05,  2.26108505e-05,\n",
       "        9.15399915e-02,  1.55067287e+00, -8.69546171e-02])"
      ]
     },
     "execution_count": 13,
     "metadata": {},
     "output_type": "execute_result"
    }
   ],
   "source": [
    "lr.coef_"
   ]
  },
  {
   "cell_type": "code",
   "execution_count": 14,
   "id": "6feb21f4",
   "metadata": {
    "slideshow": {
     "slide_type": "fragment"
    }
   },
   "outputs": [
    {
     "data": {
      "text/plain": [
       "47.08405846107044"
      ]
     },
     "execution_count": 14,
     "metadata": {},
     "output_type": "execute_result"
    }
   ],
   "source": [
    "lr.intercept_"
   ]
  },
  {
   "cell_type": "code",
   "execution_count": 15,
   "id": "e07ae2e4",
   "metadata": {
    "slideshow": {
     "slide_type": "fragment"
    }
   },
   "outputs": [
    {
     "data": {
      "text/plain": [
       "Index(['HIV/AIDS', 'Hepatitis B', 'BMI', 'Population', 'Polio', 'Alcohol',\n",
       "       'GDP', 'Measles', 'Total expenditure', 'Schooling',\n",
       "       'thinness  1-19 years'],\n",
       "      dtype='object')"
      ]
     },
     "execution_count": 15,
     "metadata": {},
     "output_type": "execute_result"
    }
   ],
   "source": [
    "X.columns"
   ]
  },
  {
   "cell_type": "markdown",
   "id": "baa0b08e",
   "metadata": {
    "slideshow": {
     "slide_type": "slide"
    }
   },
   "source": [
    "Now, can also get $R^2$ on fit."
   ]
  },
  {
   "cell_type": "code",
   "execution_count": 16,
   "id": "b8bcafab",
   "metadata": {
    "slideshow": {
     "slide_type": "fragment"
    }
   },
   "outputs": [
    {
     "data": {
      "text/plain": [
       "0.7618700470885182"
      ]
     },
     "execution_count": 16,
     "metadata": {},
     "output_type": "execute_result"
    }
   ],
   "source": [
    "lr.score(X_train, y_train)"
   ]
  },
  {
   "cell_type": "markdown",
   "id": "370c869f",
   "metadata": {
    "cell_style": "split",
    "slideshow": {
     "slide_type": "slide"
    }
   },
   "source": [
    "Evaluating our model on the test data:\n",
    "- Get predictions of model.\n",
    "- Compare predictions of model to actual y (life expectancy)."
   ]
  },
  {
   "cell_type": "markdown",
   "id": "16dbfa22",
   "metadata": {
    "cell_style": "split",
    "slideshow": {
     "slide_type": "fragment"
    }
   },
   "source": [
    ".predict(X_test) method on trained model"
   ]
  },
  {
   "cell_type": "code",
   "execution_count": 36,
   "id": "a569dc7a",
   "metadata": {
    "slideshow": {
     "slide_type": "fragment"
    }
   },
   "outputs": [
    {
     "data": {
      "text/plain": [
       "array([59.79664943, 67.23003114, 75.85297704, 62.41146912, 70.07604816,\n",
       "       70.17782634, 66.09553463, 75.85014909, 69.53712997, 64.63760189])"
      ]
     },
     "execution_count": 36,
     "metadata": {},
     "output_type": "execute_result"
    }
   ],
   "source": [
    "# This gets the predictions of model on test set.\n",
    "y_pred = lr.predict(X_test)\n",
    "#get first ten elements of prediction.\n",
    "y_pred[0:10]"
   ]
  },
  {
   "cell_type": "markdown",
   "id": "da27b6de",
   "metadata": {
    "slideshow": {
     "slide_type": "slide"
    }
   },
   "source": [
    "Evaluating the model:\n",
    "- We care about how good prediction on life expectancy is given X (features).\n",
    "- Compare $y_{pred}$ made on $X_{test}$ to actual $y_{test}$.\n",
    "- Some metrics for comparison: the mean absolute error, the root mean squared error."
   ]
  },
  {
   "cell_type": "markdown",
   "id": "522a6c3f",
   "metadata": {
    "cell_style": "split",
    "slideshow": {
     "slide_type": "slide"
    }
   },
   "source": [
    "Mean absolute error:\n",
    "$$ MAE = \\frac{1}{N}\\sum_i^N |y_{i}- \\hat{y}_i|$$\n",
    "\n",
    "where $\\hat{y}_i$ is our prediction."
   ]
  },
  {
   "cell_type": "markdown",
   "id": "b3da9238",
   "metadata": {
    "cell_style": "split",
    "slideshow": {
     "slide_type": "fragment"
    }
   },
   "source": [
    "Root means squared error:\n",
    "- More sensitive to outliers.\n",
    "\n",
    "$$ RMSE = \\sqrt{\\frac{1}{N}\\sum_i^N (y_{i}- \\hat{y}_i)^2} $$"
   ]
  },
  {
   "cell_type": "markdown",
   "id": "c2294e3c",
   "metadata": {
    "slideshow": {
     "slide_type": "slide"
    }
   },
   "source": [
    "Evaluate model prediction on test set:"
   ]
  },
  {
   "cell_type": "code",
   "execution_count": 37,
   "id": "adfb69d8",
   "metadata": {
    "cell_style": "split",
    "slideshow": {
     "slide_type": "fragment"
    }
   },
   "outputs": [
    {
     "data": {
      "text/plain": [
       "3.4150037330133065"
      ]
     },
     "execution_count": 37,
     "metadata": {},
     "output_type": "execute_result"
    }
   ],
   "source": [
    "MAE = mean_absolute_error(y_pred, y_test)\n",
    "MAE"
   ]
  },
  {
   "cell_type": "code",
   "execution_count": 41,
   "id": "606c92b5",
   "metadata": {
    "cell_style": "split",
    "slideshow": {
     "slide_type": "fragment"
    }
   },
   "outputs": [
    {
     "data": {
      "text/plain": [
       "4.366114171948683"
      ]
     },
     "execution_count": 41,
     "metadata": {},
     "output_type": "execute_result"
    }
   ],
   "source": [
    "RMSE = np.sqrt(mean_squared_error(y_pred, y_test))\n",
    "RMSE"
   ]
  },
  {
   "cell_type": "code",
   "execution_count": 42,
   "id": "73cc63bc",
   "metadata": {},
   "outputs": [],
   "source": [
    "import matplotlib.pyplot as plt"
   ]
  },
  {
   "cell_type": "code",
   "execution_count": 43,
   "id": "4d5f33e4",
   "metadata": {
    "scrolled": true,
    "slideshow": {
     "slide_type": "skip"
    }
   },
   "outputs": [],
   "source": [
    "%%capture life_test\n",
    "fig, ax = plt.subplots()\n",
    "y_test.hist(bins = 15, ax = ax)\n",
    "ax.set_xlabel('Life expectancy')\n",
    "ax.set_ylabel('Counts')\n",
    "ax.set_title('Life expectancy: test distribution')\n",
    "plt.show()"
   ]
  },
  {
   "cell_type": "code",
   "execution_count": 44,
   "id": "d66b92f9",
   "metadata": {
    "slideshow": {
     "slide_type": "fragment"
    }
   },
   "outputs": [
    {
     "data": {
      "image/png": "[encoded data removed]",
      "text/plain": [
       "<Figure size 432x288 with 1 Axes>"
      ]
     },
     "metadata": {
      "needs_background": "light"
     },
     "output_type": "display_data"
    }
   ],
   "source": [
    "life_test()"
   ]
  },
  {
   "cell_type": "markdown",
   "id": "3a1f3a34",
   "metadata": {
    "slideshow": {
     "slide_type": "slide"
    }
   },
   "source": [
    "From the perspective of prediction and our tolerance: this is not shabby.\n",
    "- Seeing a few individual examples."
   ]
  },
  {
   "cell_type": "code",
   "execution_count": 48,
   "id": "eaae02be",
   "metadata": {
    "cell_style": "center",
    "slideshow": {
     "slide_type": "fragment"
    }
   },
   "outputs": [
    {
     "data": {
      "text/plain": [
       "HIV/AIDS                   0.300000\n",
       "Hepatitis B                9.000000\n",
       "BMI                       28.200000\n",
       "Population              5867.000000\n",
       "Polio                      9.000000\n",
       "Alcohol                    5.070000\n",
       "GDP                      367.429453\n",
       "Measles                    0.000000\n",
       "Total expenditure          4.600000\n",
       "Schooling                 13.100000\n",
       "thinness  1-19 years       7.300000\n",
       "Name: 452, dtype: float64"
      ]
     },
     "execution_count": 48,
     "metadata": {},
     "output_type": "execute_result"
    }
   ],
   "source": [
    "examp_idx = 10\n",
    "single_examp = X_test.iloc[examp_idx].values\n",
    "X_test.iloc[examp_idx]"
   ]
  },
  {
   "cell_type": "code",
   "execution_count": 49,
   "id": "59a9a275",
   "metadata": {
    "cell_style": "split",
    "scrolled": false,
    "slideshow": {
     "slide_type": "slide"
    }
   },
   "outputs": [
    {
     "data": {
      "text/plain": [
       "array([68.15780474])"
      ]
     },
     "execution_count": 49,
     "metadata": {},
     "output_type": "execute_result"
    }
   ],
   "source": [
    "lr.predict(single_examp.reshape(1,-1))"
   ]
  },
  {
   "cell_type": "code",
   "execution_count": 50,
   "id": "2e1056ea",
   "metadata": {
    "cell_style": "split",
    "slideshow": {
     "slide_type": "fragment"
    }
   },
   "outputs": [
    {
     "data": {
      "text/plain": [
       "72.6"
      ]
     },
     "execution_count": 50,
     "metadata": {},
     "output_type": "execute_result"
    }
   ],
   "source": [
    "y_test.iloc[examp_idx]"
   ]
  },
  {
   "cell_type": "markdown",
   "id": "e7c3b80c",
   "metadata": {
    "slideshow": {
     "slide_type": "slide"
    }
   },
   "source": [
    "#### Determinants of prediction error\n",
    "- Will talk about this in detail in a future lecture.\n",
    "\n",
    "Much of machine learning focuses on understanding sources of error.\n",
    "- Tuning model to get better prediction performance in test phase.\n",
    "- Balancing tradeoffs between various sources of error."
   ]
  },
  {
   "cell_type": "markdown",
   "id": "34684b1f",
   "metadata": {
    "slideshow": {
     "slide_type": "slide"
    }
   },
   "source": [
    "\n",
    "The king wants you to:\n",
    "- estimate the average life expectancy of his subjects. \n",
    "- speculate on what factors might be at play in determining the average life of his subject. \n",
    "\n"
   ]
  },
  {
   "cell_type": "markdown",
   "id": "004797e1",
   "metadata": {
    "slideshow": {
     "slide_type": "slide"
    }
   },
   "source": [
    "#### Answering the king's first question:"
   ]
  },
  {
   "cell_type": "code",
   "execution_count": 51,
   "id": "c32c7f11",
   "metadata": {
    "slideshow": {
     "slide_type": "fragment"
    }
   },
   "outputs": [
    {
     "data": {
      "text/plain": [
       "HIV/AIDS                     14.40\n",
       "Hepatitis B                  93.00\n",
       "BMI                          33.20\n",
       "Population              1884238.00\n",
       "Polio                        96.00\n",
       "Alcohol                       6.45\n",
       "GDP                        5374.00\n",
       "Measles                       6.00\n",
       "Total expenditure             4.93\n",
       "Schooling                    11.90\n",
       "thinness  1-19 years          9.60\n",
       "dtype: float64"
      ]
     },
     "execution_count": 51,
     "metadata": {},
     "output_type": "execute_result"
    }
   ],
   "source": [
    "zamunda_dict = {'HIV/AIDS': 14.4, 'Hepatitis B': 93, 'BMI': 33.2, 'Population': 1884238, 'Polio': 96, 'Alcohol': 6.45,\n",
    "       'GDP': 5374, 'Measles': 6, 'Total expenditure': 4.93, 'Schooling': 11.9, 'thinness  1-19 years': 9.6}\n",
    "\n",
    "X_zamunda = pd.Series(zamunda_dict)\n",
    "X_zamunda"
   ]
  },
  {
   "cell_type": "markdown",
   "id": "99082294",
   "metadata": {
    "slideshow": {
     "slide_type": "slide"
    }
   },
   "source": [
    "Let's put this into the model and get our prediction. For a single example need to:\n",
    "- convert to numpy array\n",
    "- do a reshape to get into form scikit learn likes."
   ]
  },
  {
   "cell_type": "code",
   "execution_count": 52,
   "id": "03de2bd0",
   "metadata": {
    "cell_style": "split",
    "slideshow": {
     "slide_type": "fragment"
    }
   },
   "outputs": [
    {
     "data": {
      "text/plain": [
       "array([1.440000e+01, 9.300000e+01, 3.320000e+01, 1.884238e+06,\n",
       "       9.600000e+01, 6.450000e+00, 5.374000e+03, 6.000000e+00,\n",
       "       4.930000e+00, 1.190000e+01, 9.600000e+00])"
      ]
     },
     "execution_count": 52,
     "metadata": {},
     "output_type": "execute_result"
    }
   ],
   "source": [
    "X_zam_np = X_zamunda.values\n",
    "X_zam_np"
   ]
  },
  {
   "cell_type": "code",
   "execution_count": 53,
   "id": "0c1f106e",
   "metadata": {
    "cell_style": "split",
    "slideshow": {
     "slide_type": "fragment"
    }
   },
   "outputs": [
    {
     "data": {
      "text/plain": [
       "array([[1.440000e+01, 9.300000e+01, 3.320000e+01, 1.884238e+06,\n",
       "        9.600000e+01, 6.450000e+00, 5.374000e+03, 6.000000e+00,\n",
       "        4.930000e+00, 1.190000e+01, 9.600000e+00]])"
      ]
     },
     "execution_count": 53,
     "metadata": {},
     "output_type": "execute_result"
    }
   ],
   "source": [
    "# predict() needs to take a 2D array\n",
    "X_zam_input = X_zam_np.reshape(1,-1)\n",
    "X_zam_input"
   ]
  },
  {
   "cell_type": "markdown",
   "id": "68d5f51c",
   "metadata": {
    "slideshow": {
     "slide_type": "slide"
    }
   },
   "source": [
    "The model predicts a life expectancy for Zamunda of:"
   ]
  },
  {
   "cell_type": "code",
   "execution_count": 54,
   "id": "b73da13c",
   "metadata": {
    "cell_style": "split",
    "slideshow": {
     "slide_type": "fragment"
    }
   },
   "outputs": [
    {
     "data": {
      "text/plain": [
       "array([59.57145837])"
      ]
     },
     "execution_count": 54,
     "metadata": {},
     "output_type": "execute_result"
    }
   ],
   "source": [
    "lr.predict(X_zam_input)"
   ]
  },
  {
   "cell_type": "markdown",
   "id": "bf8d01ca",
   "metadata": {
    "cell_style": "split",
    "slideshow": {
     "slide_type": "fragment"
    }
   },
   "source": [
    "Is this good? Is this bad? Compare to:"
   ]
  },
  {
   "cell_type": "code",
   "execution_count": 55,
   "id": "8d547b28",
   "metadata": {
    "cell_style": "split",
    "slideshow": {
     "slide_type": "fragment"
    }
   },
   "outputs": [
    {
     "data": {
      "image/png": "[encoded data removed]",
      "text/plain": [
       "<Figure size 432x288 with 1 Axes>"
      ]
     },
     "metadata": {
      "needs_background": "light"
     },
     "output_type": "display_data"
    }
   ],
   "source": [
    "life_test()"
   ]
  },
  {
   "cell_type": "markdown",
   "id": "2bc0756a",
   "metadata": {
    "cell_style": "split",
    "slideshow": {
     "slide_type": "slide"
    }
   },
   "source": [
    "**Prediction**\n",
    "- What is the average life expectancy of his subjects?\n",
    "    - ~60 years.\n"
   ]
  },
  {
   "cell_type": "markdown",
   "id": "a232d928",
   "metadata": {
    "cell_style": "split",
    "slideshow": {
     "slide_type": "fragment"
    }
   },
   "source": [
    "**Inference**\n",
    "- HIV/AIDS prevalence and Schooling\n",
    "- High correlation with life expectancy"
   ]
  },
  {
   "cell_type": "markdown",
   "id": "245c104d",
   "metadata": {
    "slideshow": {
     "slide_type": "slide"
    }
   },
   "source": [
    "#### Next up\n",
    "\n",
    "- Improving model performance by:\n",
    "    - transforming features\n",
    "    - systematically understanding/correcting for sources of prediction error.\n"
   ]
  }
 ],
 "metadata": {
  "celltoolbar": "Slideshow",
  "kernelspec": {
   "display_name": "Python 3 (ipykernel)",
   "language": "python",
   "name": "python3"
  },
  "language_info": {
   "codemirror_mode": {
    "name": "ipython",
    "version": 3
   },
   "file_extension": ".py",
   "mimetype": "text/x-python",
   "name": "python",
   "nbconvert_exporter": "python",
   "pygments_lexer": "ipython3",
   "version": "3.9.7"
  }
 },
 "nbformat": 4,
 "nbformat_minor": 5
}
