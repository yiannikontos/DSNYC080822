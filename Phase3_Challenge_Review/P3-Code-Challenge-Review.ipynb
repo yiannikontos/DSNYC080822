{
 "cells": [
  {
   "cell_type": "markdown",
   "metadata": {},
   "source": [
    "# Phase 3 Code Challenge Review\n",
    "\n",
    "Made using resources from the Seattle team - thanks y'all."
   ]
  },
  {
   "cell_type": "markdown",
   "metadata": {},
   "source": [
    "## Overview\n",
    "\n",
    "* Gradient Descent\n",
    "* Logistic Regression\n",
    "* Classification Metrics\n",
    "* Decision Trees"
   ]
  },
  {
   "cell_type": "code",
<<<<<<< HEAD
   "execution_count": 60,
=======
   "execution_count": 20,
>>>>>>> 5f65b472f60d5cee575b77ef6ac1d9533849036b
   "metadata": {},
   "outputs": [],
   "source": [
    "# Imports\n",
    "import pandas as pd\n",
    "import numpy as np\n",
    "\n",
    "import matplotlib.pyplot as plt\n",
    "import seaborn as sns\n",
    "\n",
    "from sklearn.preprocessing import StandardScaler\n",
    "from sklearn.linear_model import LogisticRegression\n",
    "from sklearn.tree import DecisionTreeClassifier\n",
    "from sklearn.model_selection import train_test_split\n",
    "from sklearn.metrics import accuracy_score, recall_score, precision_score, f1_score\n",
    "from sklearn.metrics import plot_confusion_matrix\n",
    "from sklearn.metrics import roc_auc_score, plot_roc_curve\n",
    "from sklearn.tree import export_graphviz\n"
   ]
  },
  {
   "cell_type": "code",
<<<<<<< HEAD
   "execution_count": 61,
=======
   "execution_count": 21,
>>>>>>> 5f65b472f60d5cee575b77ef6ac1d9533849036b
   "metadata": {},
   "outputs": [],
   "source": [
    "from src.call import call_on_students"
   ]
  },
  {
   "cell_type": "markdown",
   "metadata": {},
   "source": [
    "## Part 1: Gradient Descent"
   ]
  },
  {
   "cell_type": "markdown",
   "metadata": {},
   "source": [
    "### Set Up"
   ]
  },
  {
   "cell_type": "code",
<<<<<<< HEAD
   "execution_count": 62,
=======
   "execution_count": 22,
>>>>>>> 5f65b472f60d5cee575b77ef6ac1d9533849036b
   "metadata": {},
   "outputs": [],
   "source": [
    "# Grab the data from 'auto-mpg.csv'\n",
    "mpg_df = pd.read_csv(\"data/auto-mpg.csv\")"
   ]
  },
  {
   "cell_type": "code",
<<<<<<< HEAD
   "execution_count": 63,
=======
   "execution_count": 23,
>>>>>>> 5f65b472f60d5cee575b77ef6ac1d9533849036b
   "metadata": {},
   "outputs": [
    {
     "data": {
      "text/html": [
       "<div>\n",
       "<style scoped>\n",
       "    .dataframe tbody tr th:only-of-type {\n",
       "        vertical-align: middle;\n",
       "    }\n",
       "\n",
       "    .dataframe tbody tr th {\n",
       "        vertical-align: top;\n",
       "    }\n",
       "\n",
       "    .dataframe thead th {\n",
       "        text-align: right;\n",
       "    }\n",
       "</style>\n",
       "<table border=\"1\" class=\"dataframe\">\n",
       "  <thead>\n",
       "    <tr style=\"text-align: right;\">\n",
       "      <th></th>\n",
       "      <th>mpg</th>\n",
       "      <th>cylinders</th>\n",
       "      <th>displacement</th>\n",
       "      <th>horsepower</th>\n",
       "      <th>weight</th>\n",
       "      <th>acceleration</th>\n",
       "      <th>model year</th>\n",
       "      <th>origin</th>\n",
       "      <th>car name</th>\n",
       "    </tr>\n",
       "  </thead>\n",
       "  <tbody>\n",
       "    <tr>\n",
       "      <th>0</th>\n",
       "      <td>18.0</td>\n",
       "      <td>8</td>\n",
       "      <td>307.0</td>\n",
       "      <td>130</td>\n",
       "      <td>3504</td>\n",
       "      <td>12.0</td>\n",
       "      <td>70</td>\n",
       "      <td>1</td>\n",
       "      <td>chevrolet chevelle malibu</td>\n",
       "    </tr>\n",
       "    <tr>\n",
       "      <th>1</th>\n",
       "      <td>15.0</td>\n",
       "      <td>8</td>\n",
       "      <td>350.0</td>\n",
       "      <td>165</td>\n",
       "      <td>3693</td>\n",
       "      <td>11.5</td>\n",
       "      <td>70</td>\n",
       "      <td>1</td>\n",
       "      <td>buick skylark 320</td>\n",
       "    </tr>\n",
       "    <tr>\n",
       "      <th>2</th>\n",
       "      <td>18.0</td>\n",
       "      <td>8</td>\n",
       "      <td>318.0</td>\n",
       "      <td>150</td>\n",
       "      <td>3436</td>\n",
       "      <td>11.0</td>\n",
       "      <td>70</td>\n",
       "      <td>1</td>\n",
       "      <td>plymouth satellite</td>\n",
       "    </tr>\n",
       "    <tr>\n",
       "      <th>3</th>\n",
       "      <td>16.0</td>\n",
       "      <td>8</td>\n",
       "      <td>304.0</td>\n",
       "      <td>150</td>\n",
       "      <td>3433</td>\n",
       "      <td>12.0</td>\n",
       "      <td>70</td>\n",
       "      <td>1</td>\n",
       "      <td>amc rebel sst</td>\n",
       "    </tr>\n",
       "    <tr>\n",
       "      <th>4</th>\n",
       "      <td>17.0</td>\n",
       "      <td>8</td>\n",
       "      <td>302.0</td>\n",
       "      <td>140</td>\n",
       "      <td>3449</td>\n",
       "      <td>10.5</td>\n",
       "      <td>70</td>\n",
       "      <td>1</td>\n",
       "      <td>ford torino</td>\n",
       "    </tr>\n",
       "  </tbody>\n",
       "</table>\n",
       "</div>"
      ],
      "text/plain": [
       "    mpg  cylinders  displacement  horsepower  weight  acceleration  \\\n",
       "0  18.0          8         307.0         130    3504          12.0   \n",
       "1  15.0          8         350.0         165    3693          11.5   \n",
       "2  18.0          8         318.0         150    3436          11.0   \n",
       "3  16.0          8         304.0         150    3433          12.0   \n",
       "4  17.0          8         302.0         140    3449          10.5   \n",
       "\n",
       "   model year  origin                   car name  \n",
       "0          70       1  chevrolet chevelle malibu  \n",
       "1          70       1          buick skylark 320  \n",
       "2          70       1         plymouth satellite  \n",
       "3          70       1              amc rebel sst  \n",
       "4          70       1                ford torino  "
      ]
     },
<<<<<<< HEAD
     "execution_count": 63,
=======
     "execution_count": 23,
>>>>>>> 5f65b472f60d5cee575b77ef6ac1d9533849036b
     "metadata": {},
     "output_type": "execute_result"
    }
   ],
   "source": [
    "# Explore the data\n",
    "mpg_df.head()"
   ]
  },
  {
   "cell_type": "code",
<<<<<<< HEAD
   "execution_count": 64,
=======
   "execution_count": 24,
>>>>>>> 5f65b472f60d5cee575b77ef6ac1d9533849036b
   "metadata": {},
   "outputs": [
    {
     "data": {
<<<<<<< HEAD
      "image/png": "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",
=======
      "image/png": "iVBORw0KGgoAAAANSUhEUgAAAfgAAAGDCAYAAADHzQJ9AAAAOXRFWHRTb2Z0d2FyZQBNYXRwbG90bGliIHZlcnNpb24zLjQuMywgaHR0cHM6Ly9tYXRwbG90bGliLm9yZy/MnkTPAAAACXBIWXMAAAsTAAALEwEAmpwYAAB2U0lEQVR4nO3dd3xkZb348c/3nGnpZVO2N9llYQGlCUtZF0TBBhZQsOFVBH9eBfWiYEMu6lUsKKhXQfSKDURUWAsWhGVBOkhbWNrusn2TbHqZds7z++OcmUwmk2SSTNrk+34Zk8yc8syZsM88z/l+n68YY1BKKaVUcbGmugFKKaWUKjzt4JVSSqkipB28UkopVYS0g1dKKaWKkHbwSimlVBHSDl4ppZQqQtrBq4ISkQ0ict4Y910sIt0iYhe6XRnnuFxEfjnM85tEZN1EnV+psRCRpSJiRCQw1W1RM4d28GoQEdkmIn1+Z7tXRH4mIuUTdJ5TUr8bY7YbY8qNMU6hz5UvY8xqY8yGsezr/wPc41+3FhG5UUSq89z3AyJy71jOO1mG+nDkv+4DpqJNyuP/txQXkbqsxx/335+l/u8/87frFpFWEfmHiKzK2H6FiNwkIs0i0ikiL4jI90Rk4SS/JFUA2sGrobzFGFMOvAo4HPjs1DZnxnilf92WAzXA5VPbnOmrmEaj0+S1bAXOSf0iIocCJTm2+4b/N7oQaAJ+5m9/APAgsBs43BhTCRwPvAScMKEtVxNCO3g1LGPMXuBveB09ACJyrIjcJyLtIvLEUFPaIvIKEblTRPb7I9pfpUa0IvILYDHwR3808ZnsaUgRmS8i6/2Rxosi8uGMY18uIjeLyM9FpMufWj8q4/lLRGSX/9xzIvLajKaFhtkvPavgn+MWEfmNv+1jIvLKPK9bJ7AeODjj2FUi8hMR2eO37SsiYovIQcCPgDX+tWgXkWX+d8vf93oRaco41i9F5BPDHTdj2w+KyLMi0iYifxORJRnPGRH5iD9SaxORH4iI5PMacxGRsIh8V0R2+1/fFZGw/9w6Ednpvzd7gf8TkToR+ZP/WltF5J6M1zxfRH7njya3isiFGecZ9r0RkYPEu13U7r/Hp/uPF+S6ijfj8i8R+Y6ItJLjg5yIvFpE7vfPt0dEvi8ioXyuvf938S3x/rvZArwpj8v/C+D9Gb+fC/x8qI2NMb3Ar4FD/IcuB/5ljPmUMWanv02TMea7xpib8ji/mma0g1fDEm9q7g3Ai/7vC4A/A18BaoGLgd+JSH2u3YGvAfOBg4BF+P8QGmPeB2zHnykwxnwjx/43Ajv9/c8E/ieroz4duAmoxutMv++38UDgY8DRxpgK4FRg20j7DeEM4Lf+a/01cKuIBIfZHr8NNcBbgQcyHr4BSAIH4M2KvB44zxjzLPAR4H7/WlQbY7YCnf52ACcC3f6HAYC1wN3DHddvx1uBzwFvB+qBe/Cua6Y3A0cDrwTeiXe9xurzwLF4HwhfCbwa+ELG83PxruUS4Hzgv/De43qg0W+r8TvgPwJPAAuA1wKfEJHMtuV8b/z354/A34EG4OPAr0TkwEJdV98xwBb/HF/NcS0c4JNAHbDGfw0fzdpmqGv/Yf+5w4Gj8P7+R/IAUOl/uLGBdwHDxZuUA+8B/u0/dArwuzzOo2YKY4x+6deAL7zOsBvoAgzwT6Daf+4S4BdZ2/8NONf/eQNep5XruG8F/p11nlMyfl/qny+A92HAASoynv8a8DP/58uBOzKeOxjo838+AG/q8RQgmNWGIffLbpO/7QMZz1nAHuDEIV6fwes82v22bwYW+M81AjGgJGP7c4C7/J8/ANybdbxfAJ/C6xSfA76B90FgmX8OK4/j3g58KOs19AJLMtp8QsbzNwOXDvH6Lgfi/rkzvwxwgL/NS8AbM/Y5Fdjm/7zO3z+S8fwVwG2p/TMePwbYnvXYZ4H/G+m98b/2AlbG8zcClxfwun4gu315/Hf1CeAPWX8vOa89cCfwkYznXu9vHxjmv9lT8D5MfQ04DfgH3n9LBljqb/czIOq/zr14H3Bf4T+XBE7LOObH/O26gR8X4t8W/Zrcr+lw30hNT281xtwhIq/BGx3V4f3HvgQ4S0TekrFtELgr+wAi0gBcg/cPbgXeP5xteZ5/PtBqjOnKeOxlvNFMyt6Mn3uBiIgEjDEv+tOslwOrReRvwKeMMbtH2C+Zox07Uj8YY1wRSc0oDOUI//xBvNHaPSJyMN51CwJ7MmbArczj53A33mzDTmAj3oen9+H9A32P356RjrsEuFpEvp1xXMEbFb/s/559PYYLqLzZGPPezAdEJLNi1fyM4+L/nHm9mo0x0Yzfv4n3Pv3db/91xpiv++2eLyLtGdvaeDMQKcO9NzuMMW5WOxb4PxfiusLw7x0ishK4Cu9vthSvs300a7Ohrv38rONnXtPh/ALvNS1j6On5bxljvpDj8f3AvNQvxpjvA98Xka/g3a9XM4xO0athGWPuxvvU/y3/oR14I/jqjK8y/x/lbF/DGz0cZryAnffidS7pww9z6t1ArYhUZDy2GNiVZ7t/bYw5Aa+jMMCV+eyXw6LUD/608UK/bSOdPwFcj/cP7SF41y0G1GVct0pjzOrULjkOczfeh6N1/s/34gU9vYb+aeSRjrsDuCDr/Soxxtw3imswGrvxrnnKYgZerwGv0xjTZYz5L2PMcuAtwKf82zA7gK1Z7a4wxrwxY/eh3pvdwKLUffaMdqT+dgpxXQe9lhx+iDeLs8L/+/8cA//+h7Mn8/X57R+RMeZlvGC7NwK/z/NcKf/Eu5WjioR28Cof3wVeJyKvwrun9xYROdUPBIr4wVO5PuFX4E3vtfv37j+d9fw+vGjzQYwxO4D7gK/55zgM+BDwq5EaKyIHisjJfnBXFOjDmzIfiyNF5O3iBf59Au8f/QeG38ULkgL+wz/3FmPMHrx7wt8WkUoRscQLQnyNv8s+YGFmEJYx5gV///cCG40XuLcPeAd+R5THcX8EfFZEVvvtqhKRs8Z4LfJxI/AFEakXL2XrMoa/D/xmETnADy7rxHufHOAhoFO8gLwS/2/tEBE5OmP3od6bB4Ee4DP+Pfl1eB8eboKCXdd8VPivqVu8VLT/N4p9bwYuFJGFfjzHpaPY90PAycaYnlHsA95MyokicpX/3yv+e3jQsHupaUs7eDUiY0wz3nTfF/2O9wy80Ugz3kjn0+T+W/pv4AigAy8wL3tE8TW8zqBdRC7Osf85ePfldwN/AL5kjPlHHk0OA18HWvCmQBv89o7FbXjBSm1407hv90fnQ3lCRLr97c8F3maMafWfez8QAp7xn7+F/inRO4FNwF4Rack43t3AfmPM9ozfhf7AqGGPa4z5A97sxU0i0gk8jRc0OVG+AjwCPAk8BTzmPzaUFcAdeB8E7wf+1xizwXhrIbwFL1hvK957eT1QlbFvzvfGGBPHm4J/g7/f/wLvN8Zszth3XNc1TxcD78aLZfkx8JtR7PtjvNiWJ/CuYd6jcWPMS8aYR0ZxrtR+z+MFSC7E+zvuAv6F99/fF0d7PDX1xJiRZpmUmp1E5HK84K/3jrStmlz63ig1Mh3BK6WUUkVIO3illFKqCOkUvVJKKVWEdASvlFJKFSHt4JVSSqkiNCNWsqurqzNLly6d6mYopZRSk+LRRx9tMcbkqvGRtxnRwS9dupRHHhl1WqdSSik1I4lIvssTD0mn6JVSSqkipB28UkopVYS0g1dKKaWKkHbwSimlVBHSDl4ppZQqQtrBK6WUUkVIO3illFKqCGkHr5RSShUh7eCVUkqpIjQjVrJTxWHD5iau3biFHW29LKop5YK1y1m3qmGqm6WUUkVJR/BqUmzY3MRl6zfR1BWluiRIU1eUy9ZvYsPmpqlumlJKFSXt4NWkuHbjFoK2UBoKIOJ9D9rCtRu3THXTlFKqKGkHrybFjrZeSoL2gMdKgjY723qnqEVKKVXctINXk2JRTSl9CWfAY30Jh4U1pVPUIqWUKm7awatJccHa5SQcQ288iTHe94RjuGDt8qlumlJKFSXt4NWkWLeqgStOX01DRYSOvgQNFRGuOH21RtErpdQE0TQ5NWnWrWrQDl0ppSaJjuCVUkqpIqQdvFJKKVWEtINXSimlipB28EoppVQR0g5eKaWUKkLawSullFJFSNPk1JTR6nJKKTVxdASvpoRWl1NKqYmlI/hZaDqMnDOrywGUhgL0xpNcu3GLjuKVUqoAdAQ/y0yXkbNWl1NKqYmlI/hZZqSR82SN7hfVlNLUFU23A7S6nFJKFZKO4GeZ4UbOkzm61+pySik1sbSDn2WGq8ueOboX8b4HbeHajVsK3g6tLqeUUhNLp+hnmQvWLuey9ZvojScpCdr0JZz0yPkLtz1NdUlwwPYTeV9cq8sppdTE0RH8LLNuVQNnHrGA5q4Yz+7torkrxplHLGDdqoZhR/dKKaVmFu3gZ5kNm5u45bFd1FeEOWhuBfUVYW55bBcbNjfpfXGllCoi2sHPMtdu3ELCcdjbEeW5fV3s7YiScJx0FL3eF1dKqeKg9+BnmReauujoTWBZgm0JSdfQ0hUn4XQBel9cKaWKhXbws0w86YKAJQKACLhivMeVUkoVDZ2in2WCttexu67BGIPrGgBC/uNKKaWKg3bws8zKxkrmlIUI2IJjDAFbmFMWYkVj5VQ3TSmlVAFpBz/LXLB2OaGAzdyqCAc2VjC3KkIoYGukvFJKFRnt4GcZjZRXSqnZQYPsZiGNlFdKqeKnI3illFKqCGkHr5RSShUhnaJXM9Zk1a5XSqmZSEfwakaazNr1Sik1E2kHr2akyaxdr5RSM5F28GpG2tHWS0nQHvDYRNauV0qpmUY7eDUjae16pZQannbwatJs2NzEOdc9wAlX3sk51z0wrvvlWrteKaWGpx28mhSFDorTFfmUUmp4mianJkVmUBxAaShAbzzJtRu3jLlT1hX5lFJqaDqCV5NCg+KUUmpyaQevJoUGxSml1OSa8A5eRGwR+beI/Mn/vVZE/iEiL/jfaya6DWrqaVCcUkpNrskYwV8EPJvx+6XAP40xK4B/+r+rIqdBcUopNbkmNMhORBYCbwK+CnzKf/gMYJ3/8w3ABuCSiWyHmh40KE4ppSbPRI/gvwt8BnAzHms0xuwB8L/n/BdfRM4XkUdE5JHm5uYJbqZSSilVXCZsBC8ibwaajDGPisi60e5vjLkOuA7gqKOOMoVtnZqutEKcUkoVxkSO4I8HTheRbcBNwMki8ktgn4jMA/C/a/kvBWiFOKWUKqQJ6+CNMZ81xiw0xiwFzgbuNMa8F1gPnOtvdi5w20S1QU2sQi49C1ohTimlCmkqVrL7OnCziHwI2A6cNQVtUOOUGm0HbRkw2r4CBk2p5zvtvqOtl+qS4IDHdDEcpZQam0lZ6MYYs8EY82b/5/3GmNcaY1b431snow2qsPIdbY9m2l0Xw1FKqcLRlezUmOS79Oxopt11MRyllCoc7eDVmOQ72h7NGvS6GI5SShWOVpNTY3LB2uVctn4TvfEkJUGbvoSTc7S9qKaUpq5ouoocDD/trovhKKVUYegIXo1JvqNtnXZXSqmpoSN4NWaZo+1UpPwXbns6HSkP3j343niSeNIlZAsrGivTUfTX3PE819+7lZ64Q1nI5rwTlnHhKSsnrf26qI5SqphpB6/GLVfK3MW3PIEAlSVB5lZGBkzhpzr3q+98EUsgYHnT9lff+SLApHTyo0nzU0qpmUin6NW45YqU7+xL0NIdZ3trL1tbenBcMyB6/vp7t/qdu4Ullv/de3yq2qyL6iiliol28GrcsiPlO/sSxB2DAWxLSLqG3e1Rko6bjp7viTtYMvA4lniPT0WbQRfVUUoVF+3g1bhlp8y1dMcQ8L8ESwQR2NcZS0fPl4Vs3KwSQq7xHp+KNoMuqqOUKi7awatxy46UjyVdBG/07roGY7yvhOumg+/OO2EZroGk6+Ial7jj3aN3jVuQde1H22aN7ldKFRsxZvpXYj3qqKPMI488MtXNUMNIRaTvbOuloy9BWdgmZNu0dMeIOy62JdSVhVhUW5aOWp9bGeKfm5vpjiUxQFUkwEJ/ZJ1wzIQvcpPZ5oUaRa+UmkZE5FFjzFHjOoZ28KrQMiPUU4vgdPYliCYcEq7BcQ22JZSHA7z/2CVcf+9WeuMO4YBFXXmYypIgvfEkDRURbjz/2Kl+OWmaVqeUmiyF6OB1il4VXK5FcMK20JdwMS7YIhgXWrvjfO+uF+mJJ7EtSDqG3R19dPYlpl3Am9aqV0rNNJoHryZE9pKzB37hdiwByw+dFwHjQMIxlIVskq7xnnO9IL2ALdMq4C0zrQ6gNBSgN57k2o1bdBSvlJqWdASvpkzq5lB9RRhjwDUGxAvSm24Bb5pWp5SaabSDV5NieV0Zrt+JG4zXmeOl0u1q78MS7+ekaygN2dOuipym1SmlZhrt4NWkuOS0VdSUBr1O3HFJBXemOnbXGJKuobY0xDVnHz6tOnfQtDql1MyjUfRqzDKjystDNiJCVyw5ZIR5avsXmrpo603guoaQLYgIjvEi6+tKgyyaU54zUj21//P7Okk4hlDAYkVDxaij2YeLhs/nOU2rU0pNNE2TU1MmMxUu6bjsao8CsKA6QsC2hsxjT+23u70P2wIQjIH51RGMMexs72PpnLIBNeavOH01AJet30Q86bC/J+4dzEBdRYignf+Ufq4Uvuxz5HpOO3Kl1GQqRAevUfRqTDKjyrc0d2OLN9fe0h1neX35kBHmqf3CAYuk40XOuxiau2I4xhC0rJyR6gBBW9jfncRCvP2MobMvydyqwKBzDTUSHy4aPnUOjZRXShUD7eDVmOxo66W6JAjgrVTnd/BxxwWGjjBP7VdXHmZ3Rx+4gBiiSRcQFlZHBmyfOo4BqkuC/efCS7WLO+6gcw1XCjaz3UOdI9dzSik102iQnRqTzKjykG1hDBjj/QxDR5in9qssCTK/qoSALTgulIUCrGwoJ2AP/JNMHSe1X+pc0H++7HMNVwp2uGh4jZRXShUT7eDVmGRGldeVh3CMtwRtXXlo2AjzzP0qIgHmVkWYX13CNWcfziWnrRoyUj21X0UkgIvxitS4hsqSwKBzDZezPlw0vEbKK6WKiU7RqzFZt6qBKyAdVT63IkRrX5Kd7VHKQjbnnbAs533r7P2yo9HzeS7pdBL3o+iXzikfFM2+qKaUpq5o+l469I/Ex3N+pZSaSbSDV2OWWo42dc97XlUgHX1+y2O7OGxh9ZCd/FApdKmguC+fccigbXLtl8sFa5dz2fpN9MaTA6LhUyPxfI4z/XNLlFJqeDpFr8ZtuHve+Sh0IZdcxW7ySXXTgjJKqWKiI3g1bkNFpr+wr5NzrntgxPKqE1HIJd/R/kS3QymlpoqO4NW45Yo+b+mO0RVz8hoNZwbFdfYl2NLczfbWXh7b3japo2ctKKOUKibawatxyxV93taboLYsOGDaPp50uPCmf3PClXdyznUPpDvv1AeEzr4Euzv6SDoGwVujfjKnyDVNTilVTLSDV+OW6553RSTAnLJwepvOvgT7e+L0xJODRvSpDwj7uqIYY4i7LnHHC3NLOE5e9/I3bG7inOseGPThYTQ0TU4pVUx0LXo1Ic657oEBqWpbmruJJh2MAdsSQrZFZUmA6pIQ1aUhXmjqYn93HIM3cg/6RWhc11BVGuSRL7xuyHMNt778aO+da0EZpdR0UIi16HUEryZE9mg4mnBwXLBEsC0h6RqaOmM8t6+Lpq4ocysHLlGbcAwJx8UxhnjSHfZc443iz2X6f+xVSqnhaQevJkT2tD0i2AJB20IQLBEcA66B7a29bG3pSXeqxv9y/eeNGb6DL1RwnKbJKaWKiabJqQmTmap25Jf/Tmc0iesaRCDp9o+RUyP6TIJXTMb7PvBzaPaiOOUhb1o+18p1o6FpckqpYqIdvJoUKxsr2drSTVc0Sdxxcf3YDy9aXvALxKUZ//9EIBTo7+BzVYrr7EukR/+5Vq7L3DdXCdmUXPn8Scflse1tnHDlncPm8iul1HSjU/RqUlywdjmhgM3cqggHNlZgiWDhjd5d12CMlxoHpFPkUg/Ul/dH4+e6315ZEqS+PDzsynX5TL9np8l1RRPsao8igk7ZK6VmHB3BzyZ9eyBcB1Zw5G0LLLvIS2nIpixsE7JtWrpjxB03PQoP2RYiXjlYx3idf8pQq+Z19CW4/RNrhzx/PtPv2WvY7+2IAtBYEUl/mNApe6XUTKEd/GyS7IXENgjPgVANg+bFM1xzx/Ncf+9WeuJOujrchaesHNfpM+/Jp0bUAVtYVldGX8Jh2/4eakuD9MZd4o5LyLaYWx6mJ+6k9+nsS7Cno49IwKa+IkxFJJjX/fahPhhkBuJlfwgxwILqCJUZ++nKdkqpmUI7+FnHQKwFkl0QaQQ7MmiLa+54nqvvfBFLIGB5AWtX3/kiwLg7+ZRcZVuDlpBwDXOr+v8se+NJGioi6Q8EpX5AXdxx2dXWR12FQ9C2R1yMZrgSstntSn0ISeXyZxrrynYj3f9XSqlC03vws5UTg57tEG2GjDS0DZubuPrOF3Fcg+MaXBcCloUlcP29WwvahHWrGrjx/GO555KTufH8Y7n0DQcNuZJcaoq9viLC/KoSQraFAXpiTl4L2oxllbpCrWw3W9LvCrGaoFKqcLSDny1cJ/fj8TboeRmSPemOyPFT1lwDCdeQdFwsIT1VPlGGK/OameteWRJkeX05q+ZWUFUSzGskPJYSsmMtO5ttIhbimW5my4cYpWYSnaKfLe57tzdSX/VJL9Auk5uA3l3cdM8LhO0Ilh/gRkagG0YoC9k5D11I2WVeU6PC5q4YLV0x5lZFMMarVhdLupSGbDZsbsq7kx9t5zyWfbLlc/9/ptM1BJSafrSDnw2a74PtN3s/7/krrPhPWPZesEIDNuvobGFJOIxTUcKWzgDiB6+7BsTAeScsK2izRrovnZnzPrcyzK72KNv39yKWt+StAGVhm8vWb+IKmLYdSb73/2ey2fAhRqmZRqfoZ4M5x8DRP4RgNSS74dkr4e7ToWnjgM3mVpaQSCZYUdXDodWdBCUJeLnqF518QMEC7GDoKd1r7ng+fR/3wpv+TcJx/Fz3EAuqS0DAcfHiA4DOvmTeFeemymyoUqeldpWafnQEPxtYNqz4CNQeDc99F7b9Gnq2wkMfhsaT4ODPQtkSzj56EVff+QIkHOaV29REumhJVPKZNx/DuoMa8zrVcKPyzOc6+xLYFsSTJp0SFwoI37vrRWwRkq5L0oWeWJJwwKYiEqSyJIi0e/cNgn6ufNI1tHTFSThdeV+OiYhoH+6YuTIGii2KPnsNgaFWE1RKTR4tFzubdL0ExoHO52DTV2H/g97jVhCWfQBWfIQHt8e46eEd7Ovso7GyhLOPXsQxK+YPmVKXabiyrQAX3/IE3bEkjmtI+PXeA5YQsARjIOZ40fzhgOXVhfe3sQQW15ZSEQmyaXcHrmFAcZmk61IStHny8lNHvASFLC07kcecibTUrlKFU4hysdrBzyapDh686Lm9f4dnvg59u73HwvVw0Kdhwem5F8EJVkGkHiT3nZ3sGvDQn8fe1hPjxeYebPHWnY/6JWAFiPiddWqKN2RbJDJWtgMIWkJdRYi9HTEsCwLSv9qdi6EqEuCRL75+xEswXBtvPP/YEfefrGMqpWY3rQevxk4E5p0K626HlR8HKwKxZnj8M3DfOdD+1OB9Eh3QvRUSnTkPOVzZ1q37e7EELEuQjA8PBoglnQH3b5OuO6geu2sM7b0JSoI2xkDC9Va7C9jCnLIQKxor83rZhSotO9HHVEqp8dIOfrazI7DyY3DS7TDvDd5jbf+Ge8+CJz4Psf0DtzcO9O2F3p3gxAc8NZpAKytjgsA1g3/PZgzEki5VpQFsEWzL+6qIBAgFRl7JbixtzJcGmCmlpiPt4GeT4YrMlMyHI78Lx/4cKlYCBnbcAne9Hrb8zMuVz5Ts9RbIie33k+aHjxZfXleGa7yRuMEM6NAjAYugZRGwcq+Nn1q1zhioK49QWxZK38dv7o5z5hEL8r7XOxER7bMhSl4pNfNoBz+blC32guWsYZIn6o6BE/8Ah1zm3XNPdsMzX4ONp0PTPVkbG6+D73kZkn3Drvx2yWmrqCkNIng11gOW96cXDlg4xhCwhQXVJSypLUkfXfDuvYt3JizxSri29SYI2hbhgPfcLY/tynvFtEKtTjfRx1RKqfHSILvZyBhItEOstT/ozvfglv3c9PAO9nb2sbwyyYUL/0Jj262Av15948l+Wt3iwccdIQgvu0KdMYauWP/5g/799N64Q2nIpiuaTKfQJRwXy5+ajzuulwfvT+03VoZZOqd8yIC2oVLYtACMUmq60ih6NT7G9daij7eBcXlwy36uvvMFgpYQDtjEkg4J1/DZ4+DQ9h9A60PeflYQln8QDrgAAmUDj2kFvFmCrMezU8l2tvXS3pcc1CQB3vqqeTy6vWNA2llHXwIBWnviOGbg9gbvw8GP33fUoA56qBS2M49YwC2P7Zr1qW1KqelJo+jV+Ijl1YYvWwaham56eCdBS4gEbUS89LWgJfz0qQis+Tkc8R2IzPPux794Ldx1Guxcn74HD4CbhN5d0LfH+9mXXXClMzq4cwevs97bGR805f2tM1/JN8985aD0vdSZk47JWdxkqEIv19+7tegLwCilZjddyU55K91FGnistYrFpQGgL/1UOGCzr7PP61jnv9Fb+e7FH8NL10OsCR7/NLz8a1j9Bag+pP+YiS4efG471z7UxfNtFs1dMeZWhtNPZ0bKp/ts43XYO9t6hyzyUl0SoDOaJOkY/Ho46WM0dUa54JePcsTimvR0+1BrpPfEHRZraptSqojpCF6lza+pZHe8hma3kRjeqnWxpENjZX/gG3YJHHghrPuLl0cPflrdmfDEF9Jpdd50/3M4vXs4oKyVEAl2tUfp7POi8YcImEdg2PSylY2VzCnrL5IjApblL3hjDK4xA0qVDpXCVhayNbVNKVXUtINXaal0r464TYtTz85YDb1OgLOPXjR449KFcOQ1cOzPMtLqfgt3nQpbfsbND29NT/eHJc5htR1U253s6+rDGENlpH/yyBj/C6gsCQybXnbB2uWEAjbhoEXIFoK2het6BXEEIWRbA6bbh0phO++EZZrappQqahMWZCciEWAjEMa7FXCLMeZLIlIL/AZYCmwD3mmMaRvuWBpkN3lyrif+ihJvZO7Gc+/kJuHlm+D5q9Or3O1MzOe3fe9ns3NoerPuWII9XQYpaaShuoa2niib9/Wkn7cFTn/lPPZ2xoeNbN+wuYmv3/4szzd1pz8YCF4nv6C6hMqSIJ19cfZ2xqivCFMeshERumNJFtaUsmZ5LfdvaeX5fZ0kHEMoYLGioUKj6JVS08a0jqIXbz3SMmNMt4gEgXuBi4C3A63GmK+LyKVAjTHmkuGOpR38NBHvgPj+AcFzA59vheeuhpdvJpVWd2/3q/jp/ncSCy8gnnSJJhzKIwF63TKe2h/CxR50mLmVYerKw8NGtm/Y3JQuXhNLeOeyBBbVelPsO9v6CNjCAfXlg4rejKYwjKbSKaWmwrSOojeebv/XoP9lgDOAG/zHbwDeOlFtUAUWqvIi7sN1uXPdQ7Vw6H/z1PKf8kzUqx1/Qvnj/GjRZZwW+A29vV2UhGwqwkG6ulpZGGqi0upGZGBwfFc0OWJk+7Ubt1BVEmRFQwWLa0sJ2IJlCU2dUfZ2RAForIgMOs5QUfW5zjFUzfp8F9VRSqmpNKH34EXEFpHHgSbgH8aYB4FGY8weAP97zuGQiJwvIo+IyCPNzc0T2Uw1GiIQrvVT62roj2Pv99OnSriy8/N8r/2jNCdrCFlJ3lf3F3627Eu8rupRRLwIeBuXOYEO5gWaCNE//R93XDr7Emxp7mZ7ay+PbW8b1KlmFnipLAkyv6qEkG0R86PrF1RHqMyInk9FyI+mMMxoPgwopdR0M6EdvDHGMca8ClgIvFpEDhlhl8x9rzPGHGWMOaq+vn7C2qjGyLK9VevKl3kr2GV09Hs7+wgHAjxtjueKrm/xp763EXcD1Afb+HD597m4/MusjGxPbx+WBPODzdQF2rBwMMawu6OPpGMQ/8jZI+fs6PjKkiBzqyK8emktRyyuIWAP/NNORciPpjCMVolTSs1kkxJFb4xpBzYApwH7RGQegP9d5ztnMisAJY1QtgQC5QDMrSwhlvQ60TgR/hg9kw/vuIJ7uw8HYEXwOX645H/4ZOOvqLS704eqsHpZGGqilG7v44L/f3OrIoNGzsMVeBnrc9m0SpxSaiabsA5eROpFpNr/uQQ4BdgMrAfO9Tc7F7htotqgJpEdgtL5ULaYdx6zgoRriCYcjIFowqHLmst32j7OlW2XsCu5EEsMp9ds5JfLv8jbau7EwiFgQUOZzZxAB42BfZTYCeZXR6iIBAeNnIcr8DLW57JplTil1Ew2kSvZzQNuEBEb74PEzcaYP4nI/cDNIvIhYDtw1gS2QQ1hwgqw2BHWHHY4Sbuam+97nP2dnTRWlvDRdQcAcNPDZVzSvJK3197DqcGbqbB7ubDxN7yj7l/c3Ps+7m71tguYBLWyl2AyDjQOGDlnt/HLZ3h3fq7duIUv3PZ0ut3ZxWdS+2Wmxw1n3aoGrvCPOyBtUKPolVIzgBabmYUmrQCLMZDo8GvGO4OefvT5F2l7/FucXLIBS7y/w41dh/O/TWeyL1GX3q4sEiEerONzb/EyRrLbnipEU1kSHLLdqdccTzrs7/ED+gzUVYQI2nbRFJnRtD6lisO0TpNT09ekFWARgVC1F4gXqiU74v7IlQdQcdRXuSr6NTbHvbS6tRX/5ufLvsSH6tdTYnkdcV88xpdfV8O6xUmu3/j8oDZ2x5J0RZPDtjv1mruiSSyEgGVhWUJnX7JoIuM1rU8plUk7+FloqOjwnrgzMVHjYkGkLiPivt8xy+dw8VlvY9Xb1vOVPefRnKwmZCV575w/e2l11Y8AhmOWz4FkN8muLdSHeuivIweOa0i67rDtTr3muOOmc+5FvJS8YomM17Q+pVQmrSY3Cy2qKaWpK0ppqP/tzyzAkv14waLGUxH3oRqINUOyf5laRHgweiwPbnsl755zO++o+jsNwVY+N/fHnF51N3TOhcpVzKuM0NrTSlmwlw63hhgRbEvADJwdyG536jWHbMtLvxPvDkLItoZ9jTNpynuoynnF8OFFKTV6OoKfhaa8AIsdgtIFULoI7Ej64bOOXEivG+anLW/lw9v/O51Wd0jJ87DxbfDUl3jv4RUkXEMyEaVWmogk91EVFioigWHbnXrNFZEALt6I33UNlSWBIV/jTJvy1rQ+pVQmDbKbpXIWlcmIop/UqPFEN8RawI3z8/u28ttHd9KbcCkNWlx4WBOvMz+B7pe8bYNV/C1xFt96/kiSrncf/eQDG3jNoQfxg/taeWFfJ3HHkHQNsaTXiVdEApx3wjIOW1jNtRu3pLdJFZlJFZ/Z0dabLkzTFUvS2ZcglkgSy+gzBQgFrAE156eLoYIniyWAUKnZZFoXmykk7eBniaGK2bgJ2PZreP57kOwCYGtsPj9sOZt/967CNXDusYtZMa+OL/6thdao0NqbSO9uCYgIF518ABeesnLAoTM7xaTjsqvdW8d+QXWEl1v7hmzqK+rLCtp5FupWwJR8QFNKFZx28Kr4GAPxNq8ynRkYOEdsP3/7/SW8rvzedFrdvd1H8KPmM+mggQMaKmjtifFMi8X+ZCVGLIzxOnjb8ka1T15+6oBDnnPdA+l4hC3N3SQdAwIBS+iJD07tSzl0QRW98SQNFZFB+fajpSNvpVQ2TZNTxWdAMZus1LrwHL6x5318fOfn2NT3CgBOKH+Mnyz5EmdV3kprZzvhgE251eMteWt5I/BUJ5+rw87MKEhF2Kei60dSqAA2jX5XSk0EjaJX05Nle6l1oWpvNB/vAAylQYvno0u4ePclnFT+IB+c8zvqAu28f86feIt7P7/uOpuX5FAwDg12K70SZn+ymqQToCw8+M89M6MgFWEPXnR9whl6BA/9AWzjnV7X6Hel1ETQEbya3qwARBrSOfRnHrkI10DShX92HcN/bLuCX+9/Aw5Baqz9/GfVD/jO4qtYHt4JQKkVY2FoH+VWF689sG7Q4TMzCurKQzjG4LiGuvIQ5WF70PYAVWE7Ham/ZnntuCPtNfpdKTURtINX09KGzU2cc90DnHDlnZxz3QNseL4VSho59/Uncc6ag4gELJIuYJeSXHER9kl/hsaTATis5HmuW/oVLmr8NZVWN7bA0vIekt3bwYkOOPa1G7dw5hELaKiI4Bo4oL6MFQ3luAYOXVDNmmU1Xp493jR/XVmQytJQukjN/VtaB0yvJx1DU1eUC375qNfuPDp6LWqjlJoIGmSnCqKQC8LkFXTmRCHaDE5WpHvTPey674ssCOwBoNstZ330TDZGT6apJ0lNSZCnmoUuU01DZQkB26KjL0F9eTidGtcZ7Y/iX1gVpjPm0BP3FgI674RlAyLxT7jyTqpLgogInX0Jdnf0IYBrDEvm5B9pr9HvSqlMGkWvpoVCR4FnRranDBmxnuj2VsVz+9Pi/us3j3Ck+yfeVn4rJeJ9AHg5sZDvN72Lp6IH4rrgYNOarCIYrqS1N0HAEiyB3kTu4LpwQHANuIYB6XbDReEvry8vWKR9vmbSyntKqaFpFL2aFgodBT7UWvk5g86C5VC2FCL13pr3wDuPXsafek7jMy3f4J7oOlwjLAnu5JsLvs2lDdfRGNxPyHJpCLZix3YTkiSOMUN27gCWWF6BGoHr792afjxzej3uuBgMxkB9RXj4dk+AmbbynlJqYmkHr8ZtVB1yHjKDzrqiCbY0d/Ps3k46+hK5OysRb337smUQquGY5XVcdPIKAqUN/LDtA3w3+lU2x7y0unUVj/DjxZfxrqr14MSISIx5gb3UBwcWsBlKdrrdulUNXHH6ahoqIlgiWCLMr45QEfGi4vMNlhsUczCGTlnT7ZRSmTRNTo3bUMVrxhoFfsHa5Vy2fhMt3VFauuIgYIlQGrK5bP0mroDc086W7Y3kQ9Ucs7LMq0Dn+9RvlnFgbANnld1Erd3BB+r+yGlV9/HDpjPZ2HU480t7sJwuWpJVRE1k8LF9roGy0MAPM+tWNaSX+b1s/SZsSzDGpG9VjBQsl3mLI3PkPeTrHIKm2ymlMukIXo1boaPAU6PinpiDwctJn19VQn1FJL8RqRWE0vlQthjsEgDedfQS7u49jg+9/GVubD2NuBtgbnA//73gWq5a9B3qzFbKAg7zgvupD7RiMTBtzTWuV6DGwHknLBu23Q0VETr6EulI+5E66UKNvDXdTimVSUfwatzWrWrgCihoFPi6VQ1UlgRZXFuKSP9qdqMakdoRKFsEyR6OWRHmIuCy9U/zk5a38c/uE/ho4y0cEX6cw8ue4welX+ZPHev4afNbACgNRWlLVtLtliOWkHTJGUWfq92jfd2FGnmnZj5648kBwY6abqfU7KRR9LPANXc8z/X3bh0y1WuqZEZ8V4QDGGNo6YkTT7oEbSHhGMrCNnXl/VPmvfEksYRDZzQ54PWkKsU9v6+ThNP/Nx20hZWNld4HjleUcOHP/kFHTw8RP2ZgdeAJziz5BfMz0upu6zuLe+InY7BojQqb20upKq9IV5pr7o6l25g+9jg+zIwqa2CE65hqY3csqel2Ss1gmianRnTNHc9z9Z0vYokXIJYr1Wsq5KriZowXgW7b3oi9LGTTFXNoqAgxpyxMX8KhuTNKd9zB9tPaXAOOaygL2ZSFA+zvieMag+OCLWBZwpyyEKGAzRWnrwZjuPJPDzEn2ElpQIglHVw3wVde+W8a9/6EiJ9WtyO5mJ91voe7W5YRsCFSUsOm/SESpv/+u21BfXk4fewJzfufgH2VUtOXpsmpEV1/71YswU/xyp3qNRUy7zu3dMexLS/P3KTaijeCry8P0RNz0ve0k65XGS7z9bjGi2zviiaxEIyXio4BLISuaDJ9T3vdQY1c8pZjcEuXsbuvhNqyCB87+SCWHP1xnjnwZjb0ngjAosB2vlj7NT4/9zpWVHTT19vGvGAT5ZY3bS6A40Jbb2LckepjvXeffR01cl4plUnvwRe5nrhDIOtj3FCV1SZT5n3nuON6keeQzlRLVXSrKw/T0Zfgnku8ZWhf8bm/DHo94I3k446LLV4HD14VudRxMu9pD7hP7iYh1gKJTo5YuZIHA1dy1aN38SbrpxwYfomTKh9hTfmT/FpO4zetr6M+4FJhetjvVBN3g8ST3rFf2NfJOdc9MOYFZsZy7z77OqZo5LxSCnQEX/TKQjZu1l2YXKleky0z4jtkW+lRdyqezhjv8ewo8OzXk8wo6+q4hqRf8hX/WEMdJ80KQMlcKFsCAS+17vgjT+KKti/wzX3/wf5kJRErzgfr1/OzZZdzYvljRCTGgmATtXYHgktLd4yumDMlC8wMFTlfFrLHnVevlJrZtIMvcuedsMyvvubmleo1WQZVcXMNloCk2oqhIhIYFAWe+XoSjkPC7+3F/0oar1M3/u9DHWcQOwylC9i4M8Rlf3qBfZ0J/tm1hnO3fJmb204lYWzmhfZzxcJr+dai77I0uJsqu5ul4Sbi0Q5qy4JTMk2eK0Wxoy/B/p64rmin1CyXV5CdiLw9x8MdwFPGmAn/V0OD7MZnukfR72zrpTwrit4YFxGLUMBiRUPFgCnvT970GOuf3Ivjd+7VJUGqS4M0d8WIJhwQIRywiCVdHNdgW0JZyGb1/Kohp843bG7i67c/ywvN3Tgu1Aa6qQ30AA62wFxrLx9p/C1ryp8CwDEWt7atY4N5Jy+227THg7Qkq3AIUl8epr5i4K2FQl6v7NsAmdexLGSzva2PWNIhErCprwhTEQlO+pr4SqnxmbQoehH5M7AGuMt/aB3wALASuMIY84vxNGIk2sHPLsNFhgPp57a39uLNxvcvD2uMYW+nl3IWTzrs74l7BzVQVxEiaA+OeM9cw911DQnXi+YP21Bjd1ET7KEiYtPaE2dNxdNcMOc3LAx5n2t7qeRHe9/Cn9tPwMWiwymn1amktjTEgXMrC9ah5hMtn9pmd3sftuVdF2NgfnWE8nCg4B84lFITZzKj6F3gIGPMO4wx7wAOBmLAMcAl42mAUtmGiwzPfC5kWwiCCDR3xQDv/nMqRz0VVR+wLCxL6OxL5pw6Tx3Tu00gBC3vP4u4A21uJVv6GtjZHaKmNERT5Fj+p+eb3NL7bvrcCKV08qm5v+KHS/+HQ0pepMruZmFwH9G+roIuMJNPtHxqm3DAAuOti5+6NrqinVKzT75R9EuNMfsyfm8CVhpjWkUkMdROavYoZJnS4SLDDaSfqysPe/XXDcSSbnqJ3NQoNxVVD7mj6bPPF7K9aX3Xn9UyQNIxlIVDxOw6EpEAUdNJRHr5R+xNPBA7nlOsX3Ja1f2sjOzge0u+yT87jubalncQEod1i5NeGVtr4Gsp9DXJ3iZ1XXABMUSTrq5op9QslO8I/h4R+ZOInCsi5wLrgY0iUga0T1jr1IxQ6DKlw62pnvlcZUmQ+VUlWJZgW1Y6f3xlYyV9CScdnQ/DR9Onjlkaskm6ZmDWgQjnnbCMlY2VdCUsWk0dLW4jCcI0Jyr45r7/4OPbL+W56FIAXlv1MDcsu4z/aLgdYvuhe5v3fZwLSuWzznxqm9R1CdiC40JZKKAL3yg1C+Xbwf8n8H/Aq4DDgRuA/zTG9BhjTpqgtqkZotCLrQxXvCb7uYAtNFREuPa9R3Lj+ceyblVDepuKSAAX40Xlu4bKktzR9Kntu2JJbOlP1YsELCrCNtffu5UXmrrY2dZHc1eUmAnxcnQO+xI1nHRgI89El/PxHZfyrX0foDVZSYkV5321t8Ldb4S9/4BoC/Rsg2TPmK9xPgV9MrepiASYWxVhfnUJ15x9+KCYA02hU6r45b1UrYjMxbvn7gIPG2P2TmTDMmmQ3fR2wpV3Ul0SHFAUxhgzrqCuzMjw7DXVh3sue/8X9nUSd0zOaPzs7S/45aM4rkvYjz43BnZ39OEaw0FzK9nfE6O1J0FF2GZFag36A+u57h8Psf7hTfQlHOaEYnxp1QZWx24Dk/QOXnccrP48VBwAgXKvpO0Ypu1H87qH2kaXtlVqZihEkF1e9+BF5DzgMuBOvPTi74nIFcaYn47n5Ko4FLoePAy/stuTO9vZtLuDnri3hO2TO9sHbZtZoz0VGzDS+Y5YXDPgdWxp7sbxp+yf3t0JQMASumIZU+UiRK0atkUbKDFtuK7hY4+/nkWhw/hY4828umwTtNwHG0+Hpe+BlR/3RvLhWgjV9k8XjMJwH8lHWhEvc7YFoDQUoDee9Jbx1Q5eqaKSb5rcc8Bxxpj9/u9zgPuMMQdOcPsAHcFPd5M5KhxN8ZyR2pUdGLhmeS23PLYrvf0zezoHrQII3ifc5fVlJBzDkYuruPXxPelONywx5gQ6CEsCMBxb9hSfXvR7avGq1RGqgQM/BYvf4ZWzjTRAoGzE112oazwRsy1KqcKbzDS5nUBXxu9dwI7xnFgVj/EUSxmt0RTPGS42IFdg4C2P7eLMIxakX0eqc88eZBtIH2v9kwPvVMVMmN2JBpqSNSRMgAd6DuPdL3yB7Q3/j6iJQLwNnvoiPf98G7Q8AL27oHe3F20/jELFOeQTrKeUKg75psntAh4Ukdv8308HHhKRTwEYY66aiMapmWOsxVJGazTFc4ZLLRtqqvr+La3pxWmWXfpnDEMHwJcE7fRqeoPa6ZbS45ZQZXdTTReXPnks9YFVnF3xW9aE76Us+hzc925Y8BZY9Wl/2n6ON8LPMW2/o60XW7zbBnHHJWRb1JWHRl1U5oK1y7ls/SZ648kBMwGaQqdU8cl3BP8ScCtegJ0L3AbsBir8L6UmxWiK5ww3Wt3R1ktJcOA+2XnlFZFA+lZAptTvfQmvLv3Qd9GFDqeCHfFG4lJO1K7jZ73/jys7L2dLwq8FsOuPsOE0ePFH3ki+52VIDu60y0M2u9qjJB2DLULSMexqj466aNBkzrYopaZWviP4vwCfA5Zm7GOMMYdNRKOUGsp5Jyzj6jtfJOm6A+7B5yqeM9xo9dqNW0YMDEydyxKwjCHpF66rKwul09ROP2wutz6+Z9g2R0IhonYNTW6SSqudLc4Kruy6giOsu7ig4TaI74fNV9H8zK+4of1sdoXXcNYxB3HcIQelo+3T98xTVXUADAPupedrsmZblFJTK98O/pfAxcDTeCN4NQsUcnW6QkkF0mUXzzlsYXXOeuxXwICCNkHL8IXbnqY8ZNPZ5933Tjou+zpjJFyXWDzJG767ka5YkkU1pZx+2Fz+ubmZnrhDSVCoKw8D0FARSZ9jb8d93L+1LWd71yyrAbFo6ooioSCtbj1hogSdFjaXnQonfZQ9D3+T+v23UG/t4+Laq3kydic/v+vd2G4vx6w6AMK1dMWSLKiO0NIdT0/Rz60M0x1LTsh1no7vvVJqdPKNor/XGHPCJLQnJ42in3wzKV96NIVYMrfp6EtQErTZ3RElaAsVYZu2Xq/DXFAdIWBbI77mzKh+jCHhf/ytLw9SWRIi4RjOPGLBgOj8VPu++qZFnLhY+ORNjxKObuF9lTeyOvgkAEljc0/yNE56839DuIYP/norL3fZA2YcJqpC3Ex675UqVpMZRf8lEbleRM4RkbenvsZzYjW9FXp1uok0mkIsmdtUlQTp6EuwdE4pKxoq6I17a9fbltDSHc/rNWdG9Tumf/Z8f08ivf/9W1pz3vc+cfUBUL6M59uDtMpirun+DD/o/hRNTiMBcTgp+Ge461TYdhMXHB2hhr0k4z1DrmQ3mddTKTX95TtF/x/AKiBI/xS9AX4/EY1SUy+f4ibTxWgKsWRv0xN3WOwH26WL0/iFaXIdJ1tmVL8xeD28HxeQuf+Q973ForJqHtu6upkX6eLJxJE8kziM1wT/zBll6wnH98OTn+eYqkP47zUf5/pNFlvbO5lbNY8Pr105ISPqmfTeK6WGlu8I/pXGmKOMMecaY/7D//rghLZMTamZlC89mkIs2duUhez046niNKnCNAAt3TE6+hJDrtueGdUvfucOAyPtR7pmF6xdTtSx2RmtocWpoy0R5tbuN7Np5c2w4HRvo46nWb3tAt4T/j7zA7tokD0Ekq3jLmKTy0x675VSQ8u3g39ARA6e0JaoaSWf4ibTxWgLsWRuc94Jy9KP15WHSDgu8aRLNOny3N5O9nXGKAvbQ1bJO++EZbgGkq6LLf3LyM4pC+Z9zTJT15r6ApjSJXz09cdyxKqD4fBvwnE30h1ZBcBRgXu4quFSjjW3cN3f/8UDTz4Cie5Jv55Kqekv3yC7Z4FXAFuBGP5E5GSlyWmQ3dTIp7jJdDGeQiyZhWk6okkEcI3Bcb2R+MKaUir9KetcgW3X3PF8Oqo/HLCoLQkgljX+a+Y6EGuBRAef+s1jHOL8gzPLb6HS8tbF35ts5I/Jc/nwOz4IwXII14MdGtu5ssyk916pYlSIILt8O/gluR43xrw8npPnSzv42Wu4dK1CpXKljvPY9jYEmFsVoSISZPPeTgQI2hbL68uBgeu2pz8YNHURT7oEbaG+PIyI0NwdSz+2srGSNctruX9L65BtHfa1ODHe9p1bqY84lFo9vDnyB04K/x1bvGn0x6OH8hf3g7z2qGPTaXVIvpNzSqnpaNI6+KmmHfzsNFy6FlCQVK7Mc2xv7fWj4IX51RGau2IkHBcDrJpbCfSP4FOL6CQch5auOAg4rhmwqp3l34gvC9l0xRwaKkLMKQvnLHoz0ms557oH6OxuY164C5sklcntvKv0FxxV9gzgpdX9tfd1zD3ivzjqwOUQroNg5TjfAaXUVJnMNDmlJt1w6VqFSuXKPE7IthAEEWjuilFfEcY1YFsy6F50ar/OviSWJQQsL0DPNf56zsYviIPQGU1iCXT2JXO2NZ/XcsHa5XQlI2yN1tPhVvFERz2X7rqIq9ovotlpICAOby77KyufPRNe/o2/7O12cKKFfEuUUjOIdvBq2hpuvfh81pIf7TnqysO4GIwxxJLeOvM1pUGW1pYOWrc9tV/ccdO1YYz/hekPthN/OV0rI/Uuu635vJZ1qxo4cnEV2/b38cAueKm3Hteu4Dnzai7vvJJb+95JzISptDrgic+x+Xdv4OIf/oif/+Nu6NsD7sSseKeUmr7yzYNXatItqikddr34kdaSH+05UoF0+7qiiBEaKiJ88U0H55zyT+0Xsi2SrsFPn/cIiN/DG9Nftz6Vepfd1pFeJ3iBfOuf3OstqhMQ4kmbLT2VJG3Diqo+bo+ewR/3H805Fb/llKqHWBXZxrfmf42/b93Ab92PcdYJR3uV6vT+vFKzhv6Xrqat4dK1CpXKlX2cgO117Ne+90huPP/YIe/np/arLAnguoak643kLfH+o7LES51zMVRGArgGKksCOduaz2vJXDHPEouAf39/R6ewz2lkX6ycl7qr+NreD3Hxrs/wYmwxAK+vup83tX4QXrwO+vZCzzaId4z+zVBKzTgaZKemteHStQqVyjXW46T2e3pXO70JF2MMkYBNbVmQaNLLpw/ZwoqMKPqhzjFSG17xub8QsMDKGH0nHIekC4tqSlhYU8rDW5poDHdSGYhi4fL6ins5d84fqLb9PPmypXDw56DxNWCHvUC8QNmor5dSauIVIshOp+jVjJDrY+h4y56mOtXn93XSG3dIuoamrhhX/nVz+vjDpa+lvl+2fhMNWRHw3zrz0EFtu3CYtmS/lg2bmwZUxwsHLGJJB2McjPHu7YtAZSTAPZecDMBhl/+NpkQt3SbJHLudv3atZUPXEfxH3Z84vXqDN3p/+HxoeA0c/FkoX+Z18AXMn1dKTR86Ra+mrVT6WFNXdMiV5MZz7ItveYJHX25lf0+CvoRLwjE4rssLTd18+pYnuOaO50c8/0QUZsn1ul3XxXG9e/kG77vjwmtX1af3S62q1+sE2JWoY2+8mrZkBe3LPg1rb4O6Nd6GTXfD3W+BZ66Evn3Q8zJEm7yFdZRSRUNH8Grayuw8AUpDAXrjSa7duGXcq6p9/fZnae9N4LgD5waSLoQDQlc0yfX3bqW+Ijzs+QtVmCVzpqCzL0FpyKaqJJI+74CF7n2lQYu9nfH07xeeshIgvaqeE6rg7ccfwvtPnAPxdjjm/2DvHfDM16BvF2z5KexaD6suhoVnQKILwnMgWEU6NUApNWNpB6+mrYmsarZ1fy+WQK4xqwgkHZdE3KQrzQ11/kU1pWzb301nX5K44xKyLSpLAiydUz5gv5FW5Pv0LU/QFU2SdF2SLvTEk4QDdjqyP570UuzCtoWIF52fcA0v7OsccJ4LT1mZ7ugHCFZBrAnmvQ4aTvQ69xev85bCfeJSePnXsPqLUHOY92EgUq/355Wa4bSDV9NWPulj45XqLDMZf5GaUMCiL+EMe/41y2t5aFurFz3v57o3dcU55+ja9DaZK9VlTvWfubOd+7e08si2VpKuwbYgYFs4/nT83s5ouoNPSa2OJwKua4g7eQbJ2iEoXeiN0mPNsOKjsPBt8Ow3Yfefof1J+NdZsPDtsOpT4Mb1/rxSM5zeg1fT1kRWNVteV4bjmpzVVuNJl7jjUlUSpKkzygtNXWze28kLTV109CUGnP/+La3Ul4cI2VY6172+PMT9W1rT2+S6Tx9POvxgw0s0dUVJuAaDd3vAcQxBP18+lnTTrxvAFq8IjsHgGu9mfCgwyv+EgxVeNH2oFkrmwxFXwZpfQqVXrY6dv4cNp8JLP4V4m39/vhmMO+xhxyIVSDhUKV6l1PhMWAcvIotE5C4ReVZENonIRf7jtSLyDxF5wf9eM1FtUDNbZhnV7JXkxusNh8ztX3kuBwH2dUbpjjlE/QC8aMKlrTfOkzvb09vtaOslnNXJhgPWgGn8HW29dPUl2LS7g6d2dfD07g72dcaIJV32dkQR+hfJcYzBtoSA5Y3SU6/7wMYKqkqCJBzXb49LRSTAioaK0b94sSBSB2VLIFDKgx3L+dSeL/GTjvfTbSog2QPPXgl3n+4F5MXboHtrQfPnJzKAUinlmcgp+iTwX8aYx0SkAnhURP4BfAD4pzHm6yJyKXApcMkEtkPNYONNhRvK/VtaqYwE6Iwm00vJgr/iXMC7zx1LuP1LzvrfHRe+d9eLHLawmnWrGqgIB3ihqRvbEmxLSLqGXe1RVjT034MXoKk7nj5G5qxB0h+9p7jGm3oH4cCGMv76ydcA3kp23/3nC6RiAl0D7X0J1iyvZczsEBu2h/jaP1qpD7p0B07l0ZZjOaP097y+7C6kZys89GFoOAlWfxaMA4l2b9o+ML7bJBMZQKmU8kzYCN4Ys8cY85j/cxfwLLAAOAO4wd/sBuCtE9UGpYby/L5OeuIOQcsiErAIWla687REEGTg6D5jmJ1wTDoNLr1QlMn4ynwcaOmOpTfJZomkV6VLn8aC6tIgl77hoPTjf3lqD5j+DxriH/AvT+0Z9WvPdO3GLSStMjrthfRQSTJQza973s83er8Oc/ya9013wd1vgme/BbH90LsTeneBExvzeQtVS0ApNbRJuQcvIkuBw4EHgUZjzB7wPgQAOT+ui8j5IvKIiDzS3Nw8Gc1Us0jCD06zLEFE0sFr+RBId0TdcYcF1RECtuD4S90uqI7QE++Pz487xl+FbvCxXD+4zhZvan9OWZDDF9XwrTNfOWAku3V/LwFbiARtSoI2kaBNwBa27h9fh5jqaA0WnaaaZncuBMp4oqMejv0ZHHkNlCwANwEv/RjuOg123uoF6/W87OXRj6GQzaKaUvoSA3MYCh1AqdRsN+FR9CJSDvwO+IQxplPyzK81xlwHXAfeUrUT10I1G4UCFn1xB9eYQZH0rl88JlPm8wGLQYViltf3T8mnasanlIW8Fe7CtrcaneuPxA0QsIVY0lAWDnDN2YdP+vR0dqZCkiA7Y7Usqqj2oufnneqtfPfS9fDij70I/McvgZdvgtWfh+pDIdE56kI2F6xdzmXrN9EbT5J0XPZ1xki4LkFL2LC5SafplSqACR3Bi0gQr3P/lTHm9/7D+0Rknv/8PECjatSkW9FQQV1FiIAlOK4hYAm1pUEvuM3ygt0CQ4zqS4L2qArFpFaYS7puehRvgIbyEHOrIsyvLuG8E5Zx7cYtQ0aUL68r8+7PZ0TRu8Z7fDyGav8Ryxdyzq/38sZrN/HJW57jwcA5cNLtMO8N3o5t/4Z7z4InPud1+vFWPxCvfXDeYQ6pAMqQbbGzPQoCC6tLSLgmZ7CdRtwrNXoTGUUvwE+AZ40xV2U8tR441//5XOC2iWqDUkO5YO1ygrbN3CovQn1uVYTySJALT17B4YtqmFsZoTRkUx6yBkyt2wILakoHrEc/UqT/haes5KKTD/CnwoWSoMWimhLCQZuGighnHrGAWx7bNWxE+SWnraKmNIjgLcIjQE1pkEtOWzWu65Cr/f3tiWGF69jUWcPX79jJg3vCcOR3Yc0voOJAwMCO38Fdp8KW/wOnz1vytudlSHTnde7q0hBL55SyoqGCypJQzqV+NeJeqbGZyCn644H3AU+JyOP+Y58Dvg7cLCIfArYDZ01gG5TKad2qBs7c2Z5e1rUsZHPeCcsA2LS7w1vq1TVkjuHF/7/mrmjOYxqgvTfO129/li/c9vSAFevuf6mFzqh3r7rPNSysjnDjBccBcM51DwwZUQ6kV8CbUxairjxMdyzJwppS1iyv5dqNWwadayzXInO/7PaEQxE64/X88KEoxxwQhDmvhhN/D9tvhueu9iLrn/k6vPwbb9q+4UTo2w3xEr9iXcmQ585ntUKNuFdqbCasgzfG3AsMdcP9tRN1XqXysWFzE7c8tov6ijCL/Spw19+zhe64k85Dd9z+yPfUUvCOC70Jd8BxUqvU2QIvNHkj1wXVkfRIs/T2Z9i8r2fA+e/f2sY5197HjRccN2Qn90JT14AV8LxKdS5fPuMQgJyr410B4+70hmrPS20Jb5GceJsXTb/03TD/jfDcNfDyjdCzFR46DxpP9qrVlS2G3h0QKPc6+hwr4uWzWuFELlmsVDHTlezUrJRrdbnuuBcAF7CsAXXXgQE5bomkm/M4Ld1xLx9ehJbueHq6ObtzT7l/axswdER5POkOaGPSMTR1Rbngl49y4U3/Jp50ClrFLmXYCHcRL5iufKm3lG2oGg69DNb+wRvZA+y7E+5+Izz7bW/RnGT3kBXr8olh0Ih7pcZGO3g1K+XKw3ZHiA0T8SLoM1PqMo8Td9x0nfa+hMOW5m62t448yhyqkwv6NeYBOvsS7GrvI5ZwiSVdOqNJmrtjdPYl0scp1Kg2ryWCrSCULvCWu7UC3lK3x/4cjrjae8xNwEvX+Wl1t3lL3cbbvVF+bH966dt8YhjyXbJYA/GUGkiLzahZKdfUsCVDd/LhgIUxXnT9sjn9I8fM44Rsi6RrcBwXYyDpmCHvUWVat6qBK/BmA3a29bLQv59+7cYt6WPv64yS9GMCLD+tL7sgTaFGtUO1J+fUf7DcW9Uu1upN3c8/DRpfAy/9xK9W1wSPf8abwl/9Bag+xOvgEx0QmgOhqhFXK8ynPUMV9CnELQulZioxeaS0TLWjjjrKPPLII1PdDFVEMjuEEv8efHNnNH0P3hKvg3YMBCxBBGxLKA8HBixCk3mcpOOyqz2Kk1q8xvI+FFgC0eTgYi1rltWkA+1GauOW5h68BWxJF6OJO94xD5lf6d+fNwVbq39MnDhE93nR9AC9u9j/yFeY03knAK4RWmreTMPRn/XqzgNYIe/+fLB8iIPm55zrHhj0gS21HsGN5x87rmMrNRVE5FFjzFHjOYaO4FVRGK7eei65RoVffNPBXHv3i+l74wALq8J0xhx64g4ltsX7j10y4LjZ0fhCf2W4pOtSXRJkUW0pm3Z3DJgdmFMaGNC5f/Kmx1j/5F7/w4Fw+mFz+c7ZR6Tb+FJz/338hH8rwAJc4Nm9XeksgHw699Feq9EdZ5E3FR9r4cG9Ea5+/lwODb+a91X8ioWBHTS0/5HkP+8isOrjPGTewI2P7GFvZx+1ldW86/jDWXvw4lG3A7xbJbbAluZu4o5LyLaoKw9pIJ6a1XQEr2a8XKPxsYxmr7njea6+88V0bfeE4y0mU1saZH51Sc7jZp67sy9Oc3f/PfHUanWRgJVzBP+2V83jO2cfwSdveow/PD54TfnU8wAnfP2f3oIwWWyBg+blP4Iv1LUa8Thuko/+5HZ6etqJBG0sHNaG/8lbIrdQbnkfVnYm5/PrrvfyonklsaRDwjV87HWHc9zqVd49/lF4w3c3pov+SPoWhmFFQzm3f2LtqI6l1HRQiBG8BtmpGS9XRPxYIsqvv3crlgyOom/vSwx53Mxz7+9JDDhe6qNzZueeCsIDWP/k3gHfU89lPw9QHg5gMTjvNOCvpZ/vay7UtRrxOFaAJ1vL6LYacQjgYrMh9nou6/g2d/SchGuEhYHdfKbmG3y0/CoWhvcTtITfPvAsdG+DaMuoatDnU/SnkDSgT80EOkWvZryx5klnTzF3RZOEAv1daKpvyJxazz5u5rlT26VG7tlBe9nr2zv+k84QkX2Zj3fHHRbVltDSHSfuuCQd7z5/ZheYz2suRE75hs1NPLa9DdcYfyo8TGVJcNBxUgGIcZlHpXRQJl3sT5Ty59BHuKNlHR+svpGVwc28KvQoq4NP8o/oG/ltxxsA4y19m+z0789XjtimVNGf1PUJ2RZzy8MDiv4Uigb0qZlCR/BqxhtLnnSu5U+hv8oc9HfImUvVZh93UU0pLd0xtjT3L82a6tzDAZugPXQcve0f2B5izfvMxxfVlBLLmglwDYTs/v+E84miH29Oeeq6parnJh3D7o4+OvsSg47Tn97m0OFW8XK0jm4nzNlHLyJWuoqvtn2WH3d/jJZkDUFJ8MaS2/jGnEu5566fep+u3CT07YWeHWx8ZvuwI+ZFNaUEbIvl9eWsmlvJ8vpyArY1IbnyhZoFUWqiaQevZrx886Qz5fpHuqY0mC4K42ZMD1eXBIc87prltTT7o8YBfXn6OLCq0SsIY0z/F8Dph80d8H2o57PPY4nXuboGQgHJ+zWP9Vrlum5zqyKApP7Hvq7ooONk57jXVlTw8Tet45jVq3nXq5eScOFP+1/F+176b37e8ibiboD6YDsn9lxJ09/eDh3PAPDgCzv50V83kOjZTW2J5FyLfryvazS0lr2aKXSKXs14o8rb9uWaqp5fXULSnxbviTuUhwO8dlU9ezvjQx73/i2tNFSE6OxLEsfFwhvVukB50Itsv/CUlUNGyQP+96GfH3QexyUStAkHvLz7jr5EXq95rNcq13UTEeZXQ3NXjFjSRYzkDNQbKsf92EOPxLVK+eLv7sc1YW7Yfzr/6DqeC+pv4YTyx2hIPgP3vB0Wn8Ufn30dQStMRTCKYS89VgX7YqUD1qIf7+sajXyW11VqOtAOXhWFkRZLyTbUP9Kr51eNKm/aKwITpq68v/67MV6ne88lJ6cfO+NVC9nbGU/f7z/jVQsHHOc7Zx/Bd84e/jyOY+hLeMvpOq5XIKcsHBhwnnzkc62GSqXLdd0M3kJAo2LZHHfoIey96XkaAm2Aw67YHL606wKOKN3MRxt+w7Lwbth+M58t+SN/5Ezujp+CS4By6aQk3M2u9hJvuiMruGGi84Iya9lnZhBMxGyBUuOhU/RqVirUlG4+97QLUe5UgKbuuNef4fVrTd3xUbU1X8O1N3XdWrqj7Grr828ZCKUhe0wlXI1dyrZYA+3JcvDT2x7pWcXHdl7mrXwXrKTM6uPssl/wxcrPsSrwNACJZIJVNTHo2QaJzryvcSGi3/NZXlep6UA7eDUrFeof6Xw+KBQiKKulOwYMygJLP15Iw7U3dd16Yg4GL8hvflUJ9RWRMQWa1ZYEMFjsd6rYFa8nZrzbJpWRMCx7H5z0N/bVvBXXCPPtXXyy4mt8uOQqqqWJs49e5K1537eX393zLyoC0WGvcSHryq9b1cCN5x/LPZeczI3nH6udu5qWdIpezVqjndYf6hgj3fstRGpa3DEELC+wLjUrbYn3+GiNtJLdSO1dt6qBypIgi2tLkYzp8XxfU+b5m3sSVIYtuuMuMRNiT7KeZRVRsPzjhGppPP5Kntp0BmUvXslyezNHRR7liJKnsBLnQfLDECilpbOTBeE+4tJHp1tFgnBR1JUv1KqDanbSDl6pcRrpg0IhgrLKQt693nBGWlzSdSnNiuYeST453Pm0d6yvKfv8LV0xehOGRTWl6aI5vfEkdkXAK2KT9DroQ1cfBwffCrv/As9eiRXdBy/8L+z4PRz0GeZWzqe1J04kGKXeitJnStkbL2dhTf8a9zOtrrzm26vx0il6pSZYIe73n3fCsgEpfKkUvPNOWDaqtuRzuyCf9g61zZrltcPe484+v5du56XZZR7nvLUroXQhlMzzytGCN22x4E2w7q+w4v95hWqie+Hfn+K/67/GfGsb0YTjzXAku6iTPXxsTUW6Bv1Mqyuv+fZqvLSDV2qCFeJ+/4WnrOSikw+gJGiTdL2R50UnH8CFp6wcVVvyyeHOp725tjnziAXc8tiuYe9xZ5+/IhJkQXUEY8h9rmAFlC2FUA3phXoDpXDgJ+A1f4G5rwOgsvcJ/qfucs6v+QUSb6W2LMxFJx/A8UuCfg36Vi44cdmk5coXgubbq/HSKXqlJsGTO9vZtLuDnrhDR1+CJ3e2D+gwr7nj+XRFulRluOzO+7CF1ayeX5W+H3vYwupRtyPfqfV84hOytznnugdGvMed6/xxxyUcsIZObxMLIvXekrXRfeD4RXfKFsFR3+fZJ/9KzbZvMtfayfHBf3Bo/b/42f7TufOZd3DM8jnemvaxFtYtCvLVNy3hf//VNOG58jD+++eLakrZ2tJNVzSZXn63IhJgWd34SuuqwYo11kFH8EpNsFSVur6EQ8DyOtSr73yRa+54Pq/noXAR4BO54ls+I87s87d0R2nqilMaskd+XXYYyhZDpMHr9IEHt+znyw9Vc/62z/P9fe+k2ymh0u7lwoabeFf0In71p5v693cTnLgoyY3vmc89Fx83odHvhXi/slcvjDsuzd1x1iyvnZA2z1aFzK6YbrSDV2qCZVep8757j+fzPBTufuxE5nDnc487+/w9MYf68hD1FZH8X1eo2pu2D5Rx08M7CFpCV9zid22v5b1bvswf207ENcLyyG7ew5fgkQuhd2f//k4UerZD725wJmYtgUK8X6nVC0O2la470FAR4v4trRPS5tmqmGMddIpeqQnWE/dG5pksIV3pbKTnYWIiwAu94lu+K7xlTu2fcOWdg15X0nF5bHsbJ1x5Z3q6FMgxhbqAp9tKWVLqAn0AdDgVXLXvvfyxfS0fb7yJQ0tfgr1/g6YN8Irz4IAPg13in6gbkj3e1H94Tn8wXwHsaOvFFtjS3J2eXq8rD43q/RpqlcSxvOfFOgVdCDMtu2I0dASv1AQrC9lkV4R1jfd4Ps9D4SLAJ3I6ciyzA9mvq7Mvwa72KALp9n36lie4+JYncra5rrqOl2P1dLkDr8MLscVcuP3TfHXPhyDSCG4MXvgB3PUGL9UuXSfeQKIDureOugb9cMpDNrvao15ZXxGSjmFXe3TAezqSmfCeF4OZll0xGtrBKzXBRkpxyycFrlD3zid6OnK0K7xlv659ftneuVX9U/Zd0STdsWTONl+wdjkxxyJq17E7UUfcZI7EBJn/Jlh3OxzwEbCCEN0Dj30S7n8/dG7O2NavQd+9FeJtGR8Axia9AJBkfGU+noeZ8p7PdJNZiXCy6RS9mtbyiS6f7i48ZSVbW7pZ/+ReEk5/tbjU60h9H+51rlvVwJk72wdtM9pp1kJORxZi2jd7JUBjYEF1hIpIfxtTH3g27e7ANd7ti7qyEPGkO2D/B7Y47ErUU2V3U2N3UhYUPvem1d5BVn0SFr0Dnvk67PsntD4EG98GS94FB17kp+EBxoFos9fJh+ZAqGpMr70rlqS2NEhLT3xAm7tjyTFfm7FG/Y/ndsFsmNqfzEqEk03MOD+pToajjjrKPPLII1PdDDXJUtHllr8sq2u8r7Hkf0+lzBXJMu9Njya4rRDHAC+VLTtNrTeepKEiMqoqeoVqTz7te2ZPB46bHgQDXvzAopqSdCW9076zgc37etLPByVBXaCdg+ttfvKBYwaepPlfsOmr0P2Sv3GV18kvftfg+/BWCMJ1EOxPTcvntb/huxt5oakb2xLEL6LjuIYVDeXc/om1Y74+YzHWtkzUe6zyIyKPGmOOGs8xdIpeTVv5RJfPBIWYIi3UNOt0n/bN1T7Hvy0+XKGdzM4dIGGC7EnU89DecDqlLq3+eFh7Gxz8WQiUe/fgn74C7nkbtDw4cFs3Dn27oWcHJPvyfu3pgVNWo6diQDXWtujU/synHbyatnriDlbWLcvs6PKZoBArkhVqVbNCpclN1CprudonQMDy3nsB/0NffoV2utyydErdAFYQln8ATvo7LDoTEOh6Hh54Pzx6EfTuGri90we9O6B3N3vaOkZ87d1xhwXVEQK24BhDwBYWVEem5G93rG3RlfRmPr0Hr6atVIGVzE4+O7p8JihEsZlCHCOlEFX0CtmebNntO+zyv42r0M451z/i3VN9xTyINnn32VPCc+CVX4UlZ3vT9m3/hj1/hX13wQHnwys+1J9WB5Ds5vDaTnZ095AIzMHFa8NQxXiW1/dP7aduhUy2sbZlIt9jNTl0BK+mrUIVWJlqhZgWn26RvpPZnnz+DlY1luXcN2xLf1rYS33eaD5YOXjD6kPhuBvhVd+AcL2XVvf892DDG2H37QOi6s8+eiEh002ls5Ny2umLx/MuxjMV79dY2zKdXoMaGw2yU9NaMUTRQ3808niidAtxjEKazPbk83eQHWgXCVisaKwAcgQSJnu8de3dHFHtyW544VrY+n/gJrzH5rwaVn8BKg8EvCVyb3p4B/s6+6ivLOfM417JiQe/wqt455tO79dY2zKdXsNsU4ggO+3glVKTJlfaFeRapS7/zie13/N7O9jf299hB22htjREc3cM13j37z95yor+DwZ+ERri7QOOm+q8Tc82Plz7G1YHHvOfsWDJOXDghTy40+Gmh3ewt7OPuZUlnH30Io45YJ435R+syOtaFMuH14mST4pePtvM1OusHbxSasbIlXbV0ZdAgMqS4KhSsbKP9ezeznS0fTbBCxwXwLJkcJplss8fzcd5cMt+rr7zBYKWEA7YxJIOBwWe4KK5v6Ukvh2AhF3JL1rfysbYyYQCQWJJh4RruOjkFV71OjvspdZlB/ZlKJYU0ImST4pePtvM5OusaXJKqRkjV9pVdyxJVzT3KnWjOdZQnTv0p9UFLMmdZhkogbIlEJ7DTQ/vJGgJkaCNCESCNs8mX8kX274GB10CgTKCTicfrPo5X669jJXBZ4kEbYKWcNPDO7zjOTEvCr9nR39p2yzFkgI6UfJJ0ctnm9l+nbWDV0pNilxpV45rSLoDe+d8UrFyHWsolkDQEgK2NXSapQiE5/Dv1kokUDLgqXDAZndnAl7xQTjp79zVeyIAiwLbubjiK5xX9j3mhtrZ19k38JhOn1+1btegqnXFkgI6UfJJ0ctnm9l+nbWDV0pNilxFPWxLCFgD/xnKJxUr17GGEg7YBPwUu5HSLOfVVLEjVkeHqcH4/zzGkg6NlX6nH65jvfkYl7dezpbkAQAcHXqAK6ou5r1z/pJ7xJ7sgZ5t0Ncf1JdPgaHZLJ8CMPlsM9uvs3bwSqlJkSvtqjwcoCISGHcKlz3Mv2SjSbNMHbc5VsJep5H2eJCEazj76EXpbc4+ehHPx5dxResX+Gn3R2h3qghLnDeGbvbS6vb8PXexmoyqdecdv6QoUkAnSj4pevlsUyyptmOlQXZKqVFJRS4/vaud3oSLMYbycCCv6ORcaVdP5iiik32cXJHQhy2sHnCsB7fsJ3OyPyBw4WtXDNjvtavq2dsZHzaKf83yWu7f0po+7kePb+DExWbAAjk/v28rv310J70JlzmhOJetuptDYreC8dPq6tawPn4uP34iQG/CpTRocdaRC3n/cX7HIjbv+MmzPLoXUqvsr2os46+fXDfm92U4M7FoTD7R7/mk8WkU/TSnHbxS00MqcrkrGqctIyXNFkByRKjnebzxRkKfc+193L+1bdDx1yyr4cYLjhvyXHlH8bsOxJoh0Zkz0j7hGj5zfIRXdf0Imu4CwDEW6zvW8cvWt9DplOEaOPfYxbz/uGX8z5838Y9nm0kYmzankh6/nv3bXjWP75x9xCjekcJc4+lmJra50DSKXik1qVKRyx19Xucu0p+GNpbo5EJFQufq3LMfH1cUv2VDyVwoXcivHt4zKNI+aAk3PAm8+kfw6uvYGW/EFpe3Vd/JT5d8kbdUbyQgLr99dCcA/3yuBYCQ5dAYbGNBqImIRFn/5N5RXb98zMSiMTOxzdORdvBKqbylIpezA5eMGVt08mRGQhckij9Qyr9bK0nY1QMeDgfs/ij6htfwoW1f4sctZ9LrRqiyu7mw/pf8YPFXWW4/B4CbdQHDkmBecD/1dvOQqXVjNROLxszENk9H2sErpfKWilzO7nBFxhadPJmR0IWK4l9YU86+eAXNbiMJwkBWpD0QCoa4ue31nLf9K/y907tFcEB4B1cv/iY89l80hNpzHrvMjvupdbsHpdaNVT7XeLqZiW2ejrSDV0rlLRW5XFXiVRgzpn+VuLFEJxcqEnrNspqcx898vFBR/KnjdMRtmpwG9sQqiTsyINL+rCMX4hpoTlTy7aYP8LHtn+XZvqXek7v/xC+WX8Z75vyFAAnvGvofYF57YJ33Q7LbT63bm3u9/FGYiUVjZmKbpyMNslNKjcp4ouiHO954I6GzA+0yA+yGOxcw6oIqg45z4hLWLQUSXeltMiPtS4MWZx0xn/cvfgI2f9tbAx/YHa/jh01ncl/v4bz2wHo+96bVOc4mEKqGUK0XCzAGM7FozExscyFpFL1SShXYaFPKMrc/oEb4yDHlHLusaugTJLrhhf+FrT/PSKs7DlZ/HioOGLBp5oeESDDA6Uev5oLXHQUyOZOvMzG9LttMfQ3awSulVAGNNj0r9/YuX3vDXI5fEhj+ZN1b4ZmvQdPd3u9iw5J3w8qPQ6iKn9+3lRse2D4oPfB9a5bzgZOOhGDVgPK0hVYMqWoz+TVompxSShXQaNOzcm9v8f37O6FssVdZbijly+DV18HR10LZUm8hnW2/gA2nwss387tHt/vpgYIlki6W87tHtkG0ybtHn3FLoNCKIVWtGF7DeGgHr5RSvtGmZw27vR2B0sVejXiGGWk3roO1f4SDPg12KcTb4Kkv8q15X+aQkhcHbGoJ9Cb8tD43AX17vKj7ZOHTx4ohVa0YXsN4aAevlFK+0aZnjbi9X6WOsiVehz8UOwSvOA9O+hssfBsAKyI7+M7Cb/CZhh9TZ7cC3hR9aTDrn20nCr07va8C5tAXQ6paMbyG8dAOXimlfKNNz8p7ezvkTdlHGoYPkIs0wKu+DsffTIvtZQmcVPEQP178Rc6q+jM2Cc46cmHufZO93mi+b09BcuiLIVWtGF7DeGiQnVJKZRhtetao07ncJET3eWVkh2Nc/rXhxxzc+WNqbO9ee5c1j4ojvgCNrx0hwE4gWOnNHlgjBPsNoxhS1Wbqa9AoeqWU8s24dKhElxcsZ4ZecvfBLfu59eHnOMHcxGlld2CLv23d8X5a3StGOIlAqAbCtZOWWpdL9nuTqtg3Y96rKaAdvFJKMYPToTKq1GXLrlpXa3ZwTvmveGX4KW8DCcDS98DKj3mj9eGI7XX0oZoJTa3LJfu92d8To6krTn15iLry8Mx5ryaZpskppRQzOB0qo0odVnDAUzc9vGNA1bo2axFXdVzM9dHPeNH5Jglbb4C7ToXtvx12JgDjeKvn9WyFeEf/2riTIPu96exLYgl0RZMz672agbSDV0rNeDM+HSpQ6uXCh2pJpdTt7ewjHBj4msKBAHe2HQyv+TOs+i8/ra4VnvwC3HsWtD42/HlS9/97Xp7QHPpM2e9N3HGxxPueMqPeqxlEO3il1IxXFOlQIhCp8xfIiTC3soRYcuBrSlets0NwwPmw7q+w4HTvyY5NcN858O9Pe534cNz4hObQZ8p+b0K2hWu87ykz7r2aIbSDV0rNeEWVDmWHoWwx71jzKhIuRBMOxnjfE64ZULWOkkY4/Jtw3I1Q5Req2bUe7joNXrxu5HS5ATn0sQl5OdnvTWVJANdARSQw89+raW7CguxE5KfAm4EmY8wh/mO1wG+ApcA24J3GmLahjpGiQXZKqZHM1HSo4dz97C5uvvdR2jrbaKws4eyjF3HM8jm5NzYu7PgdbL7Km7YHKF0Cqy+FhpPyC64LVkC4blA8QMpYMxWy35tUFP1w79WMy4oosGkdRS8ia4Fu4OcZHfw3gFZjzNdF5FKgxhhzyUjH0g5eKTWrxTu8aHvjjrxtohOe/wFs+6UXiAdQfwKs/hyUj5RWB0Pl0E9mpsKMzYoooGkdRW+M2Qi0Zj18BnCD//MNwFsn6vxKKVU0QlVeEF6gfORtg5Ww+rOwdr3XsQM03wt3nw7PXJlHcJ2BRIdX7S7akv5QMZmZCjM2K2Kamex78I3GmD0A/vchP4qJyPki8oiIPNLc3DxpDVRKqWnJCkDpfCiZn9/qdBWvgFdfD0f9AEoXeaP5LT/10up2/C6P2QDjTfV3b4V4GzvaeiYtU2HGZ0VME9M2yM4Yc50x5ihjzFH19fVT3RyllJoeguV+Sl31yNuKwNxT/LS6T4FdAvH98MTn4N53QtvjIx/DOBBt5sjadqxkx4CnJir6vSiyIqaBye7g94nIPAD/e9Mkn18ppWY+sbzCNCPVnE+xw3DABbDubzD/zd5jHU/Bv94Fj1/iLZk7gncfPZ9yWqlwdhI2PRMa/V5UWRFTaLI7+PXAuf7P5wK3TfL5lVKqeKRrztcxbM35lJJGOOLbcNyv+9Pqdt7qTdu/+ONh0+qOWT6Hi05eQWOZRSixl4Mq2/nKm5ZOSNDbulUNXHH6ahoqInT0JWioiMyqALtCmcgo+huBdUAdsA/4EnArcDOwGNgOnGWMyQ7EG0Sj6JVSagROHGJN+S9cYxy2PHYDDbv/l3LxAu+ioYVEXvlFaFyX/3ntEi/iPqDT54U0rdPkCkk7eKWUylO8w1t3fri16ekvZlNl9/KOits4Kfx3bPED7+rXepH45aOYErdLvJmEQMk4Gq9SpnWanFJKqSmQSqkLVgy7WaqYjRuo5Ld97+PLnV/j6bg/bd+8MSOtrju/8zp90LvDXxUvOr7XoApCO3illCo2lg0l86B0wZCr0mUXs9njLuSa7s9yVevHvep2JuGl1W04FXb8Pr9FdsC7RdCzHXp3j7xUrppQ2sErpVSxCpRB2RKvDnyW3MVsXHaET4DX/AUO/IQ37R5rgSc+60Xctz2R/7mT3dCzDfr2gpsY3+tQY6IdvFJKFTOxIFI/KKXu7KMXkXBN7mI2dhhW/D+vWl0qra79SfjXO+HxSyE6isXHEp3Qvc1LxXOHjwtQhaUdvFJKzQZ2xBvNR+oBSae91ZaF6Y4lqC0Lc9HJKwYWsymZ66XVrfkVVB7kPbbzD960/Us/8crO5sVAvB16tkJsf/7T/WpcNIpeKaVmGzfh1YwfTS1448D238Lm70Ci3XusbCkc/DlofM3ozi82hGshWJ1flbtZSKPolVJKjZ4V9ALpSuZ6nW0+xIYlZ8NJf4el7/N+79kGD58PD13gTcPny1/+lp6t3hS+mhDawSul1GwVrPRT6irz3ydUBYd8AU68FeYc6z3WtAHufjM8+00vuC5fbtILwuvelkeVOzVa2sErpdRsZtneSL504ZApdTlVroRjfwZHXgMlC7y0upeuh7tO85a/Hc19djcOfXug52VI9oz2FaghaAevlFLKW2q2bKmfUpfnfXERmHcqrPsLrLwQrAjEmr0CNv8624u8Hw0nBr27vDz60cQHqJy0g1dKKeURyUipi+S/nx2Blf8JJ90O89/oPdb+BNx7lpdDP5q0OvBWwuvdqavijZN28EoppQayw14nH6n38ujzVTIfjvgOrPkFVK7yHtvxez+t7qejSKvz6ap446IdvFJKqdxCNV7ufKBsdPvNeTWc+Hs49HIvFS7ZA89eCXe/BZo2jr4dyW7v/nzfPi8wT+VFO3illFJDs4LemvYl8/JPqQM/re4cOOlvsOQ9gOWl1T30YXj4I16HPSoGEh3eMaItulhOHrSDV0opNbJghZ9SVzW6/ULVcOhlsPZWmHOM99i+u+DuN8Gz3x591LxxId4K3Vu91fFmwGJtU0U7eKWUUvmxbChphNJFYIVGt2/lgXDsDXDE1d69ejcBL10Hd50KO28bfUdtHG99+55tmkM/BO3glVJKjU6gxLs3H55D3il14EXpzz/NT6v7OFhhP63uM3DfOdD+1Ojb4iY0h34I2sErpZQaPRGvgy9b4pWVHQ27BFZ+DNbdDvNO8x5r+7efVvd5ryDNaKVz6HdAsm/0+xch7eCVUkqNnR2CskUQaRxdSh14wXtHXg3H/hwqVgIGdtziTdtv+dnY6sg7fdC7Q3Po0Q5eKaVUIYSqvCC8QPno9607Bk78AxxymZ9W1wXPfA02ngHN946tPZpDrx28UkqpArECUDrfC6KzAqPfd+l74KS/wpJ3AxZ0vwQPfgge/qg39T4WyW4vEK9v79hmBGYw7eCVUkoVVrDcX9e+evT7hmrg0C/B2j9A7au9x/b9E+5+g1eLfqyBdIlOr2pdtGnWLJajHbxSSqnCEwsiDf669uHR71+5Ctb83Fv6NjLPG32/+COvWt2uP44x/914ufPdW73FclxnDMeYObSDV0opNXHsCJQuhnAdo0qpAz+t7o1eEZsV/+mn1TXBvy+G+94NHZvG2CjjLZbTsxVirUW7Kp528EoppSaWCIRroXypV5Z2tOwSOPBCL39+3qneY22PwT3vgCe/6HXSY2FciLV4I/oiXCxHO3illFKTwwpC6UIomTu6de1TShfCkdd4K+Kl0uq23wx3vR623DD2IDrjFOUiOdrBK6WUmlzBSn9d+4qx7V93rJdWt/qL3tr4yS545n9g41uh+V+FbOmMph28UkqpyWfZXoW60gXeyH7U+wdg2Xu9tLrF7wIEul+EBz8ID//n2NPqioh28EoppaZOoMxb7jZUM7b9Q7Vw2BXeiL72KO+xfXfA3W/00+p6C9fWGUY7eKWUUlNLLIjUjz2lDqDqIFjzSzj8KojMBTfupdVtOA12/WlWlpXVDl4ppdT0MJ6UOvCi9Re8yStis+L/eSVto/vg3/8F978HOp4peJOnM+3glVJKTR/jTakDb78DP+Gl1c19nfdY66Nwz9vhycvGnlY3w2gHr5RSavoZb0odQOkiOOr7cMz/QfkBeGl1v4ENp8LWnxf92vTawSullJq+xptSB1B/HKy9FVZ/3jteohM2fRXueRu03F+olk472sErpZSa3sabUgfefsveD+v+1p9W1/UCPPABeOTjRZlWpx28UkqpmWG8KXXg3d8/7Ao48fdQe6T32N6/wx1rvfvzTqwwbZ0GtINXSik1cxQipQ6g6mBY8ys4/NsQaQQ36lWpk1HWsZ/GiueVKKWUmj1SKXWJdq/0K2PIcxeBBW+GxpNh689g0Tu82wFFQjt4pZRSM5OIN10fKPfy3ce6al2gFA6+1IvYLyI6Ra+UUmpmK0RKXRHSEbxSSqniEKwEuwxizV4q3CynI3illFLFw7K9kXzpwrGn1BUJ7eCVUkoVn0Cpt0BOqJYxrWtfBLSDV0opVZxEIFLnp9RFpro1k047eKWUUsXNDnudfKTey6OfJWbPK1VKKTW7hWq8lfACZVPdkkmhHbxSSqnZwwp6a9qXzCv6lDpNk1NKKTX7BCvALoVYCyQ6pro1E0I7eKWUUrOTZUNJo9fZO31T3ZqC0w5eKaXU7BYo9b6KjN6DV0oppYqQdvBKKaVUEdIOXimllCpC2sErpZRSRUg7eKWUUqoIaQevlFJKFSHt4JVSSqkiNCUdvIicJiLPiciLInLpVLRBKaWUKmaT3sGLiA38AHgDcDBwjogcPNntUEoppYrZVIzgXw28aIzZYoyJAzcBZ0xBO5RSSqmiNRUd/AJgR8bvO/3HBhCR80XkERF5pLm5edIap5RSShWDqejgJcdjZtADxlxnjDnKGHNUfX39JDRLKaWUKh5T0cHvBBZl/L4Q2D0F7VBKKaWK1lR08A8DK0RkmYiEgLOB9VPQDqWUUqpoiTGDZscn/qQibwS+C9jAT40xXx1h+y7guUlo2mxWB7RMdSNmAb3OE0+v8cTTazzxDjTGVIznAFPSwY+WiDxijDlqqttRzPQaTw69zhNPr/HE02s88QpxjXUlO6WUUqoIaQevlFJKFaGZ0sFfN9UNmAX0Gk8Ovc4TT6/xxNNrPPHGfY1nxD14pZRSSo3OTBnBK6WUUmoUpnUHr1XnJo6IbBORp0TkcRF5xH+sVkT+ISIv+N9rprqdM4mI/FREmkTk6YzHhrymIvJZ/2/7ORE5dWpaPbMMcY0vF5Fd/t/y434abuo5vcajJCKLROQuEXlWRDaJyEX+4/q3XEDDXOeC/T1P2yl6v+rc88Dr8Fa/exg4xxjzzJQ2rEiIyDbgKGNMS8Zj3wBajTFf9z9Q1RhjLpmqNs40IrIW6AZ+bow5xH8s5zX1KyjeiFd8aT5wB7DSGONMUfNnhCGu8eVAtzHmW1nb6jUeAxGZB8wzxjwmIhXAo8BbgQ+gf8sFM8x1ficF+nueziN4rTo3+c4AbvB/vgHvj03lyRizEWjNenioa3oGcJMxJmaM2Qq8iPc3r4YxxDUeil7jMTDG7DHGPOb/3AU8i1cQTP+WC2iY6zyUUV/n6dzB51V1To2ZAf4uIo+KyPn+Y43GmD3g/fEBDVPWuuIx1DXVv+/C+piIPOlP4aemjvUaj5OILAUOBx5E/5YnTNZ1hgL9PU/nDj6vqnNqzI43xhwBvAH4T3/qU00e/fsunB8CrwBeBewBvu0/rtd4HESkHPgd8AljTOdwm+Z4TK9znnJc54L9PU/nDl6rzk0gY8xu/3sT8Ae8qZ59/n2h1P2hpqlrYdEY6prq33eBGGP2GWMcY4wL/Jj+aUu9xmMkIkG8TudXxpjf+w/r33KB5brOhfx7ns4dvFadmyAiUuYHdSAiZcDrgafxru+5/mbnArdNTQuLylDXdD1wtoiERWQZsAJ4aAraN+OlOh3f2/D+lkGv8ZiIiAA/AZ41xlyV8ZT+LRfQUNe5kH/PgcI2uXCMMUkR+RjwN/qrzm2a4mYVi0bgD97fFwHg18aYv4rIw8DNIvIhYDtw1hS2ccYRkRuBdUCdiOwEvgR8nRzX1BizSURuBp4BksB/atTxyIa4xutE5FV405XbgAtAr/E4HA+8D3hKRB73H/sc+rdcaENd53MK9fc8bdPklFJKKTV203mKXimllFJjpB28UkopVYS0g1dKKaWKkHbwSimlVBHSDl4ppZQqQtrBKzWDiMjSzEpqSik1FO3glZolRGTarnuRaaa0U6npTjt4pWYeW0R+7NeQ/ruIlIjIq0TkAb9AxR9SBSpEZIOI/I+I3A1cJCJnicjTIvKEiGz0t7FF5Jsi8rC//wX+4+tEZKN/vGdE5EciYvnPnSMiT/nHutJ/7J0icpX/80UissX/+RUicq//85Eicrdf5OhvGUufDmjn5F5OpYqTflJWauZZAZxjjPmwv7LVO4DPAB83xtwtIlfgrfD2CX/7amPMawBE5CngVGPMLhGp9p//ENBhjDlaRMLAv0Tk7/5zrwYOBl4G/gq8XUTuA64EjgTa8KoSvhXYCHza3+9EYL+ILABOAO7x193+HnCGMaZZRN4FfBX4YHY7lVLjpx28UjPPVmPM4/7Pj+JVnqo2xtztP3YD8NuM7X+T8fO/gJ/5HwxSRUReDxwmImf6v1fhfYiIAw8ZY1Ij8RvxOusEsMEY0+w//itgrTHmVhEp9+scLAJ+DazF6+x/DxwIHAL8w18m2carlpWrnUqpcdIOXqmZJ5bxswNUj7B9T+oHY8xHROQY4E3A4/6a14I3+v9b5k4iso7B5SgNuctWptwP/AfwHHAP3uh8DfBfwGJgkzFmzUjtVEqNn96DV2rm6wDaRORE//f3AXfn2lBEXmGMedAYcxnQgjfS/hvw//wpdERkpV9lEODVfkVHC3gXcC/wIPAaEakTERs4J+N8G4GL/e//Bk4CYsaYDrxOv15E1vjnCYrI6sJdBqVUJh3BK1UczgV+JCKlwBa8UXQu3xSRFXij8H8CTwBPAkuBx/wSls3AW/3t78erInYoXqf9B2OMKyKfBe7yj/MXY0yqdOg9eB8aNhpjHBHZAWwGMMbE/dsA14hIFd6/P98FtEqkUhNAq8kppXLyp+gvNsa8eYqbopQaA52iV0oppYqQjuCVUkqpIqQjeKWUUqoIaQevlFJKFSHt4JVSSqkipB28UkopVYS0g1dKKaWKkHbwSimlVBH6/7wuwqlScdeBAAAAAElFTkSuQmCC\n",
>>>>>>> 5f65b472f60d5cee575b77ef6ac1d9533849036b
      "text/plain": [
       "<Figure size 576x432 with 1 Axes>"
      ]
     },
     "metadata": {
      "needs_background": "light"
     },
     "output_type": "display_data"
    }
   ],
   "source": [
    "# Let's plot a simple linear regression line using just the horsepower column\n",
    "plt.figure(figsize=(8, 6))\n",
    "sns.regplot(x='horsepower', y='mpg', data=mpg_df, line_kws={\"color\":\"orange\"})\n",
    "plt.title('Relationship Between Horsepower and MPG')\n",
    "plt.xlim(0, 250)\n",
    "plt.show()"
   ]
  },
  {
   "cell_type": "markdown",
   "metadata": {},
   "source": [
    "The above graph shows an approximate best fit line for the relationship between `horsepower` and `mpg` in our data.\n"
   ]
  },
  {
   "cell_type": "markdown",
   "metadata": {},
   "source": [
    "### 1) Describe the below chart: What is it showing? What does it tell us?\n",
    "\n",
    "![Slope-RSS relationship image](images/slope-rss-relationship.png)"
   ]
  },
  {
   "cell_type": "code",
<<<<<<< HEAD
   "execution_count": 65,
=======
   "execution_count": 25,
>>>>>>> 5f65b472f60d5cee575b77ef6ac1d9533849036b
   "metadata": {},
   "outputs": [
    {
     "name": "stdout",
     "output_type": "stream",
     "text": [
      "['Musa']\n"
     ]
    }
   ],
   "source": [
    "call_on_students(1)"
   ]
  },
  {
   "cell_type": "markdown",
   "metadata": {},
   "source": [
    "#### Answer: \n",
    "\n",
    "- \n"
   ]
  },
  {
   "cell_type": "markdown",
   "metadata": {},
   "source": [
    "### 2) Imagine that you're starting at a slope towards the top upper left corner. Using Zoom's annotate feature, demonstrate how gradient descent would work "
   ]
  },
  {
   "cell_type": "code",
<<<<<<< HEAD
   "execution_count": 66,
=======
   "execution_count": 26,
>>>>>>> 5f65b472f60d5cee575b77ef6ac1d9533849036b
   "metadata": {},
   "outputs": [
    {
     "name": "stdout",
     "output_type": "stream",
     "text": [
      "['Jalil']\n"
     ]
    }
   ],
   "source": [
    "call_on_students(1)"
   ]
  },
  {
   "cell_type": "markdown",
   "metadata": {},
   "source": [
    "### 3) What is a step size when talking about gradient descent? How does learning rate regulate step size?"
   ]
  },
  {
   "cell_type": "code",
<<<<<<< HEAD
   "execution_count": 67,
=======
   "execution_count": 27,
>>>>>>> 5f65b472f60d5cee575b77ef6ac1d9533849036b
   "metadata": {},
   "outputs": [
    {
     "name": "stdout",
     "output_type": "stream",
     "text": [
      "['Trystan']\n"
     ]
    }
   ],
   "source": [
<<<<<<< HEAD
    "# call_on_students(1) hyperperam is alpha = learning rate \n",
    "#step size is learning rate * gradient "
=======
    "call_on_students(1)"
>>>>>>> 5f65b472f60d5cee575b77ef6ac1d9533849036b
   ]
  },
  {
   "cell_type": "markdown",
   "metadata": {},
   "source": [
    "#### Answer: \n",
    "\n",
    "- \n"
   ]
  },
  {
   "cell_type": "markdown",
   "metadata": {},
   "source": [
    "## Part 2: Logistic Regression"
   ]
  },
  {
   "cell_type": "markdown",
   "metadata": {},
   "source": [
    "### 4) Describe a logistic regression model:\n",
    "\n",
    "- What kind of target is a logistic regression model used for?\n",
    "- What are the predictions that a logistic regression model outputs?\n",
    "- How is it different from linear regression?\n",
    "- Is it a parametric or non-parametric model?"
   ]
  },
  {
   "cell_type": "code",
<<<<<<< HEAD
   "execution_count": 68,
=======
   "execution_count": 28,
>>>>>>> 5f65b472f60d5cee575b77ef6ac1d9533849036b
   "metadata": {},
   "outputs": [
    {
     "name": "stdout",
     "output_type": "stream",
     "text": [
      "['Jeff']\n"
     ]
    }
   ],
   "source": [
<<<<<<< HEAD
    "# call_on_students(1)\n",
    "#classification\n",
    "# returns probability of class given features\n",
    "#lin reg gives u a value of target vs just a probability\n",
    "#only non parametric are k nearest and decision trees"
=======
    "call_on_students(1)"
>>>>>>> 5f65b472f60d5cee575b77ef6ac1d9533849036b
   ]
  },
  {
   "cell_type": "markdown",
   "metadata": {},
   "source": [
    "#### Answer: \n",
    "\n",
    "- \n"
   ]
  },
  {
   "cell_type": "markdown",
   "metadata": {},
   "source": [
    "### 5) Compare a logistic regression model to any of the other model types we've learned:\n",
    "\n",
    "- List one benefit of logistic regression when compared to the other model type\n",
    "- List one reason the other model type might be more useful"
   ]
  },
  {
   "cell_type": "code",
<<<<<<< HEAD
   "execution_count": 69,
=======
   "execution_count": 30,
>>>>>>> 5f65b472f60d5cee575b77ef6ac1d9533849036b
   "metadata": {},
   "outputs": [
    {
     "name": "stdout",
     "output_type": "stream",
     "text": [
      "['Pedro']\n"
     ]
    }
   ],
   "source": [
    "call_on_students(1)"
   ]
  },
  {
   "cell_type": "markdown",
   "metadata": {},
   "source": [
    "#### Answer: \n",
    "\n",
    "- \n"
   ]
  },
  {
   "cell_type": "markdown",
   "metadata": {},
   "source": [
    "## Part 3: Logistic Regression and Classification Metrics with Code\n",
    "\n",
    "### Set Up"
   ]
  },
  {
   "cell_type": "code",
<<<<<<< HEAD
   "execution_count": 70,
=======
   "execution_count": 31,
>>>>>>> 5f65b472f60d5cee575b77ef6ac1d9533849036b
   "metadata": {},
   "outputs": [],
   "source": [
    "# Let's use the same data, but now with a classification target\n",
    "mpg_class = pd.read_csv('data/auto-mpg-classification.csv')"
   ]
  },
  {
   "cell_type": "code",
<<<<<<< HEAD
   "execution_count": 71,
=======
   "execution_count": 32,
>>>>>>> 5f65b472f60d5cee575b77ef6ac1d9533849036b
   "metadata": {},
   "outputs": [
    {
     "data": {
      "text/html": [
       "<div>\n",
       "<style scoped>\n",
       "    .dataframe tbody tr th:only-of-type {\n",
       "        vertical-align: middle;\n",
       "    }\n",
       "\n",
       "    .dataframe tbody tr th {\n",
       "        vertical-align: top;\n",
       "    }\n",
       "\n",
       "    .dataframe thead th {\n",
       "        text-align: right;\n",
       "    }\n",
       "</style>\n",
       "<table border=\"1\" class=\"dataframe\">\n",
       "  <thead>\n",
       "    <tr style=\"text-align: right;\">\n",
       "      <th></th>\n",
       "      <th>cylinders</th>\n",
       "      <th>displacement</th>\n",
       "      <th>horsepower</th>\n",
       "      <th>weight</th>\n",
       "      <th>acceleration</th>\n",
       "      <th>model year</th>\n",
       "      <th>origin</th>\n",
       "      <th>target</th>\n",
       "    </tr>\n",
       "  </thead>\n",
       "  <tbody>\n",
       "    <tr>\n",
       "      <th>0</th>\n",
       "      <td>8</td>\n",
       "      <td>307.0</td>\n",
       "      <td>130</td>\n",
       "      <td>3504</td>\n",
       "      <td>12.0</td>\n",
       "      <td>70</td>\n",
       "      <td>1</td>\n",
       "      <td>0</td>\n",
       "    </tr>\n",
       "    <tr>\n",
       "      <th>1</th>\n",
       "      <td>8</td>\n",
       "      <td>350.0</td>\n",
       "      <td>165</td>\n",
       "      <td>3693</td>\n",
       "      <td>11.5</td>\n",
       "      <td>70</td>\n",
       "      <td>1</td>\n",
       "      <td>1</td>\n",
       "    </tr>\n",
       "    <tr>\n",
       "      <th>2</th>\n",
       "      <td>8</td>\n",
       "      <td>318.0</td>\n",
       "      <td>150</td>\n",
       "      <td>3436</td>\n",
       "      <td>11.0</td>\n",
       "      <td>70</td>\n",
       "      <td>1</td>\n",
       "      <td>0</td>\n",
       "    </tr>\n",
       "    <tr>\n",
       "      <th>3</th>\n",
       "      <td>8</td>\n",
       "      <td>304.0</td>\n",
       "      <td>150</td>\n",
       "      <td>3433</td>\n",
       "      <td>12.0</td>\n",
       "      <td>70</td>\n",
       "      <td>1</td>\n",
       "      <td>1</td>\n",
       "    </tr>\n",
       "    <tr>\n",
       "      <th>4</th>\n",
       "      <td>8</td>\n",
       "      <td>302.0</td>\n",
       "      <td>140</td>\n",
       "      <td>3449</td>\n",
       "      <td>10.5</td>\n",
       "      <td>70</td>\n",
       "      <td>1</td>\n",
       "      <td>1</td>\n",
       "    </tr>\n",
       "  </tbody>\n",
       "</table>\n",
       "</div>"
      ],
      "text/plain": [
       "   cylinders  displacement  horsepower  weight  acceleration  model year  \\\n",
       "0          8         307.0         130    3504          12.0          70   \n",
       "1          8         350.0         165    3693          11.5          70   \n",
       "2          8         318.0         150    3436          11.0          70   \n",
       "3          8         304.0         150    3433          12.0          70   \n",
       "4          8         302.0         140    3449          10.5          70   \n",
       "\n",
       "   origin  target  \n",
       "0       1       0  \n",
       "1       1       1  \n",
       "2       1       0  \n",
       "3       1       1  \n",
       "4       1       1  "
      ]
     },
<<<<<<< HEAD
     "execution_count": 71,
=======
     "execution_count": 32,
>>>>>>> 5f65b472f60d5cee575b77ef6ac1d9533849036b
     "metadata": {},
     "output_type": "execute_result"
    }
   ],
   "source": [
    "# Check this new dataframe out\n",
    "mpg_class.head()"
   ]
  },
  {
   "cell_type": "markdown",
   "metadata": {},
   "source": [
    "### 6) Prepare our data for modeling:\n",
    "\n",
    "1. Perform a train/test split\n",
    "2. Scale the inputs\n"
   ]
  },
  {
   "cell_type": "code",
<<<<<<< HEAD
   "execution_count": 72,
=======
   "execution_count": 33,
>>>>>>> 5f65b472f60d5cee575b77ef6ac1d9533849036b
   "metadata": {},
   "outputs": [
    {
     "name": "stdout",
     "output_type": "stream",
     "text": [
      "['Danielle']\n"
     ]
    }
   ],
   "source": [
    "call_on_students(1)"
   ]
  },
  {
   "cell_type": "code",
<<<<<<< HEAD
   "execution_count": 73,
=======
   "execution_count": 36,
>>>>>>> 5f65b472f60d5cee575b77ef6ac1d9533849036b
   "metadata": {},
   "outputs": [],
   "source": [
    "# Train-test split\n",
    "# Set test_size=0.33 and random_state=42\n",
<<<<<<< HEAD
    "X= mpg_class.drop(columns=['target'])\n",
    "y=mpg_class['target']\n",
    "X_train, X_test, y_train, y_test = train_test_split(X, y, random_state=42)\n"
=======
    "\n",
    "X = mpg_class.drop(columns= ['target'])\n",
    "y = mpg_class['target']\n",
    "X_train, X_test, y_train, y_test = train_test_split(X, y, test_size=0.33, random_state=42)\n",
    "\n"
>>>>>>> 5f65b472f60d5cee575b77ef6ac1d9533849036b
   ]
  },
  {
   "cell_type": "code",
<<<<<<< HEAD
   "execution_count": 74,
=======
   "execution_count": 55,
>>>>>>> 5f65b472f60d5cee575b77ef6ac1d9533849036b
   "metadata": {},
   "outputs": [],
   "source": [
    "# Scale the data\n",
    "scale = StandardScaler()\n",
    "X_train_scaled = scale.fit_transform(X_train)\n",
    "X_test_scaled = scale.transform(X_test)"
   ]
  },
  {
   "cell_type": "markdown",
   "metadata": {},
   "source": [
    "### 7) Explore the `target` column and our model-less baseline\n",
    "\n",
    "1. What is the breakdown of the `target` column in our training data?\n",
    "2. What would a model-less baseline look like in this context?\n",
    "3. How accurate would that model-less understanding be on our test data?"
   ]
  },
  {
   "cell_type": "code",
<<<<<<< HEAD
   "execution_count": 75,
=======
   "execution_count": 56,
>>>>>>> 5f65b472f60d5cee575b77ef6ac1d9533849036b
   "metadata": {},
   "outputs": [
    {
     "name": "stdout",
     "output_type": "stream",
     "text": [
      "['Danielle']\n"
     ]
    }
   ],
   "source": [
<<<<<<< HEAD
    "# call_on_students(1)\n"
=======
    "call_on_students(1)"
>>>>>>> 5f65b472f60d5cee575b77ef6ac1d9533849036b
   ]
  },
  {
   "cell_type": "markdown",
   "metadata": {},
   "source": [
    "#### Part 1: explore the target column breakdown in train data"
   ]
  },
  {
   "cell_type": "code",
<<<<<<< HEAD
   "execution_count": 78,
=======
   "execution_count": 57,
   "metadata": {},
   "outputs": [
    {
     "data": {
      "text/plain": [
       "0    195\n",
       "1     67\n",
       "Name: target, dtype: int64"
      ]
     },
     "execution_count": 57,
     "metadata": {},
     "output_type": "execute_result"
    }
   ],
   "source": [
    "# Code to explore\n",
    "y_train.unique()\n",
    "y_train.value_counts()\n"
   ]
  },
  {
   "cell_type": "code",
   "execution_count": 58,
>>>>>>> 5f65b472f60d5cee575b77ef6ac1d9533849036b
   "metadata": {},
   "outputs": [
    {
     "data": {
      "text/plain": [
       "0    221\n",
       "1     73\n",
       "Name: target, dtype: int64"
      ]
     },
     "execution_count": 78,
     "metadata": {},
     "output_type": "execute_result"
    }
   ],
   "source": [
<<<<<<< HEAD
    "# Code to explore\n",
    "y_train.unique()\n",
    "y_train.value_counts()"
=======
    "from sklearn.dummy import DummyClassifier"
   ]
  },
  {
   "cell_type": "code",
   "execution_count": 59,
   "metadata": {},
   "outputs": [],
   "source": [
    "dummy_clf = DummyClassifier()"
   ]
  },
  {
   "cell_type": "code",
   "execution_count": 63,
   "metadata": {},
   "outputs": [
    {
     "data": {
      "text/plain": [
       "DummyClassifier()"
      ]
     },
     "execution_count": 63,
     "metadata": {},
     "output_type": "execute_result"
    }
   ],
   "source": [
    "dummy_clf.fit(X_train_scaled, y_train)"
>>>>>>> 5f65b472f60d5cee575b77ef6ac1d9533849036b
   ]
  },
  {
   "cell_type": "markdown",
   "metadata": {},
   "source": [
    "#### Answer:\n",
    "\n",
    "- \n"
   ]
  },
  {
   "cell_type": "markdown",
   "metadata": {},
   "source": [
    "#### Part 2: What would a model-less baseline look like in this context?\n",
    "\n",
    "#### Answer:\n",
    "\n",
    "- \n"
   ]
  },
  {
   "cell_type": "code",
   "execution_count": 79,
   "metadata": {},
   "outputs": [
    {
     "name": "stderr",
     "output_type": "stream",
     "text": [
      "c:\\Users\\Archi\\anaconda3\\envs\\learn-env\\lib\\site-packages\\sklearn\\dummy.py:131: FutureWarning: The default value of strategy will change from stratified to prior in 0.24.\n",
      "  warnings.warn(\"The default value of strategy will change from \"\n"
     ]
    },
    {
     "data": {
      "text/plain": [
       "DummyClassifier()"
      ]
     },
     "execution_count": 79,
     "metadata": {},
     "output_type": "execute_result"
    }
   ],
   "source": [
    "from sklearn.dummy import DummyClassifier\n",
    "dummy_clf = DummyClassifier()\n",
    "dummy_clf.fit(X_train_scaled, y_train)\n"
   ]
  },
  {
   "cell_type": "markdown",
   "metadata": {},
   "source": [
    "#### Part 3: How accurate would that baseline be on test data?\n"
   ]
  },
  {
   "cell_type": "code",
<<<<<<< HEAD
   "execution_count": 80,
=======
   "execution_count": 61,
>>>>>>> 5f65b472f60d5cee575b77ef6ac1d9533849036b
   "metadata": {
    "scrolled": true
   },
   "outputs": [
    {
     "data": {
<<<<<<< HEAD
      "text/plain": [
       "array([0, 1, 1, 0, 1, 0, 0, 0, 1, 0, 0, 0, 0, 0, 0, 0, 1, 0, 0, 0, 0, 0,\n",
       "       0, 0, 0, 0, 1, 0, 0, 0, 0, 0, 0, 0, 1, 1, 0, 0, 0, 0, 1, 1, 1, 0,\n",
       "       0, 1, 0, 1, 0, 1, 0, 0, 0, 1, 0, 0, 0, 0, 0, 0, 0, 0, 1, 0, 0, 0,\n",
       "       0, 0, 0, 0, 0, 0, 0, 0, 0, 0, 0, 0, 0, 0, 0, 0, 0, 0, 0, 1, 0, 1,\n",
       "       0, 0, 0, 1, 0, 0, 0, 0, 0, 0], dtype=int64)"
      ]
     },
     "execution_count": 80,
=======
      "text/html": [
       "<div>\n",
       "<style scoped>\n",
       "    .dataframe tbody tr th:only-of-type {\n",
       "        vertical-align: middle;\n",
       "    }\n",
       "\n",
       "    .dataframe tbody tr th {\n",
       "        vertical-align: top;\n",
       "    }\n",
       "\n",
       "    .dataframe thead th {\n",
       "        text-align: right;\n",
       "    }\n",
       "</style>\n",
       "<table border=\"1\" class=\"dataframe\">\n",
       "  <thead>\n",
       "    <tr style=\"text-align: right;\">\n",
       "      <th></th>\n",
       "      <th>cylinders</th>\n",
       "      <th>displacement</th>\n",
       "      <th>horsepower</th>\n",
       "      <th>weight</th>\n",
       "      <th>acceleration</th>\n",
       "      <th>model year</th>\n",
       "      <th>origin</th>\n",
       "    </tr>\n",
       "  </thead>\n",
       "  <tbody>\n",
       "    <tr>\n",
       "      <th>78</th>\n",
       "      <td>4</td>\n",
       "      <td>96.0</td>\n",
       "      <td>69</td>\n",
       "      <td>2189</td>\n",
       "      <td>18.0</td>\n",
       "      <td>72</td>\n",
       "      <td>2</td>\n",
       "    </tr>\n",
       "    <tr>\n",
       "      <th>274</th>\n",
       "      <td>4</td>\n",
       "      <td>121.0</td>\n",
       "      <td>115</td>\n",
       "      <td>2795</td>\n",
       "      <td>15.7</td>\n",
       "      <td>78</td>\n",
       "      <td>2</td>\n",
       "    </tr>\n",
       "    <tr>\n",
       "      <th>246</th>\n",
       "      <td>4</td>\n",
       "      <td>91.0</td>\n",
       "      <td>60</td>\n",
       "      <td>1800</td>\n",
       "      <td>16.4</td>\n",
       "      <td>78</td>\n",
       "      <td>3</td>\n",
       "    </tr>\n",
       "    <tr>\n",
       "      <th>55</th>\n",
       "      <td>4</td>\n",
       "      <td>91.0</td>\n",
       "      <td>70</td>\n",
       "      <td>1955</td>\n",
       "      <td>20.5</td>\n",
       "      <td>71</td>\n",
       "      <td>1</td>\n",
       "    </tr>\n",
       "    <tr>\n",
       "      <th>387</th>\n",
       "      <td>4</td>\n",
       "      <td>140.0</td>\n",
       "      <td>86</td>\n",
       "      <td>2790</td>\n",
       "      <td>15.6</td>\n",
       "      <td>82</td>\n",
       "      <td>1</td>\n",
       "    </tr>\n",
       "    <tr>\n",
       "      <th>...</th>\n",
       "      <td>...</td>\n",
       "      <td>...</td>\n",
       "      <td>...</td>\n",
       "      <td>...</td>\n",
       "      <td>...</td>\n",
       "      <td>...</td>\n",
       "      <td>...</td>\n",
       "    </tr>\n",
       "    <tr>\n",
       "      <th>232</th>\n",
       "      <td>4</td>\n",
       "      <td>151.0</td>\n",
       "      <td>88</td>\n",
       "      <td>2740</td>\n",
       "      <td>16.0</td>\n",
       "      <td>77</td>\n",
       "      <td>1</td>\n",
       "    </tr>\n",
       "    <tr>\n",
       "      <th>193</th>\n",
       "      <td>4</td>\n",
       "      <td>85.0</td>\n",
       "      <td>52</td>\n",
       "      <td>2035</td>\n",
       "      <td>22.2</td>\n",
       "      <td>76</td>\n",
       "      <td>1</td>\n",
       "    </tr>\n",
       "    <tr>\n",
       "      <th>238</th>\n",
       "      <td>4</td>\n",
       "      <td>97.0</td>\n",
       "      <td>78</td>\n",
       "      <td>2190</td>\n",
       "      <td>14.1</td>\n",
       "      <td>77</td>\n",
       "      <td>2</td>\n",
       "    </tr>\n",
       "    <tr>\n",
       "      <th>152</th>\n",
       "      <td>6</td>\n",
       "      <td>250.0</td>\n",
       "      <td>72</td>\n",
       "      <td>3432</td>\n",
       "      <td>21.0</td>\n",
       "      <td>75</td>\n",
       "      <td>1</td>\n",
       "    </tr>\n",
       "    <tr>\n",
       "      <th>346</th>\n",
       "      <td>4</td>\n",
       "      <td>105.0</td>\n",
       "      <td>63</td>\n",
       "      <td>2215</td>\n",
       "      <td>14.9</td>\n",
       "      <td>81</td>\n",
       "      <td>1</td>\n",
       "    </tr>\n",
       "  </tbody>\n",
       "</table>\n",
       "<p>130 rows × 7 columns</p>\n",
       "</div>"
      ],
      "text/plain": [
       "     cylinders  displacement  horsepower  weight  acceleration  model year  \\\n",
       "78           4          96.0          69    2189          18.0          72   \n",
       "274          4         121.0         115    2795          15.7          78   \n",
       "246          4          91.0          60    1800          16.4          78   \n",
       "55           4          91.0          70    1955          20.5          71   \n",
       "387          4         140.0          86    2790          15.6          82   \n",
       "..         ...           ...         ...     ...           ...         ...   \n",
       "232          4         151.0          88    2740          16.0          77   \n",
       "193          4          85.0          52    2035          22.2          76   \n",
       "238          4          97.0          78    2190          14.1          77   \n",
       "152          6         250.0          72    3432          21.0          75   \n",
       "346          4         105.0          63    2215          14.9          81   \n",
       "\n",
       "     origin  \n",
       "78        2  \n",
       "274       2  \n",
       "246       3  \n",
       "55        1  \n",
       "387       1  \n",
       "..      ...  \n",
       "232       1  \n",
       "193       1  \n",
       "238       2  \n",
       "152       1  \n",
       "346       1  \n",
       "\n",
       "[130 rows x 7 columns]"
      ]
     },
     "execution_count": 61,
>>>>>>> 5f65b472f60d5cee575b77ef6ac1d9533849036b
     "metadata": {},
     "output_type": "execute_result"
    }
   ],
   "source": [
<<<<<<< HEAD
=======
    "X_test"
   ]
  },
  {
   "cell_type": "code",
   "execution_count": 64,
   "metadata": {},
   "outputs": [
    {
     "data": {
      "text/plain": [
       "array([0, 0, 0, 0, 0, 0, 0, 0, 0, 0, 0, 0, 0, 0, 0, 0, 0, 0, 0, 0, 0, 0,\n",
       "       0, 0, 0, 0, 0, 0, 0, 0, 0, 0, 0, 0, 0, 0, 0, 0, 0, 0, 0, 0, 0, 0,\n",
       "       0, 0, 0, 0, 0, 0, 0, 0, 0, 0, 0, 0, 0, 0, 0, 0, 0, 0, 0, 0, 0, 0,\n",
       "       0, 0, 0, 0, 0, 0, 0, 0, 0, 0, 0, 0, 0, 0, 0, 0, 0, 0, 0, 0, 0, 0,\n",
       "       0, 0, 0, 0, 0, 0, 0, 0, 0, 0, 0, 0, 0, 0, 0, 0, 0, 0, 0, 0, 0, 0,\n",
       "       0, 0, 0, 0, 0, 0, 0, 0, 0, 0, 0, 0, 0, 0, 0, 0, 0, 0, 0, 0],\n",
       "      dtype=int64)"
      ]
     },
     "execution_count": 64,
     "metadata": {},
     "output_type": "execute_result"
    }
   ],
   "source": [
>>>>>>> 5f65b472f60d5cee575b77ef6ac1d9533849036b
    "# Code to find the answer\n",
    "dummy_clf.predict(X_test_scaled)"
   ]
  },
  {
   "cell_type": "markdown",
   "metadata": {},
   "source": [
    "#### Answer:\n",
    "\n",
    "- \n"
   ]
  },
  {
   "cell_type": "markdown",
   "metadata": {},
   "source": [
    "### 8) What is one problem you could foresee based on this breakdown, and what is one strategy you could employ to address that problem?"
   ]
  },
  {
   "cell_type": "code",
   "execution_count": 81,
   "metadata": {},
   "outputs": [],
   "source": [
<<<<<<< HEAD
    "# call_on_students(1)  Use the features!"
=======
    "call_on_students(1)"
>>>>>>> 5f65b472f60d5cee575b77ef6ac1d9533849036b
   ]
  },
  {
   "cell_type": "markdown",
   "metadata": {},
   "source": [
    "#### Answer:\n",
    "\n",
    "- \n"
   ]
  },
  {
   "cell_type": "markdown",
   "metadata": {},
   "source": [
    "### 9) Fit a logistic regression model, and plot a confusion matrix of the results on our test set"
   ]
  },
  {
   "cell_type": "code",
<<<<<<< HEAD
   "execution_count": 82,
=======
   "execution_count": 65,
>>>>>>> 5f65b472f60d5cee575b77ef6ac1d9533849036b
   "metadata": {},
   "outputs": [
    {
     "name": "stdout",
     "output_type": "stream",
     "text": [
      "['Trystan']\n"
     ]
    }
   ],
   "source": [
    "call_on_students(1)"
   ]
  },
  {
   "cell_type": "code",
<<<<<<< HEAD
   "execution_count": 93,
=======
   "execution_count": 76,
>>>>>>> 5f65b472f60d5cee575b77ef6ac1d9533849036b
   "metadata": {},
   "outputs": [],
   "source": [
    "# Fit a logistic regression model\n",
    "# Name the model `logreg` and set random_state = 42\n",
    "logreg = LogisticRegression(random_state = 42)\n",
    "logreg.fit(X_train_scaled, y_train)\n",
    "y_pred = logreg.predict(X_test_scaled)"
   ]
  },
  {
   "cell_type": "code",
<<<<<<< HEAD
   "execution_count": 104,
=======
   "execution_count": 67,
>>>>>>> 5f65b472f60d5cee575b77ef6ac1d9533849036b
   "metadata": {},
   "outputs": [
    {
     "data": {
<<<<<<< HEAD
      "image/png": "iVBORw0KGgoAAAANSUhEUgAAATIAAAEHCAYAAAAtccrbAAAAOXRFWHRTb2Z0d2FyZQBNYXRwbG90bGliIHZlcnNpb24zLjMuMSwgaHR0cHM6Ly9tYXRwbG90bGliLm9yZy/d3fzzAAAACXBIWXMAAAsTAAALEwEAmpwYAAAXAklEQVR4nO3de7xVZZ3H8c8XEBVFBbl0EhUsvKVhRl6yMdRMoBJr1NFRY8pealk601hRM2NOvaYXTWVXdSR1pEzzkgZeAg0jrfEGigoaYYaIoghIKl7Ac37zx1oHt3jYey3Y++y19vm+fa3XXuvZaz/rB774vZ7nWc96liICM7My69XsAMzMNpcTmZmVnhOZmZWeE5mZlZ4TmZmVnhOZmZVen2YHUGnQwN4xfOctmh2G5fDnh/o1OwTL4VXWsDZe0+bUcdRh28TKVe2Zzp370GszI2JsV99J2gO4uqJoN+Bc4Gdp+XBgMXB8RDxf7Toq0jyy0aO2intn7tzsMCyHo96+X7NDsBzuiVm8EKs2K5El/053yXRu77ZFcyNidK3zJPUGngIOBM4EVkXEZEmTgAER8ZVqv3fX0sxyCaAj4385HAH8JSKeACYAU9PyqcAxtX5cqK6lmRVfEKyLbF1LYJCkORXHUyJiShfnnQBcle4PjYhlABGxTNKQWhdxIjOz3HK0tlbU6lpK6gscDXx1U+NxIjOzXIKgvb5j6+OA+yPi2fT4WUltaWusDVheqwKPkZlZbh1Epi2jE3mjWwkwHZiY7k8EptWqwC0yM8slgPbsSaoqSf2AI4HTK4onA9dIOhVYAhxXqx4nMjPLLUdrq6qIeBnYcYOylSR3MTNzIjOzXAJYV6D5p+BEZmY5BVG3rmW9OJGZWT4B7cXKY05kZpZPMrO/WJzIzCwn0c5mPa5Zd05kZpZLMtjvRGZmJZbMI3MiM7OS63CLzMzKzC0yMyu9QLQX7DFtJzIzy81dSzMrtUCsjd7NDuNNnMjMLJdkQqy7lmZWch7sN7NSixDt4RaZmZVch1tkZlZmyWB/sVJHsaIxs8LzYL+ZtYR2zyMzszLzzH4zawkdvmtpZmWWPDTuRGZmJRaIdXV6REnSDsAlwD4kOfLTwELgamA4sBg4PiKer1ZPsdKqmRVeBLRHr0xbBj8EZkTEnsAo4FFgEjArIkYCs9LjqpzIzCwn0ZFxq1qLtB1wKHApQESsjYjVwARganraVOCYWhG5a2lmuQTU6xGl3YDngP+VNAqYC5wNDI2IZQARsUzSkFoVuUVmZrm10yvTBgySNKdiO62imj7A/sBFEfEeYA0ZupFdcYvMzHIJlGdhxRURMXoj3y0FlkbEPenxdSSJ7FlJbWlrrA1YXusibpGZWS7J6+D6ZNqq1hPxDPCkpD3SoiOAR4DpwMS0bCIwrVZMbpGZWU51fUHvF4BfSOoLPA58iqSBdY2kU4ElwHG1KnEiM7NcgvrN7I+IeUBXXc8j8tTjRGZmuXmFWDMrtQj5WUszK7dksN9vUTKzUvOa/WZWcslgv8fIzKzkvIyPmZVazpn93cKJzMxy88tHzKzUImBdhxOZmZVY0rV0ImtZTz62Jd86Y/j642eW9OWULz3DoLet5effextPLtqKH93yZ3Yf9UrzgrSqvnj+Eg780IusXtGH0w/fo/YPeqiizexvaFqVNFbSQkmPSdqkdYbKZOd3vsZFv13IRb9dyE9mLmTLrTs4ZNxqhu/5Kudesph9D1rT7BCthluvHsi/nTSi2WEUWuf0iyxbd2lYi0xSb+AC4EiSdYfukzQ9Ih5p1DWLZN6d/Wnb9TWGDlvX7FAsh/n3bMvQYWubHUbBFa9r2choDgAei4jHI2It8EuStbh7hNnTdmDMMaubHYZZQ9Rjzf56amQi2wl4suJ4aVrW8tatFXffuj2Hfmx1s0Mxq7vkrmXvTFt3aeRgf1fpON5yUrKG92kAu+zUGvce7ru9P+/c92UGDH692aGY1V0RJ8Q2skW2FNi54ngY8PSGJ0XElIgYHRGjB+9YrCfqN9XsXw9wt9JaWk/qWt4HjJQ0Il3G9gSStbhb2qsvi/vv7M8Hxq9eX/bH32zPSe/dm0fn9uM/TtmNr524W/MCtKomXfgE379xEcPe8SpXzHmEo05c2eyQCqdH3bWMiNclfR6YCfQGLouIBY26XlFs1S+4bsH8N5UdMu5vHDLub02KyPKY/Lldmx1CKRTtrmVDB6Ui4hbglkZew8y6V4R4vSclMjNrTUUb7HciM7NcvLCimbWEeiUySYuBF4F24PWIGC1pIHA1MBxYDBwfEc9Xq6dYHV0zK7zOeWR1vGt5WETsFxGd77ecBMyKiJHArPS4KicyM8utwfPIJgBT0/2pwDG1fuCupZnlEgGv129hxQBulRTAxRExBRgaEcuSa8UySUNqVeJEZma55eg2DpI0p+J4SpqsOh0SEU+nyeo2SX/alHicyMwsl5zPWq6oGPt6a10RT6efyyXdQLJqzrOS2tLWWBuwvNZFPEZmZrlFKNNWjaRtJPXv3Ac+DMwneZRxYnraRGBarXjcIjOz3Or0QPhQ4AZJkOSiKyNihqT7gGsknQosAY6rVZETmZnlElGfeWQR8TgwqovylcAReepyIjOznES7XwdnZmVXa/yruzmRmVkuftbSzMovknGyInEiM7PcunMZ6yycyMwsl/Bgv5m1Anctzaz0fNfSzEotwonMzFqAp1+YWel5jMzMSi0QHb5raWZlV7AGmROZmeXkwX4zawkFa5I5kZlZbqVpkUn6MVXybkSc1ZCIzKzQAujoKEkiA+ZU+c7MeqoAytIii4iplceStomINY0PycyKrmjzyGpOBpF0sKRHgEfT41GSLmx4ZGZWXJFx6yZZZrX9ADgKWAkQEQ8ChzYwJjMrtGyvguvOGwKZ7lpGxJPpK5s6tTcmHDMrhbJ1LYEnJb0fCEl9JZ1D2s00sx4oIDqUactCUm9JD0i6KT0eKOk2SYvSzwG16siSyM4AzgR2Ap4C9kuPzazHUsYtk7N5c+NoEjArIkYCs9LjqmomsohYEREnRcTQiBgcESenL9A0s56qToP9koYBHwEuqSieAHTOmpgKHFOrnix3LXeTdKOk5yQtlzRN0m61QzSzllW/u5Y/AL4MdFSUDY2IZQDp55BalWTpWl4JXAO0AW8HrgWuyhSimbWezgmxWTYYJGlOxXZaZzWSPgosj4i5mxtSlruWioifVxxfIenzm3thMyuvHBNiV0TE6I18dwhwtKTxwFbAdpKuAJ6V1BYRyyS1ActrXWSjLbL0zsFA4HeSJkkaLmlXSV8Gbs78xzCz1tOhbFsVEfHViBgWEcOBE4DbI+JkYDowMT1tIjCtVjjVWmRzSRqRndGcXhkD8M1alZtZa1Jj55FNBq6RdCqwBDiu1g+qPWs5oo6BmVmraMDjRxExG5id7q8Ejsjz+0wz+yXtA+xN0o/tvPDP8lzIzFrF+oH8wqiZyCR9HRhDkshuAcYBfwCcyMx6qhI+onQsSTPvmYj4FDAK2LKhUZlZsXVk3LpJlq7lKxHRIel1SduR3Ar1hFiznqpMCytWmCNpB+CnJHcyXwLubWRQZlZsDb5rmVvNRBYRn0t3/0fSDGC7iHiosWGZWaGVJZFJ2r/adxFxf2NCMjPLp1qL7HtVvgvg8DrHwqIF2zJ+Ty8+WyarT3lXs0OwHNpvvrsu9ZSmaxkRh3VnIGZWEkHNx4+6m1/Qa2b5laVFZma2MaXpWpqZbVTBElmWFWIl6WRJ56bHu0g6oPGhmVlhlfC9lhcCBwMnpscvAhc0LCIzKzRF9q27ZOlaHhgR+0t6ACAinpfUt8FxmVmRlfCu5TpJvUkbipIG062Pg5pZ0RRtsD9L1/JHwA3AEEn/RbKEz7caGpWZFVvBxsiyPGv5C0lzSZbyEXBMRPhN42Y9VTePf2WRZWHFXYCXgRsryyJiSSMDM7MCK1siI3ljUudLSLYCRgALAT9kZ9ZDqWCj5Fm6lvtWHqerYpy+kdPNzLpd7pn9EXG/pPc1IhgzK4mydS0lfbHisBewP/BcwyIys2Kr02C/pK2AO0jeAdIHuC4ivp6+GPxqYDiwGDg+Ip6vVleW6Rf9K7YtScbMJmxq8GbWAuoz/eI14PCIGAXsB4yVdBAwCZgVESOBWelxVVVbZOlE2G0j4ks1QzKznqMOLbKICJJ3gABskW5B0lAak5ZPJXlx71eq1bXRFpmkPhHRTtKVNDMDkukL6si21axL6i1pHsnb2W6LiHuAoRGxDCD9HFKrnmotsntJktg8SdOBa4E1nV9GxPW1wzSzlpNvjGyQpDkVx1MiYsr6qpLG0n7pm9pukLTPpoSU5a7lQGAlyRr9nfPJAnAiM+upsieyFRExumZ1EaslzQbGAs9KaouIZZLaSFprVVVLZEPSO5bzeSOBrb9urYrNrIXV567lYGBdmsS2Bj4EfBuYDkwEJqef02rVVS2R9Qa25c0JrJMTmVkPVqdnLduAqelNxV7ANRFxk6S7gGsknQosAY6rVVG1RLYsIr5Rl3DNrLXU567lQ8B7uihfSbJIRWbVElmxVk4zs2KIcj1rmSsjmlkPUrDBpWov6F3VnYGYWXmUbj0yM7O3cCIzs1Lr5mWss3AiM7NchLuWZtYCnMjMrPycyMys9JzIzKzUyvg6ODOzt3AiM7OyK9MjSmZmXXLX0szKzRNizawlOJGZWZl5Zr+ZtQR1FCuTOZGZWT4eIzOzVuCupZmVnxOZmZWdW2RmVn5OZGZWagV8i1KvZgdgZuXSOY8sy1a1HmlnSb+T9KikBZLOTssHSrpN0qL0c0CtmJzIzCy/iGxbda8D/xoRewEHAWdK2huYBMyKiJHArPS4KicyM8utHi2yiFgWEfen+y8CjwI7AROAqelpU4FjasXjMbIG69Ur+OF1D7By+Zacd8a7mh2ObWDI9i9x3j/czsD+LxMhfn3PXlz9x3fzhfF38YG9nmBdey+eWrkd37z2MF56dctmh1sM+SbEDpI0p+J4SkRM2fAkScOB9wD3AEMjYhkkyU7SkFoXaVgik3QZ8FFgeUTs06jrFN2ETz7Fk4/3o9+27c0OxbrQ3iF+eNPBLHx6MP36rmXqWb/i3kXDuHfRMC6ccSDtHb04c9zdTDzsAS74zUHNDrcwcgz2r4iI0VXrkrYFfgX8c0S8ICl3PI3sWl4OjG1g/YW349DXeN8HVzHz2rc1OxTbiJUvbsPCpwcD8PLavixePoDB26/hnkU7096R/POYv2QoQ7Z/qZlhFo46sm0165G2IEliv4iI69PiZyW1pd+3Actr1dOwRBYRdwCrGlV/GZz+tb9w2XdHULDna20j2ga8wO47rWDBkqFvKv/Y6D9x18JdmhRVAQV1GexX0vS6FHg0Is6v+Go6MDHdnwhMqxVS0wf7JZ0maY6kOWs7Xm12OHVzwJiVrF7Zl8cW9G92KJbB1n3XMfnkW/n+9Pez5rW+68v/6bC5tHeIGQ+MbGJ0xVOPwX7gEOAU4HBJ89JtPDAZOFLSIuDI9Liqpg/2pwN/UwC27zOoZdoue+//AgcdvpL3fXAVW/TtoN+27Zzz33/iu1/es9mh2QZ692pn8ikzmTFvJLMX7La+fPz+C/nAXks486cfJZk9ZevV4V9qRPyBjf/FHpGnrqYnslZ1+fkjuPz8EQDse8Bq/v7TTzmJFVLw78f+nsXLB3DVnaPWlx60+xI+OWYeZ1x8NK+t26KJ8RWPF1Y0K5hRw59h/Hv/zKJlA/n52dcCcNGMA/ji0X+kb592fvyZm4BkwP/bNxzazFCLI6LnLKwo6SpgDMk8kqXA1yPi0kZdr8gevncHHr53h2aHYV14cHEbB37ljLeU/993dm1CNCVSrDzWuEQWESc2qm4zay53Lc2s3AKKNqfIiczM8itWHnMiM7P83LU0s9LrMXctzaxF+XVwZlZ2yYTYYmUyJzIzy69ga/Y7kZlZbm6RmVm5eYzMzMqvBz1raWYtzF1LMyu1Ar6g14nMzPJzi8zMSq9YecyJzMzyU0ex+pZOZGaWT+AJsWZWbiI8IdbMWkDBElnT32tpZiVUhxf0Aki6TNJySfMrygZKuk3SovRzQK16nMjMLJ/OMbIsW22XA2M3KJsEzIqIkcCs9LgqJzIzy00dHZm2WiLiDmDVBsUTgKnp/lTgmFr1eIzMzHLK1m1MDZI0p+J4SkRMqfGboRGxDCAilkkaUusiTmRmlk+QJ5GtiIjRDYwGcNfSzDZF/cbIuvKspDaA9HN5rR84kZlZborItG2i6cDEdH8iMK3WD5zIzCy/+k2/uAq4C9hD0lJJpwKTgSMlLQKOTI+r8hiZmeUTAe31eUYpIk7cyFdH5KnHiczM8ivYzH4nMjPLz4nMzEotAK/Zb2blFhDFWsfHiczM8gnqNthfL05kZpafx8jMrPScyMys3HI9NN4tnMjMLJ8A/PIRMys9t8jMrNzq94hSvTiRmVk+AeF5ZGZWep7Zb2al5zEyMyu1CN+1NLMW4BaZmZVbEO3tzQ7iTZzIzCwfL+NjZi3B0y/MrMwCCLfIzKzUwgsrmlkLKNpgv6JAt1ElPQc80ew4GmAQsKLZQVgurfr/bNeIGLw5FUiaQfL3k8WKiBi7OdfLolCJrFVJmhMRo5sdh2Xn/2fl4jeNm1npOZGZWek5kXWPKc0OwHLz/7MS8RiZmZWeW2RmVnpOZGZWek5kDSRprKSFkh6TNKnZ8Vhtki6TtFzS/GbHYtk5kTWIpN7ABcA4YG/gREl7Nzcqy+ByoOETOK2+nMga5wDgsYh4PCLWAr8EJjQ5JqshIu4AVjU7DsvHiaxxdgKerDhempaZWZ05kTWOuijzXBezBnAia5ylwM4Vx8OAp5sUi1lLcyJrnPuAkZJGSOoLnABMb3JMZi3JiaxBIuJ14PPATOBR4JqIWNDcqKwWSVcBdwF7SFoq6dRmx2S1+RElMys9t8jMrPScyMys9JzIzKz0nMjMrPScyMys9JzISkRSu6R5kuZLulZSv82o63JJx6b7l1R7oF3SGEnv34RrLJb0lrftbKx8g3Neynmt8ySdkzdGaw1OZOXySkTsFxH7AGuBMyq/TFfcyC0iPhMRj1Q5ZQyQO5GZdRcnsvK6E3hn2lr6naQrgYcl9Zb0HUn3SXpI0ukASvxE0iOSbgaGdFYkabak0en+WEn3S3pQ0ixJw0kS5r+krcG/kzRY0q/Sa9wn6ZD0tztKulXSA5IupuvnTd9E0q8lzZW0QNJpG3z3vTSWWZIGp2XvkDQj/c2dkvasy9+mlVtEeCvJBryUfvYBpgGfJWktrQFGpN+dBvx7ur8lMAcYAXwCuA3oDbwdWA0cm543GxgNDCZZsaOzroHp53nAORVxXAl8IN3fBXg03f8RcG66/xGSh+QHdfHnWNxZXnGNrYH5wI7pcQAnpfvnAj9J92cBI9P9A4Hbu4rRW8/a+mxa+rMm2VrSvHT/TuBSki7fvRHx17T8w8C7O8e/gO2BkcChwFUR0Q48Len2Luo/CLijs66I2Ni6XB8C9pbWN7i2k9Q/vcYn0t/eLOn5DH+msyR9PN3fOY11JdABXJ2WXwFcL2nb9M97bcW1t8xwDWtxTmTl8kpE7FdZkP6DXlNZBHwhImZucN54ai8jpAznQDIkcXBEvNJFLJmfeZM0hiQpHhwRL0uaDWy1kdMjve7qDf8OzDxG1npmAp+VtAWApN0lbQPcAZyQjqG1AYd18du7gA9KGpH+dmBa/iLQv+K8W0keiCc9b7909w7gpLRsHDCgRqzbA8+nSWxPkhZhp15AZ6vyH4E/RMQLwF8lHZdeQ5JG1biG9QBOZK3nEuAR4P70BRoXk7S8bwAWAQ8DFwG/3/CHEfEcyRjb9ZIe5I2u3Y3AxzsH+4GzgNHpzYRHeOPu6X8Ch0q6n6SLu6RGrDOAPpIeAr4J3F3x3RrgXZLmAocD30jLTwJOTeNbgJcPN7z6hZm1ALfIzKz0nMjMrPScyMys9JzIzKz0nMjMrPScyMys9JzIzKz0/h/KfP5lZi87vQAAAABJRU5ErkJggg==",
=======
      "image/png": "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\n",
>>>>>>> 5f65b472f60d5cee575b77ef6ac1d9533849036b
      "text/plain": [
       "<Figure size 432x288 with 2 Axes>"
      ]
     },
     "metadata": {
      "needs_background": "light"
     },
     "output_type": "display_data"
    }
   ],
   "source": [
    "# Plot a confusion matrix on the test data\n",
    "plot_confusion_matrix(logreg, X_test_scaled, y_test)\n",
    "plt.show()"
   ]
  },
  {
   "cell_type": "markdown",
   "metadata": {},
   "source": [
    "### 10) Calculate the accuracy, precision, recall and f1-score for the test set\n",
    "\n",
    "You can use the confusion matrix above, or sklearn functions"
   ]
  },
  {
   "cell_type": "code",
<<<<<<< HEAD
   "execution_count": 95,
=======
   "execution_count": 88,
   "metadata": {},
   "outputs": [
    {
     "name": "stdout",
     "output_type": "stream",
     "text": [
      "['Musa']\n"
     ]
    }
   ],
   "source": [
    "call_on_students(1)"
   ]
  },
  {
   "cell_type": "code",
   "execution_count": 86,
>>>>>>> 5f65b472f60d5cee575b77ef6ac1d9533849036b
   "metadata": {},
   "outputs": [],
   "source": [
    "# Accuracy\n",
    "from sklearn.metrics import precision_score, recall_score, accuracy_score, f1_score"
   ]
  },
  {
   "cell_type": "code",
   "execution_count": 83,
   "metadata": {},
   "outputs": [
    {
     "name": "stdout",
     "output_type": "stream",
     "text": [
      "Test Accuracy 0.9230769230769231\n"
     ]
    }
   ],
   "source": [
    "print(\"Test Accuracy\", accuracy_score(y_test, y_pred))"
   ]
  },
  {
   "cell_type": "code",
   "execution_count": 89,
   "metadata": {},
   "outputs": [
    {
     "data": {
      "text/plain": [
       "0.9230769230769231"
      ]
     },
     "execution_count": 89,
     "metadata": {},
     "output_type": "execute_result"
    }
   ],
   "source": [
    "(23+97)/(97+1+9+23)"
   ]
  },
  {
   "cell_type": "code",
   "execution_count": 96,
   "metadata": {},
   "outputs": [],
   "source": []
  },
  {
   "cell_type": "code",
   "execution_count": 82,
   "metadata": {},
   "outputs": [
    {
     "name": "stdout",
     "output_type": "stream",
     "text": [
      "Precision 0.9583333333333334\n"
     ]
    }
   ],
   "source": [
    "# Precision\n",
    "print(\"Precision\", precision_score(y_test, y_pred))"
   ]
  },
  {
   "cell_type": "code",
<<<<<<< HEAD
   "execution_count": 97,
=======
   "execution_count": 93,
>>>>>>> 5f65b472f60d5cee575b77ef6ac1d9533849036b
   "metadata": {},
   "outputs": [],
   "source": [
    "precision = 23/(23+1)"
   ]
  },
  {
   "cell_type": "code",
<<<<<<< HEAD
   "execution_count": 98,
=======
   "execution_count": 84,
>>>>>>> 5f65b472f60d5cee575b77ef6ac1d9533849036b
   "metadata": {},
   "outputs": [
    {
     "name": "stdout",
     "output_type": "stream",
     "text": [
      "Recall 0.71875\n"
     ]
    }
   ],
   "source": [
    "# Recall\n",
    "print(\"Recall\", recall_score(y_test, y_pred))"
   ]
  },
  {
   "cell_type": "code",
<<<<<<< HEAD
   "execution_count": 99,
=======
   "execution_count": 94,
>>>>>>> 5f65b472f60d5cee575b77ef6ac1d9533849036b
   "metadata": {},
   "outputs": [],
   "source": [
    "recall = 23/(23+9)"
   ]
  },
  {
   "cell_type": "code",
   "execution_count": 81,
   "metadata": {},
   "outputs": [
    {
     "name": "stdout",
     "output_type": "stream",
     "text": [
      "F1 Score 0.8214285714285714\n"
     ]
    }
   ],
   "source": [
    "# F1-Score\n",
    "print(\"F1 Score\", f1_score(y_test, y_pred))"
   ]
  },
  {
   "cell_type": "code",
   "execution_count": 95,
   "metadata": {},
   "outputs": [
    {
     "data": {
      "text/plain": [
       "0.8214285714285714"
      ]
     },
     "execution_count": 95,
     "metadata": {},
     "output_type": "execute_result"
    }
   ],
   "source": [
    "2 * recall * precision / (recall + precision)"
   ]
  },
  {
   "cell_type": "markdown",
   "metadata": {},
   "source": [
    "### 11) Calculate the ROC-AUC on the test set, and plot the ROC curve\n",
    "\n",
    "For this you'll definitely want to use the sklearn functions!"
   ]
  },
  {
   "cell_type": "code",
<<<<<<< HEAD
   "execution_count": 100,
=======
   "execution_count": 99,
>>>>>>> 5f65b472f60d5cee575b77ef6ac1d9533849036b
   "metadata": {},
   "outputs": [
    {
     "name": "stdout",
     "output_type": "stream",
     "text": [
      "['Javi']\n"
     ]
    }
   ],
   "source": [
    "call_on_students(1)"
   ]
  },
  {
   "cell_type": "code",
<<<<<<< HEAD
   "execution_count": 101,
=======
   "execution_count": 104,
>>>>>>> 5f65b472f60d5cee575b77ef6ac1d9533849036b
   "metadata": {},
   "outputs": [],
   "source": [
    "# Calculate roc-auc\n",
    "from sklearn.metrics import roc_curve\n",
    "from sklearn.metrics import roc_auc_score\n",
<<<<<<< HEAD
    "from sklearn.metrics import plot_roc_curve\n"
=======
    "from sklearn.metrics import plot_roc_curve"
>>>>>>> 5f65b472f60d5cee575b77ef6ac1d9533849036b
   ]
  },
  {
   "cell_type": "code",
<<<<<<< HEAD
   "execution_count": 102,
=======
   "execution_count": 107,
>>>>>>> 5f65b472f60d5cee575b77ef6ac1d9533849036b
   "metadata": {},
   "outputs": [
    {
     "data": {
      "text/plain": [
       "0.9909188034188035"
      ]
     },
     "execution_count": 102,
     "metadata": {},
     "output_type": "execute_result"
    }
   ],
   "source": [
<<<<<<< HEAD
    "# Plot the ROC curve\n",
    "y_hat = logreg.predict_proba(X_test_scaled)[:,1]\n",
    "\n",
    "roc_auc_score(y_test, y_hat)\n"
=======
    "y_hat = logreg.predict_proba(X_test_scaled)[:,1]"
   ]
  },
  {
   "cell_type": "code",
   "execution_count": 108,
   "metadata": {},
   "outputs": [
    {
     "data": {
      "text/plain": [
       "0.9811862244897959"
      ]
     },
     "execution_count": 108,
     "metadata": {},
     "output_type": "execute_result"
    }
   ],
   "source": [
    "# Plot the ROC curve\n",
    "roc_auc_score(y_test, y_hat)"
>>>>>>> 5f65b472f60d5cee575b77ef6ac1d9533849036b
   ]
  },
  {
   "cell_type": "markdown",
   "metadata": {},
   "source": [
    "### 12) Evaluate! Based on the metrics of our test data, how is our model doing?"
   ]
  },
  {
   "cell_type": "code",
<<<<<<< HEAD
   "execution_count": 103,
   "metadata": {},
   "outputs": [
    {
     "ename": "NameError",
     "evalue": "name 'y_prob' is not defined",
     "output_type": "error",
     "traceback": [
      "\u001b[1;31m---------------------------------------------------------------------------\u001b[0m",
      "\u001b[1;31mNameError\u001b[0m                                 Traceback (most recent call last)",
      "\u001b[1;32m<ipython-input-103-b6dceb69d0e4>\u001b[0m in \u001b[0;36m<module>\u001b[1;34m\u001b[0m\n\u001b[0;32m      1\u001b[0m \u001b[1;31m# call_on_students(1)\u001b[0m\u001b[1;33m\u001b[0m\u001b[1;33m\u001b[0m\u001b[1;33m\u001b[0m\u001b[0m\n\u001b[1;32m----> 2\u001b[1;33m \u001b[0my_prob\u001b[0m\u001b[1;33m\u001b[0m\u001b[1;33m\u001b[0m\u001b[0m\n\u001b[0m",
      "\u001b[1;31mNameError\u001b[0m: name 'y_prob' is not defined"
     ]
=======
   "execution_count": 102,
   "metadata": {},
   "outputs": [
    {
     "data": {
      "text/plain": [
       "<sklearn.metrics._plot.roc_curve.RocCurveDisplay at 0x1dfd80f9dc0>"
      ]
     },
     "execution_count": 102,
     "metadata": {},
     "output_type": "execute_result"
    },
    {
     "data": {
      "image/png": "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\n",
      "text/plain": [
       "<Figure size 432x288 with 1 Axes>"
      ]
     },
     "metadata": {
      "needs_background": "light"
     },
     "output_type": "display_data"
>>>>>>> 5f65b472f60d5cee575b77ef6ac1d9533849036b
    }
   ],
   "source": [
    "# call_on_students(1)\n",
<<<<<<< HEAD
    "y_prob"
=======
    "plot_roc_curve(logreg, X_test_scaled, y_test)"
>>>>>>> 5f65b472f60d5cee575b77ef6ac1d9533849036b
   ]
  },
  {
   "cell_type": "markdown",
   "metadata": {},
   "source": [
    "#### Answer:\n",
    "\n",
    "- \n"
   ]
  },
  {
   "cell_type": "markdown",
   "metadata": {},
   "source": [
    "## Part 4: Decision Trees\n",
    "\n",
    "### Set Up\n",
    "\n",
    "NOTE! This code might not work for you! The images these generate are already prepopulated below because of that."
   ]
  },
  {
   "cell_type": "code",
   "execution_count": 109,
   "metadata": {},
   "outputs": [],
   "source": [
    "# Helper function from a colleague (h/t Bryan)\n",
    "def plot_tree(dt, used_cols, out_file='mytree.dot'):\n",
    "    export_graphviz(dt, out_file=out_file, \n",
    "                    filled=True, feature_names=used_cols, \n",
    "                    leaves_parallel=True, node_ids=True)\n",
    "    with open(out_file) as f:\n",
    "        dot_graph = f.read()\n",
    "    return graphviz.Source(dot_graph)"
   ]
  },
  {
   "cell_type": "code",
   "execution_count": null,
   "metadata": {
    "scrolled": true
   },
   "outputs": [],
   "source": [
    "# Creating two different decision trees with a single split\n",
    "dt_maxdepth1_v1 = DecisionTreeClassifier(max_depth=1, random_state = 42)\n",
    "dt_maxdepth1_v2 = DecisionTreeClassifier(max_depth=1, random_state = 42)\n",
    "\n",
    "# Training the two trees on different columns\n",
    "dt_maxdepth1_v1.fit(X_train[['weight']], y_train)\n",
    "dt_maxdepth1_v2.fit(X_train[['origin']], y_train)"
   ]
  },
  {
   "cell_type": "code",
   "execution_count": null,
   "metadata": {
    "scrolled": true
   },
   "outputs": [],
   "source": [
    "# Tree based on 1st column\n",
    "plot_tree(dt_maxdepth1_v1, ['weight'])"
   ]
  },
  {
   "cell_type": "code",
   "execution_count": null,
   "metadata": {},
   "outputs": [],
   "source": [
    "# Tree based on 2nd column\n",
    "plot_tree(dt_maxdepth1_v2, ['origin'])"
   ]
  },
  {
   "cell_type": "markdown",
   "metadata": {},
   "source": [
    "#### Images:\n",
    "\n",
    "| Version 1: Weight | Version 2: Origin |\n",
    "| ----------------- | ----------------- |  \n",
    "| ![max depth 1 - version 1](images/dt-maxdepth1-v1.png) | ![max depth 1 - version 2](images/dt-maxdepth1-v2.png) |"
   ]
  },
  {
   "cell_type": "markdown",
   "metadata": {},
   "source": [
    "### 13) Which of these trees does a better job splitting the data? How can you tell?"
   ]
  },
  {
   "cell_type": "code",
   "execution_count": 112,
   "metadata": {},
   "outputs": [
    {
<<<<<<< HEAD
     "data": {
      "text/plain": [
       "0.1194885496183206"
      ]
     },
     "execution_count": 52,
     "metadata": {},
     "output_type": "execute_result"
    }
   ],
   "source": [
    "# call_on_students(1)\n",
=======
     "name": "stdout",
     "output_type": "stream",
     "text": [
      "['Jeff']\n"
     ]
    }
   ],
   "source": [
    "call_on_students(1)"
   ]
  },
  {
   "cell_type": "code",
   "execution_count": 125,
   "metadata": {},
   "outputs": [
    {
     "data": {
      "text/plain": [
       "0.1194885496183206"
      ]
     },
     "execution_count": 125,
     "metadata": {},
     "output_type": "execute_result"
    }
   ],
   "source": [
>>>>>>> 5f65b472f60d5cee575b77ef6ac1d9533849036b
    "parent_impurity = .381\n",
    "weight1 = 196/262\n",
    "weight2 = 66/262\n",
    "\n",
<<<<<<< HEAD
    "weighted_impurity = weight1*.088 + weight2*.213\n",
=======
    "weighted_impurity = weight1*0.088 + weight2*.213\n",
>>>>>>> 5f65b472f60d5cee575b77ef6ac1d9533849036b
    "weighted_impurity"
   ]
  },
  {
   "cell_type": "code",
<<<<<<< HEAD
   "execution_count": null,
=======
   "execution_count": 126,
>>>>>>> 5f65b472f60d5cee575b77ef6ac1d9533849036b
   "metadata": {},
   "outputs": [
    {
     "data": {
      "text/plain": [
       "0.2615114503816794"
      ]
     },
<<<<<<< HEAD
     "execution_count": 55,
=======
     "execution_count": 126,
>>>>>>> 5f65b472f60d5cee575b77ef6ac1d9533849036b
     "metadata": {},
     "output_type": "execute_result"
    }
   ],
   "source": [
<<<<<<< HEAD
    "information_gain1 = parent_impurity - weighted_impurity\n",
    "information_gain1"
=======
    "parent_impurity - weighted_impurity"
>>>>>>> 5f65b472f60d5cee575b77ef6ac1d9533849036b
   ]
  },
  {
   "cell_type": "code",
<<<<<<< HEAD
   "execution_count": null,
=======
   "execution_count": 129,
>>>>>>> 5f65b472f60d5cee575b77ef6ac1d9533849036b
   "metadata": {},
   "outputs": [
    {
     "data": {
      "text/plain": [
<<<<<<< HEAD
       "0.06506870229007639"
      ]
     },
     "execution_count": 58,
=======
       "0.3159312977099236"
      ]
     },
     "execution_count": 129,
>>>>>>> 5f65b472f60d5cee575b77ef6ac1d9533849036b
     "metadata": {},
     "output_type": "execute_result"
    }
   ],
   "source": [
    "tree2_w1 = 170/262\n",
    "tree2_w2 = 92/262\n",
    "\n",
<<<<<<< HEAD
    "weighted_impurity2 = tree2_w1*.475 + tree2_w2*.022\n",
    "weighted_impurity2\n",
    "\n",
    "\n",
    "information_gain2 = parent_impurity - weighted_impurity2\n",
    "information_gain2"
=======
    "weighted_impurity_2 = tree2_w1*.475 + tree2_w2*0.022\n",
    "weighted_impurity_2"
   ]
  },
  {
   "cell_type": "code",
   "execution_count": 130,
   "metadata": {},
   "outputs": [
    {
     "data": {
      "text/plain": [
       "0.06506870229007639"
      ]
     },
     "execution_count": 130,
     "metadata": {},
     "output_type": "execute_result"
    }
   ],
   "source": [
    "parent_impurity - weighted_impurity_2"
>>>>>>> 5f65b472f60d5cee575b77ef6ac1d9533849036b
   ]
  },
  {
   "cell_type": "markdown",
   "metadata": {},
   "source": [
    "#### Answer:\n",
    "\n",
    "- \n"
   ]
  },
  {
   "cell_type": "code",
   "execution_count": null,
   "metadata": {},
   "outputs": [],
   "source": [
    "#first one is better because higher information gain"
   ]
  },
  {
   "cell_type": "markdown",
   "metadata": {},
   "source": [
    "### 14) Fit a decision tree model, and plot a confusion matrix of the results on our test set"
   ]
  },
  {
   "cell_type": "code",
   "execution_count": 132,
   "metadata": {},
   "outputs": [
    {
     "name": "stdout",
     "output_type": "stream",
     "text": [
      "['']\n"
     ]
    }
   ],
   "source": [
    "call_on_students(1)"
   ]
  },
  {
   "cell_type": "code",
   "execution_count": 134,
   "metadata": {},
   "outputs": [
    {
     "data": {
      "text/plain": [
       "DecisionTreeClassifier(random_state=42)"
      ]
     },
<<<<<<< HEAD
     "execution_count": 60,
=======
     "execution_count": 134,
>>>>>>> 5f65b472f60d5cee575b77ef6ac1d9533849036b
     "metadata": {},
     "output_type": "execute_result"
    }
   ],
   "source": [
    "# Fit a decision tree model\n",
    "# Name the model `dt` and set random_state = 42\n",
<<<<<<< HEAD
    "dt = DecisionTreeClassifier(random_state= 42)\n",
=======
    "dt = DecisionTreeClassifier(random_state = 42)\n",
>>>>>>> 5f65b472f60d5cee575b77ef6ac1d9533849036b
    "dt.fit(X_train, y_train)"
   ]
  },
  {
   "cell_type": "code",
   "execution_count": 135,
   "metadata": {
    "scrolled": true
   },
   "outputs": [
    {
     "data": {
      "text/plain": [
<<<<<<< HEAD
       "<sklearn.metrics._plot.confusion_matrix.ConfusionMatrixDisplay at 0x1fe0f8c5d60>"
      ]
     },
     "execution_count": 61,
=======
       "<sklearn.metrics._plot.confusion_matrix.ConfusionMatrixDisplay at 0x1dfd8141970>"
      ]
     },
     "execution_count": 135,
>>>>>>> 5f65b472f60d5cee575b77ef6ac1d9533849036b
     "metadata": {},
     "output_type": "execute_result"
    },
    {
     "data": {
<<<<<<< HEAD
      "image/png": "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",
=======
      "image/png": "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\n",
>>>>>>> 5f65b472f60d5cee575b77ef6ac1d9533849036b
      "text/plain": [
       "<Figure size 432x288 with 2 Axes>"
      ]
     },
     "metadata": {
      "needs_background": "light"
     },
     "output_type": "display_data"
    }
   ],
   "source": [
    "# Plot a confusion matrix on the test data\n",
    "plot_confusion_matrix(dt, X_test, y_test)"
   ]
  },
  {
   "cell_type": "code",
   "execution_count": 138,
   "metadata": {},
   "outputs": [
    {
<<<<<<< HEAD
     "ename": "NameError",
     "evalue": "name 'logreg' is not defined",
     "output_type": "error",
     "traceback": [
      "\u001b[1;31m---------------------------------------------------------------------------\u001b[0m",
      "\u001b[1;31mNameError\u001b[0m                                 Traceback (most recent call last)",
      "\u001b[1;32m<ipython-input-62-7f66df90c28c>\u001b[0m in \u001b[0;36m<module>\u001b[1;34m\u001b[0m\n\u001b[0;32m      2\u001b[0m \u001b[0mfig\u001b[0m\u001b[1;33m,\u001b[0m \u001b[0max\u001b[0m \u001b[1;33m=\u001b[0m \u001b[0mplt\u001b[0m\u001b[1;33m.\u001b[0m\u001b[0msubplots\u001b[0m\u001b[1;33m(\u001b[0m\u001b[1;33m)\u001b[0m\u001b[1;33m\u001b[0m\u001b[1;33m\u001b[0m\u001b[0m\n\u001b[0;32m      3\u001b[0m \u001b[0mplot_roc_curve\u001b[0m\u001b[1;33m(\u001b[0m\u001b[0mdt\u001b[0m\u001b[1;33m,\u001b[0m \u001b[0mX_test\u001b[0m\u001b[1;33m,\u001b[0m \u001b[0my_test\u001b[0m\u001b[1;33m,\u001b[0m \u001b[0max\u001b[0m\u001b[1;33m=\u001b[0m\u001b[0max\u001b[0m\u001b[1;33m)\u001b[0m\u001b[1;33m\u001b[0m\u001b[1;33m\u001b[0m\u001b[0m\n\u001b[1;32m----> 4\u001b[1;33m \u001b[0mplot_roc_curve\u001b[0m\u001b[1;33m(\u001b[0m\u001b[0mlogreg\u001b[0m\u001b[1;33m,\u001b[0m \u001b[0mX_test_scaled\u001b[0m\u001b[1;33m,\u001b[0m \u001b[0my_test\u001b[0m\u001b[1;33m,\u001b[0m \u001b[0max\u001b[0m\u001b[1;33m=\u001b[0m\u001b[0max\u001b[0m\u001b[1;33m)\u001b[0m\u001b[1;33m\u001b[0m\u001b[1;33m\u001b[0m\u001b[0m\n\u001b[0m\u001b[0;32m      5\u001b[0m \u001b[1;33m\u001b[0m\u001b[0m\n\u001b[0;32m      6\u001b[0m \u001b[0mplt\u001b[0m\u001b[1;33m.\u001b[0m\u001b[0mtitle\u001b[0m\u001b[1;33m(\u001b[0m\u001b[1;34m\"Receiver Operating Characteristic Curves\\n(Evaluated on Test Set)\"\u001b[0m\u001b[1;33m)\u001b[0m\u001b[1;33m\u001b[0m\u001b[1;33m\u001b[0m\u001b[0m\n",
      "\u001b[1;31mNameError\u001b[0m: name 'logreg' is not defined"
     ]
    },
    {
     "data": {
      "image/png": "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",
=======
     "data": {
      "image/png": "iVBORw0KGgoAAAANSUhEUgAAAYIAAAElCAYAAADp4+XfAAAAOXRFWHRTb2Z0d2FyZQBNYXRwbG90bGliIHZlcnNpb24zLjQuMywgaHR0cHM6Ly9tYXRwbG90bGliLm9yZy/MnkTPAAAACXBIWXMAAAsTAAALEwEAmpwYAABNkklEQVR4nO2deXgUVdaH30MIBJIQ1kR2BBJQQFDjLgqugDqKC4gjiqPj6LiOy6ifIyo6bsPgrsgo4go6LoiKyqjgigooAgICIiqK7GQhCWQ53x+3utNJOunO0umEPu/z5ElX1a1b51Z133O3+h1RVQzDMIzYpUm0DTAMwzCiizkCwzCMGMccgWEYRoxjjsAwDCPGMUdgGIYR45gjMAzDiHHMEeyBiMh3IjIk2nY0FETk/0TkyShde5qI3BmNa9c1IvJHEZlTw3PtO9mAMUcQYURknYjki0iuiPzuVQxJkbymqvZT1XmRvIYPEWkuIneLyM9eOVeLyPUiIvVx/SD2DBGR9YH7VPUuVb0oQtcTEblSRJaJyE4RWS8i/xWRAZG4Xk0RkdtE5Pna5KGqL6jqCWFcq4Lzq+l3UkSaebav9u7vOhGZKiI9qpuXUTnmCOqHU1Q1CRgE7A/cFF1zqo+INK3k0H+BY4ERQDIwFrgYeDACNoiINLTv7IPAVcCVQFsgA5gJnFTXF6riGUScKF77FeAPwDlACjAQWIT7zlWLaN6/Bo+q2l8E/4B1wHEB2/cBbwdsHwp8DuwAvgWGBBxrCzwN/AZsB2YGHDsZWOyd9zmwX/lrAp2AfKBtwLH9gS1AvLf9J2CFl/97QPeAtApcBqwGfgxStmOBAqBruf2HAMVAb297HnA38BWQBbxRzqaq7sE84J/AZ15ZegMXeDbnAGuBv3hpE700JUCu99cJuA143kvTwyvX+cDP3r24OeB6LYBnvPuxAvg7sL6SZ5vulfPgKp7/NOBR4G3P3i+BXgHHHwR+AbJxFdzggGO34SrC573jFwEHA/O9e7UBeARoFnBOP+B/wDZgI/B/wDBgN1Do3ZNvvbQpwFNePr8CdwJx3rFx3j2/38vrTm/fp95x8Y5t8p7pEqA/rhFQ6F0vF3iz/O8AiPPs+sG7J4so9x3y0h3nPc8Kx6r4fQV71hd6z/pj4F3g8nJ5fAuc7n3uG3D/vgdGBaQbASz3bP4VuC7a9Uud1VPRNmBP/yv3A+gCLAUe9LY7A1u9L1gT4Hhvu4N3/G3gJaANEA8c7e0/wPsBHuL9qM73rtM8yDU/BP4cYM+/gMne59OANcA+QFPgH8DnAWnV+1G0BVoEKds9wEeVlPsnSivoed4Ppz+usn414Mca6h7M837E/Twb43Gt7V64yuhoIA84wEs/hHIVdyWVw39wlf5AYBewT2CZvHveBVfBVeYILgF+CvH8p3mVysGe/S8AMwKOnwu0845dC/wOJATYXeg9pyaevQfiHGdTrywrgKu99Mm4Sv1aIMHbPqT8PQi49kzgCe+ZpOIcte+ZjQOKgCu8a7WgrCM4EVeBt/aewz5Ax4Ay31nF7+B63O+gj3fuQKBddb5fwfKt4lk/65WxBXAe8FlA+n1xTrW5l+YXXEOjKe53tgXo56XdgOeove/HAdGuX+rqr6F1s/dUZopIDu5Ltgm41dt/LjBbVWeraomq/g9YCIwQkY7AcOASVd2uqoWq+pF33p+BJ1T1S1UtVtVncJXZoUGu/SIwBtzQCnC2tw/gL8DdqrpCVYuAu4BBItI94Py7VXWbquYHybs97scRjA3ecR/PqeoyVd0J3AKMEpG4qu5BwLnTVPU7VS3y7sPbqvqDOj4C5gCDK7GjMm5X1XxV/RbXIhzo7R8F3OXd8/XAQ1Xk0a6K8gfymqp+5d3jF3BDhACo6vOqutUr279xFVKfgHPnq+pM797kq+oiVf3CS78OV5Ef7aU9GfhdVf+tqgWqmqOqXwYzSETScN+vq1V1p6puwrXwzw5I9puqPuxdq/zzL8Q5mr6AeN+hcO4FuJ7NP1T1e+8ZfquqW4OkC/f+huI2r4z5wOuU/Y7/Efd8duHu3zpVfdor89e4RsuZXtpCYF8RaeV9P76uA9saBOYI6ofTVDUZ11rtS2kF2R04S0R2+P6AI4GOQFdgm6puD5Jfd+Dacud1xQ2DlOcV4DAR6QQchWshfRKQz4MBeWzDtdA6B5z/SxXl2uLZGoyO3vFg+fyEa9m3p+p7ENQGERkuIl+IyDYv/QjKOp1w+D3gcx7gm8DvVO56VZV/K5WXP5xrISLXisgKEcnyypJC2bKUL3uGiLzlLTzIxjlvX/quuOGWcOiOewYbAu77E7ieQdBrB6KqH+KGpR4FNorIFBFpFea1w7Uz3PsbCn85VDUH19P2Obyzcc4Z3D05pNx38Y/AXt7xM3DftZ9E5CMROawObGsQmCOoR7zW6zRgorfrF1xLuXXAX6Kq3uMdaysirYNk9Qvwz3LntVTV6UGuuQPXYh6Fm3CbrqoakM9fyuXTQlU/D8yiiiK9j/vhdA3cKSIH437sHwbsDkzTDde62hLiHlSwQUSa41ppE4E0VW0NzMY5sFD2hsMG3JBQMLvL8wHQRUQya3IhERkM3IB7Nm28smRRWhaoWJ7HgZVAuqq2wo21+9L/ghsyC0b5fH7B9SLbB9z3Vqrar4pzymao+pCqHogbtsvADfmEPC+EnYG8DxwsIl2qSLMTaBmwvVeQNOXtmQ6M8SryFsDcALs+KvddTFLVSwFUdYGqnopzljOBl8MoQ6PAHEH98wBwvIgMwk0CniIiJ4pInIgkeMsfu3jd7HeAx0SkjYjEi8hRXh7/AS4RkUO8lTSJInKSiCRXcs0XcWOjZ1A6LAQwGbhJRPoBiEiKiJwVbkFU9X1cZfiqiPTzynAoroX1uKquDkh+rojsKyItgQnAK6paXNU9qOSyzXDDJ5uBIhEZDgQuadwItBORlHDLUY6XcfekjYh0Bi6vLKFXvseA6Z7NzTz7zxaRG8O4VjJuHH4z0FRExgOhWtXJuInjXBHpC1wacOwtYC8RuVrcst5kETnEO7YR6OFbdeV9v+YA/xaRViLSRER6icjRhIGIHOR9/+JxlXEBbuLcd62eVZz+JHCHiKR739/9RKRd+UTe9+t/wOsicqCINPXKdImI/MlLthg42/t9ZFI6jFMVs3Gt/wnAS6pa4u1/C8gQkbFefvFeOffxnu0fRSRFVQtxz6C4kvwbHeYI6hlV3YybvLpFVX8BTsW16jbjWiTXU/pcxuJazitxcwtXe3ksxM0TPIJb3bIGN5FXGbNwK1w2emPiPlteB+4FZnjDDMtw48bV4Qxci+pd3CqR53ErUa4ol+45XG/od9xE5pWeDaHuQRm8rv2VuAp7O66XMyvg+Epci2+t170PNlxWFROA9cCPuBbpK7iWc2VcSekQyQ7ckMdI4M0wrvUeztmvwg2XFVD1UBTAdbgy5+AaBC/5Dnj35njgFNx9Xg0M9Q7/1/u/VUR8Y9vn4Rzrcty9fIXwh2Jaedff7tm+ldKe7lO4sfQdIjIzyLmTcM9vDq5CfQrXMg/GmbiK+yVcb2kZkIl7NuDmm3p5dtxO2YZOULz5gNdwq5JeDNifg2tUnI1bqfc77vfR3EsyFljn/VYuwc1v7RFI6SiBYUQGEZmHW8kRlbd7a4OIXAqcraphtZQNozFiPQLDCEBEOorIEd5QSR/cUszXo22XYUQSe9POMMrSDLd6Zm/cUM8M3DyAYeyx2NCQYRhGjGNDQ4ZhGDGOOQKjVohTHr06wtfoISIqDUA0TIKomxoVEZGvfMuSjYaPOQKjxohIB9wSxCe87SEiUiJOcjvwr8G8gSmNID6At17dd+/yy9/TGuQX0pGKSGtx8s6/i0iOiKwSkRvCzD/YPZ2IW4prNALMERi1YRxOJyhQh+Y3723MwL/5UbKvUaJO9z9JnXT5cMrd0whd9n6c9MU+OJmLPxC+XEUwZgFDxWlmGQ0ccwRGbRiOU+oMife27cJy+/4mIrO8zyeJyDciki0iv4jIbVXktU5EjgvYLhN0RVxgmN/F6fd8LKVvTl+M0475u9e6ftPb30lEXhWRzSLyo4hcGZBXC6/Fu11ElgMHhSjn4SKywLv2AhE5PODYPBG5Q0Q+81rdc0SkWhpJIWw9WEQWevdwo4hM8g597P3fUUUP7SDgRU9MrURVV6rqKwF59xWR/4nTd/peREZVdU9VtQCnThoykI0RfcwRGLVhAE6zPRxmAX1EJD1g3zmUvtm5EzfM1BonM32piJxWQ7vewb1JnQp8jScqpqpTvM/3ea3rU8RJLryJUyDtjIuxcLWInOjldSvuzdVeOOnl8yu7qIi0xQmaPYRTzpwEvC1l5RPOwckcp+KWql4XbqHCsPVBnMR5K89enxaOT5qkdRU9tC+Af4rIBeWeESKSiJN6eNGzewxO+qRfsHsacOoKSlVdjQaMOQKjNrTGSR0E0kkC1Bu9v0RVzcMFpPFJYqfjlFhnAajqPFVd6rVGl+BkImr0Nq+qTvUkmHfh9OkHSuXaQwfhYh9MUNXdqroWJ53gU6cchRP42+bJYVQlS30SsFpVn/NkjKfj5EECK8enVXWVN5z2MgGS1GEQytZCoLeItFfVXFX9ohp5X4Gr0C8HlovIGnE6ThBanrkycnDfEaOBY47AqA3bcSJogfxWTr2xtboYBBAQGwHXMp7pOQjECZjN9YY8snBaLtWVlkaccN09IvKDOE2Ydd6hyvLqTjnnhdM9SvOOl5el/qmKy3cKcvwnysp6VypJHQahbL0QpwK60huWOjncjNXFOrjLUxNth3NS//V6OaHkmSsjGfdSntHAMUdg1IYluIonXOYA7cUpr46hrEDYi7jeQVdVTcEpo0qFHBxVSQ+fgxOxOw436dnD21+ZTPUvuDCcgY4rWVV9gXE2UFFCuzJ+w1WagXTDRWerC6q0VVVXq+oY3PDNvcAr3rBOtd4aVVVfnINE3BvWVcozV5H/PrhhLKOBY47AqA2zqcbwjboIXa/gwmW2xY07+0jGBeIpEBfP4JwqslpM5dLDyTi10K04Z3FXuXPLSyR/BWSLyA3exHCciPQXEd+kcKAsdRcqqqoGMhsnY3yOOMnk0bhQiG9VcU51qNJWETlXRDp4sso7vHOKcaquJVQhDS0it4iTXG4mIgnAVV4e31OFPLN3egXZaXFxIw6k7DM2GijmCIza8CwurGaghHAnqfgewRkBx1/Etdb/6zkGH38FJogL6TmeqoN+VCU9/CxuOOZXnLxy+XHyMhLJXkyEU3Bj9T/iguU8ietN4OX/k3dsDk5OOyjqwi2ejBOq24oLfH+yqm6p7JzqEIatw4DvxL1r8CBONbXAG377J/CZV+5gIU0VeNrL8zecnPVJ3lxDKHnmYLLTfwDmqepvdVF2I7KY1pBRK0TkLmCTqj4QbVuMhoOIfAlcqKrLom2LERpzBIZhGDGODQ0ZhmHEOOYIDMMwYhxzBIZhGDFO1GV9q0v79u21R48e0TbDMAyjUbFo0aItqtoh2LFG5wh69OjBwoULQyc0DMMw/IhIpW/F29CQYRhGjGOOwDAMI8YxR2AYhhHjmCMwDMOIccwRGIZhxDgRcwTiAmFvEpGgWiPieMgLgLFERA6IlC2GYRhG5USyRzANp4ZYGcNx4QTTgYuBxyNoi2EYhlEJEXuPQFU/FpEeVSQ5FXhWnerdFyLSWkQ6quqGSNnUaFn4NCx9JXQ6wzD2KBRlV2EJeYXF5O8uhr0G0HnMg3V+nWi+UNaZsiEA13v7KjgCEbkY12ugW7eqAkTtoSx9BX5fCnsNiLYlhmFEAEXZVVRC/u5i8nYXk19YTN7uIvILiwkUiG7aIr9M3NO6IpqOIFgYwqCa2Ko6BZgCkJmZGZu62XsNgAvejrYVhmHUgpIS5dcd+azamMOqjbms3pjDqk05rNmUS0FhiT9dx5QE0jslk56aREZaEulp7nNyQnxE7IqmI1hP2ViwXXDRjwzDMBo1vgp/9SZX4a/a6Cr71RtzyS8s9qdLa9WcjLRkzjm4e2mFn5ZEqwhV+JURTUcwC7hcRGYAhwBZNj9gGEZjQtVX4Xute6+Vv3pTLnm7Syv81GRX4Z99cFcy0pLJSEuid2oyKS3qt8KvjIg5AhGZDgwB2ovIeuBWIB5AVSfjAn2PANYAecAFkbLFMAyjNqgqG7IKWLUxh9VeC3/VplzWbMxhZ0CF3yG5ORlpSYzKdBV+eloSGanJpLRsGBV+ZURy1dCYEMcVuCxS129Q1HbVj00UG0a9oKr8nl1QOn7vtfLXbMold1eRP137pOakpyZx5oFdSE9L9rfyW7dsFkXra06jk6FulNR21c9eA2DAmXVrk2HEMKrKxuxdXkXvxu9XeUM6OQWlFX67xGakpyVx+gGdXYWf6sbx2yY2zgq/MswR1Be26scw6h1VZVPOLv9wTuDkbWCF3zaxGempSZw2qHOZVTrtkppH0fr6wxyBYRiNHlVlc25phR84aZuVX+hP16ZlPOlpyfxhYKfSMfy0ZNrHSIVfGeYIDMNoNKgqW3J3l47fb8plzcZcVm3KYUdeaYWf0iKejLQkTtqvIxmpSV6ln0z7pGaIBHuFKbYxR2AYRoNkS+6uMuP3vlb+9oAKv1VCUzLSkhnevyMZaUn+Vn6HpOZW4VcDcwSGYUSVbTt3e8syS8fvV2/KZdvO3f40yV6FP6z/XqSnlg7ppCZbhV8XhOUIRKQJMBDoBOQD36nqxkgaZhjGnsV2r8Jftal0aeaaTblsyQ2o8Js3JT0tieP3SfNX9hlpyaS1sgo/klTpCESkF3ADcBywGtgMJAAZIpIHPAE8o6ollediGEYssSNvd2nL3mvdr9qYy5bcXf40Sc2b0js1iWP6pvrH7zPSktirVYJV+FEgVI/gTlycgL94L4D5EZFU4BxgLPBMZMwzDKOhkpVXyKpNORWWZm7OKa3wE5vF0TstmaF9OvjH79PTkumUYhV+Q6JKR1DV28Gqugl4oK4NMgyjYZGVX8iagPX3vop/U0CF37JZHOmpSRyd0cFTzHSVfufWLazCbwTUeLJYRI5X1f/VpTGGYUSP7IJCVm8MEE/zWvu/Zxf407SIj6N3ahJHprf3yyqkpybTuXULmjSxCr+xUptVQ08BMRglxjAaNzkFhX61zNUbc/2TtxuySiv8hPgm9E5N4vBe7fzj9xlpVuHvqYSaLJ5V2SGgXd2b00ioroicicYZUWDnriJvojanjETybwEVfvOmrsI/tGc7N36f6ir9Lm1aEmcVfswQqkcwGDgXyC23X4CDI2JRY6C6InImGmdEkJ27isqIpvnG8X/dke9P06xpE3p3SOKgvdu68XtvHL9rW6vwjdCO4AsgT1U/Kn9ARL6PjEmNBBORM+qZvN2+Cr90Hf7qTbms3x5Q4cc1oWeHRA7s3oYxB3f1SyR3swrfqIJQq4aGV3HsqLo3xzCM/N3FLqzhprJxbddvz/cHMvdV+Pt3a8PozK7+cfxubVvSNK5JdAtgNDpMYsIwokRBYZAKf2Muv2zP81f48XFCz/ZJDOzSmjMP6OqXSO7Rzip8o+4wR2AYEaagsJgfNueWlUjelMPP20or/KZNhL3bJzKgcwqnH9DZvzSze7tE4q3CNyKMOYKqqGx1kK0CMoJQUFjM2s07vRa+m7BdvSmXn7bupCSgwu/RPpF+nVp5QVBchd+jvVX4RvQwR1AVla0OslVAMc2uIl+FHzBpuzGXdQEVflwToUe7lvTdK5lTBnbyv3i1d/tEmjW1Ct9oWITtCETkNlW9rbLtPRZbHRSz7C4q4cctO8tKJG/K4aeteRR7NX5cE6F7u5ake0FQfJO2e7dPpHnTuCiXwDDCozo9gkUhtg2jUbK7qIR1W3dWCHG4bstOirwKv4lA93aJpKcmMaJ/R79Ecs8OVuEbjZ+wHYGqvlnVtmE0dAqLS1i3ZWcZHZ1VG3P4MaDCF4HubVuSnpbMif3SvJevXIWfEG8VvrFnEkpi4mFAKzuuqlfWuUWGUUuKiktYtzWvzHDOaq/CLywurfC7tW1Jemoyx++b5pdX6J2aZBW+EXOE6hEsrBcrGhKBK4VsdVCDpqi4hJ+25ZUNcbgxl7VbcstU+F3btCQ9NYlj+qb5xdN6dUiiRTOr8A0DQr9ZXCbgjIgkqurOyJoUZQJXCtnqoAZBcYny09adZcbvV23MYe3mnewuLg2O16VNCzLSkhnStwMZqU5aoVdqIi2b2eI4w6iKcGMWH4aTnU4CuonIQFzUsr9G0rioYSuFokJxifKz18L3VfarNubyw+ZcdheVVvidW7cgI80LguIJqPVOTSKxuVX4hlETwv3lPACcCMwCUNVvRcS0howaUVKi/LI9r0xcW1+Fv6tchZ+elsSRvdv5xdN6pyaRZBW+YdQp1Vk19Eu5kHPFdW+OsSdRUqKs357vWvYBq3R+2JxLQWFphd8xJYH0tGQO79WuTFxbq/ANo34I95f2i4gcDqiINAOuBFZEziyjMVFSovy6I7+CHv6aTbnkF5a2F/ZqlUB6WhKH9uzuF09LT00iOSE+itYbhhGuI7gEeBDoDPwKvAdcFimjjIZJSYnyW1Z+BfG0NZtyydtdWuGntWpORloyYw7u5lX4SfROTSalhVX4htEQCcsRqOoW4I/VzVxEhuEcSBzwpKreU+54CvA8LvZxU2Ciqj5d3esYdYuq8ltWQYUQh2s25bIzoMJPTW5OeloSozK7lglkntLSKnzDaEyEu2qoJ65CPxT3gtl84G+quraKc+KAR4HjgfXAAhGZparLA5JdBixX1VNEpAPwvYi8oKq7a1YcozqoKhv8FX5pqMM1m3LJ3VXkT9c+qTkZaUmcldnVL62QnppE65bNomi9YRh1RbhDQy/iKvWR3vbZwHTgkCrOORhY43MWIjIDOBUIdAQKJIubhU4CtgFF5TMyaoeq8nt2QWll771tu2ZjLjllKvxmpKcmc8YBnf2rdNJTk2iTaBW+YezJhOsIRFWfC9h+XkQuD3FOZ+CXgO31VHQcj+CWpP4GJAOjVbWkXBpE5GLgYoBu3bqFaXLsoapsytlVRjzN18rPKSit8NslNiM9LYnT9u/sn7TNSEumrVX4hhGThNIaaut9nCsiNwIzcK340UCoN66CRcour1t0IrAYOAboBfxPRD5R1ewyJ6lOAaYAZGZmVqp9FCuoKptzdpWuww8IdZgdUOG3aRlPeloypw7q5BdPy0hLol1S8yhabxhGQyNUj2ARrvL2Vep/CTimwB1VnLse6Bqw3QXX8g/kAuAeVVVgjYj8CPQFvgphV0ygqmzO3VVm/N43eZuVX+hP17plPBmpvgAoyf5x/HaJzSj37odhGEYFQmkN7V2LvBcA6SKyN27J6dnAOeXS/AwcC3wiImlAH6DSCeg9FVVlS+7uMtLIvnH8HXmlFX5Ki3gyvAAoGaneOvy0JDokNbcK3zCMGlOdCGX9gX2BBN8+VX22svSqWuTNI7yHWz46VVW/E5FLvOOTcT2KaSKyFNfruMFbqrrHsjV3l3/9feBY/vaACr9VQlMy0pIZ3n8vbzjHDel0SLYK3zCMuifc5aO3AkNwjmA2MBz4FKjUEQCo6mwvfeC+yQGffwNOqJbFjYRtO3eXXYfvtfa37ixdGZvcvCnpaUmc2G8vf4jDjLRkUq3CNwyjHgm3R3AmMBD4RlUv8IZxnoycWY2H7b4KP2D8fvWmHLbkllb4SV6Ff9w+aaXr8NOS2KtVglX4hmFEnXAdQb6qlohIkYi0AjYBPSNoV4NjR97uMjo6vmGdLbm7/GkSm8WRnpbMMX1TSU8tnbTtmGIVvmEYDZdwHcFCEWkN/Ae3kiiXPXRlT7EqebuKePPLn8sszdycU1rht2wWR3pqEkP6dCizDr+TVfiGYTRCwtUa8gWgmSwi7wKtVHVJ5MyKDsUlyjc/b6eoRPm/15fSIj6O9LQkjkrv4B+/T09LolNKC5o0sQrfMIw9g1AvlB1Q1TFV/bruTYoeOQWFFJUoaa0S+ORPQ+nc2ip8wzD2fEL1CP5dxTHFvRG8x5Cd797KTWrelA5tW0bZGsMwjPoh1AtlQ+vLkIZAdoFbyx9nvQDDMGKIJtE2oCGR7ck2NDVHYBhGDGGOIADrERiGEYvEbnTwhU/D0lfK7Dogp4AE+YmmTQZGySjDMIz6J6wegTjOFZHx3nY3ETk4sqZFmKWvwO9Ly+wqLlGWa3d0wJlRMsowDKP+CbdH8BhQglslNAHIAV4FDoqQXfXDXgPggtKwCtPnfM8jc9ew5uARUTTKMAyjfgnXERyiqgeIyDcAqrpdRPa4cFZZ+YUkJ8TbuwOGYcQU4U4WF3rB6BXACzRfIaRkYye7oIhWLWJ32sQwjNgkXEfwEPA6kCoi/8RJUN8VMauiRHZ+Ia0S4qNthmEYRr0SrtbQCyKyCBdNTIDTVHVFRC2LAtkFhaS0MEdgGEZsEW5gmgeBl1T10QjbE1Wy84vYu31itM0wDMOoV8IdGvoa+IeIrBGRf4lIZiSNihbZBYU2R2AYRswRliNQ1WdUdQRwMLAKuFdEVkfUsihgcwSGYcQi1ZWY6A30BXoAK+vcmihSVFzCzt3FtLI5AsMwYoxw3yz29QAmAN8BB6rqKRG1rJ7JKXAS1K0SbGjIMIzYItxa70fgMFXdEkljIkp5baHfl7o3iz18gnPWIzAMI9YIFaGsr6quxMUn7iYi3QKPN6oIZT5tIV/lv9cACNAUyvIkqG2OwDCMWCNUj+Aa4GKCRyprfBHKymkLBeKLTmY9AsMwYo1QEcou9j4OV9WCwGMikhAxq6JA6dCQzREYhhFbhLtq6PMw9zVasm1oyDCMGCXUHMFeQGeghYjsj5OXAGgF7FHR3W2y2DCMWCXUOMiJwDigCzApYH8O8H8RsikqZOcXEddESGwWF21TDMMw6pVQcwTPAM+IyBmq+mo92RQVsgsKaZXQFBGLRWAYRmwRamjoXFV9HughIteUP66qk4Kc1ijJzi+0YSHDMGKSUJPFPinOJCA5yF+ViMgwEfneE6u7sZI0Q0RksYh8JyIfVcP2OiW7oMgmig3DiElCDQ094f2/vboZexHNHgWOB9YDC0RklqouD0jTGhcPeZiq/iwiqdW9Tl3hegS2dNQwjNgjXK2h+0SklYjEi8gHIrJFRM4NcdrBwBpVXauqu4EZwKnl0pwDvKaqPwOo6qbqFqCucHME1iMwDCP2CPc9ghNUNRs4Gde6zwCuD3FOZ+CXgO313r5AMoA2IjJPRBaJyHnBMhKRi0VkoYgs3Lx5c5gmV48sk6A2DCNGCdcR+GrIEcB0Vd0WxjnBlt9oue2mwIHASbilqreISEaFk1SnqGqmqmZ26NAhTJOrR3a+Ba43DCM2Cbfme1NEVgL5wF9FpANQEOKc9UDXgO0uwG9B0mxR1Z3AThH5GBiIC35Tb+wuKiG/sNh6BIZhxCThRii7ETgMyFTVQmAnFcf7y7MASBeRvUWkGXA2MKtcmjeAwSLSVERaAocAK6pTgLogx94qNgwjhgk3eH08MBY4ynvh6iNgclXnqGqRiFwOvAfEAVNV9TsRucQ7PllVV4jIu8ASoAR4UlWX1bg0NSTbF5TGhoYMw4hBwq35HsfNEzzmbY/19l1U1UmqOhuYXW7f5HLb/wL+FaYdEcEE5wzDiGXCdQQHqerAgO0PReTbSBgUDXyCcyk2NGQYRgwS7qqhYhHp5dsQkZ5AcWRMqn8sKI1hGLFMuD2C64G5IrIWtyy0O3BBxKyqZ/wS1DY0ZBhGDBLSEXhLRbNwbwqn4hzBSlXdFWHb6g3/HIFNFhuGEYNUOTQkIhcB3wEPA4uBHqr67Z7kBMD1CJo2EVrEWywCwzBij1BN4KuBfqq62ZsXeIGK7wI0erI8CWqLRWAYRiwSarJ4t6puBlDVtUDzyJtU/2TnF9EqwYaFDMOITULVfl1E5KHKtlX1ysiYVb9kF1hQGsMwYpdQjqC8wuiiSBkSTbJNedQwjBgmnJjFezzZBUXslZIQbTMMwzCiQqhVQ1NEpH8lxxJF5E8i8sfImFZ/WI/AMIxYJtTQ0GPAeBEZACwDNgMJQDrQCpiKW0nUqLE5AsMwYplQQ0OLgVEikgRkAh1xMQlWqOr3kTcv8uwqKqagsMR0hgzDiFnCWjOpqrnAvMiaEh1yfBLUtnzUMIwYJVzRuT2WUnkJ6xEYhhGbmCPw9wjMERiGEZtUyxGISGKkDIkWWSY4ZxhGjBOWIxCRw0VkOV48YREZKCKPhTitUWDRyQzDiHXC7RHcD5wIbAVQ1W+BoyJlVH2SbYHrDcOIccIeGlLVX8rt2iMilPmjk1mPwDCMGCXcgfFfRORwQEWkGXAl3jBRYye7oJD4OCEhPubnzQ3DiFHCrf0uAS4DOgPrgUHAXyNkU73ik5ewWASGYcQq4fYI+qhqGU0hETkC+KzuTapfsguKbH7AMIyYJtwewcNh7mt0uB6BLR01DCN2qbIGFJHDgMOBDiJyTcChVsAeEeDXBOcMw4h1QjWFmwFJXrrkgP3ZwJmRMqo+yc4vpFPrFtE2wzAMI2qEUh/9CPhIRKap6k/1ZFO9kpVfZEtHDcOIacIdHM8TkX8B/XDxCABQ1WMiYlU94oaGbI7AMIzYJdzJ4heAlcDewO3AOmBBhGyqNwoKi9ldVGI9AsMwYppwHUE7VX0KKFTVj1T1T8ChEbSrXjB5CcMwjPCHhgq9/xtE5CTgN6BLZEyqP0rlJWxoyDCM2CXcHsGdIpICXAtcBzwJXB3qJBEZJiLfi8gaEbmxinQHiUixiNTrSiTrERiGYYQfqvIt72MWMBT8bxZXiojEAY8Cx+NkKRaIyCxVXR4k3b3Ae9UzvfaYBLVhGEaIHoGIxInIGBG5TkT6e/tOFpHPgUdC5H0wsEZV16rqbmAGcGqQdFcArwKbqm9+7fBFJ0uxVUOGYcQwoWrAp4CuwFfAQyLyE3AYcKOqzgxxbmcgULp6PXBIYAIR6QyMBI4BDqosIxG5GLgYoFu3biEuGz7WIzAMwwjtCDKB/VS1REQSgC1Ab1X9PYy8g8l5arntB4AbVLW4KvVPVZ0CTAHIzMwsn0eNsTkCwzCM0I5gt6qWAKhqgYisCtMJgOsBdA3Y7oJbbRRIJjDDcwLtgREiUhRGb6NOyM4volnTJiTE7xGySYZhGDUilCPoKyJLvM8C9PK2BVBV3a+KcxcA6SKyN/ArcDZwTmACVd3b91lEpgFv1ZcTABe43oaFDMOIdUI5gn1qmrGqFonI5bjVQHHAVFX9TkQu8Y5PrmnedYXJSxiGYYQWnauV0JyqzgZml9sX1AGo6rjaXKsmZFuPwDAMI/zg9XsiFp3MMAwjxh1BjkUnMwzDCN8RiEgLEekTSWPqG4tOZhiGEaYjEJFTgMXAu972IBGZFUG7Io6qkm1BaQzDMMLuEdyGk4zYAaCqi4EekTCovthVVMLu4hJbNWQYRswTriMoUtWsiFpSz5i8hGEYhiPc5vAyETkHiBORdOBK4PPImRV5TF7CMAzDEW6P4ApcvOJdwIs4OeqrI2RTvZCV71MeNUdgGEZsE26PoI+q3gzcHElj6pPSoSGbIzAMI7YJt0cwSURWisgdItIvohbVEzY0ZBiG4QjLEajqUGAIsBmYIiJLReQfkTQs0thksWEYhiPsF8pU9XdVfQi4BPdOwfhIGVUf+KKTJdvQkGEYMU64L5TtIyK3icgyXIjKz3HxBRot2fmFNLdYBIZhGGFPFj8NTAdOUNXywWUaJSYvYRiG4QjLEajqoZE2pL5x8hI2LGQYhlFlTSgiL6vqKBFZStl4w+FEKGvQWI/AMAzDEapJfJX3/+RIG1LfZOcX0rpls2ibYRiGEXWqnCxW1Q3ex7+q6k+Bf8BfI29e5LCgNIZhGI5wl48eH2Tf8Lo0pL7JsqA0hmEYQOg5gktxLf+eIrIk4FAy8FkkDYskLhZBoekMGYZhEHqO4EXgHeBu4MaA/Tmqui1iVkWY/MJiikrUhoYMwzAI7QhUVdeJyGXlD4hI28bqDLI95VGTlzAMwwivR3AysAi3fFQCjinQM0J2RZRSwTmbIzAMw6iyJlTVk73/e9ePOfWDCc4ZhmGUEq7W0BEikuh9PldEJolIt8iaFjlMgtowDKOUcJePPg7kichA4O/AT8BzEbMqwpTOEdjQkGEYRnWC1ytwKvCgqj6IW0LaKLEegWEYRinhNolzROQmYCwwWETigEZbi/rmCCwWgWEYRvg9gtG4wPV/UtXfgc7AvyJmVYTJLigiIb4JzZtaLALDMIxwQ1X+DrwApIjIyUCBqj4bUcsiSFZeoa0YMgzD8Ah31dAo4CvgLGAU8KWInBnGecNE5HsRWSMiNwY5/kcRWeL9fe5NRkcck6A2DMMoJdxB8puBg1R1E4CIdADeB16p7ARvHuFRnGDdemCBiMxS1eUByX4EjlbV7SIyHJgCHFL9YlSP7ALTGTIMw/AR7hxBE58T8NgaxrkHA2tUda2q7gZm4FYd+VHVz1V1u7f5BfUUB9mikxmGYZQSbm34roi8h4tbDG7yeHaIczoDvwRsr6fq1v6FOIG7CojIxcDFAN261f49tuyCQnp2SKx1PoZhGHsC4cYsvl5ETgeOxOkNTVHV10OcJkH2aZB9iMhQnCM4spLrT8ENG5GZmRk0j+qQnW+TxYZhGD5CxSNIByYCvYClwHWq+muYea8HugZsdwF+C3KN/YAngeGqujXMvGuMqnrRyWxoyDAMA0KP808F3gLOwCmQPlyNvBcA6SKyt4g0A84GZgUm8PSKXgPGquqqauRdY/J2F1NcotYjMAzD8AjVLE5W1f94n78Xka/DzVhVi0TkcuA9IA6Yqqrficgl3vHJwHigHfCYiICTssisbiGqg8lLGIZhlCWUI0gQkf0pHe9vEbitqlU6BlWdTblJZc8B+D5fBFxUXaNrgwWlMQzDKEsoR7ABmBSw/XvAtgLHRMKoSGJBaQzDMMoSKjDN0PoypL7IyrOgNIZhGIGE+0LZHoPNERiGYZQl9hyBP0ylDQ0ZhmFALDqCAm+y2HoEhmEYQPjqo+LFKh7vbXcTkYMja1pkyM4vpGWzOOLjYs4HGoZhBCXc8ZHHgBLcKqEJQA7wKnBQhOyKGNkFJi/RkCgsLGT9+vUUFBRE2xTD2CNISEigS5cuxMeHX8+F6wgOUdUDROQbAE82ullNjIw22fkmL9GQWL9+PcnJyfTo0QPvpULDMGqIqrJ161bWr1/P3nvvHfZ54Y6PFHrxBRT88QhKqm9m9LEeQcOioKCAdu3amRMwjDpARGjXrl21e9jhOoKHgNeBVBH5J/ApcFf1TGwYWHSyhoc5AcOoO2ryewpXhvoFEVkEHIuTlzhNVVdU+2oNgOz8Inp3sKEhwzAMH+GuGuoG5AFv4hREd3r7Gh1Z+dYjMMoSFxfHoEGD6NevHwMHDmTSpEmUlNRs5HP8+PG8//77lR6fPHkyzz77bLXzfe+99xg0aBCDBg0iKSmJPn36MGjQIM4777wa2RnIxIkT6du3L/3792fgwIF++4YMGcLChQtrnT/AwoULufLKKwHYtWsXxx13HIMGDeKll17ioosuYvny5SFyqJoHHnigzH0tKiqiffv23HTTTWXS9ejRgy1btvi3582bx8knn+zffuedd8jMzGSfffahb9++XHfddbWyC2DRokUMGDCA3r17c+WVV6JaMaRKYWEh559/PgMGDGCfffbh7rvv9h/bvXs3F198MRkZGfTt25dXX30VgEceeYSnn3661vYBbnIh1B8uFsES7/9qoAj4Lpxz6/rvwAMP1BoxdYSWTB2ue9/4lv7r3ZU1y8Ooc5YvXx5tEzQxMdH/eePGjXrsscfq+PHjo2hR1Rx99NG6YMGCCvuLioqqndfjjz+uJ5xwgmZlZamq6o4dO3TatGlVXqe2zJ8/X4866qgan1++nIWFhTpgwAAtLCz073v77bf18MMP1549e2pJSYl/f/fu3XXz5s3+7blz5+pJJ52kqqpLly7Vnj176ooVK/z5PvroozW208dBBx2kn3/+uZaUlOiwYcN09uzZFdK88MILOnr0aFVV3blzp3bv3l1//PFHVVUdP3683nzzzaqqWlxc7Ld/586dOmjQoKDXDPa7AhZqJfVquENDAwK3ReQA4C9144rqj+ISpURNcK6hcvub37H8t+w6zXPfTq249ZR+YadPTU1lypQpHHTQQdx2222UlJRw4403Mm/ePHbt2sVll13GX/7ivvr33Xcfzz33HE2aNGH48OHcc889jBs3jpNPPpkzzzyTG2+8kVmzZtG0aVNOOOEEJk6cyG233UZSUhLXXXcdixcv5pJLLiEvL49evXoxdepU2rRpw5AhQzjkkEOYO3cuO3bs4KmnnmLw4MFB7e3Rowd/+tOfmDNnDpdffjlt27bl1ltvZdeuXfTq1Yunn36apKQkFi1axDXXXENubi7t27dn2rRpdOzYkbvuuou5c+fSqlUrAFJSUjj//PMrXOfSSy9lwYIF5Ofnc+aZZ3L77bcDBC3jf//7X26//Xbi4uJISUnh448/Zt68eUycOJGpU6dy7rnnsnnzZgYNGsSrr77KhRdeyMSJE8nMzGTOnDlB7S9fzrPPPttv24cffsgBBxxA06alv+vp06dz1VVX8fjjj/PFF19w2GGHhXz29913HzfffDN9+/YFoGnTpvz1r38N85sTnA0bNpCdne2//nnnncfMmTMZPnx4mXQiws6dOykqKiI/P59mzZr5n8nUqVNZuXIlAE2aNKF9+/YAtGzZkh49evDVV19x8MG1e62rRjWiqn4tIo3uHYLiEtcls1VDRlX07NmTkpISNm3axBtvvEFKSgoLFixg165dHHHEEZxwwgmsXLmSmTNn8uWXX9KyZUu2bdtWJo9t27bx+uuvs3LlSkSEHTt2VLjOeeedx8MPP8zRRx/N+PHjuf3223nggQcAN7Tx1VdfMXv2bG6//fYqh5sSEhL49NNP2bJlC6effjrvv/8+iYmJ3HvvvUyaNImbbrqJK664gjfeeIMOHTrw0ksvcfPNN/Pggw+Sk5NDr169Qt6Tf/7zn7Rt25bi4mKOPfZYlixZQpcuXYKWccKECbz33nt07ty5QrlTU1N58sknmThxIm+99VaZY1u2bOHOO++sYP/48ePLlLM8n332GQceeKB/Oz8/nw8++IAnnniCHTt2MH369LAcwbJly7j22mtDpps7dy5/+9vfKuxv2bIln3/+eZl9v/76K126dPFvd+nShV9/rRjk8cwzz+SNN96gY8eO5OXlcf/999O2bVv//bvllluYN28evXr14pFHHiEtLQ2AzMxMPvnkk/pxBCJyTcBmE+AAYHOtrhwFinyOwOYIGiTVablHGvXGcefMmcOSJUt45ZVXAMjKymL16tW8//77XHDBBbRs2RKAtm3bljm/VatWJCQkcNFFF3HSSSeVGYf25bNjxw6OPvpoAM4//3zOOuss//HTTz8dgAMPPJB169ZVaevo0aMB+OKLL1i+fDlHHHEE4MaWDzvsML7//nuWLVvG8ccfD0BxcTEdO3ZEVcNeYfLyyy8zZcoUioqK2LBhA8uXL2ffffcNWsYjjjiCcePGMWrUKH85wqEy+8uXszwbNmxgn3328W+/9dZbDB06lJYtW3LGGWdwxx13cP/99xMXFxe0vNVdZTN06FAWL14cVlrf9yjU9b766ivi4uL47bff2L59O4MHD+a4446jVatWrF+/niOOOIJJkyYxadIkrrvuOp577jnAOVZfb6E2hNsjSA74XAS8jXuzuFHh6xGkmCMwqmDt2rXExcWRmpqKqvLwww9z4oknlknz7rvvVlmBNG3alK+++ooPPviAGTNm8Mgjj/Dhhx+GbUPz5s0BN5FdVFRUZdrExETAVTrHH38806dPL3N86dKl9OvXj/nz5wc9d+3atfTs2bPS/H/88UcmTpzIggULaNOmDePGjaOgoKDSMk6ePJkvv/ySt99+m0GDBlWr0gxmf/lylqdFixZl1s1Pnz6dzz77jB49egCwdetW5s6dy3HHHUe7du3Yvn27f3hl27Zt/s/9+vVj0aJFDBw4sEo7q9Mj6NKlC+vXr/dvr1+/nk6dOlU498UXX2TYsGHEx8eTmprKEUccwcKFCznrrLNo2bIlI0eOBOCss87iqaee8p9XUFBAixYtqrQ3HEKuGvJeJEtS1du9v3+q6guq2ug0AYpsaMgIwebNm7nkkku4/PLLERFOPPFEHn/8cQoLnWrtqlWr2LlzJyeccAJTp04lLy8PoMLQUG5uLllZWYwYMYIHHnigQmWYkpJCmzZt+OSTTwB47rnn/L2DmnLooYfy2WefsWbNGgDy8vJYtWoVffr0YfPmzX5HUFhYyHfffQfATTfdxGWXXUZ2tpubyc7OZsqUKWXyzc7OJjExkZSUFDZu3Mg777xTZRl/+OEHDjnkECZMmED79u355ZdfamV/KPbZZx//OdnZ2Xz66af8/PPPrFu3jnXr1vHoo4/6ncuQIUP8reni4mKef/55hg51YVeuv/567rrrLv81S0pKmDRpUoXr+XoE5f/KOwGAjh07kpyczBdffIGq8uyzz3LqqadWSNetWzc+/PBDVJWdO3fyxRdf0LdvX0SEU045hXnz5gHwwQcfsO+++/rPW7VqFf379w95j0JRZY9ARJqqiz18QK2v1ADwzxHYZLERQH5+PoMGDaKwsJCmTZsyduxYrrnGjYZedNFFrFu3jgMOOABVpUOHDsycOZNhw4axePFiMjMzadasGSNGjOCuu0rfsczJyeHUU0+loKAAVeX++++vcN1nnnnGP1ncs2fPWi8F7NChA9OmTWPMmDHs2rULgDvvvJOMjAxeeeUVrrzySrKysigqKuLqq6+mX79+XHrppeTm5nLQQQcRHx9PfHx8hXHygQMHsv/++9OvXz969uzpH7qprIzXX389q1evRlU59thjGThwIB999FGt7K+K4cOHM3bsWABee+01jjnmGH+PCuDUU0/l73//O7t27eKWW27h0ksvZeDAgagqw4YN49xzzwVgv/3244EHHmDMmDHk5eUhIpx00knh3Poqefzxxxk3bhz5+fkMHz7cP1E8a9YsFi5cyIQJE7jsssu44IIL6N+/P6rKBRdcwH777QfAvffey9ixY7n66qvp0KFDme/JZ599xq233lprGyXYGJb/oMjX6jSG/g2kA/8FdvqOq+prtbagmmRmZmqN1jY/fRIbsvM5bMO1fHPL8bRJbJRSSXscK1asKDO+axg1YeTIkdx3332kp6dH25R645tvvmHSpEn+Hk4gwX5XIrJIVTOD5RVu07gtsBWnPqq4t4sVqHdHUBuKi53TS7agNIaxR3HPPfewYcOGmHIEW7Zs4Y477qiTvELViKneiqFllDoAH5V3JRooRSVKYrM4mlosAsPYo+jTpw99+vSJthn1im8VWF0QyhHEAUmUdQA+Gp0jKC5RWzpqGIZRjlCOYIOqTqgXS+qBohK1FUOGYRjlCDVGskfpAxeXlNiKIcMwjHKEcgTH1osV9YT1CAzDMCpSpSNQ1W1VHW9s2ByBEYykpKRa5xEosxyMdevW8eKLL4adHpyg3IABA9hvv/04+uij+emnn2ptZ11RUzntYGzYsKGCBMdVV11F586dy8iB33bbbUycOLFMukBZ6d9//52zzz6bXr16se+++zJixIiwXkiril27djF69Gh69+7NIYccUqncx0svvcR+++1Hv379+Pvf/+7f//PPPzN06FD2339/9ttvP2bPng24FxeHDRtWK9vqkphaPuN6BDY0ZNQ9mZmZPPTQQ5UeL+8IQqX3MXfuXJYsWcKQIUO48847a22nqtY41kIgl1xySZ3EQgCYNGkSf/7zn/3bJSUlvP7663Tt2pWPP/44rDxUlZEjRzJkyBB++OEHli9fzl133cXGjRtrZdtTTz1FmzZtWLNmDX/729+44YYbKqTZunUr119/PR988AHfffcdGzdu5IMPPgDcC3GjRo3im2++YcaMGX410w4dOtCxY0c+++yzWtlXV8RMragoxSVqOkMNmXduhN+X1m2eew2A4fdU+7TKJKIXLFjAhRdeSGJiIkceeSTvvPMOy5Yt88ssv/XWW3z00UdcddVVgBMY+/jjj7nxxhtZsWIFgwYN4vzzz2f//ff3p8/NzeWKK65g4cKFiAi33norZ5xxRhl7DjvsML/j8Mlg/Pzzz4ALynLEEUewefNmzjnnHLZu3cpBBx3Eu+++y6JFi8jNzWX48OEMHTqU+fPnM3PmTF5++WVefvlldu3axciRI7n99tvZuXMno0aNYv369RQXF3PLLbcwevToiMtpv/rqq2Wc3Ny5c+nfvz+jR49m+vTpDBkyJOTzmjt3LvHx8VxyySX+fYMGDaruY6/AG2+8wW233QY4hdDLL7+8gljf2rVrycjIoEOHDgAcd9xxvPrqqxx77LGIiF++Iysrq4zO0GmnncYLL7zgf1M7msRMj6DYlEeNanDeeedx7733smTJEgYMGODX37/ggguYPHky8+fPJy4uLui5EydO5NFHH2Xx4sV88skntGjRgnvuuYfBgwezePHiCoJld9xxBykpKSxdupQlS5ZwzDHHVMjz3Xff5bTTTgPcsMnf/vY3FixYwKuvvspFF10EwO23384xxxzD119/zciRI/2OAuD777/nvPPO45tvvuH7779n9erVfPXVVyxevJhFixbx8ccf8+6779KpUye+/fZbli1bxrBhw/xy2t999x1LlizhH//4R9j3CkrltB944IEy+338+OOPtGnTpowkxPTp0xkzZgwjR47krbfe8us8VcWyZcvKSFFXxeDBg/3R3gL/gkl9//rrr3Tt2hVwQoIpKSls3bq1TJrevXuzcuVK1q1bR1FRETNnzvTrK9122208//zzdOnShREjRvDwww/7z/NJSDcEYqZHYLEIGgE1aLlHgsokonfs2EFOTg6HH344AOecc04FTX1wMszXXHMNf/zjHzn99NPL6NEH4/3332fGjBn+7TZt2vg/Dx06lI0bN5KamupvNb///vtlQjtmZ2eTk5PDp59+yuuvvw7AsGHDyuTTvXt3Dj30UMBJa8+ZM4f9998fcOJxq1evZvDgwVx33XXccMMNnHzyyQwePJiioqKIymlv2LDB35IGJz09e/Zs7r//fpKTkznkkEOYM2cOJ510UqVqr9WVka5O5RuOjHSbNm14/PHHGT16NE2aNOHwww9n7dq1gHNq48aN49prr2X+/PmMHTuWZcuW0aRJE1JTU/ntt9+qZXukiGiPQESGicj3IrJGRG4MclxE5CHv+JJIitsVmeCcUUuq0uUK5MYbb+TJJ58kPz+fQw89NKRefFVxAebOnctPP/1Ev379/AFaSkpKmD9/vl/18tdffyU5OblK+wIlnFWVm266yX/+mjVruPDCC8nIyPDH173pppuYMGGCX2r6jDPO8IvtVYdQctrlJaTfffddsrKyGDBgAD169ODTTz/1K4f6JKQDycnJoXXr1n4J6XCoTo+gS5cu/tZ9UVERWVlZFWJPAJxyyil8+eWXzJ8/nz59+vilLp566ilGjRoFuOG9goIC/+R2XUlI1wURcwSefPWjwHBgX2CMiOxbLtlwnJhdOnAx8Hik7LEegREulUlEt2nTxi8pDJRpxQfyww8/MGDAAG644QYyMzNZuXIlycnJ5OTkBE1/wgkn8Mgjj/i3y1d2LVq08Adn37ZtW4X0PvnnI488kpdffhlwrf7y+fg48cQTmTp1Krm5uYAb/ti0aRO//fYbLVu25Nxzz+W6667j66+/jricdkZGRpmewvTp03nyySf9EtI//vgjc+bMIS8vj6OOOopZs2b57+Nrr73GwIEDiYuL45hjjmHXrl385z//8ee1YMGCoKqnn3zySVAZ6eOOO65C2j/84Q8888wzALzyyiscc8wxQZ32pk2bAPfsHnvsMf9wXbdu3fwTxytWrKCgoMDfA6orCem6IJLN44OBNaq6FkBEZgCnAssD0pwKPOsFVv5CRFqLSEdV3VDXxlh0MqMy8vLyygzfXHPNNZVKRD/11FP8+c9/JjExkSFDhpCSklIhvwceeIC5c+cSFxfHvvvuy/Dhw2nSpAlNmzZl4MCBjBs3zj8sA/CPf/yDyy67jP79+xMXF8ett95aIbJXx44dGTNmDI8++igPPfQQl112Gfvttx9FRUUcddRRTJ48mVtvvZUxY8bw0ksvcfTRR/u18H0Vvo8TTjiBFStW+KN/JSUl8fzzz7NmzRquv/56mjRpQnx8PI8//njE5bQTExPp1asXa9asoVOnTrz33ns88cQTZY4feeSRvPnmm4wePZrLL7+cI488EhHxh70EN1zz+uuvc/XVV3PPPfeQkJBAjx49/KE/a8qFF17I2LFj6d27N23bti3j/AOD7lx11VV8++23AIwfP94vnf3vf/+bP//5z9x///2ICNOmTfM7krlz59aJzHWdUFlU+9r+AWcCTwZsjwUeKZfmLeDIgO0PgMwgeV0MLAQWduvWTWvC7zOu0g8mjdPfs/JrdL4RGZYvXx5tE6pFTk6O//Pdd9+tV155ZRStKUtBQYEWFhaqqurnn3+uAwcOjK5BYfLaa6/pzTffHG0z6p3Bgwfrtm3bIpJ3sN8VsFArqa8j2SMIR6guLDE7VZ0CTAEXj6AmxqSNfoC0mpxoGAG8/fbb3H333RQVFdG9e3emTZsWbZP8/Pzzz4waNYqSkhKaNWtWZpikITNy5MgKK3H2dDZv3sw111xTZkI/mkTSEawHugZsdwHKT5GHk8YwGgyjR4+uNIh6tElPT+ebb76Jthk1wjemHit06NDBvxy4IRDJVUMLgHQR2VtEmgFnA7PKpZkFnOetHjoUyNIIzA8YDRsNczWOYRihqcnvKWI9AnWxji8H3sPFNZiqqt+JyCXe8cnAbGAEsAbIAy6IlD1GwyQhIYGtW7fSrl27aq8HNwyjLKrK1q1bSUhIqNZ5VcYsbojUOGax0SApLCxk/fr1ZdaSG4ZRcxISEujSpQvx8WVXSNZFzGLDiAjx8fHsvffe0TbDMGKamNEaMgzDMIJjjsAwDCPGMUdgGIYR4zS6yWIR2QzUNFRTe2BLHZrTGLAyxwZW5tigNmXurqodgh1odI6gNojIwspmzfdUrMyxgZU5NohUmW1oyDAMI8YxR2AYhhHjxJojmBJtA6KAlTk2sDLHBhEpc0zNERiGYRgVibUegWEYhlEOcwSGYRgxzh7pCERkmIh8LyJrROTGIMdFRB7yji8RkQOiYWddEkaZ/+iVdYmIfC4iA6NhZ10SqswB6Q4SkWIRObM+7YsE4ZRZRIaIyGIR+U5EKgbtbWSE8d1OEZE3ReRbr8yNWsVYRKaKyCYRWVbJ8bqvvyoLXdZY/3CS1z8APYFmwLfAvuXSjADewUVIOxT4Mtp210OZDwfaeJ+Hx0KZA9J9iJM8PzPadtfDc26NiwvezdtOjbbd9VDm/wPu9T53ALYBzaJtey3KfBRwALCskuN1Xn/tiT2Cg4E1qrpWVXcDM4BTy6U5FXhWHV8ArUWkY30bWoeELLOqfq6q273NL3DR4Boz4TxngCuAV4FN9WlchAinzOcAr6nqzwCq2tjLHU6ZFUgWF9AiCecIiurXzLpDVT/GlaEy6rz+2hMdQWfgl4Dt9d6+6qZpTFS3PBfiWhSNmZBlFpHOwEhgcj3aFUnCec4ZQBsRmScii0TkvHqzLjKEU+ZHgH1wYW6XAlepakn9mBcV6rz+2hPjEQQLc1V+jWw4aRoTYZdHRIbiHMGREbUo8oRT5geAG1S1eA+JfhZOmZsCBwLHAi2A+SLyhaquirRxESKcMp8ILAaOAXoB/xORT1Q1O8K2RYs6r7/2REewHugasN0F11KobprGRFjlEZH9gCeB4aq6tZ5sixThlDkTmOE5gfbACBEpUtWZ9WJh3RPud3uLqu4EdorIx8BAoLE6gnDKfAFwj7oB9DUi8iPQF/iqfkysd+q8/toTh4YWAOkisreINAPOBmaVSzMLOM+bfT8UyFLVDfVtaB0Ssswi0g14DRjbiFuHgYQss6rurao9VLUH8Arw10bsBCC87/YbwGARaSoiLYFDgBX1bGddEk6Zf8b1gBCRNKAPsLZeraxf6rz+2uN6BKpaJCKXA+/hVhxMVdXvROQS7/hk3AqSEcAaIA/Xomi0hFnm8UA74DGvhVykjVi5Mcwy71GEU2ZVXSEi7wJLgBLgSVUNugyxMRDmc74DmCYiS3HDJjeoaqOVpxaR6cAQoL2IrAduBeIhcvWXSUwYhmHEOHvi0JBhGIZRDcwRGIZhxDjmCAzDMGIccwSGYRgxjjkCwzCMGMccQQzgKW8uDvjrUUXa3Dq43jQR+dG71tciclgN8nhSRPb1Pv9fuWOf19ZGLx/ffVnmqVe2DpF+kIiMqMF1OorIW97nISKSJSLfiMgKEbm1Bvn9wafCKSKn+e6Ttz1BRI6rbp5BrjFNQqi1ejIWYS9B9sr+VhjpgqpvishEETkm3OsZ4WOOIDbIV9VBAX/r6uGa16vqIOBG4InqnqyqF6nqcm/z/8odO7z25gGl96U/TuTrshDpB+HWb1eXa4D/BGx/oqr74958PldEDqxOZqo6S1Xv8TZPA/YNODZeVd+vgY0NiWnAsCD7H8Z9n4w6xhxBDCIiSSLygddaXyoiFVQ7vVbsxwEt5sHe/hNEZL537n9FJCnE5T4GenvnXuPltUxErvb2JYrI2+K05JeJyGhv/zwRyRSRe4AWnh0veMdyvf8vBbbQvVbsGSISJyL/EpEF4vTa/xLGbZmPJ9wlIgeLi9nwjfe/j/dW6wRgtGfLaM/2qd51vgl2Hz3OAN4tv9OTgVgE9PJ6G1949r4uIm08W64UkeXe/hnevnEi8oiIHA78AfiXZ1MvX0teRIaLyMsB92aIiLzpfa7WMxSR8V4Zl4nIFJEywk3nevdomYgc7KUP974EpTL1TVX9CWgnIntVJz8jDOpLY9v+ovcHFONEuRYDr+PeKG/lHWuPe0PR93Jhrvf/WuBm73MckOyl/RhI9PbfAIwPcr1peNr/wFnAlzghtKVAIk4q+Dtgf1wl+Z+Ac1O8//OAzECbAtL4bBwJPON9boZTZGwBXAz8w9vfHFgI7B3EztyA8v0XGOZttwKaep+PA171Po8DHgk4/y7gXO9za5yeT2K5a+wNLArYHgK85X1uB6wD+uHeBD7a2z8BeMD7/BvQ3HeN8nYE3uvAbe8Z/xzwrB4Hzq3hM2wbsP854JSAZ/Qf7/NRePr5ld2XcmXPxL31XNl3tgdB9PhxPaszov2b2tP+9jiJCSMo+eqGaQAQkXjgLhE5CidD0BlIA34POGcBMNVLO1NVF4vI0bhhiM+8RmEzXEs6GP8SkX8Am3Fqp8cCr6trBSMirwGDcS3liSJyL66S+KQa5XoHeEhEmuOGEj5W1XwROQHYL2CMOwVIB34sd34LEVmMq3QWAf8LSP+MiKTjVB3jK7n+CcAfROQ6bzsB6EZZbZ+O3j0IZLCIfIO79/fgRMRaq6ovmtgzOMcEzkG8ICIzgZmV2FEBddIM7wKniMgrwEnA34HqPEMfQ0Xk70BLoC3Oib/pHZvuXe9jEWklbp6lsvsSaN9C4KJwyxPAJqBTDc4zqsAcQWzyR1wkpwNVtVBE1uF+rH68H/ZRuArkORH5F7Ad+J+qjgnjGter6iu+DalkAlNVV3lj5COAu0VkjqpOCKcQqlogIvNwMsSj8SolnN7MFar6Xogs8lV1kIikAG/h5ggewmnXzFXVkeIm1udVcr7gWqffV3UNyt1b3BzByf5M3PUr4yRca/sPwC0i0q+KtOV5CVembcACVc3xhnXCfYaISALwGK539ouI3EbZ8pTXqFEquS/iBOFqSwLunhp1iM0RxCYpwCbPCQwFupdPICLdvTT/AZ7Chc77AjhCRHxj/i1FJCPMa34MnOadk4gb1vlERDoBear6PDDRu055Cr2eSTBm4ES3BuOEyfD+X+o7R0QyvGsGRVWzgCuB67xzUoBfvcPjApLm4IbIfLwHXOEbMxeR/YNkvwrX46gU7/rbxZuHAcYCH4lIE6Crqs7FteZb44bVAilvUyDzcPfzzzinANV/hr5Kf4s3l1B+JZFvTudInApmFuHdl5qSATRaEb2GijmC2OQFIFNEFuJ6ByuDpBkCLPaGMM4AHlTVzbiKcbqILMFVKn3DuaCqfo0bd/4KN2fwpKp+AwwAvvKGaG4G7gxy+hRgiXiTxeWYg2sxv68ulCG4mAvLga/FLUF8ghC9X8+Wb3Eyx/fheief4eYPfMwF9vVNFuN6DvGebcu87fL57gR+8FW8VXA+bjhtCW510gTv2s+LU9X8BrhfVXeUO28GcL03Kdur3LWLcT2d4d5/qvsMvev9Bze/MxM3ZBjIdnHLeSfjhgAhjPsibiHAk8GuKU59cz7QR0TWi8iF3v543MKDhZXZa9QMUx81jAgjIiNxw3D/iLYtjRnvPh6gqrdE25Y9DZsjMIwIo6qvi0i7aNuxB9AU+He0jdgTsR6BYRhGjGNzBIZhGDGOOQLDMIwYxxyBYRhGjGOOwDAMI8YxR2AYhhHj/D/If4+u/HszLgAAAABJRU5ErkJggg==\n",
>>>>>>> 5f65b472f60d5cee575b77ef6ac1d9533849036b
      "text/plain": [
       "<Figure size 432x288 with 1 Axes>"
      ]
     },
     "metadata": {
      "needs_background": "light"
     },
     "output_type": "display_data"
    }
   ],
   "source": [
    "# Code to visualize the ROC curves for the models we've done\n",
    "fig, ax = plt.subplots()\n",
    "plot_roc_curve(dt, X_test, y_test, ax=ax)\n",
    "plot_roc_curve(logreg, X_test_scaled, y_test, ax=ax)\n",
    "\n",
    "plt.title(\"Receiver Operating Characteristic Curves\\n(Evaluated on Test Set)\")\n",
    "plt.show()"
   ]
  },
  {
   "cell_type": "markdown",
   "metadata": {},
   "source": [
    "### 15) Which is the better model according to ROC-AUC score? How can you tell?"
   ]
  },
  {
   "cell_type": "code",
   "execution_count": null,
   "metadata": {},
   "outputs": [],
   "source": [
    "# call_on_students(1)\n",
    "#logreg"
   ]
  },
  {
   "cell_type": "markdown",
   "metadata": {},
   "source": [
    "#### Answer:\n",
    "\n",
    "- \n"
   ]
  }
 ],
 "metadata": {
  "kernelspec": {
   "display_name": "Python (learn-env)",
   "language": "python",
   "name": "learn-env"
  },
  "language_info": {
   "codemirror_mode": {
    "name": "ipython",
    "version": 3
   },
   "file_extension": ".py",
   "mimetype": "text/x-python",
   "name": "python",
   "nbconvert_exporter": "python",
   "pygments_lexer": "ipython3",
   "version": "3.8.5"
  }
 },
 "nbformat": 4,
 "nbformat_minor": 2
}
